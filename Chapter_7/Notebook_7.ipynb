{
 "cells": [
  {
   "cell_type": "markdown",
   "id": "ac611a22",
   "metadata": {},
   "source": [
    "# Expresiones en Polars: Introducción y Ejemplos\n",
    "\n",
    "Las **expresiones** en Polars son el núcleo de la manipulación eficiente de datos. Por sí solas, las expresiones son *perezosas* (lazy): no hacen nada hasta que se aplican sobre un `DataFrame` o `LazyFrame` mediante métodos específicos.\n",
    "\n",
    "En este notebook, exploraremos cómo las expresiones se utilizan en la práctica a través ejemplos claros y reproducibles. Veremos cómo aplicar expresiones para:\n",
    "\n",
    "- **Seleccionar columnas** con `df.select()`\n",
    "- **Crear nuevas columnas** con `df.with_columns()`\n",
    "- **Filtrar filas** con `df.filter()`\n",
    "- **Agrupar y agregar** con `df.group_by()`\n",
    "- **Ordenar filas** con `df.sort()`\n",
    "\n",
    "> **Nota:** Aunque cada método tiene su importancia, lo fundamental es entender cómo las expresiones definen la lógica de transformación y análisis de los datos. Cada método será tratado en detalle en capítulos posteriores.\n",
    "\n",
    "---\n",
    "\n",
    "Este notebook sigue las buenas prácticas del proyecto: los ejemplos son reproducibles, los datos son ligeros y se utiliza Polars para la manipulación y Plotnine para la visualización. ¡Comencemos!"
   ]
  },
  {
   "cell_type": "code",
   "execution_count": 2,
   "id": "6c1792cf",
   "metadata": {},
   "outputs": [],
   "source": [
    "import polars as pl "
   ]
  },
  {
   "cell_type": "code",
   "execution_count": 3,
   "id": "5674f2c7",
   "metadata": {},
   "outputs": [
    {
     "data": {
      "text/html": [
       "<div><style>\n",
       ".dataframe > thead > tr,\n",
       ".dataframe > tbody > tr {\n",
       "  text-align: right;\n",
       "  white-space: pre-wrap;\n",
       "}\n",
       "</style>\n",
       "<small>shape: (10, 5)</small><table border=\"1\" class=\"dataframe\"><thead><tr><th>name</th><th>weight</th><th>color</th><th>is_round</th><th>origin</th></tr><tr><td>str</td><td>i64</td><td>str</td><td>bool</td><td>str</td></tr></thead><tbody><tr><td>&quot;Avocado&quot;</td><td>200</td><td>&quot;green&quot;</td><td>false</td><td>&quot;South America&quot;</td></tr><tr><td>&quot;Banana&quot;</td><td>120</td><td>&quot;yellow&quot;</td><td>false</td><td>&quot;Asia&quot;</td></tr><tr><td>&quot;Blueberry&quot;</td><td>1</td><td>&quot;blue&quot;</td><td>false</td><td>&quot;North America&quot;</td></tr><tr><td>&quot;Cantaloupe&quot;</td><td>2500</td><td>&quot;orange&quot;</td><td>true</td><td>&quot;Africa&quot;</td></tr><tr><td>&quot;Cranberry&quot;</td><td>2</td><td>&quot;red&quot;</td><td>false</td><td>&quot;North America&quot;</td></tr><tr><td>&quot;Elderberry&quot;</td><td>1</td><td>&quot;black&quot;</td><td>false</td><td>&quot;Europe&quot;</td></tr><tr><td>&quot;Orange&quot;</td><td>130</td><td>&quot;orange&quot;</td><td>true</td><td>&quot;Asia&quot;</td></tr><tr><td>&quot;Papaya&quot;</td><td>1000</td><td>&quot;orange&quot;</td><td>false</td><td>&quot;South America&quot;</td></tr><tr><td>&quot;Peach&quot;</td><td>150</td><td>&quot;orange&quot;</td><td>true</td><td>&quot;Asia&quot;</td></tr><tr><td>&quot;Watermelon&quot;</td><td>5000</td><td>&quot;green&quot;</td><td>true</td><td>&quot;Africa&quot;</td></tr></tbody></table></div>"
      ],
      "text/plain": [
       "shape: (10, 5)\n",
       "┌────────────┬────────┬────────┬──────────┬───────────────┐\n",
       "│ name       ┆ weight ┆ color  ┆ is_round ┆ origin        │\n",
       "│ ---        ┆ ---    ┆ ---    ┆ ---      ┆ ---           │\n",
       "│ str        ┆ i64    ┆ str    ┆ bool     ┆ str           │\n",
       "╞════════════╪════════╪════════╪══════════╪═══════════════╡\n",
       "│ Avocado    ┆ 200    ┆ green  ┆ false    ┆ South America │\n",
       "│ Banana     ┆ 120    ┆ yellow ┆ false    ┆ Asia          │\n",
       "│ Blueberry  ┆ 1      ┆ blue   ┆ false    ┆ North America │\n",
       "│ Cantaloupe ┆ 2500   ┆ orange ┆ true     ┆ Africa        │\n",
       "│ Cranberry  ┆ 2      ┆ red    ┆ false    ┆ North America │\n",
       "│ Elderberry ┆ 1      ┆ black  ┆ false    ┆ Europe        │\n",
       "│ Orange     ┆ 130    ┆ orange ┆ true     ┆ Asia          │\n",
       "│ Papaya     ┆ 1000   ┆ orange ┆ false    ┆ South America │\n",
       "│ Peach      ┆ 150    ┆ orange ┆ true     ┆ Asia          │\n",
       "│ Watermelon ┆ 5000   ┆ green  ┆ true     ┆ Africa        │\n",
       "└────────────┴────────┴────────┴──────────┴───────────────┘"
      ]
     },
     "execution_count": 3,
     "metadata": {},
     "output_type": "execute_result"
    }
   ],
   "source": [
    "fruit = pl.read_csv(\"data/fruit.csv\")\n",
    "fruit"
   ]
  },
  {
   "cell_type": "code",
   "execution_count": 4,
   "id": "fe276e33",
   "metadata": {},
   "outputs": [
    {
     "data": {
      "text/html": [
       "<div><style>\n",
       ".dataframe > thead > tr,\n",
       ".dataframe > tbody > tr {\n",
       "  text-align: right;\n",
       "  white-space: pre-wrap;\n",
       "}\n",
       "</style>\n",
       "<small>shape: (10, 5)</small><table border=\"1\" class=\"dataframe\"><thead><tr><th>name</th><th>color</th><th>origin</th><th>weight</th><th>is_round</th></tr><tr><td>str</td><td>str</td><td>str</td><td>f64</td><td>bool</td></tr></thead><tbody><tr><td>&quot;Avocado&quot;</td><td>&quot;green&quot;</td><td>&quot;South America&quot;</td><td>0.2</td><td>false</td></tr><tr><td>&quot;Banana&quot;</td><td>&quot;yellow&quot;</td><td>&quot;Asia&quot;</td><td>0.12</td><td>false</td></tr><tr><td>&quot;Blueberry&quot;</td><td>&quot;blue&quot;</td><td>&quot;North America&quot;</td><td>0.001</td><td>false</td></tr><tr><td>&quot;Cantaloupe&quot;</td><td>&quot;orange&quot;</td><td>&quot;Africa&quot;</td><td>2.5</td><td>true</td></tr><tr><td>&quot;Cranberry&quot;</td><td>&quot;red&quot;</td><td>&quot;North America&quot;</td><td>0.002</td><td>false</td></tr><tr><td>&quot;Elderberry&quot;</td><td>&quot;black&quot;</td><td>&quot;Europe&quot;</td><td>0.001</td><td>false</td></tr><tr><td>&quot;Orange&quot;</td><td>&quot;orange&quot;</td><td>&quot;Asia&quot;</td><td>0.13</td><td>true</td></tr><tr><td>&quot;Papaya&quot;</td><td>&quot;orange&quot;</td><td>&quot;South America&quot;</td><td>1.0</td><td>false</td></tr><tr><td>&quot;Peach&quot;</td><td>&quot;orange&quot;</td><td>&quot;Asia&quot;</td><td>0.15</td><td>true</td></tr><tr><td>&quot;Watermelon&quot;</td><td>&quot;green&quot;</td><td>&quot;Africa&quot;</td><td>5.0</td><td>true</td></tr></tbody></table></div>"
      ],
      "text/plain": [
       "shape: (10, 5)\n",
       "┌────────────┬────────┬───────────────┬────────┬──────────┐\n",
       "│ name       ┆ color  ┆ origin        ┆ weight ┆ is_round │\n",
       "│ ---        ┆ ---    ┆ ---           ┆ ---    ┆ ---      │\n",
       "│ str        ┆ str    ┆ str           ┆ f64    ┆ bool     │\n",
       "╞════════════╪════════╪═══════════════╪════════╪══════════╡\n",
       "│ Avocado    ┆ green  ┆ South America ┆ 0.2    ┆ false    │\n",
       "│ Banana     ┆ yellow ┆ Asia          ┆ 0.12   ┆ false    │\n",
       "│ Blueberry  ┆ blue   ┆ North America ┆ 0.001  ┆ false    │\n",
       "│ Cantaloupe ┆ orange ┆ Africa        ┆ 2.5    ┆ true     │\n",
       "│ Cranberry  ┆ red    ┆ North America ┆ 0.002  ┆ false    │\n",
       "│ Elderberry ┆ black  ┆ Europe        ┆ 0.001  ┆ false    │\n",
       "│ Orange     ┆ orange ┆ Asia          ┆ 0.13   ┆ true     │\n",
       "│ Papaya     ┆ orange ┆ South America ┆ 1.0    ┆ false    │\n",
       "│ Peach      ┆ orange ┆ Asia          ┆ 0.15   ┆ true     │\n",
       "│ Watermelon ┆ green  ┆ Africa        ┆ 5.0    ┆ true     │\n",
       "└────────────┴────────┴───────────────┴────────┴──────────┘"
      ]
     },
     "execution_count": 4,
     "metadata": {},
     "output_type": "execute_result"
    }
   ],
   "source": [
    "fruit.select(\n",
    "    pl.col(\"name\"),\n",
    "    pl.col(\"^.*or.*$\"),\n",
    "    pl.col(\"weight\") / 1000,\n",
    "    \"is_round\"\n",
    ")"
   ]
  },
  {
   "cell_type": "markdown",
   "id": "0677506b",
   "metadata": {},
   "source": [
    "### Creando nuevas columnas con expresiones"
   ]
  },
  {
   "cell_type": "code",
   "execution_count": 5,
   "id": "befb96a7",
   "metadata": {},
   "outputs": [
    {
     "data": {
      "text/html": [
       "<div><style>\n",
       ".dataframe > thead > tr,\n",
       ".dataframe > tbody > tr {\n",
       "  text-align: right;\n",
       "  white-space: pre-wrap;\n",
       "}\n",
       "</style>\n",
       "<small>shape: (10, 7)</small><table border=\"1\" class=\"dataframe\"><thead><tr><th>name</th><th>weight</th><th>color</th><th>is_round</th><th>origin</th><th>is_fruit</th><th>is_berry</th></tr><tr><td>str</td><td>i64</td><td>str</td><td>bool</td><td>str</td><td>bool</td><td>bool</td></tr></thead><tbody><tr><td>&quot;Avocado&quot;</td><td>200</td><td>&quot;green&quot;</td><td>false</td><td>&quot;South America&quot;</td><td>true</td><td>false</td></tr><tr><td>&quot;Banana&quot;</td><td>120</td><td>&quot;yellow&quot;</td><td>false</td><td>&quot;Asia&quot;</td><td>true</td><td>false</td></tr><tr><td>&quot;Blueberry&quot;</td><td>1</td><td>&quot;blue&quot;</td><td>false</td><td>&quot;North America&quot;</td><td>true</td><td>true</td></tr><tr><td>&quot;Cantaloupe&quot;</td><td>2500</td><td>&quot;orange&quot;</td><td>true</td><td>&quot;Africa&quot;</td><td>true</td><td>false</td></tr><tr><td>&quot;Cranberry&quot;</td><td>2</td><td>&quot;red&quot;</td><td>false</td><td>&quot;North America&quot;</td><td>true</td><td>true</td></tr><tr><td>&quot;Elderberry&quot;</td><td>1</td><td>&quot;black&quot;</td><td>false</td><td>&quot;Europe&quot;</td><td>true</td><td>true</td></tr><tr><td>&quot;Orange&quot;</td><td>130</td><td>&quot;orange&quot;</td><td>true</td><td>&quot;Asia&quot;</td><td>true</td><td>false</td></tr><tr><td>&quot;Papaya&quot;</td><td>1000</td><td>&quot;orange&quot;</td><td>false</td><td>&quot;South America&quot;</td><td>true</td><td>false</td></tr><tr><td>&quot;Peach&quot;</td><td>150</td><td>&quot;orange&quot;</td><td>true</td><td>&quot;Asia&quot;</td><td>true</td><td>false</td></tr><tr><td>&quot;Watermelon&quot;</td><td>5000</td><td>&quot;green&quot;</td><td>true</td><td>&quot;Africa&quot;</td><td>true</td><td>false</td></tr></tbody></table></div>"
      ],
      "text/plain": [
       "shape: (10, 7)\n",
       "┌────────────┬────────┬────────┬──────────┬───────────────┬──────────┬──────────┐\n",
       "│ name       ┆ weight ┆ color  ┆ is_round ┆ origin        ┆ is_fruit ┆ is_berry │\n",
       "│ ---        ┆ ---    ┆ ---    ┆ ---      ┆ ---           ┆ ---      ┆ ---      │\n",
       "│ str        ┆ i64    ┆ str    ┆ bool     ┆ str           ┆ bool     ┆ bool     │\n",
       "╞════════════╪════════╪════════╪══════════╪═══════════════╪══════════╪══════════╡\n",
       "│ Avocado    ┆ 200    ┆ green  ┆ false    ┆ South America ┆ true     ┆ false    │\n",
       "│ Banana     ┆ 120    ┆ yellow ┆ false    ┆ Asia          ┆ true     ┆ false    │\n",
       "│ Blueberry  ┆ 1      ┆ blue   ┆ false    ┆ North America ┆ true     ┆ true     │\n",
       "│ Cantaloupe ┆ 2500   ┆ orange ┆ true     ┆ Africa        ┆ true     ┆ false    │\n",
       "│ Cranberry  ┆ 2      ┆ red    ┆ false    ┆ North America ┆ true     ┆ true     │\n",
       "│ Elderberry ┆ 1      ┆ black  ┆ false    ┆ Europe        ┆ true     ┆ true     │\n",
       "│ Orange     ┆ 130    ┆ orange ┆ true     ┆ Asia          ┆ true     ┆ false    │\n",
       "│ Papaya     ┆ 1000   ┆ orange ┆ false    ┆ South America ┆ true     ┆ false    │\n",
       "│ Peach      ┆ 150    ┆ orange ┆ true     ┆ Asia          ┆ true     ┆ false    │\n",
       "│ Watermelon ┆ 5000   ┆ green  ┆ true     ┆ Africa        ┆ true     ┆ false    │\n",
       "└────────────┴────────┴────────┴──────────┴───────────────┴──────────┴──────────┘"
      ]
     },
     "execution_count": 5,
     "metadata": {},
     "output_type": "execute_result"
    }
   ],
   "source": [
    "fruit.with_columns(\n",
    "    pl.lit(True).alias(\"is_fruit\"),\n",
    "    is_berry=pl.col(\"name\").str.ends_with(\"berry\")\n",
    ")"
   ]
  },
  {
   "cell_type": "markdown",
   "id": "39700258",
   "metadata": {},
   "source": [
    "### Nombrado de columnas en Polars\n",
    "\n",
    "Al crear nuevas columnas con expresiones en Polars, existen dos formas principales de asignarles nombre:\n",
    "\n",
    "- **Usando `Expr.alias()`**: El método `.alias()` asigna un nombre directamente a la expresión, que se mantiene dondequiera que se use esa expresión.\n",
    "- **Usando sintaxis de palabra clave**: Al pasar la expresión como argumento nombrado (`nuevo_nombre=expresión`), el nombre es local al contexto y tiene prioridad sobre `.alias()` si ambos se usan.\n",
    "\n",
    "**Consideraciones:**\n",
    "- Si se usa una palabra clave, todos los argumentos siguientes deben ser palabras clave.\n",
    "- El nombre debe ser válido en Python: no puede comenzar con un número, contener caracteres especiales ni ser una palabra reservada.\n",
    "\n",
    "**Recomendación:**  \n",
    "Se prefiere la sintaxis de palabra clave por su claridad y brevedad."
   ]
  },
  {
   "cell_type": "markdown",
   "id": "67addbb7",
   "metadata": {},
   "source": [
    "## Filtrando filas con expresiones"
   ]
  },
  {
   "cell_type": "code",
   "execution_count": 6,
   "id": "61e4a3fc",
   "metadata": {},
   "outputs": [
    {
     "data": {
      "text/html": [
       "<div><style>\n",
       ".dataframe > thead > tr,\n",
       ".dataframe > tbody > tr {\n",
       "  text-align: right;\n",
       "  white-space: pre-wrap;\n",
       "}\n",
       "</style>\n",
       "<small>shape: (2, 5)</small><table border=\"1\" class=\"dataframe\"><thead><tr><th>name</th><th>weight</th><th>color</th><th>is_round</th><th>origin</th></tr><tr><td>str</td><td>i64</td><td>str</td><td>bool</td><td>str</td></tr></thead><tbody><tr><td>&quot;Cantaloupe&quot;</td><td>2500</td><td>&quot;orange&quot;</td><td>true</td><td>&quot;Africa&quot;</td></tr><tr><td>&quot;Watermelon&quot;</td><td>5000</td><td>&quot;green&quot;</td><td>true</td><td>&quot;Africa&quot;</td></tr></tbody></table></div>"
      ],
      "text/plain": [
       "shape: (2, 5)\n",
       "┌────────────┬────────┬────────┬──────────┬────────┐\n",
       "│ name       ┆ weight ┆ color  ┆ is_round ┆ origin │\n",
       "│ ---        ┆ ---    ┆ ---    ┆ ---      ┆ ---    │\n",
       "│ str        ┆ i64    ┆ str    ┆ bool     ┆ str    │\n",
       "╞════════════╪════════╪════════╪══════════╪════════╡\n",
       "│ Cantaloupe ┆ 2500   ┆ orange ┆ true     ┆ Africa │\n",
       "│ Watermelon ┆ 5000   ┆ green  ┆ true     ┆ Africa │\n",
       "└────────────┴────────┴────────┴──────────┴────────┘"
      ]
     },
     "execution_count": 6,
     "metadata": {},
     "output_type": "execute_result"
    }
   ],
   "source": [
    "fruit.filter(\n",
    "    (pl.col(\"weight\") > 1000)\n",
    "    & pl.col(\"is_round\")\n",
    ")"
   ]
  },
  {
   "cell_type": "markdown",
   "id": "cde959c2",
   "metadata": {},
   "source": [
    "## Agregación con expresiones"
   ]
  },
  {
   "cell_type": "code",
   "execution_count": 7,
   "id": "796873b0",
   "metadata": {},
   "outputs": [
    {
     "data": {
      "text/html": [
       "<div><style>\n",
       ".dataframe > thead > tr,\n",
       ".dataframe > tbody > tr {\n",
       "  text-align: right;\n",
       "  white-space: pre-wrap;\n",
       "}\n",
       "</style>\n",
       "<small>shape: (4, 3)</small><table border=\"1\" class=\"dataframe\"><thead><tr><th>origin</th><th>len</th><th>average_weight</th></tr><tr><td>str</td><td>u32</td><td>f64</td></tr></thead><tbody><tr><td>&quot;Africa&quot;</td><td>2</td><td>3750.0</td></tr><tr><td>&quot;America&quot;</td><td>4</td><td>300.75</td></tr><tr><td>&quot;Asia&quot;</td><td>3</td><td>133.333333</td></tr><tr><td>&quot;Europe&quot;</td><td>1</td><td>1.0</td></tr></tbody></table></div>"
      ],
      "text/plain": [
       "shape: (4, 3)\n",
       "┌─────────┬─────┬────────────────┐\n",
       "│ origin  ┆ len ┆ average_weight │\n",
       "│ ---     ┆ --- ┆ ---            │\n",
       "│ str     ┆ u32 ┆ f64            │\n",
       "╞═════════╪═════╪════════════════╡\n",
       "│ Africa  ┆ 2   ┆ 3750.0         │\n",
       "│ America ┆ 4   ┆ 300.75         │\n",
       "│ Asia    ┆ 3   ┆ 133.333333     │\n",
       "│ Europe  ┆ 1   ┆ 1.0            │\n",
       "└─────────┴─────┴────────────────┘"
      ]
     },
     "execution_count": 7,
     "metadata": {},
     "output_type": "execute_result"
    }
   ],
   "source": [
    "fruit.group_by(\n",
    "    pl.col(\"origin\").str.split(\" \").list.last()).agg(\n",
    "        pl.len(),\n",
    "        average_weight=pl.col(\"weight\").mean()\n",
    "    ).sort(\"average_weight\", descending=True)"
   ]
  },
  {
   "cell_type": "markdown",
   "id": "ee59867e",
   "metadata": {},
   "source": [
    "## Orden con expresiones"
   ]
  },
  {
   "cell_type": "code",
   "execution_count": 8,
   "id": "bb98602e",
   "metadata": {},
   "outputs": [
    {
     "data": {
      "text/html": [
       "<div><style>\n",
       ".dataframe > thead > tr,\n",
       ".dataframe > tbody > tr {\n",
       "  text-align: right;\n",
       "  white-space: pre-wrap;\n",
       "}\n",
       "</style>\n",
       "<small>shape: (10, 5)</small><table border=\"1\" class=\"dataframe\"><thead><tr><th>name</th><th>weight</th><th>color</th><th>is_round</th><th>origin</th></tr><tr><td>str</td><td>i64</td><td>str</td><td>bool</td><td>str</td></tr></thead><tbody><tr><td>&quot;Cantaloupe&quot;</td><td>2500</td><td>&quot;orange&quot;</td><td>true</td><td>&quot;Africa&quot;</td></tr><tr><td>&quot;Elderberry&quot;</td><td>1</td><td>&quot;black&quot;</td><td>false</td><td>&quot;Europe&quot;</td></tr><tr><td>&quot;Watermelon&quot;</td><td>5000</td><td>&quot;green&quot;</td><td>true</td><td>&quot;Africa&quot;</td></tr><tr><td>&quot;Blueberry&quot;</td><td>1</td><td>&quot;blue&quot;</td><td>false</td><td>&quot;North America&quot;</td></tr><tr><td>&quot;Cranberry&quot;</td><td>2</td><td>&quot;red&quot;</td><td>false</td><td>&quot;North America&quot;</td></tr><tr><td>&quot;Avocado&quot;</td><td>200</td><td>&quot;green&quot;</td><td>false</td><td>&quot;South America&quot;</td></tr><tr><td>&quot;Banana&quot;</td><td>120</td><td>&quot;yellow&quot;</td><td>false</td><td>&quot;Asia&quot;</td></tr><tr><td>&quot;Orange&quot;</td><td>130</td><td>&quot;orange&quot;</td><td>true</td><td>&quot;Asia&quot;</td></tr><tr><td>&quot;Papaya&quot;</td><td>1000</td><td>&quot;orange&quot;</td><td>false</td><td>&quot;South America&quot;</td></tr><tr><td>&quot;Peach&quot;</td><td>150</td><td>&quot;orange&quot;</td><td>true</td><td>&quot;Asia&quot;</td></tr></tbody></table></div>"
      ],
      "text/plain": [
       "shape: (10, 5)\n",
       "┌────────────┬────────┬────────┬──────────┬───────────────┐\n",
       "│ name       ┆ weight ┆ color  ┆ is_round ┆ origin        │\n",
       "│ ---        ┆ ---    ┆ ---    ┆ ---      ┆ ---           │\n",
       "│ str        ┆ i64    ┆ str    ┆ bool     ┆ str           │\n",
       "╞════════════╪════════╪════════╪══════════╪═══════════════╡\n",
       "│ Cantaloupe ┆ 2500   ┆ orange ┆ true     ┆ Africa        │\n",
       "│ Elderberry ┆ 1      ┆ black  ┆ false    ┆ Europe        │\n",
       "│ Watermelon ┆ 5000   ┆ green  ┆ true     ┆ Africa        │\n",
       "│ Blueberry  ┆ 1      ┆ blue   ┆ false    ┆ North America │\n",
       "│ Cranberry  ┆ 2      ┆ red    ┆ false    ┆ North America │\n",
       "│ Avocado    ┆ 200    ┆ green  ┆ false    ┆ South America │\n",
       "│ Banana     ┆ 120    ┆ yellow ┆ false    ┆ Asia          │\n",
       "│ Orange     ┆ 130    ┆ orange ┆ true     ┆ Asia          │\n",
       "│ Papaya     ┆ 1000   ┆ orange ┆ false    ┆ South America │\n",
       "│ Peach      ┆ 150    ┆ orange ┆ true     ┆ Asia          │\n",
       "└────────────┴────────┴────────┴──────────┴───────────────┘"
      ]
     },
     "execution_count": 8,
     "metadata": {},
     "output_type": "execute_result"
    }
   ],
   "source": [
    "fruit.sort(\n",
    "    pl.col(\"name\").str.len_bytes(),\n",
    "    descending=True\n",
    ")"
   ]
  },
  {
   "cell_type": "code",
   "execution_count": 9,
   "id": "2b62f890",
   "metadata": {},
   "outputs": [
    {
     "data": {
      "text/html": [
       "<div><style>\n",
       ".dataframe > thead > tr,\n",
       ".dataframe > tbody > tr {\n",
       "  text-align: right;\n",
       "  white-space: pre-wrap;\n",
       "}\n",
       "</style>\n",
       "<small>shape: (3, 4)</small><table border=\"1\" class=\"dataframe\"><thead><tr><th>a</th><th>b</th><th>a_times_10</th><th>b_times_10</th></tr><tr><td>i64</td><td>f64</td><td>i64</td><td>f64</td></tr></thead><tbody><tr><td>1</td><td>0.4</td><td>10</td><td>4.0</td></tr><tr><td>2</td><td>0.5</td><td>20</td><td>5.0</td></tr><tr><td>3</td><td>0.6</td><td>30</td><td>6.0</td></tr></tbody></table></div>"
      ],
      "text/plain": [
       "shape: (3, 4)\n",
       "┌─────┬─────┬────────────┬────────────┐\n",
       "│ a   ┆ b   ┆ a_times_10 ┆ b_times_10 │\n",
       "│ --- ┆ --- ┆ ---        ┆ ---        │\n",
       "│ i64 ┆ f64 ┆ i64        ┆ f64        │\n",
       "╞═════╪═════╪════════════╪════════════╡\n",
       "│ 1   ┆ 0.4 ┆ 10         ┆ 4.0        │\n",
       "│ 2   ┆ 0.5 ┆ 20         ┆ 5.0        │\n",
       "│ 3   ┆ 0.6 ┆ 30         ┆ 6.0        │\n",
       "└─────┴─────┴────────────┴────────────┘"
      ]
     },
     "execution_count": 9,
     "metadata": {},
     "output_type": "execute_result"
    }
   ],
   "source": [
    "(pl.DataFrame({\"a\": [1, 2, 3], \"b\":  [0.4, 0.5, 0.6]}).with_columns(\n",
    "    pl.all().mul(10).name.suffix(\"_times_10\")\n",
    "    )\n",
    ")"
   ]
  },
  {
   "cell_type": "code",
   "execution_count": 10,
   "id": "c76bf6f1",
   "metadata": {},
   "outputs": [
    {
     "data": {
      "text/plain": [
       "True"
      ]
     },
     "execution_count": 10,
     "metadata": {},
     "output_type": "execute_result"
    }
   ],
   "source": [
    "pl.all().mul(10).name.suffix(\"_times_10\").meta.has_multiple_outputs()"
   ]
  },
  {
   "cell_type": "markdown",
   "id": "181756c5",
   "metadata": {},
   "source": [
    "## Propiedades de las expresiones\n",
    "\n",
    "### Propiedades clave de las expresiones en Polars\n",
    "\n",
    "- **Pereza (Lazy):**  \n",
    "    Las expresiones son *perezosas*: no realizan ninguna acción por sí solas. Solo se ejecutan cuando se aplican a un `DataFrame` o `LazyFrame` mediante métodos como `.select()`, `.with_columns()`, `.filter()`, etc.  \n",
    "    > *Ventaja:* Permite optimizaciones automáticas y evita cálculos innecesarios.\n",
    "\n",
    "- **Dependencia de función y datos:**  \n",
    "    El resultado de una expresión depende tanto de la función que la ejecuta como del DataFrame sobre el que se aplica.  \n",
    "    - La **función** (por ejemplo, `.select()` o `.filter()`) define cómo se transforma la Serie resultante.\n",
    "    - El **DataFrame** determina el tipo y la longitud de la Serie, ya que las expresiones operan sobre sus columnas y filas.\n",
    "\n",
    "> **Resumen:**  \n",
    "Las expresiones en Polars son herramientas flexibles y eficientes para definir transformaciones, pero solo cobran vida cuando se combinan con un DataFrame y una función que las ejecuta. Esto permite construir pipelines de datos claros, reproducibles y optimizados."
   ]
  },
  {
   "cell_type": "code",
   "execution_count": 11,
   "id": "63e5f026",
   "metadata": {},
   "outputs": [],
   "source": [
    "is_orange = pl.col(\"color\") == \"orange\""
   ]
  },
  {
   "cell_type": "code",
   "execution_count": 12,
   "id": "b78f4038",
   "metadata": {},
   "outputs": [
    {
     "data": {
      "text/html": [
       "<div><style>\n",
       ".dataframe > thead > tr,\n",
       ".dataframe > tbody > tr {\n",
       "  text-align: right;\n",
       "  white-space: pre-wrap;\n",
       "}\n",
       "</style>\n",
       "<small>shape: (10, 5)</small><table border=\"1\" class=\"dataframe\"><thead><tr><th>name</th><th>weight</th><th>color</th><th>is_round</th><th>origin</th></tr><tr><td>str</td><td>i64</td><td>bool</td><td>bool</td><td>str</td></tr></thead><tbody><tr><td>&quot;Avocado&quot;</td><td>200</td><td>false</td><td>false</td><td>&quot;South America&quot;</td></tr><tr><td>&quot;Banana&quot;</td><td>120</td><td>false</td><td>false</td><td>&quot;Asia&quot;</td></tr><tr><td>&quot;Blueberry&quot;</td><td>1</td><td>false</td><td>false</td><td>&quot;North America&quot;</td></tr><tr><td>&quot;Cantaloupe&quot;</td><td>2500</td><td>true</td><td>true</td><td>&quot;Africa&quot;</td></tr><tr><td>&quot;Cranberry&quot;</td><td>2</td><td>false</td><td>false</td><td>&quot;North America&quot;</td></tr><tr><td>&quot;Elderberry&quot;</td><td>1</td><td>false</td><td>false</td><td>&quot;Europe&quot;</td></tr><tr><td>&quot;Orange&quot;</td><td>130</td><td>true</td><td>true</td><td>&quot;Asia&quot;</td></tr><tr><td>&quot;Papaya&quot;</td><td>1000</td><td>true</td><td>false</td><td>&quot;South America&quot;</td></tr><tr><td>&quot;Peach&quot;</td><td>150</td><td>true</td><td>true</td><td>&quot;Asia&quot;</td></tr><tr><td>&quot;Watermelon&quot;</td><td>5000</td><td>false</td><td>true</td><td>&quot;Africa&quot;</td></tr></tbody></table></div>"
      ],
      "text/plain": [
       "shape: (10, 5)\n",
       "┌────────────┬────────┬───────┬──────────┬───────────────┐\n",
       "│ name       ┆ weight ┆ color ┆ is_round ┆ origin        │\n",
       "│ ---        ┆ ---    ┆ ---   ┆ ---      ┆ ---           │\n",
       "│ str        ┆ i64    ┆ bool  ┆ bool     ┆ str           │\n",
       "╞════════════╪════════╪═══════╪══════════╪═══════════════╡\n",
       "│ Avocado    ┆ 200    ┆ false ┆ false    ┆ South America │\n",
       "│ Banana     ┆ 120    ┆ false ┆ false    ┆ Asia          │\n",
       "│ Blueberry  ┆ 1      ┆ false ┆ false    ┆ North America │\n",
       "│ Cantaloupe ┆ 2500   ┆ true  ┆ true     ┆ Africa        │\n",
       "│ Cranberry  ┆ 2      ┆ false ┆ false    ┆ North America │\n",
       "│ Elderberry ┆ 1      ┆ false ┆ false    ┆ Europe        │\n",
       "│ Orange     ┆ 130    ┆ true  ┆ true     ┆ Asia          │\n",
       "│ Papaya     ┆ 1000   ┆ true  ┆ false    ┆ South America │\n",
       "│ Peach      ┆ 150    ┆ true  ┆ true     ┆ Asia          │\n",
       "│ Watermelon ┆ 5000   ┆ false ┆ true     ┆ Africa        │\n",
       "└────────────┴────────┴───────┴──────────┴───────────────┘"
      ]
     },
     "execution_count": 12,
     "metadata": {},
     "output_type": "execute_result"
    }
   ],
   "source": [
    "fruit.with_columns(is_orange)"
   ]
  },
  {
   "cell_type": "code",
   "execution_count": 13,
   "id": "39614e41",
   "metadata": {},
   "outputs": [
    {
     "data": {
      "text/html": [
       "<div><style>\n",
       ".dataframe > thead > tr,\n",
       ".dataframe > tbody > tr {\n",
       "  text-align: right;\n",
       "  white-space: pre-wrap;\n",
       "}\n",
       "</style>\n",
       "<small>shape: (4, 5)</small><table border=\"1\" class=\"dataframe\"><thead><tr><th>name</th><th>weight</th><th>color</th><th>is_round</th><th>origin</th></tr><tr><td>str</td><td>i64</td><td>str</td><td>bool</td><td>str</td></tr></thead><tbody><tr><td>&quot;Cantaloupe&quot;</td><td>2500</td><td>&quot;orange&quot;</td><td>true</td><td>&quot;Africa&quot;</td></tr><tr><td>&quot;Orange&quot;</td><td>130</td><td>&quot;orange&quot;</td><td>true</td><td>&quot;Asia&quot;</td></tr><tr><td>&quot;Papaya&quot;</td><td>1000</td><td>&quot;orange&quot;</td><td>false</td><td>&quot;South America&quot;</td></tr><tr><td>&quot;Peach&quot;</td><td>150</td><td>&quot;orange&quot;</td><td>true</td><td>&quot;Asia&quot;</td></tr></tbody></table></div>"
      ],
      "text/plain": [
       "shape: (4, 5)\n",
       "┌────────────┬────────┬────────┬──────────┬───────────────┐\n",
       "│ name       ┆ weight ┆ color  ┆ is_round ┆ origin        │\n",
       "│ ---        ┆ ---    ┆ ---    ┆ ---      ┆ ---           │\n",
       "│ str        ┆ i64    ┆ str    ┆ bool     ┆ str           │\n",
       "╞════════════╪════════╪════════╪══════════╪═══════════════╡\n",
       "│ Cantaloupe ┆ 2500   ┆ orange ┆ true     ┆ Africa        │\n",
       "│ Orange     ┆ 130    ┆ orange ┆ true     ┆ Asia          │\n",
       "│ Papaya     ┆ 1000   ┆ orange ┆ false    ┆ South America │\n",
       "│ Peach      ┆ 150    ┆ orange ┆ true     ┆ Asia          │\n",
       "└────────────┴────────┴────────┴──────────┴───────────────┘"
      ]
     },
     "execution_count": 13,
     "metadata": {},
     "output_type": "execute_result"
    }
   ],
   "source": [
    "fruit.filter(is_orange)"
   ]
  },
  {
   "cell_type": "code",
   "execution_count": 14,
   "id": "bcc6c394",
   "metadata": {},
   "outputs": [
    {
     "data": {
      "text/html": [
       "<div><style>\n",
       ".dataframe > thead > tr,\n",
       ".dataframe > tbody > tr {\n",
       "  text-align: right;\n",
       "  white-space: pre-wrap;\n",
       "}\n",
       "</style>\n",
       "<small>shape: (2, 2)</small><table border=\"1\" class=\"dataframe\"><thead><tr><th>color</th><th>len</th></tr><tr><td>bool</td><td>u32</td></tr></thead><tbody><tr><td>false</td><td>6</td></tr><tr><td>true</td><td>4</td></tr></tbody></table></div>"
      ],
      "text/plain": [
       "shape: (2, 2)\n",
       "┌───────┬─────┐\n",
       "│ color ┆ len │\n",
       "│ ---   ┆ --- │\n",
       "│ bool  ┆ u32 │\n",
       "╞═══════╪═════╡\n",
       "│ false ┆ 6   │\n",
       "│ true  ┆ 4   │\n",
       "└───────┴─────┘"
      ]
     },
     "execution_count": 14,
     "metadata": {},
     "output_type": "execute_result"
    }
   ],
   "source": [
    "fruit.group_by(is_orange).len()"
   ]
  },
  {
   "cell_type": "code",
   "execution_count": 15,
   "id": "850f62e0",
   "metadata": {},
   "outputs": [],
   "source": [
    "flowers = pl.DataFrame(\n",
    "    {\n",
    "    \"name\": [\"Tiger lily\", \"Blue flag\", \"African marigold\"],\n",
    "    \"latin\": [\"Lilium columbianum\", \"Iris versicolor\", \"Tagetes erecta\"],\n",
    "    \"color\": [\"orange\", \"purple\", \"orange\"],\n",
    "    }\n",
    ")"
   ]
  },
  {
   "cell_type": "code",
   "execution_count": 16,
   "id": "2d5ae4ee",
   "metadata": {},
   "outputs": [
    {
     "data": {
      "text/html": [
       "<div><style>\n",
       ".dataframe > thead > tr,\n",
       ".dataframe > tbody > tr {\n",
       "  text-align: right;\n",
       "  white-space: pre-wrap;\n",
       "}\n",
       "</style>\n",
       "<small>shape: (2, 3)</small><table border=\"1\" class=\"dataframe\"><thead><tr><th>name</th><th>latin</th><th>color</th></tr><tr><td>str</td><td>str</td><td>str</td></tr></thead><tbody><tr><td>&quot;Tiger lily&quot;</td><td>&quot;Lilium columbianum&quot;</td><td>&quot;orange&quot;</td></tr><tr><td>&quot;African marigold&quot;</td><td>&quot;Tagetes erecta&quot;</td><td>&quot;orange&quot;</td></tr></tbody></table></div>"
      ],
      "text/plain": [
       "shape: (2, 3)\n",
       "┌──────────────────┬────────────────────┬────────┐\n",
       "│ name             ┆ latin              ┆ color  │\n",
       "│ ---              ┆ ---                ┆ ---    │\n",
       "│ str              ┆ str                ┆ str    │\n",
       "╞══════════════════╪════════════════════╪════════╡\n",
       "│ Tiger lily       ┆ Lilium columbianum ┆ orange │\n",
       "│ African marigold ┆ Tagetes erecta     ┆ orange │\n",
       "└──────────────────┴────────────────────┴────────┘"
      ]
     },
     "execution_count": 16,
     "metadata": {},
     "output_type": "execute_result"
    }
   ],
   "source": [
    "flowers.filter(is_orange)"
   ]
  },
  {
   "cell_type": "markdown",
   "id": "37e0e5b5",
   "metadata": {},
   "source": [
    "## Creando expresiones"
   ]
  },
  {
   "cell_type": "code",
   "execution_count": 17,
   "id": "f6b9b868",
   "metadata": {},
   "outputs": [
    {
     "data": {
      "text/plain": [
       "['color']"
      ]
     },
     "execution_count": 17,
     "metadata": {},
     "output_type": "execute_result"
    }
   ],
   "source": [
    "fruit.select(pl.col(\"color\")).columns"
   ]
  },
  {
   "cell_type": "code",
   "execution_count": 18,
   "id": "1fa2daca",
   "metadata": {},
   "outputs": [
    {
     "data": {
      "text/plain": [
       "['color', 'origin']"
      ]
     },
     "execution_count": 18,
     "metadata": {},
     "output_type": "execute_result"
    }
   ],
   "source": [
    "fruit.select(pl.col(\"^.*or.*$\")).columns"
   ]
  },
  {
   "cell_type": "code",
   "execution_count": 19,
   "id": "2d6d929c",
   "metadata": {},
   "outputs": [
    {
     "name": "stdout",
     "output_type": "stream",
     "text": [
      "['name', 'weight', 'color', 'is_round', 'origin']\n",
      "['name', 'weight', 'color', 'is_round', 'origin']\n"
     ]
    }
   ],
   "source": [
    "print(fruit.select(pl.all()).columns)\n",
    "print(fruit.select(pl.col(\"*\")).columns)"
   ]
  },
  {
   "cell_type": "code",
   "execution_count": 20,
   "id": "a7754f2b",
   "metadata": {},
   "outputs": [
    {
     "data": {
      "text/plain": [
       "['name', 'color', 'origin']"
      ]
     },
     "execution_count": 20,
     "metadata": {},
     "output_type": "execute_result"
    }
   ],
   "source": [
    "# Select all string columns\n",
    "fruit.select(pl.col(pl.String)).columns"
   ]
  },
  {
   "cell_type": "code",
   "execution_count": 21,
   "id": "0408c2ef",
   "metadata": {},
   "outputs": [
    {
     "data": {
      "text/plain": [
       "['weight', 'is_round']"
      ]
     },
     "execution_count": 21,
     "metadata": {},
     "output_type": "execute_result"
    }
   ],
   "source": [
    "# Select all integer and boolean columns\n",
    "fruit.select(pl.col(pl.Int64, pl.Boolean)).columns"
   ]
  },
  {
   "cell_type": "code",
   "execution_count": 22,
   "id": "afec44a6",
   "metadata": {},
   "outputs": [
    {
     "data": {
      "text/plain": [
       "['name', 'color']"
      ]
     },
     "execution_count": 22,
     "metadata": {},
     "output_type": "execute_result"
    }
   ],
   "source": [
    "# Select specific columns\n",
    "fruit.select([\"name\", \"color\"]).columns"
   ]
  },
  {
   "cell_type": "markdown",
   "id": "bcdf3f82",
   "metadata": {},
   "source": [
    "## From literal values"
   ]
  },
  {
   "cell_type": "code",
   "execution_count": 23,
   "id": "7c4decc7",
   "metadata": {},
   "outputs": [
    {
     "data": {
      "text/html": [
       "<div><style>\n",
       ".dataframe > thead > tr,\n",
       ".dataframe > tbody > tr {\n",
       "  text-align: right;\n",
       "  white-space: pre-wrap;\n",
       "}\n",
       "</style>\n",
       "<small>shape: (1, 1)</small><table border=\"1\" class=\"dataframe\"><thead><tr><th>answer</th></tr><tr><td>i32</td></tr></thead><tbody><tr><td>42</td></tr></tbody></table></div>"
      ],
      "text/plain": [
       "shape: (1, 1)\n",
       "┌────────┐\n",
       "│ answer │\n",
       "│ ---    │\n",
       "│ i32    │\n",
       "╞════════╡\n",
       "│ 42     │\n",
       "└────────┘"
      ]
     },
     "execution_count": 23,
     "metadata": {},
     "output_type": "execute_result"
    }
   ],
   "source": [
    "pl.select(pl.lit(42).alias(\"answer\"))"
   ]
  },
  {
   "cell_type": "code",
   "execution_count": 24,
   "id": "ac565327",
   "metadata": {},
   "outputs": [
    {
     "data": {
      "text/html": [
       "<div><style>\n",
       ".dataframe > thead > tr,\n",
       ".dataframe > tbody > tr {\n",
       "  text-align: right;\n",
       "  white-space: pre-wrap;\n",
       "}\n",
       "</style>\n",
       "<small>shape: (1, 1)</small><table border=\"1\" class=\"dataframe\"><thead><tr><th>answer</th></tr><tr><td>i32</td></tr></thead><tbody><tr><td>42</td></tr></tbody></table></div>"
      ],
      "text/plain": [
       "shape: (1, 1)\n",
       "┌────────┐\n",
       "│ answer │\n",
       "│ ---    │\n",
       "│ i32    │\n",
       "╞════════╡\n",
       "│ 42     │\n",
       "└────────┘"
      ]
     },
     "execution_count": 24,
     "metadata": {},
     "output_type": "execute_result"
    }
   ],
   "source": [
    "pl.select(answer=pl.lit(42))"
   ]
  },
  {
   "cell_type": "code",
   "execution_count": 25,
   "id": "4d87b2c5",
   "metadata": {},
   "outputs": [
    {
     "data": {
      "text/html": [
       "<div><style>\n",
       ".dataframe > thead > tr,\n",
       ".dataframe > tbody > tr {\n",
       "  text-align: right;\n",
       "  white-space: pre-wrap;\n",
       "}\n",
       "</style>\n",
       "<small>shape: (10, 7)</small><table border=\"1\" class=\"dataframe\"><thead><tr><th>name</th><th>weight</th><th>color</th><th>is_round</th><th>origin</th><th>planet</th><th>sunny</th></tr><tr><td>str</td><td>i64</td><td>str</td><td>bool</td><td>str</td><td>str</td><td>str</td></tr></thead><tbody><tr><td>&quot;Avocado&quot;</td><td>200</td><td>&quot;green&quot;</td><td>false</td><td>&quot;South America&quot;</td><td>&quot;Earth&quot;</td><td>&quot;Sunny&quot;</td></tr><tr><td>&quot;Banana&quot;</td><td>120</td><td>&quot;yellow&quot;</td><td>false</td><td>&quot;Asia&quot;</td><td>&quot;Earth&quot;</td><td>&quot;Sunny&quot;</td></tr><tr><td>&quot;Blueberry&quot;</td><td>1</td><td>&quot;blue&quot;</td><td>false</td><td>&quot;North America&quot;</td><td>&quot;Earth&quot;</td><td>&quot;Sunny&quot;</td></tr><tr><td>&quot;Cantaloupe&quot;</td><td>2500</td><td>&quot;orange&quot;</td><td>true</td><td>&quot;Africa&quot;</td><td>&quot;Earth&quot;</td><td>&quot;Sunny&quot;</td></tr><tr><td>&quot;Cranberry&quot;</td><td>2</td><td>&quot;red&quot;</td><td>false</td><td>&quot;North America&quot;</td><td>&quot;Earth&quot;</td><td>&quot;Sunny&quot;</td></tr><tr><td>&quot;Elderberry&quot;</td><td>1</td><td>&quot;black&quot;</td><td>false</td><td>&quot;Europe&quot;</td><td>&quot;Earth&quot;</td><td>&quot;Sunny&quot;</td></tr><tr><td>&quot;Orange&quot;</td><td>130</td><td>&quot;orange&quot;</td><td>true</td><td>&quot;Asia&quot;</td><td>&quot;Earth&quot;</td><td>&quot;Sunny&quot;</td></tr><tr><td>&quot;Papaya&quot;</td><td>1000</td><td>&quot;orange&quot;</td><td>false</td><td>&quot;South America&quot;</td><td>&quot;Earth&quot;</td><td>&quot;Sunny&quot;</td></tr><tr><td>&quot;Peach&quot;</td><td>150</td><td>&quot;orange&quot;</td><td>true</td><td>&quot;Asia&quot;</td><td>&quot;Earth&quot;</td><td>&quot;Sunny&quot;</td></tr><tr><td>&quot;Watermelon&quot;</td><td>5000</td><td>&quot;green&quot;</td><td>true</td><td>&quot;Africa&quot;</td><td>&quot;Earth&quot;</td><td>&quot;Sunny&quot;</td></tr></tbody></table></div>"
      ],
      "text/plain": [
       "shape: (10, 7)\n",
       "┌────────────┬────────┬────────┬──────────┬───────────────┬────────┬───────┐\n",
       "│ name       ┆ weight ┆ color  ┆ is_round ┆ origin        ┆ planet ┆ sunny │\n",
       "│ ---        ┆ ---    ┆ ---    ┆ ---      ┆ ---           ┆ ---    ┆ ---   │\n",
       "│ str        ┆ i64    ┆ str    ┆ bool     ┆ str           ┆ str    ┆ str   │\n",
       "╞════════════╪════════╪════════╪══════════╪═══════════════╪════════╪═══════╡\n",
       "│ Avocado    ┆ 200    ┆ green  ┆ false    ┆ South America ┆ Earth  ┆ Sunny │\n",
       "│ Banana     ┆ 120    ┆ yellow ┆ false    ┆ Asia          ┆ Earth  ┆ Sunny │\n",
       "│ Blueberry  ┆ 1      ┆ blue   ┆ false    ┆ North America ┆ Earth  ┆ Sunny │\n",
       "│ Cantaloupe ┆ 2500   ┆ orange ┆ true     ┆ Africa        ┆ Earth  ┆ Sunny │\n",
       "│ Cranberry  ┆ 2      ┆ red    ┆ false    ┆ North America ┆ Earth  ┆ Sunny │\n",
       "│ Elderberry ┆ 1      ┆ black  ┆ false    ┆ Europe        ┆ Earth  ┆ Sunny │\n",
       "│ Orange     ┆ 130    ┆ orange ┆ true     ┆ Asia          ┆ Earth  ┆ Sunny │\n",
       "│ Papaya     ┆ 1000   ┆ orange ┆ false    ┆ South America ┆ Earth  ┆ Sunny │\n",
       "│ Peach      ┆ 150    ┆ orange ┆ true     ┆ Asia          ┆ Earth  ┆ Sunny │\n",
       "│ Watermelon ┆ 5000   ┆ green  ┆ true     ┆ Africa        ┆ Earth  ┆ Sunny │\n",
       "└────────────┴────────┴────────┴──────────┴───────────────┴────────┴───────┘"
      ]
     },
     "execution_count": 25,
     "metadata": {},
     "output_type": "execute_result"
    }
   ],
   "source": [
    "fruit.with_columns(\n",
    "    planet=pl.lit(\"Earth\"),\n",
    "    sunny=pl.lit(\"Sunny\")\n",
    ")"
   ]
  },
  {
   "cell_type": "code",
   "execution_count": 26,
   "id": "e1d1b6f1",
   "metadata": {},
   "outputs": [],
   "source": [
    "# Error: shape mismatch\n",
    "#fruit.with_columns(pl.lit(pl.Series([False, True])).alias(\"row_is_even\"))"
   ]
  },
  {
   "cell_type": "code",
   "execution_count": 27,
   "id": "9041a37d",
   "metadata": {},
   "outputs": [
    {
     "data": {
      "text/html": [
       "<div><style>\n",
       ".dataframe > thead > tr,\n",
       ".dataframe > tbody > tr {\n",
       "  text-align: right;\n",
       "  white-space: pre-wrap;\n",
       "}\n",
       "</style>\n",
       "<small>shape: (10, 6)</small><table border=\"1\" class=\"dataframe\"><thead><tr><th>name</th><th>weight</th><th>color</th><th>is_round</th><th>origin</th><th>row_is_even</th></tr><tr><td>str</td><td>i64</td><td>str</td><td>bool</td><td>str</td><td>list[bool]</td></tr></thead><tbody><tr><td>&quot;Avocado&quot;</td><td>200</td><td>&quot;green&quot;</td><td>false</td><td>&quot;South America&quot;</td><td>[false, true]</td></tr><tr><td>&quot;Banana&quot;</td><td>120</td><td>&quot;yellow&quot;</td><td>false</td><td>&quot;Asia&quot;</td><td>[false, true]</td></tr><tr><td>&quot;Blueberry&quot;</td><td>1</td><td>&quot;blue&quot;</td><td>false</td><td>&quot;North America&quot;</td><td>[false, true]</td></tr><tr><td>&quot;Cantaloupe&quot;</td><td>2500</td><td>&quot;orange&quot;</td><td>true</td><td>&quot;Africa&quot;</td><td>[false, true]</td></tr><tr><td>&quot;Cranberry&quot;</td><td>2</td><td>&quot;red&quot;</td><td>false</td><td>&quot;North America&quot;</td><td>[false, true]</td></tr><tr><td>&quot;Elderberry&quot;</td><td>1</td><td>&quot;black&quot;</td><td>false</td><td>&quot;Europe&quot;</td><td>[false, true]</td></tr><tr><td>&quot;Orange&quot;</td><td>130</td><td>&quot;orange&quot;</td><td>true</td><td>&quot;Asia&quot;</td><td>[false, true]</td></tr><tr><td>&quot;Papaya&quot;</td><td>1000</td><td>&quot;orange&quot;</td><td>false</td><td>&quot;South America&quot;</td><td>[false, true]</td></tr><tr><td>&quot;Peach&quot;</td><td>150</td><td>&quot;orange&quot;</td><td>true</td><td>&quot;Asia&quot;</td><td>[false, true]</td></tr><tr><td>&quot;Watermelon&quot;</td><td>5000</td><td>&quot;green&quot;</td><td>true</td><td>&quot;Africa&quot;</td><td>[false, true]</td></tr></tbody></table></div>"
      ],
      "text/plain": [
       "shape: (10, 6)\n",
       "┌────────────┬────────┬────────┬──────────┬───────────────┬───────────────┐\n",
       "│ name       ┆ weight ┆ color  ┆ is_round ┆ origin        ┆ row_is_even   │\n",
       "│ ---        ┆ ---    ┆ ---    ┆ ---      ┆ ---           ┆ ---           │\n",
       "│ str        ┆ i64    ┆ str    ┆ bool     ┆ str           ┆ list[bool]    │\n",
       "╞════════════╪════════╪════════╪══════════╪═══════════════╪═══════════════╡\n",
       "│ Avocado    ┆ 200    ┆ green  ┆ false    ┆ South America ┆ [false, true] │\n",
       "│ Banana     ┆ 120    ┆ yellow ┆ false    ┆ Asia          ┆ [false, true] │\n",
       "│ Blueberry  ┆ 1      ┆ blue   ┆ false    ┆ North America ┆ [false, true] │\n",
       "│ Cantaloupe ┆ 2500   ┆ orange ┆ true     ┆ Africa        ┆ [false, true] │\n",
       "│ Cranberry  ┆ 2      ┆ red    ┆ false    ┆ North America ┆ [false, true] │\n",
       "│ Elderberry ┆ 1      ┆ black  ┆ false    ┆ Europe        ┆ [false, true] │\n",
       "│ Orange     ┆ 130    ┆ orange ┆ true     ┆ Asia          ┆ [false, true] │\n",
       "│ Papaya     ┆ 1000   ┆ orange ┆ false    ┆ South America ┆ [false, true] │\n",
       "│ Peach      ┆ 150    ┆ orange ┆ true     ┆ Asia          ┆ [false, true] │\n",
       "│ Watermelon ┆ 5000   ┆ green  ┆ true     ┆ Africa        ┆ [false, true] │\n",
       "└────────────┴────────┴────────┴──────────┴───────────────┴───────────────┘"
      ]
     },
     "execution_count": 27,
     "metadata": {},
     "output_type": "execute_result"
    }
   ],
   "source": [
    "fruit.with_columns(row_is_even=pl.lit([False, True]))"
   ]
  },
  {
   "cell_type": "code",
   "execution_count": 28,
   "id": "0be832a8",
   "metadata": {},
   "outputs": [
    {
     "data": {
      "text/html": [
       "<div><style>\n",
       ".dataframe > thead > tr,\n",
       ".dataframe > tbody > tr {\n",
       "  text-align: right;\n",
       "  white-space: pre-wrap;\n",
       "}\n",
       "</style>\n",
       "<small>shape: (3, 3)</small><table border=\"1\" class=\"dataframe\"><thead><tr><th>umbrella</th><th>zeros</th><th>ones</th></tr><tr><td>str</td><td>f64</td><td>f64</td></tr></thead><tbody><tr><td>&quot;Ella&quot;</td><td>0.0</td><td>1.0</td></tr><tr><td>&quot;Ella&quot;</td><td>0.0</td><td>1.0</td></tr><tr><td>&quot;Ella&quot;</td><td>0.0</td><td>1.0</td></tr></tbody></table></div>"
      ],
      "text/plain": [
       "shape: (3, 3)\n",
       "┌──────────┬───────┬──────┐\n",
       "│ umbrella ┆ zeros ┆ ones │\n",
       "│ ---      ┆ ---   ┆ ---  │\n",
       "│ str      ┆ f64   ┆ f64  │\n",
       "╞══════════╪═══════╪══════╡\n",
       "│ Ella     ┆ 0.0   ┆ 1.0  │\n",
       "│ Ella     ┆ 0.0   ┆ 1.0  │\n",
       "│ Ella     ┆ 0.0   ┆ 1.0  │\n",
       "└──────────┴───────┴──────┘"
      ]
     },
     "execution_count": 28,
     "metadata": {},
     "output_type": "execute_result"
    }
   ],
   "source": [
    "pl.select(pl.repeat(\"Ella\", 3).alias(\"umbrella\"), pl.zeros(3), pl.ones(3))"
   ]
  },
  {
   "cell_type": "code",
   "execution_count": 29,
   "id": "ab7eead3",
   "metadata": {},
   "outputs": [],
   "source": [
    "# Error: shape mismatch\n",
    " # fruit.with_columns(planet=pl.repeat(\"Earth\", 9))"
   ]
  },
  {
   "cell_type": "markdown",
   "id": "16c53e6f",
   "metadata": {},
   "source": [
    "## From Ranges"
   ]
  },
  {
   "cell_type": "code",
   "execution_count": 30,
   "id": "4547548d",
   "metadata": {},
   "outputs": [
    {
     "data": {
      "text/html": [
       "<div><style>\n",
       ".dataframe > thead > tr,\n",
       ".dataframe > tbody > tr {\n",
       "  text-align: right;\n",
       "  white-space: pre-wrap;\n",
       "}\n",
       "</style>\n",
       "<small>shape: (5, 4)</small><table border=\"1\" class=\"dataframe\"><thead><tr><th>start</th><th>end</th><th>int_range</th><th>range_length</th></tr><tr><td>i64</td><td>i64</td><td>list[i64]</td><td>u32</td></tr></thead><tbody><tr><td>0</td><td>0</td><td>[]</td><td>0</td></tr><tr><td>1</td><td>4</td><td>[1, 2, 3]</td><td>3</td></tr><tr><td>2</td><td>16</td><td>[2, 3, … 15]</td><td>14</td></tr><tr><td>3</td><td>36</td><td>[3, 4, … 35]</td><td>33</td></tr><tr><td>4</td><td>64</td><td>[4, 5, … 63]</td><td>60</td></tr></tbody></table></div>"
      ],
      "text/plain": [
       "shape: (5, 4)\n",
       "┌───────┬─────┬──────────────┬──────────────┐\n",
       "│ start ┆ end ┆ int_range    ┆ range_length │\n",
       "│ ---   ┆ --- ┆ ---          ┆ ---          │\n",
       "│ i64   ┆ i64 ┆ list[i64]    ┆ u32          │\n",
       "╞═══════╪═════╪══════════════╪══════════════╡\n",
       "│ 0     ┆ 0   ┆ []           ┆ 0            │\n",
       "│ 1     ┆ 4   ┆ [1, 2, 3]    ┆ 3            │\n",
       "│ 2     ┆ 16  ┆ [2, 3, … 15] ┆ 14           │\n",
       "│ 3     ┆ 36  ┆ [3, 4, … 35] ┆ 33           │\n",
       "│ 4     ┆ 64  ┆ [4, 5, … 63] ┆ 60           │\n",
       "└───────┴─────┴──────────────┴──────────────┘"
      ]
     },
     "execution_count": 30,
     "metadata": {},
     "output_type": "execute_result"
    }
   ],
   "source": [
    "pl.select(\n",
    "    start=pl.int_range(0, 5), end=pl.arange(0, 10, 2).pow(2)\n",
    ").with_columns(int_range=pl.int_ranges(\"start\", \"end\")).with_columns(\n",
    "    range_length=pl.col(\"int_range\").list.len()\n",
    ")"
   ]
  },
  {
   "cell_type": "code",
   "execution_count": 31,
   "id": "06c81db3",
   "metadata": {},
   "outputs": [
    {
     "data": {
      "text/html": [
       "<div><style>\n",
       ".dataframe > thead > tr,\n",
       ".dataframe > tbody > tr {\n",
       "  text-align: right;\n",
       "  white-space: pre-wrap;\n",
       "}\n",
       "</style>\n",
       "<small>shape: (6, 3)</small><table border=\"1\" class=\"dataframe\"><thead><tr><th>start</th><th>end</th><th>range</th></tr><tr><td>date</td><td>date</td><td>list[datetime[μs]]</td></tr></thead><tbody><tr><td>1985-10-21</td><td>2021-10-21</td><td>[1985-10-21 00:00:00, 1985-10-21 01:00:00, … 2021-10-21 00:00:00]</td></tr><tr><td>1985-10-22</td><td>2021-10-21</td><td>[1985-10-22 00:00:00, 1985-10-22 01:00:00, … 2021-10-21 00:00:00]</td></tr><tr><td>1985-10-23</td><td>2021-10-21</td><td>[1985-10-23 00:00:00, 1985-10-23 01:00:00, … 2021-10-21 00:00:00]</td></tr><tr><td>1985-10-24</td><td>2021-10-21</td><td>[1985-10-24 00:00:00, 1985-10-24 01:00:00, … 2021-10-21 00:00:00]</td></tr><tr><td>1985-10-25</td><td>2021-10-21</td><td>[1985-10-25 00:00:00, 1985-10-25 01:00:00, … 2021-10-21 00:00:00]</td></tr><tr><td>1985-10-26</td><td>2021-10-21</td><td>[1985-10-26 00:00:00, 1985-10-26 01:00:00, … 2021-10-21 00:00:00]</td></tr></tbody></table></div>"
      ],
      "text/plain": [
       "shape: (6, 3)\n",
       "┌────────────┬────────────┬─────────────────────────────────┐\n",
       "│ start      ┆ end        ┆ range                           │\n",
       "│ ---        ┆ ---        ┆ ---                             │\n",
       "│ date       ┆ date       ┆ list[datetime[μs]]              │\n",
       "╞════════════╪════════════╪═════════════════════════════════╡\n",
       "│ 1985-10-21 ┆ 2021-10-21 ┆ [1985-10-21 00:00:00, 1985-10-… │\n",
       "│ 1985-10-22 ┆ 2021-10-21 ┆ [1985-10-22 00:00:00, 1985-10-… │\n",
       "│ 1985-10-23 ┆ 2021-10-21 ┆ [1985-10-23 00:00:00, 1985-10-… │\n",
       "│ 1985-10-24 ┆ 2021-10-21 ┆ [1985-10-24 00:00:00, 1985-10-… │\n",
       "│ 1985-10-25 ┆ 2021-10-21 ┆ [1985-10-25 00:00:00, 1985-10-… │\n",
       "│ 1985-10-26 ┆ 2021-10-21 ┆ [1985-10-26 00:00:00, 1985-10-… │\n",
       "└────────────┴────────────┴─────────────────────────────────┘"
      ]
     },
     "execution_count": 31,
     "metadata": {},
     "output_type": "execute_result"
    }
   ],
   "source": [
    "pl.select(\n",
    "    start=pl.date_range(pl.date(1985, 10, 21), pl.date(1985, 10, 26)),\n",
    "    end=pl.repeat(pl.date(2021, 10, 21), 6),\n",
    ").with_columns(range=pl.datetime_ranges(\"start\", \"end\", interval=\"1h\"))"
   ]
  },
  {
   "cell_type": "markdown",
   "id": "a5ba3297",
   "metadata": {},
   "source": [
    "## Renaming Expressions"
   ]
  },
  {
   "cell_type": "code",
   "execution_count": 32,
   "id": "352607e8",
   "metadata": {},
   "outputs": [
    {
     "data": {
      "text/html": [
       "<div><style>\n",
       ".dataframe > thead > tr,\n",
       ".dataframe > tbody > tr {\n",
       "  text-align: right;\n",
       "  white-space: pre-wrap;\n",
       "}\n",
       "</style>\n",
       "<small>shape: (1, 3)</small><table border=\"1\" class=\"dataframe\"><thead><tr><th>text</th><th>An integer</th><th>BOOLEAN</th></tr><tr><td>str</td><td>i64</td><td>bool</td></tr></thead><tbody><tr><td>&quot;value&quot;</td><td>5040</td><td>true</td></tr></tbody></table></div>"
      ],
      "text/plain": [
       "shape: (1, 3)\n",
       "┌───────┬────────────┬─────────┐\n",
       "│ text  ┆ An integer ┆ BOOLEAN │\n",
       "│ ---   ┆ ---        ┆ ---     │\n",
       "│ str   ┆ i64        ┆ bool    │\n",
       "╞═══════╪════════════╪═════════╡\n",
       "│ value ┆ 5040       ┆ true    │\n",
       "└───────┴────────────┴─────────┘"
      ]
     },
     "execution_count": 32,
     "metadata": {},
     "output_type": "execute_result"
    }
   ],
   "source": [
    "df = pl.DataFrame({\"text\": \"value\", \"An integer\": 5040, \"BOOLEAN\": True})\n",
    "df"
   ]
  },
  {
   "cell_type": "code",
   "execution_count": 33,
   "id": "ddddd6bd",
   "metadata": {},
   "outputs": [
    {
     "data": {
      "text/html": [
       "<div><style>\n",
       ".dataframe > thead > tr,\n",
       ".dataframe > tbody > tr {\n",
       "  text-align: right;\n",
       "  white-space: pre-wrap;\n",
       "}\n",
       "</style>\n",
       "<small>shape: (1, 3)</small><table border=\"1\" class=\"dataframe\"><thead><tr><th>TEXT</th><th>int</th><th>boolean</th></tr><tr><td>str</td><td>i64</td><td>bool</td></tr></thead><tbody><tr><td>&quot;value&quot;</td><td>5040</td><td>true</td></tr></tbody></table></div>"
      ],
      "text/plain": [
       "shape: (1, 3)\n",
       "┌───────┬──────┬─────────┐\n",
       "│ TEXT  ┆ int  ┆ boolean │\n",
       "│ ---   ┆ ---  ┆ ---     │\n",
       "│ str   ┆ i64  ┆ bool    │\n",
       "╞═══════╪══════╪═════════╡\n",
       "│ value ┆ 5040 ┆ true    │\n",
       "└───────┴──────┴─────────┘"
      ]
     },
     "execution_count": 33,
     "metadata": {},
     "output_type": "execute_result"
    }
   ],
   "source": [
    "df.select(\n",
    "    pl.col(\"text\").name.to_uppercase(),\n",
    "    pl.col(\"An integer\").alias(\"int\"),\n",
    "    pl.col(\"BOOLEAN\").name.to_lowercase()\n",
    ")"
   ]
  },
  {
   "cell_type": "code",
   "execution_count": 34,
   "id": "2dc81c9c",
   "metadata": {},
   "outputs": [
    {
     "data": {
      "text/html": [
       "<div><style>\n",
       ".dataframe > thead > tr,\n",
       ".dataframe > tbody > tr {\n",
       "  text-align: right;\n",
       "  white-space: pre-wrap;\n",
       "}\n",
       "</style>\n",
       "<small>shape: (1, 3)</small><table border=\"1\" class=\"dataframe\"><thead><tr><th>text</th><th>an_integer</th><th>boolean</th></tr><tr><td>str</td><td>i64</td><td>bool</td></tr></thead><tbody><tr><td>&quot;value&quot;</td><td>5040</td><td>true</td></tr></tbody></table></div>"
      ],
      "text/plain": [
       "shape: (1, 3)\n",
       "┌───────┬────────────┬─────────┐\n",
       "│ text  ┆ an_integer ┆ boolean │\n",
       "│ ---   ┆ ---        ┆ ---     │\n",
       "│ str   ┆ i64        ┆ bool    │\n",
       "╞═══════╪════════════╪═════════╡\n",
       "│ value ┆ 5040       ┆ true    │\n",
       "└───────┴────────────┴─────────┘"
      ]
     },
     "execution_count": 34,
     "metadata": {},
     "output_type": "execute_result"
    }
   ],
   "source": [
    "df.select(\n",
    "    pl.all().name.map(lambda s: s.lower().replace(\" \", \"_\"))\n",
    ")"
   ]
  },
  {
   "cell_type": "markdown",
   "id": "e69906b3",
   "metadata": {},
   "source": [
    "## Expression Are Idiomatic"
   ]
  },
  {
   "cell_type": "code",
   "execution_count": 35,
   "id": "5583c008",
   "metadata": {},
   "outputs": [
    {
     "data": {
      "text/html": [
       "<div><style>\n",
       ".dataframe > thead > tr,\n",
       ".dataframe > tbody > tr {\n",
       "  text-align: right;\n",
       "  white-space: pre-wrap;\n",
       "}\n",
       "</style>\n",
       "<small>shape: (10, 5)</small><table border=\"1\" class=\"dataframe\"><thead><tr><th>name</th><th>weight</th><th>color</th><th>is_round</th><th>origin</th></tr><tr><td>str</td><td>i64</td><td>str</td><td>bool</td><td>str</td></tr></thead><tbody><tr><td>&quot;Avocado&quot;</td><td>200</td><td>&quot;green&quot;</td><td>false</td><td>&quot;South America&quot;</td></tr><tr><td>&quot;Banana&quot;</td><td>120</td><td>&quot;yellow&quot;</td><td>false</td><td>&quot;Asia&quot;</td></tr><tr><td>&quot;Blueberry&quot;</td><td>1</td><td>&quot;blue&quot;</td><td>false</td><td>&quot;North America&quot;</td></tr><tr><td>&quot;Cantaloupe&quot;</td><td>2500</td><td>&quot;orange&quot;</td><td>true</td><td>&quot;Africa&quot;</td></tr><tr><td>&quot;Cranberry&quot;</td><td>2</td><td>&quot;red&quot;</td><td>false</td><td>&quot;North America&quot;</td></tr><tr><td>&quot;Elderberry&quot;</td><td>1</td><td>&quot;black&quot;</td><td>false</td><td>&quot;Europe&quot;</td></tr><tr><td>&quot;Orange&quot;</td><td>130</td><td>&quot;orange&quot;</td><td>true</td><td>&quot;Asia&quot;</td></tr><tr><td>&quot;Papaya&quot;</td><td>1000</td><td>&quot;orange&quot;</td><td>false</td><td>&quot;South America&quot;</td></tr><tr><td>&quot;Peach&quot;</td><td>150</td><td>&quot;orange&quot;</td><td>true</td><td>&quot;Asia&quot;</td></tr><tr><td>&quot;Watermelon&quot;</td><td>5000</td><td>&quot;green&quot;</td><td>true</td><td>&quot;Africa&quot;</td></tr></tbody></table></div>"
      ],
      "text/plain": [
       "shape: (10, 5)\n",
       "┌────────────┬────────┬────────┬──────────┬───────────────┐\n",
       "│ name       ┆ weight ┆ color  ┆ is_round ┆ origin        │\n",
       "│ ---        ┆ ---    ┆ ---    ┆ ---      ┆ ---           │\n",
       "│ str        ┆ i64    ┆ str    ┆ bool     ┆ str           │\n",
       "╞════════════╪════════╪════════╪══════════╪═══════════════╡\n",
       "│ Avocado    ┆ 200    ┆ green  ┆ false    ┆ South America │\n",
       "│ Banana     ┆ 120    ┆ yellow ┆ false    ┆ Asia          │\n",
       "│ Blueberry  ┆ 1      ┆ blue   ┆ false    ┆ North America │\n",
       "│ Cantaloupe ┆ 2500   ┆ orange ┆ true     ┆ Africa        │\n",
       "│ Cranberry  ┆ 2      ┆ red    ┆ false    ┆ North America │\n",
       "│ Elderberry ┆ 1      ┆ black  ┆ false    ┆ Europe        │\n",
       "│ Orange     ┆ 130    ┆ orange ┆ true     ┆ Asia          │\n",
       "│ Papaya     ┆ 1000   ┆ orange ┆ false    ┆ South America │\n",
       "│ Peach      ┆ 150    ┆ orange ┆ true     ┆ Asia          │\n",
       "│ Watermelon ┆ 5000   ┆ green  ┆ true     ┆ Africa        │\n",
       "└────────────┴────────┴────────┴──────────┴───────────────┘"
      ]
     },
     "execution_count": 35,
     "metadata": {},
     "output_type": "execute_result"
    }
   ],
   "source": [
    "fruit"
   ]
  },
  {
   "cell_type": "code",
   "execution_count": 36,
   "id": "fb2d3844",
   "metadata": {},
   "outputs": [
    {
     "data": {
      "text/html": [
       "<div><style>\n",
       ".dataframe > thead > tr,\n",
       ".dataframe > tbody > tr {\n",
       "  text-align: right;\n",
       "  white-space: pre-wrap;\n",
       "}\n",
       "</style>\n",
       "<small>shape: (2, 5)</small><table border=\"1\" class=\"dataframe\"><thead><tr><th>name</th><th>weight</th><th>color</th><th>is_round</th><th>origin</th></tr><tr><td>str</td><td>i64</td><td>str</td><td>bool</td><td>str</td></tr></thead><tbody><tr><td>&quot;Cantaloupe&quot;</td><td>2500</td><td>&quot;orange&quot;</td><td>true</td><td>&quot;Africa&quot;</td></tr><tr><td>&quot;Watermelon&quot;</td><td>5000</td><td>&quot;green&quot;</td><td>true</td><td>&quot;Africa&quot;</td></tr></tbody></table></div>"
      ],
      "text/plain": [
       "shape: (2, 5)\n",
       "┌────────────┬────────┬────────┬──────────┬────────┐\n",
       "│ name       ┆ weight ┆ color  ┆ is_round ┆ origin │\n",
       "│ ---        ┆ ---    ┆ ---    ┆ ---      ┆ ---    │\n",
       "│ str        ┆ i64    ┆ str    ┆ bool     ┆ str    │\n",
       "╞════════════╪════════╪════════╪══════════╪════════╡\n",
       "│ Cantaloupe ┆ 2500   ┆ orange ┆ true     ┆ Africa │\n",
       "│ Watermelon ┆ 5000   ┆ green  ┆ true     ┆ Africa │\n",
       "└────────────┴────────┴────────┴──────────┴────────┘"
      ]
     },
     "execution_count": 36,
     "metadata": {},
     "output_type": "execute_result"
    }
   ],
   "source": [
    "fruit.filter((fruit[\"weight\"] > 1000) & fruit[\"is_round\"])"
   ]
  },
  {
   "cell_type": "code",
   "execution_count": null,
   "id": "fd513111",
   "metadata": {},
   "outputs": [
    {
     "data": {
      "text/html": [
       "<div><style>\n",
       ".dataframe > thead > tr,\n",
       ".dataframe > tbody > tr {\n",
       "  text-align: right;\n",
       "  white-space: pre-wrap;\n",
       "}\n",
       "</style>\n",
       "<small>shape: (2, 6)</small><table border=\"1\" class=\"dataframe\"><thead><tr><th>name</th><th>weight</th><th>color</th><th>is_round</th><th>origin</th><th>is_berry</th></tr><tr><td>str</td><td>i64</td><td>str</td><td>bool</td><td>str</td><td>bool</td></tr></thead><tbody><tr><td>&quot;Cantaloupe&quot;</td><td>2500</td><td>&quot;orange&quot;</td><td>true</td><td>&quot;Africa&quot;</td><td>false</td></tr><tr><td>&quot;Watermelon&quot;</td><td>5000</td><td>&quot;green&quot;</td><td>true</td><td>&quot;Africa&quot;</td><td>false</td></tr></tbody></table></div>"
      ],
      "text/plain": [
       "shape: (2, 6)\n",
       "┌────────────┬────────┬────────┬──────────┬────────┬──────────┐\n",
       "│ name       ┆ weight ┆ color  ┆ is_round ┆ origin ┆ is_berry │\n",
       "│ ---        ┆ ---    ┆ ---    ┆ ---      ┆ ---    ┆ ---      │\n",
       "│ str        ┆ i64    ┆ str    ┆ bool     ┆ str    ┆ bool     │\n",
       "╞════════════╪════════╪════════╪══════════╪════════╪══════════╡\n",
       "│ Cantaloupe ┆ 2500   ┆ orange ┆ true     ┆ Africa ┆ false    │\n",
       "│ Watermelon ┆ 5000   ┆ green  ┆ true     ┆ Africa ┆ false    │\n",
       "└────────────┴────────┴────────┴──────────┴────────┴──────────┘"
      ]
     },
     "execution_count": 37,
     "metadata": {},
     "output_type": "execute_result"
    }
   ],
   "source": [
    "(\n",
    "    fruit.lazy()\n",
    "    .filter((pl.col(\"weight\") > 1000) & pl.col(\"is_round\"))\n",
    "    .with_columns(is_berry=pl.col(\"name\").str.ends_with(\"berry\"))\n",
    "    .collect()\n",
    ")"
   ]
  },
  {
   "cell_type": "code",
   "execution_count": 38,
   "id": "a42a0e25",
   "metadata": {},
   "outputs": [
    {
     "ename": "ShapeError",
     "evalue": "unable to add a column of length 10 to a DataFrame of height 2",
     "output_type": "error",
     "traceback": [
      "\u001b[31m---------------------------------------------------------------------------\u001b[39m",
      "\u001b[31mShapeError\u001b[39m                                Traceback (most recent call last)",
      "\u001b[36mCell\u001b[39m\u001b[36m \u001b[39m\u001b[32mIn[38]\u001b[39m\u001b[32m, line 5\u001b[39m\n\u001b[32m      1\u001b[39m (\n\u001b[32m      2\u001b[39m     \u001b[43mfruit\u001b[49m\u001b[43m.\u001b[49m\u001b[43mlazy\u001b[49m\u001b[43m(\u001b[49m\u001b[43m)\u001b[49m\n\u001b[32m      3\u001b[39m \u001b[43m    \u001b[49m\u001b[43m.\u001b[49m\u001b[43mfilter\u001b[49m\u001b[43m(\u001b[49m\u001b[43m(\u001b[49m\u001b[43mfruit\u001b[49m\u001b[43m[\u001b[49m\u001b[33;43m\"\u001b[39;49m\u001b[33;43mweight\u001b[39;49m\u001b[33;43m\"\u001b[39;49m\u001b[43m]\u001b[49m\u001b[43m \u001b[49m\u001b[43m>\u001b[49m\u001b[43m \u001b[49m\u001b[32;43m1000\u001b[39;49m\u001b[43m)\u001b[49m\u001b[43m \u001b[49m\u001b[43m&\u001b[49m\u001b[43m \u001b[49m\u001b[43mfruit\u001b[49m\u001b[43m[\u001b[49m\u001b[33;43m\"\u001b[39;49m\u001b[33;43mis_round\u001b[39;49m\u001b[33;43m\"\u001b[39;49m\u001b[43m]\u001b[49m\u001b[43m)\u001b[49m\n\u001b[32m      4\u001b[39m \u001b[43m    \u001b[49m\u001b[43m.\u001b[49m\u001b[43mwith_columns\u001b[49m\u001b[43m(\u001b[49m\u001b[43mis_berry\u001b[49m\u001b[43m=\u001b[49m\u001b[43mfruit\u001b[49m\u001b[43m[\u001b[49m\u001b[33;43m\"\u001b[39;49m\u001b[33;43mname\u001b[39;49m\u001b[33;43m\"\u001b[39;49m\u001b[43m]\u001b[49m\u001b[43m.\u001b[49m\u001b[43mstr\u001b[49m\u001b[43m.\u001b[49m\u001b[43mends_with\u001b[49m\u001b[43m(\u001b[49m\u001b[33;43m\"\u001b[39;49m\u001b[33;43mberry\u001b[39;49m\u001b[33;43m\"\u001b[39;49m\u001b[43m)\u001b[49m\u001b[43m)\u001b[49m\n\u001b[32m----> \u001b[39m\u001b[32m5\u001b[39m \u001b[43m    \u001b[49m\u001b[43m.\u001b[49m\u001b[43mcollect\u001b[49m\u001b[43m(\u001b[49m\u001b[43m)\u001b[49m\n\u001b[32m      6\u001b[39m )\n",
      "\u001b[36mFile \u001b[39m\u001b[32mc:\\Users\\sergi\\Documents\\polars\\python-polars-the-definitive-guide\\.venv\\Lib\\site-packages\\polars\\_utils\\deprecation.py:97\u001b[39m, in \u001b[36mdeprecate_streaming_parameter.<locals>.decorate.<locals>.wrapper\u001b[39m\u001b[34m(*args, **kwargs)\u001b[39m\n\u001b[32m     93\u001b[39m         kwargs[\u001b[33m\"\u001b[39m\u001b[33mengine\u001b[39m\u001b[33m\"\u001b[39m] = \u001b[33m\"\u001b[39m\u001b[33min-memory\u001b[39m\u001b[33m\"\u001b[39m\n\u001b[32m     95\u001b[39m     \u001b[38;5;28;01mdel\u001b[39;00m kwargs[\u001b[33m\"\u001b[39m\u001b[33mstreaming\u001b[39m\u001b[33m\"\u001b[39m]\n\u001b[32m---> \u001b[39m\u001b[32m97\u001b[39m \u001b[38;5;28;01mreturn\u001b[39;00m \u001b[43mfunction\u001b[49m\u001b[43m(\u001b[49m\u001b[43m*\u001b[49m\u001b[43margs\u001b[49m\u001b[43m,\u001b[49m\u001b[43m \u001b[49m\u001b[43m*\u001b[49m\u001b[43m*\u001b[49m\u001b[43mkwargs\u001b[49m\u001b[43m)\u001b[49m\n",
      "\u001b[36mFile \u001b[39m\u001b[32mc:\\Users\\sergi\\Documents\\polars\\python-polars-the-definitive-guide\\.venv\\Lib\\site-packages\\polars\\lazyframe\\opt_flags.py:330\u001b[39m, in \u001b[36mforward_old_opt_flags.<locals>.decorate.<locals>.wrapper\u001b[39m\u001b[34m(*args, **kwargs)\u001b[39m\n\u001b[32m    327\u001b[39m         optflags = cb(optflags, kwargs.pop(key))  \u001b[38;5;66;03m# type: ignore[no-untyped-call,unused-ignore]\u001b[39;00m\n\u001b[32m    329\u001b[39m kwargs[\u001b[33m\"\u001b[39m\u001b[33moptimizations\u001b[39m\u001b[33m\"\u001b[39m] = optflags\n\u001b[32m--> \u001b[39m\u001b[32m330\u001b[39m \u001b[38;5;28;01mreturn\u001b[39;00m \u001b[43mfunction\u001b[49m\u001b[43m(\u001b[49m\u001b[43m*\u001b[49m\u001b[43margs\u001b[49m\u001b[43m,\u001b[49m\u001b[43m \u001b[49m\u001b[43m*\u001b[49m\u001b[43m*\u001b[49m\u001b[43mkwargs\u001b[49m\u001b[43m)\u001b[49m\n",
      "\u001b[36mFile \u001b[39m\u001b[32mc:\\Users\\sergi\\Documents\\polars\\python-polars-the-definitive-guide\\.venv\\Lib\\site-packages\\polars\\lazyframe\\frame.py:2335\u001b[39m, in \u001b[36mLazyFrame.collect\u001b[39m\u001b[34m(self, type_coercion, predicate_pushdown, projection_pushdown, simplify_expression, slice_pushdown, comm_subplan_elim, comm_subexpr_elim, cluster_with_columns, collapse_joins, no_optimization, engine, background, optimizations, **_kwargs)\u001b[39m\n\u001b[32m   2333\u001b[39m \u001b[38;5;66;03m# Only for testing purposes\u001b[39;00m\n\u001b[32m   2334\u001b[39m callback = _kwargs.get(\u001b[33m\"\u001b[39m\u001b[33mpost_opt_callback\u001b[39m\u001b[33m\"\u001b[39m, callback)\n\u001b[32m-> \u001b[39m\u001b[32m2335\u001b[39m \u001b[38;5;28;01mreturn\u001b[39;00m wrap_df(\u001b[43mldf\u001b[49m\u001b[43m.\u001b[49m\u001b[43mcollect\u001b[49m\u001b[43m(\u001b[49m\u001b[43mengine\u001b[49m\u001b[43m,\u001b[49m\u001b[43m \u001b[49m\u001b[43mcallback\u001b[49m\u001b[43m)\u001b[49m)\n",
      "\u001b[31mShapeError\u001b[39m: unable to add a column of length 10 to a DataFrame of height 2"
     ]
    }
   ],
   "source": [
    "(\n",
    "    fruit.lazy()\n",
    "    .filter((fruit[\"weight\"] > 1000) & fruit[\"is_round\"])\n",
    "    .with_columns(is_berry=fruit[\"name\"].str.ends_with(\"berry\"))\n",
    "    .collect()\n",
    ")"
   ]
  }
 ],
 "metadata": {
  "kernelspec": {
   "display_name": "python-polars-the-definitive-guide",
   "language": "python",
   "name": "python3"
  },
  "language_info": {
   "codemirror_mode": {
    "name": "ipython",
    "version": 3
   },
   "file_extension": ".py",
   "mimetype": "text/x-python",
   "name": "python",
   "nbconvert_exporter": "python",
   "pygments_lexer": "ipython3",
   "version": "3.12.11"
  }
 },
 "nbformat": 4,
 "nbformat_minor": 5
}
