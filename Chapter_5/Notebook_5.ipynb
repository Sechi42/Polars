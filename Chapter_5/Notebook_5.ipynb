{
 "cells": [
  {
   "cell_type": "markdown",
   "id": "36a86180",
   "metadata": {},
   "source": [
    "# Eager and Lazy APIs\n",
    "\n",
    "## Resumen del notebook\n",
    "\n",
    "Este notebook compara y ejemplifica las dos APIs principales de Polars: la API eager (ejecución inmediata) y la API lazy (ejecución diferida y optimizable). Proporciona teoría, ejemplos prácticos reproducibles y pautas para elegir la API adecuada según el caso de uso.\n",
    "\n",
    "### Objetivos\n",
    "- Explicar las diferencias conceptuales entre Eager y Lazy.\n",
    "- Mostrar ejemplos prácticos en Polars para cada API.\n",
    "- Demostrar cómo la API lazy permite optimizaciones y mejor rendimiento en cargas grandes.\n",
    "- Comparar tiempos y consumo de memoria entre workflows equivalentes.\n",
    "- Visualizar resultados con Plotnine para apoyar el análisis.\n",
    "\n",
    "### Estructura del notebook\n",
    "1. Introducción y motivación: cuándo usar cada API.\n",
    "2. Preparación: carga de datos desde el directorio `data/` (ver Cap. 2).\n",
    "3. Sección Eager:\n",
    "    - Operaciones básicas (selección, filtrado, agregación).\n",
    "    - Transformaciones elementales y uso interactivo.\n",
    "4. Sección Lazy:\n",
    "    - Construcción de planos de ejecución (lazy frames).\n",
    "    - Optimización automática y ejecución con `collect()`.\n",
    "    - Ejemplos de pushdown, projection pruning y fusión de expresiones.\n",
    "5. Benchmarking:\n",
    "    - Comparativa de latencia y uso de memoria en tareas representativas.\n",
    "6. Visualización y análisis:\n",
    "    - Gráficos con Plotnine para resultados agregados y comparaciones.\n",
    "7. Conclusiones y recomendaciones prácticas.\n",
    "\n",
    "### Notas y buenas prácticas\n",
    "- Los datos deben encontrarse en el subdirectorio `data/` (no incluir archivos de datos en el repositorio).\n",
    "- Usaremos Polars para manipulación de datos y Plotnine para visualización.\n",
    "- Mantener el entorno virtual fuera del control de versiones.\n",
    "- Incluir ejemplos reproducibles y explicaciones claras para facilitar la experimentación."
   ]
  },
  {
   "cell_type": "code",
   "execution_count": 1,
   "id": "1505b73c",
   "metadata": {},
   "outputs": [],
   "source": [
    "import polars as pl"
   ]
  },
  {
   "cell_type": "markdown",
   "id": "58b9cc6e",
   "metadata": {},
   "source": [
    "## Eager API: DataFrame"
   ]
  },
  {
   "cell_type": "code",
   "execution_count": 2,
   "id": "9518e1ff",
   "metadata": {},
   "outputs": [
    {
     "name": "stdout",
     "output_type": "stream",
     "text": [
      "shape: (3, 2)\n",
      "┌──────────┬─────────────────────┐\n",
      "│ VendorID ┆ income_per_distance │\n",
      "│ ---      ┆ ---                 │\n",
      "│ i64      ┆ f64                 │\n",
      "╞══════════╪═════════════════════╡\n",
      "│ 1        ┆ 6.434789            │\n",
      "│ 6        ┆ 5.296493            │\n",
      "│ 5        ┆ 4.731557            │\n",
      "└──────────┴─────────────────────┘\n",
      "CPU times: total: 24.4 s\n",
      "Wall time: 2.87 s\n"
     ]
    }
   ],
   "source": [
    "%%time\n",
    "trips = pl.read_parquet(\"data/taxi/yellow_tripdata_*.parquet\")\n",
    "sum_per_vendor = trips.group_by(\"VendorID\").sum()\n",
    "\n",
    "income_per_distance_per_vendor = sum_per_vendor.select(\n",
    "    \"VendorID\",\n",
    "    income_per_distance=pl.col(\"total_amount\") / pl.col(\"trip_distance\"),\n",
    ")\n",
    "\n",
    "top_three = income_per_distance_per_vendor.sort(\n",
    "    by=\"income_per_distance\", descending=True\n",
    ").head(3)\n",
    "\n",
    "print(top_three)"
   ]
  },
  {
   "cell_type": "code",
   "execution_count": 3,
   "id": "9a5337da",
   "metadata": {},
   "outputs": [
    {
     "ename": "ShapeError",
     "evalue": "unable to add a column of length 2 to a DataFrame of height 3",
     "output_type": "error",
     "traceback": [
      "\u001b[31m---------------------------------------------------------------------------\u001b[39m",
      "\u001b[31mShapeError\u001b[39m                                Traceback (most recent call last)",
      "\u001b[36mCell\u001b[39m\u001b[36m \u001b[39m\u001b[32mIn[3]\u001b[39m\u001b[32m, line 9\u001b[39m\n\u001b[32m      1\u001b[39m names_lf = pl.LazyFrame(\n\u001b[32m      2\u001b[39m     {\u001b[33m\"\u001b[39m\u001b[33mname\u001b[39m\u001b[33m\"\u001b[39m: [\u001b[33m\"\u001b[39m\u001b[33mAlice\u001b[39m\u001b[33m\"\u001b[39m, \u001b[33m\"\u001b[39m\u001b[33mBob\u001b[39m\u001b[33m\"\u001b[39m, \u001b[33m\"\u001b[39m\u001b[33mCharlie\u001b[39m\u001b[33m\"\u001b[39m], \u001b[33m\"\u001b[39m\u001b[33mage\u001b[39m\u001b[33m\"\u001b[39m: [\u001b[32m25\u001b[39m, \u001b[32m30\u001b[39m, \u001b[32m35\u001b[39m]}\n\u001b[32m      3\u001b[39m )\n\u001b[32m      5\u001b[39m erroneous_query = names_lf.with_columns(\n\u001b[32m      6\u001b[39m     sliced_age=pl.col(\u001b[33m\"\u001b[39m\u001b[33mage\u001b[39m\u001b[33m\"\u001b[39m).slice(\u001b[32m1\u001b[39m, \u001b[32m3\u001b[39m)\n\u001b[32m      7\u001b[39m )\n\u001b[32m----> \u001b[39m\u001b[32m9\u001b[39m result_df = \u001b[43merroneous_query\u001b[49m\u001b[43m.\u001b[49m\u001b[43mcollect\u001b[49m\u001b[43m(\u001b[49m\u001b[43m)\u001b[49m\n",
      "\u001b[36mFile \u001b[39m\u001b[32mc:\\Users\\sergi\\Documents\\polars\\python-polars-the-definitive-guide\\.venv\\Lib\\site-packages\\polars\\lazyframe\\frame.py:2056\u001b[39m, in \u001b[36mLazyFrame.collect\u001b[39m\u001b[34m(self, type_coercion, _type_check, predicate_pushdown, projection_pushdown, simplify_expression, slice_pushdown, comm_subplan_elim, comm_subexpr_elim, cluster_with_columns, collapse_joins, no_optimization, streaming, engine, background, _check_order, _eager, **_kwargs)\u001b[39m\n\u001b[32m   2054\u001b[39m \u001b[38;5;66;03m# Only for testing purposes\u001b[39;00m\n\u001b[32m   2055\u001b[39m callback = _kwargs.get(\u001b[33m\"\u001b[39m\u001b[33mpost_opt_callback\u001b[39m\u001b[33m\"\u001b[39m, callback)\n\u001b[32m-> \u001b[39m\u001b[32m2056\u001b[39m \u001b[38;5;28;01mreturn\u001b[39;00m wrap_df(\u001b[43mldf\u001b[49m\u001b[43m.\u001b[49m\u001b[43mcollect\u001b[49m\u001b[43m(\u001b[49m\u001b[43mcallback\u001b[49m\u001b[43m)\u001b[49m)\n",
      "\u001b[31mShapeError\u001b[39m: unable to add a column of length 2 to a DataFrame of height 3"
     ]
    }
   ],
   "source": [
    "names_lf = pl.LazyFrame(\n",
    "    {\"name\": [\"Alice\", \"Bob\", \"Charlie\"], \"age\": [25, 30, 35]}\n",
    ")\n",
    "\n",
    "erroneous_query = names_lf.with_columns(\n",
    "    sliced_age=pl.col(\"age\").slice(1, 3)\n",
    ")\n",
    "\n",
    "result_df = erroneous_query.collect()"
   ]
  },
  {
   "cell_type": "code",
   "execution_count": 4,
   "id": "a04ffe82",
   "metadata": {},
   "outputs": [
    {
     "name": "stdout",
     "output_type": "stream",
     "text": [
      "shape: (3, 2)\n",
      "┌──────────┬─────────────────────┐\n",
      "│ VendorID ┆ income_per_distance │\n",
      "│ ---      ┆ ---                 │\n",
      "│ i64      ┆ f64                 │\n",
      "╞══════════╪═════════════════════╡\n",
      "│ 1        ┆ 6.434789            │\n",
      "│ 6        ┆ 5.296493            │\n",
      "│ 5        ┆ 4.731557            │\n",
      "└──────────┴─────────────────────┘\n",
      "CPU times: total: 2.7 s\n",
      "Wall time: 515 ms\n"
     ]
    }
   ],
   "source": [
    "%%time\n",
    "trips = pl.scan_parquet(\"data/taxi/yellow_tripdata_*.parquet\")\n",
    "sum_per_vendor = trips.group_by(\"VendorID\").sum()\n",
    "\n",
    "income_per_distance_per_vendor = sum_per_vendor.select(\n",
    "    \"VendorID\",\n",
    "    income_per_distance=pl.col(\"total_amount\") / pl.col(\"trip_distance\"),\n",
    ")\n",
    "\n",
    "top_three = income_per_distance_per_vendor.sort(\n",
    "    by=\"income_per_distance\", descending=True\n",
    ").head(3)\n",
    "\n",
    "print(top_three.collect())"
   ]
  },
  {
   "cell_type": "code",
   "execution_count": 5,
   "id": "728f156f",
   "metadata": {},
   "outputs": [
    {
     "name": "stdout",
     "output_type": "stream",
     "text": [
      "shape: (3, 2)\n",
      "┌──────┬──────┐\n",
      "│ col1 ┆ col2 │\n",
      "│ ---  ┆ ---  │\n",
      "│ i64  ┆ i64  │\n",
      "╞══════╪══════╡\n",
      "│ 1    ┆ 4    │\n",
      "│ 2    ┆ 5    │\n",
      "│ 3    ┆ 6    │\n",
      "└──────┴──────┘\n",
      "shape: (3, 2)\n",
      "┌──────┬──────┐\n",
      "│ col1 ┆ col2 │\n",
      "│ ---  ┆ ---  │\n",
      "│ i64  ┆ i64  │\n",
      "╞══════╪══════╡\n",
      "│ 2    ┆ 4    │\n",
      "│ 3    ┆ 5    │\n",
      "│ 4    ┆ 6    │\n",
      "└──────┴──────┘\n"
     ]
    }
   ],
   "source": [
    "lf = pl.LazyFrame({\"col1\": [1, 2, 3], \"col2\": [4, 5, 6]})\n",
    "# ... Some heavy computation ...\n",
    "print(lf.collect())\n",
    "print(lf.with_columns(pl.col(\"col1\") + 1).collect())"
   ]
  },
  {
   "cell_type": "markdown",
   "id": "447a7fa3",
   "metadata": {},
   "source": [
    "### Evitar recalculaciones en LazyFrame — resumen y explicación\n",
    "\n",
    "Problema\n",
    "- Cada llamada a `collect()` ejecuta el plan perezoso desde el principio. Si el LazyFrame representa cálculos costosos, múltiples `collect()` repiten todo el trabajo y aumentan tiempo/CPU."
   ]
  },
  {
   "cell_type": "markdown",
   "id": "3f3a9b75",
   "metadata": {},
   "source": [
    "## Functionality Differences\n",
    "\n",
    "De los atributos que tiene un DataFrame, un LazyFrame no dispone de los que requieren que los datos estén materializados: `shape`, `height` y `flags`. El resto de atributos como `columns`, `dtypes`, `schema` y `width` sí están disponibles en un LazyFrame.\n",
    "\n",
    "| Atributo  | DataFrame | LazyFrame |\n",
    "|---|:--:|:--:|\n",
    "| .columns | ✓ | ✓ |\n",
    "| .dtypes  | ✓ | ✓ |\n",
    "| .flags   | ✓ |  |\n",
    "| .height  | ✓ |  |\n",
    "| .schema  | ✓ | ✓ |\n",
    "| .shape   | ✓ |  |\n",
    "| .width   | ✓ | ✓ |\n",
    "\n",
    "Notas breves:\n",
    "- `shape`/`height` (número de filas) y `flags` solo se obtienen una vez que los datos están materializados; llama a `.collect()` y luego usa `df.shape`, `len(df)` o `df.flags`.\n",
    "- Para inspecciones ligeras sin materializar todo, usa `.schema`, `.columns` o inspecciona el plan lazy con métodos de diagnóstico antes de `collect()`.\n",
    "\n",
    "\n"
   ]
  },
  {
   "cell_type": "markdown",
   "id": "0eae86ca",
   "metadata": {},
   "source": [
    "### Resumen — diferencias clave entre DataFrame (eager) y LazyFrame (lazy)\n",
    "\n",
    "- Propósito\n",
    "    - DataFrame: API eager, datos materializados; permite inspección, exportación y operaciones que requieren conocer los valores fila a fila.\n",
    "    - LazyFrame: API lazy, construye planes de ejecución optimizables; las operaciones se añaden al plan y se ejecutan al llamar a `.collect()`.\n",
    "\n",
    "### Agregaciones\n",
    "- Verticales (p. ej. `.sum()`, `.max()`, `.mean()`, `.quantile()`) funcionan en DataFrame y LazyFrame.\n",
    "- Horizontales (terminan en `_horizontal`, p. ej. `.sum_horizontal()`, `.mean_horizontal()`) operan fila a fila y requieren conocer la estructura/valores: solo están disponibles en DataFrames.\n",
    "- Método `df.product()`: solo DataFrame.\n",
    "\n",
    "### Métodos de cómputo fila‑a‑fila\n",
    "- Solo en DataFrame: `df.fold()` (reducción personalizada entre columnas) y `df.hash_rows()` (hash por fila → UInt64).\n",
    "- LazyFrame no dispone de estos métodos.\n",
    "\n",
    "### Métodos descriptivos e inspección\n",
    "- DataFrame tiene muchas utilidades: `df.describe()`, `df.estimated_size()`, `df.approx_n_unique()`, `df.n_unique()`, `df.is_unique()`, `df.is_empty()`, `df.null_count()`, etc.\n",
    "- LazyFrame ofrece herramientas de diagnóstico del plan: `lf.explain()` y `lf.show_graph()`. Técnicamente `lf.describe()` existe pero materializa (collect) los datos.\n",
    "\n",
    "### GroupBy\n",
    "- La mayoría de métodos de `GroupBy` son iguales en ambas APIs (`.agg()`, `.sum()`, `.mean()`, `.max()`, `.min()`, `.n_unique()`, `.quantile()`, `.map_groups()`, etc.).\n",
    "- Diferencia: DataFrame permite iterar explícitamente sobre los grupos (`.__iter__()`), LazyFrame no.\n",
    "\n",
    "### Exportación\n",
    "- DataFrame: múltiples métodos de exportación (`.to_arrow()`, `.to_pandas()`, `.to_numpy()`, `.to_dicts()`, `.to_torch()`, `.to_struct()`, etc.).\n",
    "- LazyFrame: no exporta directamente porque no tiene datos materializados; puede serializar planes y tiene métodos de \"sink\" para escribir a disco (ver streaming/sinks).\n",
    "\n",
    "### Manipulación y selección\n",
    "- Muchas operaciones comunes están disponibles en ambas APIs (`.filter()`, `.select()`, `.with_columns()`, `.join()`, `.group_by()`, `.sort()`, `.slice()`, `.unique()`, etc.).\n",
    "- Algunas operaciones intrínsecamente fila‑dependientes o iterativas (p. ej. `.iter_rows()`, `.map_rows()`) son propias del DataFrame.\n",
    "\n",
    "### Modo streaming / out‑of‑core (experimental)\n",
    "- LazyFrame puede ejecutar en modo streaming para procesar datos que no caben en RAM:\n",
    "    - `lf.collect(streaming=True)` — ejecuta en chunks y requiere que el resultado final quepa en RAM.\n",
    "    - Sinks para escribir directamente: `lf.sink_csv()`, `lf.sink_ipc()`, `lf.sink_parquet()`, `lf.sink_ndjson()`.\n",
    "- Útil para mover el límite de procesamiento de la RAM al disco; API experimental.\n",
    "\n",
    "### Recomendaciones prácticas\n",
    "- Usar LazyFrame cuando se necesite optimización del plan, fusiones de expresiones y procesamiento de grandes volúmenes antes de materializar.\n",
    "- Evitar múltiples `collect()` sobre el mismo `LazyFrame` para impedir recomputaciones; cachear o materializar intermedios si es necesario.\n",
    "- Usar DataFrame cuando se necesiten operaciones fila‑a‑fila (horizontal), exportaciones, iteración por filas o inspecciones detalladas.\n",
    "- Para workflows reproducibles y escalables, documentar uso de sinks/streaming y preferir operaciones que el motor lazy pueda optimizar.\n",
    "\n",
    "Fin."
   ]
  },
  {
   "cell_type": "markdown",
   "id": "396efc67",
   "metadata": {},
   "source": [
    "### Joining  a DataFrame with a LazyFrame"
   ]
  },
  {
   "cell_type": "code",
   "execution_count": 6,
   "id": "7512d6a6",
   "metadata": {},
   "outputs": [
    {
     "ename": "TypeError",
     "evalue": "expected `other` join table to be a LazyFrame, not a 'DataFrame'",
     "output_type": "error",
     "traceback": [
      "\u001b[31m---------------------------------------------------------------------------\u001b[39m",
      "\u001b[31mTypeError\u001b[39m                                 Traceback (most recent call last)",
      "\u001b[36mCell\u001b[39m\u001b[36m \u001b[39m\u001b[32mIn[6]\u001b[39m\u001b[32m, line 8\u001b[39m\n\u001b[32m      1\u001b[39m big_sales_data = pl.LazyFrame(\n\u001b[32m      2\u001b[39m     {\u001b[33m\"\u001b[39m\u001b[33msale_id\u001b[39m\u001b[33m\"\u001b[39m: [\u001b[32m101\u001b[39m, \u001b[32m102\u001b[39m, \u001b[32m103\u001b[39m], \u001b[33m\"\u001b[39m\u001b[33mamount\u001b[39m\u001b[33m\"\u001b[39m: [\u001b[32m250\u001b[39m, \u001b[32m150\u001b[39m, \u001b[32m300\u001b[39m]}\n\u001b[32m      3\u001b[39m )\n\u001b[32m      4\u001b[39m sales_metadata = pl.DataFrame(\n\u001b[32m      5\u001b[39m     {\u001b[33m\"\u001b[39m\u001b[33msale_id\u001b[39m\u001b[33m\"\u001b[39m: [\u001b[32m101\u001b[39m, \u001b[32m102\u001b[39m, \u001b[32m103\u001b[39m], \u001b[33m\"\u001b[39m\u001b[33mcategory\u001b[39m\u001b[33m\"\u001b[39m: [\u001b[33m\"\u001b[39m\u001b[33mA\u001b[39m\u001b[33m\"\u001b[39m, \u001b[33m\"\u001b[39m\u001b[33mB\u001b[39m\u001b[33m\"\u001b[39m, \u001b[33m\"\u001b[39m\u001b[33mA\u001b[39m\u001b[33m\"\u001b[39m]}\n\u001b[32m      6\u001b[39m )\n\u001b[32m----> \u001b[39m\u001b[32m8\u001b[39m \u001b[43mbig_sales_data\u001b[49m\u001b[43m.\u001b[49m\u001b[43mjoin\u001b[49m\u001b[43m(\u001b[49m\u001b[43msales_metadata\u001b[49m\u001b[43m,\u001b[49m\u001b[43m \u001b[49m\u001b[43mon\u001b[49m\u001b[43m=\u001b[49m\u001b[33;43m\"\u001b[39;49m\u001b[33;43msale_id\u001b[39;49m\u001b[33;43m\"\u001b[39;49m\u001b[43m)\u001b[49m.collect()\n",
      "\u001b[36mFile \u001b[39m\u001b[32mc:\\Users\\sergi\\Documents\\polars\\python-polars-the-definitive-guide\\.venv\\Lib\\site-packages\\polars\\lazyframe\\frame.py:4817\u001b[39m, in \u001b[36mLazyFrame.join\u001b[39m\u001b[34m(self, other, on, how, left_on, right_on, suffix, validate, join_nulls, coalesce, maintain_order, allow_parallel, force_parallel)\u001b[39m\n\u001b[32m   4815\u001b[39m \u001b[38;5;28;01mif\u001b[39;00m \u001b[38;5;129;01mnot\u001b[39;00m \u001b[38;5;28misinstance\u001b[39m(other, LazyFrame):\n\u001b[32m   4816\u001b[39m     msg = \u001b[33mf\u001b[39m\u001b[33m\"\u001b[39m\u001b[33mexpected `other` join table to be a LazyFrame, not a \u001b[39m\u001b[38;5;132;01m{\u001b[39;00m\u001b[38;5;28mtype\u001b[39m(other).\u001b[34m__name__\u001b[39m\u001b[38;5;132;01m!r}\u001b[39;00m\u001b[33m\"\u001b[39m\n\u001b[32m-> \u001b[39m\u001b[32m4817\u001b[39m     \u001b[38;5;28;01mraise\u001b[39;00m \u001b[38;5;167;01mTypeError\u001b[39;00m(msg)\n\u001b[32m   4819\u001b[39m \u001b[38;5;28;01mif\u001b[39;00m maintain_order \u001b[38;5;129;01mis\u001b[39;00m \u001b[38;5;28;01mNone\u001b[39;00m:\n\u001b[32m   4820\u001b[39m     maintain_order = \u001b[33m\"\u001b[39m\u001b[33mnone\u001b[39m\u001b[33m\"\u001b[39m\n",
      "\u001b[31mTypeError\u001b[39m: expected `other` join table to be a LazyFrame, not a 'DataFrame'"
     ]
    }
   ],
   "source": [
    "big_sales_data = pl.LazyFrame(\n",
    "    {\"sale_id\": [101, 102, 103], \"amount\": [250, 150, 300]}\n",
    ")\n",
    "sales_metadata = pl.DataFrame(\n",
    "    {\"sale_id\": [101, 102, 103], \"category\": [\"A\", \"B\", \"A\"]}\n",
    ")\n",
    "\n",
    "big_sales_data.join(sales_metadata, on=\"sale_id\").collect()"
   ]
  },
  {
   "cell_type": "code",
   "execution_count": 7,
   "id": "8fb6af0d",
   "metadata": {},
   "outputs": [
    {
     "data": {
      "text/html": [
       "<div><style>\n",
       ".dataframe > thead > tr,\n",
       ".dataframe > tbody > tr {\n",
       "  text-align: right;\n",
       "  white-space: pre-wrap;\n",
       "}\n",
       "</style>\n",
       "<small>shape: (3, 3)</small><table border=\"1\" class=\"dataframe\"><thead><tr><th>sale_id</th><th>amount</th><th>category</th></tr><tr><td>i64</td><td>i64</td><td>str</td></tr></thead><tbody><tr><td>101</td><td>250</td><td>&quot;A&quot;</td></tr><tr><td>102</td><td>150</td><td>&quot;B&quot;</td></tr><tr><td>103</td><td>300</td><td>&quot;A&quot;</td></tr></tbody></table></div>"
      ],
      "text/plain": [
       "shape: (3, 3)\n",
       "┌─────────┬────────┬──────────┐\n",
       "│ sale_id ┆ amount ┆ category │\n",
       "│ ---     ┆ ---    ┆ ---      │\n",
       "│ i64     ┆ i64    ┆ str      │\n",
       "╞═════════╪════════╪══════════╡\n",
       "│ 101     ┆ 250    ┆ A        │\n",
       "│ 102     ┆ 150    ┆ B        │\n",
       "│ 103     ┆ 300    ┆ A        │\n",
       "└─────────┴────────┴──────────┘"
      ]
     },
     "execution_count": 7,
     "metadata": {},
     "output_type": "execute_result"
    }
   ],
   "source": [
    "big_sales_data = pl.LazyFrame(\n",
    "    {\"sale_id\": [101, 102, 103], \"amount\": [250, 150, 300]}\n",
    ")\n",
    "sales_metadata = pl.DataFrame(\n",
    "    {\"sale_id\": [101, 102, 103], \"category\": [\"A\", \"B\", \"A\"]}\n",
    ")\n",
    "\n",
    "big_sales_data.join(sales_metadata.lazy(), on=\"sale_id\").collect()"
   ]
  },
  {
   "cell_type": "markdown",
   "id": "91d8d7be",
   "metadata": {},
   "source": [
    "### Caching Intermittent Results"
   ]
  },
  {
   "cell_type": "markdown",
   "id": "ca403417",
   "metadata": {},
   "source": [
    "#### Explicación (resumida y concisa)\n",
    "\n",
    "- Se define `lf` como un `LazyFrame` inicial (no se ejecutan cómputos aún).\n",
    "- Comentario `# ... Some heavy computation ...` indica que antes podría haberse añadido un plan costoso al `LazyFrame`.\n",
    "- `lf = lf.collect().lazy()`:\n",
    "    - `collect()` materializa el plan perezoso y ejecuta los cómputos, devolviendo un `DataFrame` en memoria.\n",
    "    - `.lazy()` convierte ese `DataFrame` de nuevo a un `LazyFrame`. Esto actúa como una forma explícita de cachear/guardar el resultado intermedio para evitar recomputaciones del plan original.\n",
    "- `print(lf.collect())` muestra el `DataFrame` resultante ya materializado.\n",
    "- `print(lf.with_columns(pl.col(\"col1\") + 1).collect())` añade una nueva columna (col1+1) al plan perezoso basado en el resultado ya materializado y muestra el nuevo `DataFrame`.\n",
    "\n",
    "Nota sobre rendimiento: materializar con `collect()` evita repetir cálculos costosos en llamadas posteriores, pero consume memoria (el resultado intermedio debe caber en RAM)."
   ]
  },
  {
   "cell_type": "code",
   "execution_count": 8,
   "id": "e0061b7b",
   "metadata": {},
   "outputs": [
    {
     "name": "stdout",
     "output_type": "stream",
     "text": [
      "shape: (3, 2)\n",
      "┌──────┬──────┐\n",
      "│ col1 ┆ col2 │\n",
      "│ ---  ┆ ---  │\n",
      "│ i64  ┆ i64  │\n",
      "╞══════╪══════╡\n",
      "│ 1    ┆ 4    │\n",
      "│ 2    ┆ 5    │\n",
      "│ 3    ┆ 6    │\n",
      "└──────┴──────┘\n",
      "shape: (3, 2)\n",
      "┌──────┬──────┐\n",
      "│ col1 ┆ col2 │\n",
      "│ ---  ┆ ---  │\n",
      "│ i64  ┆ i64  │\n",
      "╞══════╪══════╡\n",
      "│ 2    ┆ 4    │\n",
      "│ 3    ┆ 5    │\n",
      "│ 4    ┆ 6    │\n",
      "└──────┴──────┘\n"
     ]
    }
   ],
   "source": [
    "lf = pl.LazyFrame({\"col1\": [1, 2, 3], \"col2\": [4, 5, 6]})\n",
    "# ... Some heavy computation ...\n",
    "lf = lf.collect().lazy()  \n",
    "print(lf.collect())\n",
    "print(lf.with_columns(pl.col(\"col1\") + 1).collect()) "
   ]
  },
  {
   "cell_type": "code",
   "execution_count": null,
   "id": "c20468d7",
   "metadata": {},
   "outputs": [],
   "source": []
  }
 ],
 "metadata": {
  "kernelspec": {
   "display_name": "python-polars-the-definitive-guide",
   "language": "python",
   "name": "python3"
  },
  "language_info": {
   "codemirror_mode": {
    "name": "ipython",
    "version": 3
   },
   "file_extension": ".py",
   "mimetype": "text/x-python",
   "name": "python",
   "nbconvert_exporter": "python",
   "pygments_lexer": "ipython3",
   "version": "3.12.11"
  }
 },
 "nbformat": 4,
 "nbformat_minor": 5
}
