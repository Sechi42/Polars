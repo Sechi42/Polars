{
 "cells": [
  {
   "cell_type": "markdown",
   "id": "89f05ad7",
   "metadata": {},
   "source": [
    "# Summarizing and Aggregating\n",
    "\n",
    "En este capítulo aprenderás sobre:\n",
    "\n",
    "- El contexto de GroupBy y sus métodos disponibles, y cómo usarlos para analizar tus datos.\n",
    "- Cómo agrupar datos basados en valores temporales usando los métodos `df.group_by_dynamic()`, `df.rolling()` y `Expr.over()`.\n",
    "- Optimizaciones que puedes aplicar para mejorar el rendimiento.\n",
    "\n",
    "---\n"
   ]
  },
  {
   "cell_type": "markdown",
   "id": "9742cf13",
   "metadata": {},
   "source": [
    "## Split, Apply, and Combine\n",
    "\n",
    "El enfoque \"split, apply, combine\" es fundamental para el análisis de datos agrupados. En Polars, este patrón se implementa de manera eficiente mediante el método `df.group_by()`. \n",
    "\n",
    "- **Split:** Separa el DataFrame en grupos según los valores de una o más columnas.\n",
    "- **Apply:** Aplica funciones de agregación (como `sum()`, `mean()`, `count()`, etc.) a cada grupo.\n",
    "- **Combine:** Une los resultados en un nuevo DataFrame, facilitando el análisis y la visualización.\n",
    "\n",
    "Este método permite resumir grandes volúmenes de datos y extraer información relevante de manera rápida y reproducible. A continuación, veremos ejemplos prácticos de cómo utilizar `group_by` en Polars para realizar estas operaciones.\n",
    "\n",
    "---"
   ]
  },
  {
   "cell_type": "code",
   "execution_count": 1,
   "id": "680c4300",
   "metadata": {},
   "outputs": [],
   "source": [
    "import polars as pl"
   ]
  },
  {
   "cell_type": "markdown",
   "id": "5b1002eb",
   "metadata": {},
   "source": [
    "## GroupBy Context"
   ]
  },
  {
   "cell_type": "code",
   "execution_count": 5,
   "id": "02a88a3c",
   "metadata": {},
   "outputs": [
    {
     "data": {
      "text/plain": [
       "<polars.dataframe.group_by.GroupBy at 0x2411ac4cbc0>"
      ]
     },
     "execution_count": 5,
     "metadata": {},
     "output_type": "execute_result"
    }
   ],
   "source": [
    "fruit = pl.read_csv(\"data/fruit.csv\")\n",
    "fruit_grouped = fruit.group_by(\"is_round\")\n",
    "fruit_grouped"
   ]
  },
  {
   "cell_type": "code",
   "execution_count": 6,
   "id": "42d5bb21",
   "metadata": {},
   "outputs": [
    {
     "data": {
      "text/html": [
       "<div><style>\n",
       ".dataframe > thead > tr,\n",
       ".dataframe > tbody > tr {\n",
       "  text-align: right;\n",
       "  white-space: pre-wrap;\n",
       "}\n",
       "</style>\n",
       "<small>shape: (2, 2)</small><table border=\"1\" class=\"dataframe\"><thead><tr><th>is_round</th><th>len</th></tr><tr><td>bool</td><td>u32</td></tr></thead><tbody><tr><td>true</td><td>4</td></tr><tr><td>false</td><td>6</td></tr></tbody></table></div>"
      ],
      "text/plain": [
       "shape: (2, 2)\n",
       "┌──────────┬─────┐\n",
       "│ is_round ┆ len │\n",
       "│ ---      ┆ --- │\n",
       "│ bool     ┆ u32 │\n",
       "╞══════════╪═════╡\n",
       "│ true     ┆ 4   │\n",
       "│ false    ┆ 6   │\n",
       "└──────────┴─────┘"
      ]
     },
     "execution_count": 6,
     "metadata": {},
     "output_type": "execute_result"
    }
   ],
   "source": [
    "fruit_grouped.len()"
   ]
  },
  {
   "cell_type": "markdown",
   "id": "cbd19a96",
   "metadata": {},
   "source": [
    "## Métodos disponibles en el contexto GroupBy\n",
    "\n",
    "| Método                      | Descripción                                                                                   |\n",
    "|-----------------------------|----------------------------------------------------------------------------------------------|\n",
    "| GroupBy.__iter__()          | Permite iterar sobre los grupos (sub-DataFrames) generados por la operación `group_by`.      |\n",
    "| GroupBy.agg(…)              | Calcula agregaciones para cada grupo (sub-DataFrame) de una operación `group_by`.            |\n",
    "| GroupBy.all()               | Agrega los grupos en una Serie.                                                              |\n",
    "| GroupBy.count()             | Devuelve el número de filas en cada grupo.                                                   |\n",
    "| GroupBy.first()             | Agrega los primeros valores de cada grupo.                                                   |\n",
    "| GroupBy.head(…)             | Obtiene las primeras n filas de cada grupo.                                                  |\n",
    "| GroupBy.last()              | Agrega los últimos valores de cada grupo.                                                    |\n",
    "| GroupBy.len(…)              | Devuelve el número de filas en cada grupo.                                                   |\n",
    "| GroupBy.map_groups(…)       | Aplica una función personalizada (UDF) sobre los grupos como sub-DataFrame.                  |\n",
    "| GroupBy.max()               | Reduce los grupos al valor máximo.                                                           |\n",
    "| GroupBy.mean()              | Reduce los grupos al valor medio.                                                            |\n",
    "| GroupBy.median()            | Devuelve la mediana por grupo.                                                               |\n",
    "| GroupBy.min()               | Reduce los grupos al valor mínimo.                                                           |\n",
    "| GroupBy.n_unique()          | Cuenta los valores únicos por grupo.                                                         |\n",
    "| GroupBy.quantile(…)         | Calcula el cuantil por grupo.                                                                |\n",
    "| GroupBy.sum()               | Reduce los grupos a la suma.                                                                 |\n",
    "| GroupBy.tail(…)             | Obtiene las últimas n filas de cada grupo.                                                   |"
   ]
  },
  {
   "cell_type": "markdown",
   "id": "4e0da6aa",
   "metadata": {},
   "source": [
    "- El método `df.set_sorted()` informa a Polars que la columna `positie` ya está ordenada. Esto permite que Polars aplique optimizaciones rápidas (fast path) que solo son posibles si sabe que los datos están ordenados.\n",
    "- Estas optimizaciones mejoran el rendimiento al aprovechar el conocimiento sobre el orden de los datos.\n",
    "- Es fundamental asegurarse de que la columna realmente esté ordenada antes de usar este método, ya que un uso incorrecto puede provocar resultados erróneos debido a suposiciones falsas sobre los datos."
   ]
  },
  {
   "cell_type": "code",
   "execution_count": 7,
   "id": "28548bc3",
   "metadata": {},
   "outputs": [],
   "source": [
    "top2000 = pl.read_excel(\n",
    "    \"data/top2000-2023.xlsx\", read_options={\"skip_rows\": 1}\n",
    ").set_sorted(\"positie\")"
   ]
  },
  {
   "cell_type": "code",
   "execution_count": 9,
   "id": "055b6a1b",
   "metadata": {},
   "outputs": [
    {
     "data": {
      "text/html": [
       "<div><style>\n",
       ".dataframe > thead > tr,\n",
       ".dataframe > tbody > tr {\n",
       "  text-align: right;\n",
       "  white-space: pre-wrap;\n",
       "}\n",
       "</style>\n",
       "<small>shape: (5, 4)</small><table border=\"1\" class=\"dataframe\"><thead><tr><th>positie</th><th>titel</th><th>artiest</th><th>jaar</th></tr><tr><td>i64</td><td>str</td><td>str</td><td>i64</td></tr></thead><tbody><tr><td>1</td><td>&quot;Bohemian Rhapsody&quot;</td><td>&quot;Queen&quot;</td><td>1975</td></tr><tr><td>2</td><td>&quot;Roller Coaster&quot;</td><td>&quot;Danny Vera&quot;</td><td>2019</td></tr><tr><td>3</td><td>&quot;Hotel California&quot;</td><td>&quot;Eagles&quot;</td><td>1977</td></tr><tr><td>4</td><td>&quot;Piano Man&quot;</td><td>&quot;Billy Joel&quot;</td><td>1974</td></tr><tr><td>5</td><td>&quot;Fix You&quot;</td><td>&quot;Coldplay&quot;</td><td>2005</td></tr></tbody></table></div>"
      ],
      "text/plain": [
       "shape: (5, 4)\n",
       "┌─────────┬───────────────────┬────────────┬──────┐\n",
       "│ positie ┆ titel             ┆ artiest    ┆ jaar │\n",
       "│ ---     ┆ ---               ┆ ---        ┆ ---  │\n",
       "│ i64     ┆ str               ┆ str        ┆ i64  │\n",
       "╞═════════╪═══════════════════╪════════════╪══════╡\n",
       "│ 1       ┆ Bohemian Rhapsody ┆ Queen      ┆ 1975 │\n",
       "│ 2       ┆ Roller Coaster    ┆ Danny Vera ┆ 2019 │\n",
       "│ 3       ┆ Hotel California  ┆ Eagles     ┆ 1977 │\n",
       "│ 4       ┆ Piano Man         ┆ Billy Joel ┆ 1974 │\n",
       "│ 5       ┆ Fix You           ┆ Coldplay   ┆ 2005 │\n",
       "└─────────┴───────────────────┴────────────┴──────┘"
      ]
     },
     "execution_count": 9,
     "metadata": {},
     "output_type": "execute_result"
    }
   ],
   "source": [
    "top2000.head()"
   ]
  },
  {
   "cell_type": "code",
   "execution_count": null,
   "id": "f9c240ac",
   "metadata": {},
   "outputs": [
    {
     "data": {
      "text/html": [
       "<div><style>\n",
       ".dataframe > thead > tr,\n",
       ".dataframe > tbody > tr {\n",
       "  text-align: right;\n",
       "  white-space: pre-wrap;\n",
       "}\n",
       "</style>\n",
       "<small>shape: (67, 2)</small><table border=\"1\" class=\"dataframe\"><thead><tr><th>jaar</th><th>songs</th></tr><tr><td>i64</td><td>list[str]</td></tr></thead><tbody><tr><td>2022</td><td>[&quot;Son Mieux - Multicolor&quot;, &quot;Bankzitters - Je Blik Richting Mij&quot;, … &quot;Måneskin - THE LONELIEST&quot;]</td></tr><tr><td>2021</td><td>[&quot;Goldband - Noodgeval&quot;, &quot;Bankzitters - Stapelgek&quot;, … &quot;Olivia Rodrigo - Drivers License&quot;]</td></tr><tr><td>2020</td><td>[&quot;DI-RECT - Soldier On&quot;, &quot;Miss Montreal - Door De Wind&quot;, … &quot;Dua Lipa ft. DaBaby - Levitating&quot;]</td></tr><tr><td>2019</td><td>[&quot;Danny Vera - Roller Coaster&quot;, &quot;Floor Jansen &amp; Henk Poort - Phantom Of The Opera&quot;, … &quot;Tino Martin - Zij Weet Het&quot;]</td></tr><tr><td>2018</td><td>[&quot;Lady Gaga &amp; Bradley Cooper - Shallow&quot;, &quot;White Lies - Time To Give&quot;, … &quot;Calvin Harris &amp; Dua Lipa - One Kiss&quot;]</td></tr><tr><td>&hellip;</td><td>&hellip;</td></tr><tr><td>1960</td><td>[&quot;Etta James - At Last&quot;, &quot;Shadows - Apache&quot;]</td></tr><tr><td>1959</td><td>[&quot;Jacques Brel - Ne Me Quitte Pas&quot;, &quot;Elvis Presley - Hound Dog&quot;]</td></tr><tr><td>1958</td><td>[&quot;Chuck Berry - Johnny B. Goode&quot;, &quot;Ella Fitzgerald &amp; Louis Armstrong - Summertime&quot;]</td></tr><tr><td>1957</td><td>[&quot;Johnny Cash - I Walk The Line&quot;, &quot;Elvis Presley - Jailhouse Rock&quot;, … &quot;Fats Domino - Blueberry Hill&quot;]</td></tr><tr><td>1956</td><td>[&quot;Elvis Presley - Love Me Tender&quot;, &quot;Elvis Presley - Blue Suede Shoes&quot;]</td></tr></tbody></table></div>"
      ],
      "text/plain": [
       "shape: (67, 2)\n",
       "┌──────┬─────────────────────────────────┐\n",
       "│ jaar ┆ songs                           │\n",
       "│ ---  ┆ ---                             │\n",
       "│ i64  ┆ list[str]                       │\n",
       "╞══════╪═════════════════════════════════╡\n",
       "│ 2022 ┆ [\"Son Mieux - Multicolor\", \"Ba… │\n",
       "│ 2021 ┆ [\"Goldband - Noodgeval\", \"Bank… │\n",
       "│ 2020 ┆ [\"DI-RECT - Soldier On\", \"Miss… │\n",
       "│ 2019 ┆ [\"Danny Vera - Roller Coaster\"… │\n",
       "│ 2018 ┆ [\"Lady Gaga & Bradley Cooper -… │\n",
       "│ …    ┆ …                               │\n",
       "│ 1960 ┆ [\"Etta James - At Last\", \"Shad… │\n",
       "│ 1959 ┆ [\"Jacques Brel - Ne Me Quitte … │\n",
       "│ 1958 ┆ [\"Chuck Berry - Johnny B. Good… │\n",
       "│ 1957 ┆ [\"Johnny Cash - I Walk The Lin… │\n",
       "│ 1956 ┆ [\"Elvis Presley - Love Me Tend… │\n",
       "└──────┴─────────────────────────────────┘"
      ]
     },
     "execution_count": 8,
     "metadata": {},
     "output_type": "execute_result"
    }
   ],
   "source": [
    "# Agrupa las canciones por año y concatena artista y título en una sola cadena por grupo.\n",
    "(\n",
    "    top2000.group_by(\"jaar\")\n",
    "    .agg(\n",
    "        songs=pl.concat_str(             # Concatena strings\n",
    "            pl.col(\"artiest\"), pl.lit(\" - \"), pl.col(\"titel\")\n",
    "        ),\n",
    "    )\n",
    "    .sort(\"jaar\", descending=True)\n",
    ")"
   ]
  },
  {
   "cell_type": "code",
   "execution_count": null,
   "id": "521b15ba",
   "metadata": {},
   "outputs": [
    {
     "data": {
      "text/html": [
       "<div><style>\n",
       ".dataframe > thead > tr,\n",
       ".dataframe > tbody > tr {\n",
       "  text-align: right;\n",
       "  white-space: pre-wrap;\n",
       "}\n",
       "</style>\n",
       "<small>shape: (9, 4)</small><table border=\"1\" class=\"dataframe\"><thead><tr><th>jaar</th><th>positie</th><th>titel</th><th>artiest</th></tr><tr><td>i64</td><td>i64</td><td>str</td><td>str</td></tr></thead><tbody><tr><td>2022</td><td>179</td><td>&quot;Multicolor&quot;</td><td>&quot;Son Mieux&quot;</td></tr><tr><td>2022</td><td>370</td><td>&quot;Je Blik Richting Mij&quot;</td><td>&quot;Bankzitters&quot;</td></tr><tr><td>2022</td><td>395</td><td>&quot;L&#x27;enfer&quot;</td><td>&quot;Stromae&quot;</td></tr><tr><td>2021</td><td>55</td><td>&quot;Noodgeval&quot;</td><td>&quot;Goldband&quot;</td></tr><tr><td>2021</td><td>149</td><td>&quot;Stapelgek&quot;</td><td>&quot;Bankzitters&quot;</td></tr><tr><td>2021</td><td>210</td><td>&quot;Dat Heb Jij Gedaan&quot;</td><td>&quot;Meau&quot;</td></tr><tr><td>2020</td><td>19</td><td>&quot;Soldier On&quot;</td><td>&quot;DI-RECT&quot;</td></tr><tr><td>2020</td><td>38</td><td>&quot;Door De Wind&quot;</td><td>&quot;Miss Montreal&quot;</td></tr><tr><td>2020</td><td>77</td><td>&quot;Impossible (Orchestral Version…</td><td>&quot;Nothing But Thieves&quot;</td></tr></tbody></table></div>"
      ],
      "text/plain": [
       "shape: (9, 4)\n",
       "┌──────┬─────────┬─────────────────────────────────┬─────────────────────┐\n",
       "│ jaar ┆ positie ┆ titel                           ┆ artiest             │\n",
       "│ ---  ┆ ---     ┆ ---                             ┆ ---                 │\n",
       "│ i64  ┆ i64     ┆ str                             ┆ str                 │\n",
       "╞══════╪═════════╪═════════════════════════════════╪═════════════════════╡\n",
       "│ 2022 ┆ 179     ┆ Multicolor                      ┆ Son Mieux           │\n",
       "│ 2022 ┆ 370     ┆ Je Blik Richting Mij            ┆ Bankzitters         │\n",
       "│ 2022 ┆ 395     ┆ L'enfer                         ┆ Stromae             │\n",
       "│ 2021 ┆ 55      ┆ Noodgeval                       ┆ Goldband            │\n",
       "│ 2021 ┆ 149     ┆ Stapelgek                       ┆ Bankzitters         │\n",
       "│ 2021 ┆ 210     ┆ Dat Heb Jij Gedaan              ┆ Meau                │\n",
       "│ 2020 ┆ 19      ┆ Soldier On                      ┆ DI-RECT             │\n",
       "│ 2020 ┆ 38      ┆ Door De Wind                    ┆ Miss Montreal       │\n",
       "│ 2020 ┆ 77      ┆ Impossible (Orchestral Version… ┆ Nothing But Thieves │\n",
       "└──────┴─────────┴─────────────────────────────────┴─────────────────────┘"
      ]
     },
     "execution_count": 10,
     "metadata": {},
     "output_type": "execute_result"
    }
   ],
   "source": [
    "(\n",
    "    top2000.group_by(\"jaar\", maintain_order=True) # Agrupar por año y mantener orden\n",
    "    .head(3) # Tomar los top 3 de canciones por año\n",
    "    .sort(\"jaar\", descending=True) # Ajustar por año\n",
    "    .head(9) # Tomar solo los 3 años más recientes su top3\n",
    ")"
   ]
  },
  {
   "cell_type": "code",
   "execution_count": null,
   "id": "3b252ea1",
   "metadata": {},
   "outputs": [
    {
     "data": {
      "text/html": [
       "<div><style>\n",
       ".dataframe > thead > tr,\n",
       ".dataframe > tbody > tr {\n",
       "  text-align: right;\n",
       "  white-space: pre-wrap;\n",
       "}\n",
       "</style>\n",
       "<small>shape: (9, 4)</small><table border=\"1\" class=\"dataframe\"><thead><tr><th>jaar</th><th>positie</th><th>titel</th><th>artiest</th></tr><tr><td>i64</td><td>i64</td><td>str</td><td>str</td></tr></thead><tbody><tr><td>2022</td><td>1391</td><td>&quot;De Diepte&quot;</td><td>&quot;S10&quot;</td></tr><tr><td>2022</td><td>1688</td><td>&quot;Zeit&quot;</td><td>&quot;Rammstein&quot;</td></tr><tr><td>2022</td><td>1716</td><td>&quot;THE LONELIEST&quot;</td><td>&quot;Måneskin&quot;</td></tr><tr><td>2021</td><td>1865</td><td>&quot;Bon Gepakt&quot;</td><td>&quot;Donnie &amp; Rene Froger&quot;</td></tr><tr><td>2021</td><td>1978</td><td>&quot;Hold On&quot;</td><td>&quot;Armin van Buuren ft. Davina Mi…</td></tr><tr><td>2021</td><td>2000</td><td>&quot;Drivers License&quot;</td><td>&quot;Olivia Rodrigo&quot;</td></tr><tr><td>2020</td><td>1824</td><td>&quot;Smoorverliefd&quot;</td><td>&quot;Snelle&quot;</td></tr><tr><td>2020</td><td>1879</td><td>&quot;The Business&quot;</td><td>&quot;Tiësto&quot;</td></tr><tr><td>2020</td><td>1902</td><td>&quot;Levitating&quot;</td><td>&quot;Dua Lipa ft. DaBaby&quot;</td></tr></tbody></table></div>"
      ],
      "text/plain": [
       "shape: (9, 4)\n",
       "┌──────┬─────────┬─────────────────┬─────────────────────────────────┐\n",
       "│ jaar ┆ positie ┆ titel           ┆ artiest                         │\n",
       "│ ---  ┆ ---     ┆ ---             ┆ ---                             │\n",
       "│ i64  ┆ i64     ┆ str             ┆ str                             │\n",
       "╞══════╪═════════╪═════════════════╪═════════════════════════════════╡\n",
       "│ 2022 ┆ 1391    ┆ De Diepte       ┆ S10                             │\n",
       "│ 2022 ┆ 1688    ┆ Zeit            ┆ Rammstein                       │\n",
       "│ 2022 ┆ 1716    ┆ THE LONELIEST   ┆ Måneskin                        │\n",
       "│ 2021 ┆ 1865    ┆ Bon Gepakt      ┆ Donnie & Rene Froger            │\n",
       "│ 2021 ┆ 1978    ┆ Hold On         ┆ Armin van Buuren ft. Davina Mi… │\n",
       "│ 2021 ┆ 2000    ┆ Drivers License ┆ Olivia Rodrigo                  │\n",
       "│ 2020 ┆ 1824    ┆ Smoorverliefd   ┆ Snelle                          │\n",
       "│ 2020 ┆ 1879    ┆ The Business    ┆ Tiësto                          │\n",
       "│ 2020 ┆ 1902    ┆ Levitating      ┆ Dua Lipa ft. DaBaby             │\n",
       "└──────┴─────────┴─────────────────┴─────────────────────────────────┘"
      ]
     },
     "execution_count": 11,
     "metadata": {},
     "output_type": "execute_result"
    }
   ],
   "source": [
    "(\n",
    "    top2000.group_by(\"jaar\", maintain_order=True)\n",
    "    .tail(3)\n",
    "    .sort(\"jaar\", descending=True)\n",
    "    .head(9)\n",
    " )"
   ]
  },
  {
   "cell_type": "code",
   "execution_count": 12,
   "id": "7daf5169",
   "metadata": {},
   "outputs": [
    {
     "data": {
      "text/html": [
       "<div><style>\n",
       ".dataframe > thead > tr,\n",
       ".dataframe > tbody > tr {\n",
       "  text-align: right;\n",
       "  white-space: pre-wrap;\n",
       "}\n",
       "</style>\n",
       "<small>shape: (10, 2)</small><table border=\"1\" class=\"dataframe\"><thead><tr><th>artiest</th><th>len</th></tr><tr><td>str</td><td>u32</td></tr></thead><tbody><tr><td>&quot;Queen&quot;</td><td>34</td></tr><tr><td>&quot;The Beatles&quot;</td><td>31</td></tr><tr><td>&quot;ABBA&quot;</td><td>25</td></tr><tr><td>&quot;The Rolling Stones&quot;</td><td>22</td></tr><tr><td>&quot;Bruce Springsteen&quot;</td><td>22</td></tr><tr><td>&quot;Michael Jackson&quot;</td><td>20</td></tr><tr><td>&quot;Fleetwood Mac&quot;</td><td>20</td></tr><tr><td>&quot;Coldplay&quot;</td><td>20</td></tr><tr><td>&quot;David Bowie&quot;</td><td>18</td></tr><tr><td>&quot;U2&quot;</td><td>18</td></tr></tbody></table></div>"
      ],
      "text/plain": [
       "shape: (10, 2)\n",
       "┌────────────────────┬─────┐\n",
       "│ artiest            ┆ len │\n",
       "│ ---                ┆ --- │\n",
       "│ str                ┆ u32 │\n",
       "╞════════════════════╪═════╡\n",
       "│ Queen              ┆ 34  │\n",
       "│ The Beatles        ┆ 31  │\n",
       "│ ABBA               ┆ 25  │\n",
       "│ The Rolling Stones ┆ 22  │\n",
       "│ Bruce Springsteen  ┆ 22  │\n",
       "│ Michael Jackson    ┆ 20  │\n",
       "│ Fleetwood Mac      ┆ 20  │\n",
       "│ Coldplay           ┆ 20  │\n",
       "│ David Bowie        ┆ 18  │\n",
       "│ U2                 ┆ 18  │\n",
       "└────────────────────┴─────┘"
      ]
     },
     "execution_count": 12,
     "metadata": {},
     "output_type": "execute_result"
    }
   ],
   "source": [
    "(top2000.group_by(\"artiest\").len().sort(\"len\", descending=True).head(10))"
   ]
  },
  {
   "cell_type": "code",
   "execution_count": 18,
   "id": "4d76a07a",
   "metadata": {},
   "outputs": [
    {
     "data": {
      "text/plain": [
       "['Date',\n",
       " 'Day',\n",
       " 'Month',\n",
       " 'Year',\n",
       " 'Customer_Age',\n",
       " 'Age_Group',\n",
       " 'Customer_Gender',\n",
       " 'Country',\n",
       " 'State',\n",
       " 'Product_Category',\n",
       " 'Sub_Category',\n",
       " 'Product',\n",
       " 'Order_Quantity',\n",
       " 'Unit_Cost',\n",
       " 'Unit_Price',\n",
       " 'Profit',\n",
       " 'Cost',\n",
       " 'Revenue']"
      ]
     },
     "execution_count": 18,
     "metadata": {},
     "output_type": "execute_result"
    }
   ],
   "source": [
    "sales = pl.read_csv(\"data/sales.csv\")\n",
    "sales.columns"
   ]
  },
  {
   "cell_type": "code",
   "execution_count": 19,
   "id": "451d1ce2",
   "metadata": {},
   "outputs": [
    {
     "data": {
      "text/html": [
       "<div><style>\n",
       ".dataframe > thead > tr,\n",
       ".dataframe > tbody > tr {\n",
       "  text-align: right;\n",
       "  white-space: pre-wrap;\n",
       "}\n",
       "</style>\n",
       "<small>shape: (10, 3)</small><table border=\"1\" class=\"dataframe\"><thead><tr><th>Product_Category</th><th>Sub_Category</th><th>Unit_Price</th></tr><tr><td>str</td><td>str</td><td>i64</td></tr></thead><tbody><tr><td>&quot;Bikes&quot;</td><td>&quot;Road Bikes&quot;</td><td>3578</td></tr><tr><td>&quot;Bikes&quot;</td><td>&quot;Mountain Bikes&quot;</td><td>3400</td></tr><tr><td>&quot;Clothing&quot;</td><td>&quot;Vests&quot;</td><td>2384</td></tr><tr><td>&quot;Bikes&quot;</td><td>&quot;Touring Bikes&quot;</td><td>2384</td></tr><tr><td>&quot;Accessories&quot;</td><td>&quot;Bike Stands&quot;</td><td>159</td></tr><tr><td>&quot;Accessories&quot;</td><td>&quot;Bike Racks&quot;</td><td>120</td></tr><tr><td>&quot;Clothing&quot;</td><td>&quot;Socks&quot;</td><td>70</td></tr><tr><td>&quot;Clothing&quot;</td><td>&quot;Shorts&quot;</td><td>70</td></tr><tr><td>&quot;Accessories&quot;</td><td>&quot;Hydration Packs&quot;</td><td>55</td></tr><tr><td>&quot;Clothing&quot;</td><td>&quot;Jerseys&quot;</td><td>54</td></tr></tbody></table></div>"
      ],
      "text/plain": [
       "shape: (10, 3)\n",
       "┌──────────────────┬─────────────────┬────────────┐\n",
       "│ Product_Category ┆ Sub_Category    ┆ Unit_Price │\n",
       "│ ---              ┆ ---             ┆ ---        │\n",
       "│ str              ┆ str             ┆ i64        │\n",
       "╞══════════════════╪═════════════════╪════════════╡\n",
       "│ Bikes            ┆ Road Bikes      ┆ 3578       │\n",
       "│ Bikes            ┆ Mountain Bikes  ┆ 3400       │\n",
       "│ Clothing         ┆ Vests           ┆ 2384       │\n",
       "│ Bikes            ┆ Touring Bikes   ┆ 2384       │\n",
       "│ Accessories      ┆ Bike Stands     ┆ 159        │\n",
       "│ Accessories      ┆ Bike Racks      ┆ 120        │\n",
       "│ Clothing         ┆ Socks           ┆ 70         │\n",
       "│ Clothing         ┆ Shorts          ┆ 70         │\n",
       "│ Accessories      ┆ Hydration Packs ┆ 55         │\n",
       "│ Clothing         ┆ Jerseys         ┆ 54         │\n",
       "└──────────────────┴─────────────────┴────────────┘"
      ]
     },
     "execution_count": 19,
     "metadata": {},
     "output_type": "execute_result"
    }
   ],
   "source": [
    "(\n",
    "    sales.select(\"Product_Category\", \"Sub_Category\", \"Unit_Price\")  \n",
    "        .group_by(\"Product_Category\", \"Sub_Category\")  \n",
    "        .max()\n",
    "        .sort(\"Unit_Price\", descending=True)  \n",
    "        .head(10)\n",
    ")"
   ]
  },
  {
   "cell_type": "code",
   "execution_count": null,
   "id": "55802192",
   "metadata": {},
   "outputs": [
    {
     "data": {
      "text/html": [
       "<div><style>\n",
       ".dataframe > thead > tr,\n",
       ".dataframe > tbody > tr {\n",
       "  text-align: right;\n",
       "  white-space: pre-wrap;\n",
       "}\n",
       "</style>\n",
       "<small>shape: (6, 2)</small><table border=\"1\" class=\"dataframe\"><thead><tr><th>Country</th><th>Profit</th></tr><tr><td>str</td><td>i64</td></tr></thead><tbody><tr><td>&quot;United States&quot;</td><td>11073644</td></tr><tr><td>&quot;Australia&quot;</td><td>6776030</td></tr><tr><td>&quot;United Kingdom&quot;</td><td>4413853</td></tr><tr><td>&quot;Canada&quot;</td><td>3717296</td></tr><tr><td>&quot;Germany&quot;</td><td>3359995</td></tr><tr><td>&quot;France&quot;</td><td>2880282</td></tr></tbody></table></div>"
      ],
      "text/plain": [
       "shape: (6, 2)\n",
       "┌────────────────┬──────────┐\n",
       "│ Country        ┆ Profit   │\n",
       "│ ---            ┆ ---      │\n",
       "│ str            ┆ i64      │\n",
       "╞════════════════╪══════════╡\n",
       "│ United States  ┆ 11073644 │\n",
       "│ Australia      ┆ 6776030  │\n",
       "│ United Kingdom ┆ 4413853  │\n",
       "│ Canada         ┆ 3717296  │\n",
       "│ Germany        ┆ 3359995  │\n",
       "│ France         ┆ 2880282  │\n",
       "└────────────────┴──────────┘"
      ]
     },
     "execution_count": 20,
     "metadata": {},
     "output_type": "execute_result"
    }
   ],
   "source": [
    "(\n",
    "    sales.select(\"Country\", \"Profit\")\n",
    "    .group_by(\"Country\")\n",
    "    .sum()\n",
    "    .sort(by=\"Profit\", descending=True)\n",
    ")"
   ]
  },
  {
   "cell_type": "code",
   "execution_count": 21,
   "id": "a0fe5a1e",
   "metadata": {},
   "outputs": [
    {
     "data": {
      "text/html": [
       "<div><style>\n",
       ".dataframe > thead > tr,\n",
       ".dataframe > tbody > tr {\n",
       "  text-align: right;\n",
       "  white-space: pre-wrap;\n",
       "}\n",
       "</style>\n",
       "<small>shape: (10, 2)</small><table border=\"1\" class=\"dataframe\"><thead><tr><th>Sub_Category</th><th>Product</th></tr><tr><td>str</td><td>u32</td></tr></thead><tbody><tr><td>&quot;Road Bikes&quot;</td><td>38</td></tr><tr><td>&quot;Mountain Bikes&quot;</td><td>28</td></tr><tr><td>&quot;Touring Bikes&quot;</td><td>22</td></tr><tr><td>&quot;Tires and Tubes&quot;</td><td>11</td></tr><tr><td>&quot;Jerseys&quot;</td><td>8</td></tr><tr><td>&quot;Vests&quot;</td><td>4</td></tr><tr><td>&quot;Gloves&quot;</td><td>4</td></tr><tr><td>&quot;Socks&quot;</td><td>3</td></tr><tr><td>&quot;Helmets&quot;</td><td>3</td></tr><tr><td>&quot;Bottles and Cages&quot;</td><td>3</td></tr></tbody></table></div>"
      ],
      "text/plain": [
       "shape: (10, 2)\n",
       "┌───────────────────┬─────────┐\n",
       "│ Sub_Category      ┆ Product │\n",
       "│ ---               ┆ ---     │\n",
       "│ str               ┆ u32     │\n",
       "╞═══════════════════╪═════════╡\n",
       "│ Road Bikes        ┆ 38      │\n",
       "│ Mountain Bikes    ┆ 28      │\n",
       "│ Touring Bikes     ┆ 22      │\n",
       "│ Tires and Tubes   ┆ 11      │\n",
       "│ Jerseys           ┆ 8       │\n",
       "│ Vests             ┆ 4       │\n",
       "│ Gloves            ┆ 4       │\n",
       "│ Socks             ┆ 3       │\n",
       "│ Helmets           ┆ 3       │\n",
       "│ Bottles and Cages ┆ 3       │\n",
       "└───────────────────┴─────────┘"
      ]
     },
     "execution_count": 21,
     "metadata": {},
     "output_type": "execute_result"
    }
   ],
   "source": [
    "(\n",
    "    sales.select(\"Sub_Category\", \"Product\")\n",
    "    .group_by(\"Sub_Category\")\n",
    "    .n_unique()\n",
    "    .sort(\"Product\", descending=True)\n",
    "    .head(10)\n",
    ")"
   ]
  },
  {
   "cell_type": "code",
   "execution_count": 22,
   "id": "8f3b7736",
   "metadata": {},
   "outputs": [
    {
     "data": {
      "text/html": [
       "<div><style>\n",
       ".dataframe > thead > tr,\n",
       ".dataframe > tbody > tr {\n",
       "  text-align: right;\n",
       "  white-space: pre-wrap;\n",
       "}\n",
       "</style>\n",
       "<small>shape: (4, 2)</small><table border=\"1\" class=\"dataframe\"><thead><tr><th>Age_Group</th><th>Order_Quantity</th></tr><tr><td>str</td><td>f64</td></tr></thead><tbody><tr><td>&quot;Seniors (64+)&quot;</td><td>13.530137</td></tr><tr><td>&quot;Youth (&lt;25)&quot;</td><td>12.124018</td></tr><tr><td>&quot;Adults (35-64)&quot;</td><td>12.045303</td></tr><tr><td>&quot;Young Adults (25-34)&quot;</td><td>11.560899</td></tr></tbody></table></div>"
      ],
      "text/plain": [
       "shape: (4, 2)\n",
       "┌──────────────────────┬────────────────┐\n",
       "│ Age_Group            ┆ Order_Quantity │\n",
       "│ ---                  ┆ ---            │\n",
       "│ str                  ┆ f64            │\n",
       "╞══════════════════════╪════════════════╡\n",
       "│ Seniors (64+)        ┆ 13.530137      │\n",
       "│ Youth (<25)          ┆ 12.124018      │\n",
       "│ Adults (35-64)       ┆ 12.045303      │\n",
       "│ Young Adults (25-34) ┆ 11.560899      │\n",
       "└──────────────────────┴────────────────┘"
      ]
     },
     "execution_count": 22,
     "metadata": {},
     "output_type": "execute_result"
    }
   ],
   "source": [
    "(\n",
    "    sales.select(\"Age_Group\", \"Order_Quantity\")\n",
    "    .group_by(\"Age_Group\")\n",
    "    .mean()\n",
    "    .sort(\"Order_Quantity\", descending=True)\n",
    ")"
   ]
  },
  {
   "cell_type": "code",
   "execution_count": 23,
   "id": "e39542d9",
   "metadata": {},
   "outputs": [
    {
     "data": {
      "text/html": [
       "<div><style>\n",
       ".dataframe > thead > tr,\n",
       ".dataframe > tbody > tr {\n",
       "  text-align: right;\n",
       "  white-space: pre-wrap;\n",
       "}\n",
       "</style>\n",
       "<small>shape: (4, 2)</small><table border=\"1\" class=\"dataframe\"><thead><tr><th>Age_Group</th><th>Revenue</th></tr><tr><td>str</td><td>f64</td></tr></thead><tbody><tr><td>&quot;Young Adults (25-34)&quot;</td><td>2227.0</td></tr><tr><td>&quot;Adults (35-64)&quot;</td><td>2217.0</td></tr><tr><td>&quot;Youth (&lt;25)&quot;</td><td>1997.0</td></tr><tr><td>&quot;Seniors (64+)&quot;</td><td>943.0</td></tr></tbody></table></div>"
      ],
      "text/plain": [
       "shape: (4, 2)\n",
       "┌──────────────────────┬─────────┐\n",
       "│ Age_Group            ┆ Revenue │\n",
       "│ ---                  ┆ ---     │\n",
       "│ str                  ┆ f64     │\n",
       "╞══════════════════════╪═════════╡\n",
       "│ Young Adults (25-34) ┆ 2227.0  │\n",
       "│ Adults (35-64)       ┆ 2217.0  │\n",
       "│ Youth (<25)          ┆ 1997.0  │\n",
       "│ Seniors (64+)        ┆ 943.0   │\n",
       "└──────────────────────┴─────────┘"
      ]
     },
     "execution_count": 23,
     "metadata": {},
     "output_type": "execute_result"
    }
   ],
   "source": [
    "(\n",
    "    sales.select(\"Age_Group\", \"Revenue\")\n",
    "    .group_by(\"Age_Group\")\n",
    "    .quantile(0.9)\n",
    "    .sort(\"Revenue\", descending=True)\n",
    ")"
   ]
  },
  {
   "cell_type": "markdown",
   "id": "f1222821",
   "metadata": {},
   "source": [
    "## Advanced Methods"
   ]
  },
  {
   "cell_type": "code",
   "execution_count": 25,
   "id": "5c5a1642",
   "metadata": {},
   "outputs": [
    {
     "data": {
      "text/html": [
       "<div><style>\n",
       ".dataframe > thead > tr,\n",
       ".dataframe > tbody > tr {\n",
       "  text-align: right;\n",
       "  white-space: pre-wrap;\n",
       "}\n",
       "</style>\n",
       "<small>shape: (6, 3)</small><table border=\"1\" class=\"dataframe\"><thead><tr><th>Country</th><th>Profit</th><th>Revenue</th></tr><tr><td>str</td><td>list[i64]</td><td>list[i64]</td></tr></thead><tbody><tr><td>&quot;United States&quot;</td><td>[524, 407, … 542]</td><td>[929, 722, … 878]</td></tr><tr><td>&quot;Germany&quot;</td><td>[160, 53, … 746]</td><td>[295, 98, … 1250]</td></tr><tr><td>&quot;United Kingdom&quot;</td><td>[1053, 1053, … 112]</td><td>[1728, 1728, … 184]</td></tr><tr><td>&quot;Canada&quot;</td><td>[590, 590, … 630]</td><td>[950, 950, … 1014]</td></tr><tr><td>&quot;Australia&quot;</td><td>[1366, 1188, … 655]</td><td>[2401, 2088, … 1183]</td></tr><tr><td>&quot;France&quot;</td><td>[427, 427, … 655]</td><td>[787, 787, … 1207]</td></tr></tbody></table></div>"
      ],
      "text/plain": [
       "shape: (6, 3)\n",
       "┌────────────────┬─────────────────────┬──────────────────────┐\n",
       "│ Country        ┆ Profit              ┆ Revenue              │\n",
       "│ ---            ┆ ---                 ┆ ---                  │\n",
       "│ str            ┆ list[i64]           ┆ list[i64]            │\n",
       "╞════════════════╪═════════════════════╪══════════════════════╡\n",
       "│ United States  ┆ [524, 407, … 542]   ┆ [929, 722, … 878]    │\n",
       "│ Germany        ┆ [160, 53, … 746]    ┆ [295, 98, … 1250]    │\n",
       "│ United Kingdom ┆ [1053, 1053, … 112] ┆ [1728, 1728, … 184]  │\n",
       "│ Canada         ┆ [590, 590, … 630]   ┆ [950, 950, … 1014]   │\n",
       "│ Australia      ┆ [1366, 1188, … 655] ┆ [2401, 2088, … 1183] │\n",
       "│ France         ┆ [427, 427, … 655]   ┆ [787, 787, … 1207]   │\n",
       "└────────────────┴─────────────────────┴──────────────────────┘"
      ]
     },
     "execution_count": 25,
     "metadata": {},
     "output_type": "execute_result"
    }
   ],
   "source": [
    "(\n",
    "    sales.select(\"Country\", \"Profit\", \"Revenue\")\n",
    "    .group_by(\"Country\")\n",
    "    .agg(\n",
    "        pl.col(\"Profit\"),\n",
    "        pl.col(\"Revenue\"),\n",
    "    )\n",
    ")"
   ]
  },
  {
   "cell_type": "code",
   "execution_count": 26,
   "id": "edd09c32",
   "metadata": {},
   "outputs": [
    {
     "data": {
      "text/html": [
       "<div><style>\n",
       ".dataframe > thead > tr,\n",
       ".dataframe > tbody > tr {\n",
       "  text-align: right;\n",
       "  white-space: pre-wrap;\n",
       "}\n",
       "</style>\n",
       "<small>shape: (6, 4)</small><table border=\"1\" class=\"dataframe\"><thead><tr><th>Country</th><th>All Profits Per Transactions</th><th>All Revenue</th><th>Cost</th></tr><tr><td>str</td><td>list[i64]</td><td>list[i64]</td><td>list[i64]</td></tr></thead><tbody><tr><td>&quot;Canada&quot;</td><td>[590, 590, … 630]</td><td>[950, 950, … 1014]</td><td>[360, 360, … 384]</td></tr><tr><td>&quot;Australia&quot;</td><td>[1366, 1188, … 655]</td><td>[2401, 2088, … 1183]</td><td>[1035, 900, … 528]</td></tr><tr><td>&quot;United Kingdom&quot;</td><td>[1053, 1053, … 112]</td><td>[1728, 1728, … 184]</td><td>[675, 675, … 72]</td></tr><tr><td>&quot;France&quot;</td><td>[427, 427, … 655]</td><td>[787, 787, … 1207]</td><td>[360, 360, … 552]</td></tr><tr><td>&quot;United States&quot;</td><td>[524, 407, … 542]</td><td>[929, 722, … 878]</td><td>[405, 315, … 336]</td></tr><tr><td>&quot;Germany&quot;</td><td>[160, 53, … 746]</td><td>[295, 98, … 1250]</td><td>[135, 45, … 504]</td></tr></tbody></table></div>"
      ],
      "text/plain": [
       "shape: (6, 4)\n",
       "┌────────────────┬──────────────────────────────┬──────────────────────┬────────────────────┐\n",
       "│ Country        ┆ All Profits Per Transactions ┆ All Revenue          ┆ Cost               │\n",
       "│ ---            ┆ ---                          ┆ ---                  ┆ ---                │\n",
       "│ str            ┆ list[i64]                    ┆ list[i64]            ┆ list[i64]          │\n",
       "╞════════════════╪══════════════════════════════╪══════════════════════╪════════════════════╡\n",
       "│ Canada         ┆ [590, 590, … 630]            ┆ [950, 950, … 1014]   ┆ [360, 360, … 384]  │\n",
       "│ Australia      ┆ [1366, 1188, … 655]          ┆ [2401, 2088, … 1183] ┆ [1035, 900, … 528] │\n",
       "│ United Kingdom ┆ [1053, 1053, … 112]          ┆ [1728, 1728, … 184]  ┆ [675, 675, … 72]   │\n",
       "│ France         ┆ [427, 427, … 655]            ┆ [787, 787, … 1207]   ┆ [360, 360, … 552]  │\n",
       "│ United States  ┆ [524, 407, … 542]            ┆ [929, 722, … 878]    ┆ [405, 315, … 336]  │\n",
       "│ Germany        ┆ [160, 53, … 746]             ┆ [295, 98, … 1250]    ┆ [135, 45, … 504]   │\n",
       "└────────────────┴──────────────────────────────┴──────────────────────┴────────────────────┘"
      ]
     },
     "execution_count": 26,
     "metadata": {},
     "output_type": "execute_result"
    }
   ],
   "source": [
    "(\n",
    "    sales.group_by(\"Country\").agg(\n",
    "        pl.col(\"Profit\").alias(\"All Profits Per Transactions\"),\n",
    "        pl.col(\"Revenue\").name.prefix(\"All \"),\n",
    "        Cost=pl.col(\"Revenue\") - pl.col(\"Profit\")\n",
    "    )\n",
    ")"
   ]
  },
  {
   "cell_type": "markdown",
   "id": "b5f03418",
   "metadata": {},
   "source": [
    "### Apply multiple aggregations at once"
   ]
  },
  {
   "cell_type": "code",
   "execution_count": 27,
   "id": "40783a1a",
   "metadata": {},
   "outputs": [
    {
     "data": {
      "text/html": [
       "<div><style>\n",
       ".dataframe > thead > tr,\n",
       ".dataframe > tbody > tr {\n",
       "  text-align: right;\n",
       "  white-space: pre-wrap;\n",
       "}\n",
       "</style>\n",
       "<small>shape: (6, 5)</small><table border=\"1\" class=\"dataframe\"><thead><tr><th>Country</th><th>Total Profit</th><th>Average Profit per Transaction</th><th>Total Revenue</th><th>Average Revenue per Transaction</th></tr><tr><td>str</td><td>i64</td><td>f64</td><td>i64</td><td>f64</td></tr></thead><tbody><tr><td>&quot;France&quot;</td><td>2880282</td><td>261.891435</td><td>8432872</td><td>766.764139</td></tr><tr><td>&quot;Canada&quot;</td><td>3717296</td><td>262.187615</td><td>7935738</td><td>559.721964</td></tr><tr><td>&quot;Australia&quot;</td><td>6776030</td><td>283.089489</td><td>21302059</td><td>889.959016</td></tr><tr><td>&quot;United Kingdom&quot;</td><td>4413853</td><td>324.071439</td><td>10646196</td><td>781.659031</td></tr><tr><td>&quot;Germany&quot;</td><td>3359995</td><td>302.756803</td><td>8978596</td><td>809.028293</td></tr><tr><td>&quot;United States&quot;</td><td>11073644</td><td>282.447687</td><td>27975547</td><td>713.552696</td></tr></tbody></table></div>"
      ],
      "text/plain": [
       "shape: (6, 5)\n",
       "┌────────────────┬──────────────┬────────────────────┬───────────────┬─────────────────────┐\n",
       "│ Country        ┆ Total Profit ┆ Average Profit per ┆ Total Revenue ┆ Average Revenue per │\n",
       "│ ---            ┆ ---          ┆ Transaction        ┆ ---           ┆ Transactio…         │\n",
       "│ str            ┆ i64          ┆ ---                ┆ i64           ┆ ---                 │\n",
       "│                ┆              ┆ f64                ┆               ┆ f64                 │\n",
       "╞════════════════╪══════════════╪════════════════════╪═══════════════╪═════════════════════╡\n",
       "│ France         ┆ 2880282      ┆ 261.891435         ┆ 8432872       ┆ 766.764139          │\n",
       "│ Canada         ┆ 3717296      ┆ 262.187615         ┆ 7935738       ┆ 559.721964          │\n",
       "│ Australia      ┆ 6776030      ┆ 283.089489         ┆ 21302059      ┆ 889.959016          │\n",
       "│ United Kingdom ┆ 4413853      ┆ 324.071439         ┆ 10646196      ┆ 781.659031          │\n",
       "│ Germany        ┆ 3359995      ┆ 302.756803         ┆ 8978596       ┆ 809.028293          │\n",
       "│ United States  ┆ 11073644     ┆ 282.447687         ┆ 27975547      ┆ 713.552696          │\n",
       "└────────────────┴──────────────┴────────────────────┴───────────────┴─────────────────────┘"
      ]
     },
     "execution_count": 27,
     "metadata": {},
     "output_type": "execute_result"
    }
   ],
   "source": [
    "(    \n",
    "    sales.select(\"Country\", \"Profit\", \"Revenue\")\n",
    "    .group_by(\"Country\")\n",
    "    .agg(\n",
    "        pl.col(\"Profit\").sum().name.prefix(\"Total \"),\n",
    "        pl.col(\"Profit\").mean().alias(\"Average Profit per Transaction\"),\n",
    "        pl.col(\"Revenue\").sum().name.prefix(\"Total \"),\n",
    "        pl.col(\"Revenue\").mean().alias(\"Average Revenue per Transaction\")\n",
    "    )\n",
    ")"
   ]
  },
  {
   "cell_type": "code",
   "execution_count": 28,
   "id": "9a15564b",
   "metadata": {},
   "outputs": [
    {
     "data": {
      "text/html": [
       "<div><style>\n",
       ".dataframe > thead > tr,\n",
       ".dataframe > tbody > tr {\n",
       "  text-align: right;\n",
       "  white-space: pre-wrap;\n",
       "}\n",
       "</style>\n",
       "<small>shape: (6, 5)</small><table border=\"1\" class=\"dataframe\"><thead><tr><th>Country</th><th>Total Profit</th><th>Total Revenue</th><th>Average Profit</th><th>Average Revenue</th></tr><tr><td>str</td><td>i64</td><td>i64</td><td>f64</td><td>f64</td></tr></thead><tbody><tr><td>&quot;Germany&quot;</td><td>3359995</td><td>8978596</td><td>302.756803</td><td>809.028293</td></tr><tr><td>&quot;United Kingdom&quot;</td><td>4413853</td><td>10646196</td><td>324.071439</td><td>781.659031</td></tr><tr><td>&quot;United States&quot;</td><td>11073644</td><td>27975547</td><td>282.447687</td><td>713.552696</td></tr><tr><td>&quot;France&quot;</td><td>2880282</td><td>8432872</td><td>261.891435</td><td>766.764139</td></tr><tr><td>&quot;Canada&quot;</td><td>3717296</td><td>7935738</td><td>262.187615</td><td>559.721964</td></tr><tr><td>&quot;Australia&quot;</td><td>6776030</td><td>21302059</td><td>283.089489</td><td>889.959016</td></tr></tbody></table></div>"
      ],
      "text/plain": [
       "shape: (6, 5)\n",
       "┌────────────────┬──────────────┬───────────────┬────────────────┬─────────────────┐\n",
       "│ Country        ┆ Total Profit ┆ Total Revenue ┆ Average Profit ┆ Average Revenue │\n",
       "│ ---            ┆ ---          ┆ ---           ┆ ---            ┆ ---             │\n",
       "│ str            ┆ i64          ┆ i64           ┆ f64            ┆ f64             │\n",
       "╞════════════════╪══════════════╪═══════════════╪════════════════╪═════════════════╡\n",
       "│ Germany        ┆ 3359995      ┆ 8978596       ┆ 302.756803     ┆ 809.028293      │\n",
       "│ United Kingdom ┆ 4413853      ┆ 10646196      ┆ 324.071439     ┆ 781.659031      │\n",
       "│ United States  ┆ 11073644     ┆ 27975547      ┆ 282.447687     ┆ 713.552696      │\n",
       "│ France         ┆ 2880282      ┆ 8432872       ┆ 261.891435     ┆ 766.764139      │\n",
       "│ Canada         ┆ 3717296      ┆ 7935738       ┆ 262.187615     ┆ 559.721964      │\n",
       "│ Australia      ┆ 6776030      ┆ 21302059      ┆ 283.089489     ┆ 889.959016      │\n",
       "└────────────────┴──────────────┴───────────────┴────────────────┴─────────────────┘"
      ]
     },
     "execution_count": 28,
     "metadata": {},
     "output_type": "execute_result"
    }
   ],
   "source": [
    "(\n",
    "    sales.select(\"Country\", \"Profit\", \"Revenue\")\n",
    "    .group_by(\"Country\")\n",
    "    .agg(\n",
    "        pl.all().sum().name.prefix(\"Total \"),\n",
    "        pl.all().mean().name.prefix(\"Average \"),\n",
    "    )\n",
    ")"
   ]
  }
 ],
 "metadata": {
  "kernelspec": {
   "display_name": "python-polars-the-definitive-guide",
   "language": "python",
   "name": "python3"
  },
  "language_info": {
   "codemirror_mode": {
    "name": "ipython",
    "version": 3
   },
   "file_extension": ".py",
   "mimetype": "text/x-python",
   "name": "python",
   "nbconvert_exporter": "python",
   "pygments_lexer": "ipython3",
   "version": "3.12.11"
  }
 },
 "nbformat": 4,
 "nbformat_minor": 5
}
