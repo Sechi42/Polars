{
 "cells": [
  {
   "cell_type": "markdown",
   "id": "89f05ad7",
   "metadata": {},
   "source": [
    "# Summarizing and Aggregating\n",
    "\n",
    "En este capítulo aprenderás sobre:\n",
    "\n",
    "- El contexto de GroupBy y sus métodos disponibles, y cómo usarlos para analizar tus datos.\n",
    "- Cómo agrupar datos basados en valores temporales usando los métodos `df.group_by_dynamic()`, `df.rolling()` y `Expr.over()`.\n",
    "- Optimizaciones que puedes aplicar para mejorar el rendimiento.\n",
    "\n",
    "---\n"
   ]
  },
  {
   "cell_type": "markdown",
   "id": "9742cf13",
   "metadata": {},
   "source": [
    "## Split, Apply, and Combine\n",
    "\n",
    "El enfoque \"split, apply, combine\" es fundamental para el análisis de datos agrupados. En Polars, este patrón se implementa de manera eficiente mediante el método `df.group_by()`. \n",
    "\n",
    "- **Split:** Separa el DataFrame en grupos según los valores de una o más columnas.\n",
    "- **Apply:** Aplica funciones de agregación (como `sum()`, `mean()`, `count()`, etc.) a cada grupo.\n",
    "- **Combine:** Une los resultados en un nuevo DataFrame, facilitando el análisis y la visualización.\n",
    "\n",
    "Este método permite resumir grandes volúmenes de datos y extraer información relevante de manera rápida y reproducible. A continuación, veremos ejemplos prácticos de cómo utilizar `group_by` en Polars para realizar estas operaciones.\n",
    "\n",
    "---"
   ]
  },
  {
   "cell_type": "code",
   "execution_count": 28,
   "id": "680c4300",
   "metadata": {},
   "outputs": [],
   "source": [
    "import polars as pl"
   ]
  },
  {
   "cell_type": "markdown",
   "id": "5b1002eb",
   "metadata": {},
   "source": [
    "## GroupBy Context"
   ]
  },
  {
   "cell_type": "code",
   "execution_count": 29,
   "id": "02a88a3c",
   "metadata": {},
   "outputs": [
    {
     "data": {
      "text/plain": [
       "<polars.dataframe.group_by.GroupBy at 0x1d3c9c74350>"
      ]
     },
     "execution_count": 29,
     "metadata": {},
     "output_type": "execute_result"
    }
   ],
   "source": [
    "fruit = pl.read_csv(\"data/fruit.csv\")\n",
    "fruit_grouped = fruit.group_by(\"is_round\")\n",
    "fruit_grouped"
   ]
  },
  {
   "cell_type": "code",
   "execution_count": 30,
   "id": "42d5bb21",
   "metadata": {},
   "outputs": [
    {
     "data": {
      "text/html": [
       "<div><style>\n",
       ".dataframe > thead > tr,\n",
       ".dataframe > tbody > tr {\n",
       "  text-align: right;\n",
       "  white-space: pre-wrap;\n",
       "}\n",
       "</style>\n",
       "<small>shape: (2, 2)</small><table border=\"1\" class=\"dataframe\"><thead><tr><th>is_round</th><th>len</th></tr><tr><td>bool</td><td>u32</td></tr></thead><tbody><tr><td>true</td><td>4</td></tr><tr><td>false</td><td>6</td></tr></tbody></table></div>"
      ],
      "text/plain": [
       "shape: (2, 2)\n",
       "┌──────────┬─────┐\n",
       "│ is_round ┆ len │\n",
       "│ ---      ┆ --- │\n",
       "│ bool     ┆ u32 │\n",
       "╞══════════╪═════╡\n",
       "│ true     ┆ 4   │\n",
       "│ false    ┆ 6   │\n",
       "└──────────┴─────┘"
      ]
     },
     "execution_count": 30,
     "metadata": {},
     "output_type": "execute_result"
    }
   ],
   "source": [
    "fruit_grouped.len()"
   ]
  },
  {
   "cell_type": "markdown",
   "id": "cbd19a96",
   "metadata": {},
   "source": [
    "## Métodos disponibles en el contexto GroupBy\n",
    "\n",
    "| Método                      | Descripción                                                                                   |\n",
    "|-----------------------------|----------------------------------------------------------------------------------------------|\n",
    "| GroupBy.__iter__()          | Permite iterar sobre los grupos (sub-DataFrames) generados por la operación `group_by`.      |\n",
    "| GroupBy.agg(…)              | Calcula agregaciones para cada grupo (sub-DataFrame) de una operación `group_by`.            |\n",
    "| GroupBy.all()               | Agrega los grupos en una Serie.                                                              |\n",
    "| GroupBy.count()             | Devuelve el número de filas en cada grupo.                                                   |\n",
    "| GroupBy.first()             | Agrega los primeros valores de cada grupo.                                                   |\n",
    "| GroupBy.head(…)             | Obtiene las primeras n filas de cada grupo.                                                  |\n",
    "| GroupBy.last()              | Agrega los últimos valores de cada grupo.                                                    |\n",
    "| GroupBy.len(…)              | Devuelve el número de filas en cada grupo.                                                   |\n",
    "| GroupBy.map_groups(…)       | Aplica una función personalizada (UDF) sobre los grupos como sub-DataFrame.                  |\n",
    "| GroupBy.max()               | Reduce los grupos al valor máximo.                                                           |\n",
    "| GroupBy.mean()              | Reduce los grupos al valor medio.                                                            |\n",
    "| GroupBy.median()            | Devuelve la mediana por grupo.                                                               |\n",
    "| GroupBy.min()               | Reduce los grupos al valor mínimo.                                                           |\n",
    "| GroupBy.n_unique()          | Cuenta los valores únicos por grupo.                                                         |\n",
    "| GroupBy.quantile(…)         | Calcula el cuantil por grupo.                                                                |\n",
    "| GroupBy.sum()               | Reduce los grupos a la suma.                                                                 |\n",
    "| GroupBy.tail(…)             | Obtiene las últimas n filas de cada grupo.                                                   |"
   ]
  },
  {
   "cell_type": "markdown",
   "id": "4e0da6aa",
   "metadata": {},
   "source": [
    "- El método `df.set_sorted()` informa a Polars que la columna `positie` ya está ordenada. Esto permite que Polars aplique optimizaciones rápidas (fast path) que solo son posibles si sabe que los datos están ordenados.\n",
    "- Estas optimizaciones mejoran el rendimiento al aprovechar el conocimiento sobre el orden de los datos.\n",
    "- Es fundamental asegurarse de que la columna realmente esté ordenada antes de usar este método, ya que un uso incorrecto puede provocar resultados erróneos debido a suposiciones falsas sobre los datos."
   ]
  },
  {
   "cell_type": "code",
   "execution_count": 31,
   "id": "28548bc3",
   "metadata": {},
   "outputs": [],
   "source": [
    "top2000 = pl.read_excel(\n",
    "    \"data/top2000-2023.xlsx\", read_options={\"skip_rows\": 1}\n",
    ").set_sorted(\"positie\")"
   ]
  },
  {
   "cell_type": "code",
   "execution_count": 32,
   "id": "055b6a1b",
   "metadata": {},
   "outputs": [
    {
     "data": {
      "text/html": [
       "<div><style>\n",
       ".dataframe > thead > tr,\n",
       ".dataframe > tbody > tr {\n",
       "  text-align: right;\n",
       "  white-space: pre-wrap;\n",
       "}\n",
       "</style>\n",
       "<small>shape: (5, 4)</small><table border=\"1\" class=\"dataframe\"><thead><tr><th>positie</th><th>titel</th><th>artiest</th><th>jaar</th></tr><tr><td>i64</td><td>str</td><td>str</td><td>i64</td></tr></thead><tbody><tr><td>1</td><td>&quot;Bohemian Rhapsody&quot;</td><td>&quot;Queen&quot;</td><td>1975</td></tr><tr><td>2</td><td>&quot;Roller Coaster&quot;</td><td>&quot;Danny Vera&quot;</td><td>2019</td></tr><tr><td>3</td><td>&quot;Hotel California&quot;</td><td>&quot;Eagles&quot;</td><td>1977</td></tr><tr><td>4</td><td>&quot;Piano Man&quot;</td><td>&quot;Billy Joel&quot;</td><td>1974</td></tr><tr><td>5</td><td>&quot;Fix You&quot;</td><td>&quot;Coldplay&quot;</td><td>2005</td></tr></tbody></table></div>"
      ],
      "text/plain": [
       "shape: (5, 4)\n",
       "┌─────────┬───────────────────┬────────────┬──────┐\n",
       "│ positie ┆ titel             ┆ artiest    ┆ jaar │\n",
       "│ ---     ┆ ---               ┆ ---        ┆ ---  │\n",
       "│ i64     ┆ str               ┆ str        ┆ i64  │\n",
       "╞═════════╪═══════════════════╪════════════╪══════╡\n",
       "│ 1       ┆ Bohemian Rhapsody ┆ Queen      ┆ 1975 │\n",
       "│ 2       ┆ Roller Coaster    ┆ Danny Vera ┆ 2019 │\n",
       "│ 3       ┆ Hotel California  ┆ Eagles     ┆ 1977 │\n",
       "│ 4       ┆ Piano Man         ┆ Billy Joel ┆ 1974 │\n",
       "│ 5       ┆ Fix You           ┆ Coldplay   ┆ 2005 │\n",
       "└─────────┴───────────────────┴────────────┴──────┘"
      ]
     },
     "execution_count": 32,
     "metadata": {},
     "output_type": "execute_result"
    }
   ],
   "source": [
    "top2000.head()"
   ]
  },
  {
   "cell_type": "code",
   "execution_count": 33,
   "id": "f9c240ac",
   "metadata": {},
   "outputs": [
    {
     "data": {
      "text/html": [
       "<div><style>\n",
       ".dataframe > thead > tr,\n",
       ".dataframe > tbody > tr {\n",
       "  text-align: right;\n",
       "  white-space: pre-wrap;\n",
       "}\n",
       "</style>\n",
       "<small>shape: (67, 2)</small><table border=\"1\" class=\"dataframe\"><thead><tr><th>jaar</th><th>songs</th></tr><tr><td>i64</td><td>list[str]</td></tr></thead><tbody><tr><td>2022</td><td>[&quot;Son Mieux - Multicolor&quot;, &quot;Bankzitters - Je Blik Richting Mij&quot;, … &quot;Måneskin - THE LONELIEST&quot;]</td></tr><tr><td>2021</td><td>[&quot;Goldband - Noodgeval&quot;, &quot;Bankzitters - Stapelgek&quot;, … &quot;Olivia Rodrigo - Drivers License&quot;]</td></tr><tr><td>2020</td><td>[&quot;DI-RECT - Soldier On&quot;, &quot;Miss Montreal - Door De Wind&quot;, … &quot;Dua Lipa ft. DaBaby - Levitating&quot;]</td></tr><tr><td>2019</td><td>[&quot;Danny Vera - Roller Coaster&quot;, &quot;Floor Jansen &amp; Henk Poort - Phantom Of The Opera&quot;, … &quot;Tino Martin - Zij Weet Het&quot;]</td></tr><tr><td>2018</td><td>[&quot;Lady Gaga &amp; Bradley Cooper - Shallow&quot;, &quot;White Lies - Time To Give&quot;, … &quot;Calvin Harris &amp; Dua Lipa - One Kiss&quot;]</td></tr><tr><td>&hellip;</td><td>&hellip;</td></tr><tr><td>1960</td><td>[&quot;Etta James - At Last&quot;, &quot;Shadows - Apache&quot;]</td></tr><tr><td>1959</td><td>[&quot;Jacques Brel - Ne Me Quitte Pas&quot;, &quot;Elvis Presley - Hound Dog&quot;]</td></tr><tr><td>1958</td><td>[&quot;Chuck Berry - Johnny B. Goode&quot;, &quot;Ella Fitzgerald &amp; Louis Armstrong - Summertime&quot;]</td></tr><tr><td>1957</td><td>[&quot;Johnny Cash - I Walk The Line&quot;, &quot;Elvis Presley - Jailhouse Rock&quot;, … &quot;Fats Domino - Blueberry Hill&quot;]</td></tr><tr><td>1956</td><td>[&quot;Elvis Presley - Love Me Tender&quot;, &quot;Elvis Presley - Blue Suede Shoes&quot;]</td></tr></tbody></table></div>"
      ],
      "text/plain": [
       "shape: (67, 2)\n",
       "┌──────┬─────────────────────────────────┐\n",
       "│ jaar ┆ songs                           │\n",
       "│ ---  ┆ ---                             │\n",
       "│ i64  ┆ list[str]                       │\n",
       "╞══════╪═════════════════════════════════╡\n",
       "│ 2022 ┆ [\"Son Mieux - Multicolor\", \"Ba… │\n",
       "│ 2021 ┆ [\"Goldband - Noodgeval\", \"Bank… │\n",
       "│ 2020 ┆ [\"DI-RECT - Soldier On\", \"Miss… │\n",
       "│ 2019 ┆ [\"Danny Vera - Roller Coaster\"… │\n",
       "│ 2018 ┆ [\"Lady Gaga & Bradley Cooper -… │\n",
       "│ …    ┆ …                               │\n",
       "│ 1960 ┆ [\"Etta James - At Last\", \"Shad… │\n",
       "│ 1959 ┆ [\"Jacques Brel - Ne Me Quitte … │\n",
       "│ 1958 ┆ [\"Chuck Berry - Johnny B. Good… │\n",
       "│ 1957 ┆ [\"Johnny Cash - I Walk The Lin… │\n",
       "│ 1956 ┆ [\"Elvis Presley - Love Me Tend… │\n",
       "└──────┴─────────────────────────────────┘"
      ]
     },
     "execution_count": 33,
     "metadata": {},
     "output_type": "execute_result"
    }
   ],
   "source": [
    "# Agrupa las canciones por año y concatena artista y título en una sola cadena por grupo.\n",
    "(\n",
    "    top2000.group_by(\"jaar\")\n",
    "    .agg(\n",
    "        songs=pl.concat_str(             # Concatena strings\n",
    "            pl.col(\"artiest\"), pl.lit(\" - \"), pl.col(\"titel\")\n",
    "        ),\n",
    "    )\n",
    "    .sort(\"jaar\", descending=True)\n",
    ")"
   ]
  },
  {
   "cell_type": "code",
   "execution_count": 34,
   "id": "521b15ba",
   "metadata": {},
   "outputs": [
    {
     "data": {
      "text/html": [
       "<div><style>\n",
       ".dataframe > thead > tr,\n",
       ".dataframe > tbody > tr {\n",
       "  text-align: right;\n",
       "  white-space: pre-wrap;\n",
       "}\n",
       "</style>\n",
       "<small>shape: (9, 4)</small><table border=\"1\" class=\"dataframe\"><thead><tr><th>jaar</th><th>positie</th><th>titel</th><th>artiest</th></tr><tr><td>i64</td><td>i64</td><td>str</td><td>str</td></tr></thead><tbody><tr><td>2022</td><td>179</td><td>&quot;Multicolor&quot;</td><td>&quot;Son Mieux&quot;</td></tr><tr><td>2022</td><td>370</td><td>&quot;Je Blik Richting Mij&quot;</td><td>&quot;Bankzitters&quot;</td></tr><tr><td>2022</td><td>395</td><td>&quot;L&#x27;enfer&quot;</td><td>&quot;Stromae&quot;</td></tr><tr><td>2021</td><td>55</td><td>&quot;Noodgeval&quot;</td><td>&quot;Goldband&quot;</td></tr><tr><td>2021</td><td>149</td><td>&quot;Stapelgek&quot;</td><td>&quot;Bankzitters&quot;</td></tr><tr><td>2021</td><td>210</td><td>&quot;Dat Heb Jij Gedaan&quot;</td><td>&quot;Meau&quot;</td></tr><tr><td>2020</td><td>19</td><td>&quot;Soldier On&quot;</td><td>&quot;DI-RECT&quot;</td></tr><tr><td>2020</td><td>38</td><td>&quot;Door De Wind&quot;</td><td>&quot;Miss Montreal&quot;</td></tr><tr><td>2020</td><td>77</td><td>&quot;Impossible (Orchestral Version…</td><td>&quot;Nothing But Thieves&quot;</td></tr></tbody></table></div>"
      ],
      "text/plain": [
       "shape: (9, 4)\n",
       "┌──────┬─────────┬─────────────────────────────────┬─────────────────────┐\n",
       "│ jaar ┆ positie ┆ titel                           ┆ artiest             │\n",
       "│ ---  ┆ ---     ┆ ---                             ┆ ---                 │\n",
       "│ i64  ┆ i64     ┆ str                             ┆ str                 │\n",
       "╞══════╪═════════╪═════════════════════════════════╪═════════════════════╡\n",
       "│ 2022 ┆ 179     ┆ Multicolor                      ┆ Son Mieux           │\n",
       "│ 2022 ┆ 370     ┆ Je Blik Richting Mij            ┆ Bankzitters         │\n",
       "│ 2022 ┆ 395     ┆ L'enfer                         ┆ Stromae             │\n",
       "│ 2021 ┆ 55      ┆ Noodgeval                       ┆ Goldband            │\n",
       "│ 2021 ┆ 149     ┆ Stapelgek                       ┆ Bankzitters         │\n",
       "│ 2021 ┆ 210     ┆ Dat Heb Jij Gedaan              ┆ Meau                │\n",
       "│ 2020 ┆ 19      ┆ Soldier On                      ┆ DI-RECT             │\n",
       "│ 2020 ┆ 38      ┆ Door De Wind                    ┆ Miss Montreal       │\n",
       "│ 2020 ┆ 77      ┆ Impossible (Orchestral Version… ┆ Nothing But Thieves │\n",
       "└──────┴─────────┴─────────────────────────────────┴─────────────────────┘"
      ]
     },
     "execution_count": 34,
     "metadata": {},
     "output_type": "execute_result"
    }
   ],
   "source": [
    "(\n",
    "    top2000.group_by(\"jaar\", maintain_order=True) # Agrupar por año y mantener orden\n",
    "    .head(3) # Tomar los top 3 de canciones por año\n",
    "    .sort(\"jaar\", descending=True) # Ajustar por año\n",
    "    .head(9) # Tomar solo los 3 años más recientes su top3\n",
    ")"
   ]
  },
  {
   "cell_type": "code",
   "execution_count": 35,
   "id": "3b252ea1",
   "metadata": {},
   "outputs": [
    {
     "data": {
      "text/html": [
       "<div><style>\n",
       ".dataframe > thead > tr,\n",
       ".dataframe > tbody > tr {\n",
       "  text-align: right;\n",
       "  white-space: pre-wrap;\n",
       "}\n",
       "</style>\n",
       "<small>shape: (9, 4)</small><table border=\"1\" class=\"dataframe\"><thead><tr><th>jaar</th><th>positie</th><th>titel</th><th>artiest</th></tr><tr><td>i64</td><td>i64</td><td>str</td><td>str</td></tr></thead><tbody><tr><td>2022</td><td>1391</td><td>&quot;De Diepte&quot;</td><td>&quot;S10&quot;</td></tr><tr><td>2022</td><td>1688</td><td>&quot;Zeit&quot;</td><td>&quot;Rammstein&quot;</td></tr><tr><td>2022</td><td>1716</td><td>&quot;THE LONELIEST&quot;</td><td>&quot;Måneskin&quot;</td></tr><tr><td>2021</td><td>1865</td><td>&quot;Bon Gepakt&quot;</td><td>&quot;Donnie &amp; Rene Froger&quot;</td></tr><tr><td>2021</td><td>1978</td><td>&quot;Hold On&quot;</td><td>&quot;Armin van Buuren ft. Davina Mi…</td></tr><tr><td>2021</td><td>2000</td><td>&quot;Drivers License&quot;</td><td>&quot;Olivia Rodrigo&quot;</td></tr><tr><td>2020</td><td>1824</td><td>&quot;Smoorverliefd&quot;</td><td>&quot;Snelle&quot;</td></tr><tr><td>2020</td><td>1879</td><td>&quot;The Business&quot;</td><td>&quot;Tiësto&quot;</td></tr><tr><td>2020</td><td>1902</td><td>&quot;Levitating&quot;</td><td>&quot;Dua Lipa ft. DaBaby&quot;</td></tr></tbody></table></div>"
      ],
      "text/plain": [
       "shape: (9, 4)\n",
       "┌──────┬─────────┬─────────────────┬─────────────────────────────────┐\n",
       "│ jaar ┆ positie ┆ titel           ┆ artiest                         │\n",
       "│ ---  ┆ ---     ┆ ---             ┆ ---                             │\n",
       "│ i64  ┆ i64     ┆ str             ┆ str                             │\n",
       "╞══════╪═════════╪═════════════════╪═════════════════════════════════╡\n",
       "│ 2022 ┆ 1391    ┆ De Diepte       ┆ S10                             │\n",
       "│ 2022 ┆ 1688    ┆ Zeit            ┆ Rammstein                       │\n",
       "│ 2022 ┆ 1716    ┆ THE LONELIEST   ┆ Måneskin                        │\n",
       "│ 2021 ┆ 1865    ┆ Bon Gepakt      ┆ Donnie & Rene Froger            │\n",
       "│ 2021 ┆ 1978    ┆ Hold On         ┆ Armin van Buuren ft. Davina Mi… │\n",
       "│ 2021 ┆ 2000    ┆ Drivers License ┆ Olivia Rodrigo                  │\n",
       "│ 2020 ┆ 1824    ┆ Smoorverliefd   ┆ Snelle                          │\n",
       "│ 2020 ┆ 1879    ┆ The Business    ┆ Tiësto                          │\n",
       "│ 2020 ┆ 1902    ┆ Levitating      ┆ Dua Lipa ft. DaBaby             │\n",
       "└──────┴─────────┴─────────────────┴─────────────────────────────────┘"
      ]
     },
     "execution_count": 35,
     "metadata": {},
     "output_type": "execute_result"
    }
   ],
   "source": [
    "(\n",
    "    top2000.group_by(\"jaar\", maintain_order=True)\n",
    "    .tail(3)\n",
    "    .sort(\"jaar\", descending=True)\n",
    "    .head(9)\n",
    " )"
   ]
  },
  {
   "cell_type": "code",
   "execution_count": 36,
   "id": "7daf5169",
   "metadata": {},
   "outputs": [
    {
     "data": {
      "text/html": [
       "<div><style>\n",
       ".dataframe > thead > tr,\n",
       ".dataframe > tbody > tr {\n",
       "  text-align: right;\n",
       "  white-space: pre-wrap;\n",
       "}\n",
       "</style>\n",
       "<small>shape: (10, 2)</small><table border=\"1\" class=\"dataframe\"><thead><tr><th>artiest</th><th>len</th></tr><tr><td>str</td><td>u32</td></tr></thead><tbody><tr><td>&quot;Queen&quot;</td><td>34</td></tr><tr><td>&quot;The Beatles&quot;</td><td>31</td></tr><tr><td>&quot;ABBA&quot;</td><td>25</td></tr><tr><td>&quot;Bruce Springsteen&quot;</td><td>22</td></tr><tr><td>&quot;The Rolling Stones&quot;</td><td>22</td></tr><tr><td>&quot;Fleetwood Mac&quot;</td><td>20</td></tr><tr><td>&quot;Coldplay&quot;</td><td>20</td></tr><tr><td>&quot;Michael Jackson&quot;</td><td>20</td></tr><tr><td>&quot;David Bowie&quot;</td><td>18</td></tr><tr><td>&quot;U2&quot;</td><td>18</td></tr></tbody></table></div>"
      ],
      "text/plain": [
       "shape: (10, 2)\n",
       "┌────────────────────┬─────┐\n",
       "│ artiest            ┆ len │\n",
       "│ ---                ┆ --- │\n",
       "│ str                ┆ u32 │\n",
       "╞════════════════════╪═════╡\n",
       "│ Queen              ┆ 34  │\n",
       "│ The Beatles        ┆ 31  │\n",
       "│ ABBA               ┆ 25  │\n",
       "│ Bruce Springsteen  ┆ 22  │\n",
       "│ The Rolling Stones ┆ 22  │\n",
       "│ Fleetwood Mac      ┆ 20  │\n",
       "│ Coldplay           ┆ 20  │\n",
       "│ Michael Jackson    ┆ 20  │\n",
       "│ David Bowie        ┆ 18  │\n",
       "│ U2                 ┆ 18  │\n",
       "└────────────────────┴─────┘"
      ]
     },
     "execution_count": 36,
     "metadata": {},
     "output_type": "execute_result"
    }
   ],
   "source": [
    "(top2000.group_by(\"artiest\").len().sort(\"len\", descending=True).head(10))"
   ]
  },
  {
   "cell_type": "code",
   "execution_count": 37,
   "id": "4d76a07a",
   "metadata": {},
   "outputs": [
    {
     "data": {
      "text/plain": [
       "['Date',\n",
       " 'Day',\n",
       " 'Month',\n",
       " 'Year',\n",
       " 'Customer_Age',\n",
       " 'Age_Group',\n",
       " 'Customer_Gender',\n",
       " 'Country',\n",
       " 'State',\n",
       " 'Product_Category',\n",
       " 'Sub_Category',\n",
       " 'Product',\n",
       " 'Order_Quantity',\n",
       " 'Unit_Cost',\n",
       " 'Unit_Price',\n",
       " 'Profit',\n",
       " 'Cost',\n",
       " 'Revenue']"
      ]
     },
     "execution_count": 37,
     "metadata": {},
     "output_type": "execute_result"
    }
   ],
   "source": [
    "sales = pl.read_csv(\"data/sales.csv\")\n",
    "sales.columns"
   ]
  },
  {
   "cell_type": "code",
   "execution_count": 38,
   "id": "451d1ce2",
   "metadata": {},
   "outputs": [
    {
     "data": {
      "text/html": [
       "<div><style>\n",
       ".dataframe > thead > tr,\n",
       ".dataframe > tbody > tr {\n",
       "  text-align: right;\n",
       "  white-space: pre-wrap;\n",
       "}\n",
       "</style>\n",
       "<small>shape: (10, 3)</small><table border=\"1\" class=\"dataframe\"><thead><tr><th>Product_Category</th><th>Sub_Category</th><th>Unit_Price</th></tr><tr><td>str</td><td>str</td><td>i64</td></tr></thead><tbody><tr><td>&quot;Bikes&quot;</td><td>&quot;Road Bikes&quot;</td><td>3578</td></tr><tr><td>&quot;Bikes&quot;</td><td>&quot;Mountain Bikes&quot;</td><td>3400</td></tr><tr><td>&quot;Clothing&quot;</td><td>&quot;Vests&quot;</td><td>2384</td></tr><tr><td>&quot;Bikes&quot;</td><td>&quot;Touring Bikes&quot;</td><td>2384</td></tr><tr><td>&quot;Accessories&quot;</td><td>&quot;Bike Stands&quot;</td><td>159</td></tr><tr><td>&quot;Accessories&quot;</td><td>&quot;Bike Racks&quot;</td><td>120</td></tr><tr><td>&quot;Clothing&quot;</td><td>&quot;Socks&quot;</td><td>70</td></tr><tr><td>&quot;Clothing&quot;</td><td>&quot;Shorts&quot;</td><td>70</td></tr><tr><td>&quot;Accessories&quot;</td><td>&quot;Hydration Packs&quot;</td><td>55</td></tr><tr><td>&quot;Clothing&quot;</td><td>&quot;Jerseys&quot;</td><td>54</td></tr></tbody></table></div>"
      ],
      "text/plain": [
       "shape: (10, 3)\n",
       "┌──────────────────┬─────────────────┬────────────┐\n",
       "│ Product_Category ┆ Sub_Category    ┆ Unit_Price │\n",
       "│ ---              ┆ ---             ┆ ---        │\n",
       "│ str              ┆ str             ┆ i64        │\n",
       "╞══════════════════╪═════════════════╪════════════╡\n",
       "│ Bikes            ┆ Road Bikes      ┆ 3578       │\n",
       "│ Bikes            ┆ Mountain Bikes  ┆ 3400       │\n",
       "│ Clothing         ┆ Vests           ┆ 2384       │\n",
       "│ Bikes            ┆ Touring Bikes   ┆ 2384       │\n",
       "│ Accessories      ┆ Bike Stands     ┆ 159        │\n",
       "│ Accessories      ┆ Bike Racks      ┆ 120        │\n",
       "│ Clothing         ┆ Socks           ┆ 70         │\n",
       "│ Clothing         ┆ Shorts          ┆ 70         │\n",
       "│ Accessories      ┆ Hydration Packs ┆ 55         │\n",
       "│ Clothing         ┆ Jerseys         ┆ 54         │\n",
       "└──────────────────┴─────────────────┴────────────┘"
      ]
     },
     "execution_count": 38,
     "metadata": {},
     "output_type": "execute_result"
    }
   ],
   "source": [
    "(\n",
    "    sales.select(\"Product_Category\", \"Sub_Category\", \"Unit_Price\")  \n",
    "        .group_by(\"Product_Category\", \"Sub_Category\")  \n",
    "        .max()\n",
    "        .sort(\"Unit_Price\", descending=True)  \n",
    "        .head(10)\n",
    ")"
   ]
  },
  {
   "cell_type": "code",
   "execution_count": 39,
   "id": "55802192",
   "metadata": {},
   "outputs": [
    {
     "data": {
      "text/html": [
       "<div><style>\n",
       ".dataframe > thead > tr,\n",
       ".dataframe > tbody > tr {\n",
       "  text-align: right;\n",
       "  white-space: pre-wrap;\n",
       "}\n",
       "</style>\n",
       "<small>shape: (6, 2)</small><table border=\"1\" class=\"dataframe\"><thead><tr><th>Country</th><th>Profit</th></tr><tr><td>str</td><td>i64</td></tr></thead><tbody><tr><td>&quot;United States&quot;</td><td>11073644</td></tr><tr><td>&quot;Australia&quot;</td><td>6776030</td></tr><tr><td>&quot;United Kingdom&quot;</td><td>4413853</td></tr><tr><td>&quot;Canada&quot;</td><td>3717296</td></tr><tr><td>&quot;Germany&quot;</td><td>3359995</td></tr><tr><td>&quot;France&quot;</td><td>2880282</td></tr></tbody></table></div>"
      ],
      "text/plain": [
       "shape: (6, 2)\n",
       "┌────────────────┬──────────┐\n",
       "│ Country        ┆ Profit   │\n",
       "│ ---            ┆ ---      │\n",
       "│ str            ┆ i64      │\n",
       "╞════════════════╪══════════╡\n",
       "│ United States  ┆ 11073644 │\n",
       "│ Australia      ┆ 6776030  │\n",
       "│ United Kingdom ┆ 4413853  │\n",
       "│ Canada         ┆ 3717296  │\n",
       "│ Germany        ┆ 3359995  │\n",
       "│ France         ┆ 2880282  │\n",
       "└────────────────┴──────────┘"
      ]
     },
     "execution_count": 39,
     "metadata": {},
     "output_type": "execute_result"
    }
   ],
   "source": [
    "(\n",
    "    sales.select(\"Country\", \"Profit\")\n",
    "    .group_by(\"Country\")\n",
    "    .sum()\n",
    "    .sort(by=\"Profit\", descending=True)\n",
    ")"
   ]
  },
  {
   "cell_type": "code",
   "execution_count": 40,
   "id": "a0fe5a1e",
   "metadata": {},
   "outputs": [
    {
     "data": {
      "text/html": [
       "<div><style>\n",
       ".dataframe > thead > tr,\n",
       ".dataframe > tbody > tr {\n",
       "  text-align: right;\n",
       "  white-space: pre-wrap;\n",
       "}\n",
       "</style>\n",
       "<small>shape: (10, 2)</small><table border=\"1\" class=\"dataframe\"><thead><tr><th>Sub_Category</th><th>Product</th></tr><tr><td>str</td><td>u32</td></tr></thead><tbody><tr><td>&quot;Road Bikes&quot;</td><td>38</td></tr><tr><td>&quot;Mountain Bikes&quot;</td><td>28</td></tr><tr><td>&quot;Touring Bikes&quot;</td><td>22</td></tr><tr><td>&quot;Tires and Tubes&quot;</td><td>11</td></tr><tr><td>&quot;Jerseys&quot;</td><td>8</td></tr><tr><td>&quot;Gloves&quot;</td><td>4</td></tr><tr><td>&quot;Vests&quot;</td><td>4</td></tr><tr><td>&quot;Bottles and Cages&quot;</td><td>3</td></tr><tr><td>&quot;Shorts&quot;</td><td>3</td></tr><tr><td>&quot;Helmets&quot;</td><td>3</td></tr></tbody></table></div>"
      ],
      "text/plain": [
       "shape: (10, 2)\n",
       "┌───────────────────┬─────────┐\n",
       "│ Sub_Category      ┆ Product │\n",
       "│ ---               ┆ ---     │\n",
       "│ str               ┆ u32     │\n",
       "╞═══════════════════╪═════════╡\n",
       "│ Road Bikes        ┆ 38      │\n",
       "│ Mountain Bikes    ┆ 28      │\n",
       "│ Touring Bikes     ┆ 22      │\n",
       "│ Tires and Tubes   ┆ 11      │\n",
       "│ Jerseys           ┆ 8       │\n",
       "│ Gloves            ┆ 4       │\n",
       "│ Vests             ┆ 4       │\n",
       "│ Bottles and Cages ┆ 3       │\n",
       "│ Shorts            ┆ 3       │\n",
       "│ Helmets           ┆ 3       │\n",
       "└───────────────────┴─────────┘"
      ]
     },
     "execution_count": 40,
     "metadata": {},
     "output_type": "execute_result"
    }
   ],
   "source": [
    "(\n",
    "    sales.select(\"Sub_Category\", \"Product\")\n",
    "    .group_by(\"Sub_Category\")\n",
    "    .n_unique()\n",
    "    .sort(\"Product\", descending=True)\n",
    "    .head(10)\n",
    ")"
   ]
  },
  {
   "cell_type": "code",
   "execution_count": 41,
   "id": "8f3b7736",
   "metadata": {},
   "outputs": [
    {
     "data": {
      "text/html": [
       "<div><style>\n",
       ".dataframe > thead > tr,\n",
       ".dataframe > tbody > tr {\n",
       "  text-align: right;\n",
       "  white-space: pre-wrap;\n",
       "}\n",
       "</style>\n",
       "<small>shape: (4, 2)</small><table border=\"1\" class=\"dataframe\"><thead><tr><th>Age_Group</th><th>Order_Quantity</th></tr><tr><td>str</td><td>f64</td></tr></thead><tbody><tr><td>&quot;Seniors (64+)&quot;</td><td>13.530137</td></tr><tr><td>&quot;Youth (&lt;25)&quot;</td><td>12.124018</td></tr><tr><td>&quot;Adults (35-64)&quot;</td><td>12.045303</td></tr><tr><td>&quot;Young Adults (25-34)&quot;</td><td>11.560899</td></tr></tbody></table></div>"
      ],
      "text/plain": [
       "shape: (4, 2)\n",
       "┌──────────────────────┬────────────────┐\n",
       "│ Age_Group            ┆ Order_Quantity │\n",
       "│ ---                  ┆ ---            │\n",
       "│ str                  ┆ f64            │\n",
       "╞══════════════════════╪════════════════╡\n",
       "│ Seniors (64+)        ┆ 13.530137      │\n",
       "│ Youth (<25)          ┆ 12.124018      │\n",
       "│ Adults (35-64)       ┆ 12.045303      │\n",
       "│ Young Adults (25-34) ┆ 11.560899      │\n",
       "└──────────────────────┴────────────────┘"
      ]
     },
     "execution_count": 41,
     "metadata": {},
     "output_type": "execute_result"
    }
   ],
   "source": [
    "(\n",
    "    sales.select(\"Age_Group\", \"Order_Quantity\")\n",
    "    .group_by(\"Age_Group\")\n",
    "    .mean()\n",
    "    .sort(\"Order_Quantity\", descending=True)\n",
    ")"
   ]
  },
  {
   "cell_type": "code",
   "execution_count": 42,
   "id": "e39542d9",
   "metadata": {},
   "outputs": [
    {
     "data": {
      "text/html": [
       "<div><style>\n",
       ".dataframe > thead > tr,\n",
       ".dataframe > tbody > tr {\n",
       "  text-align: right;\n",
       "  white-space: pre-wrap;\n",
       "}\n",
       "</style>\n",
       "<small>shape: (4, 2)</small><table border=\"1\" class=\"dataframe\"><thead><tr><th>Age_Group</th><th>Revenue</th></tr><tr><td>str</td><td>f64</td></tr></thead><tbody><tr><td>&quot;Young Adults (25-34)&quot;</td><td>2227.0</td></tr><tr><td>&quot;Adults (35-64)&quot;</td><td>2217.0</td></tr><tr><td>&quot;Youth (&lt;25)&quot;</td><td>1997.0</td></tr><tr><td>&quot;Seniors (64+)&quot;</td><td>943.0</td></tr></tbody></table></div>"
      ],
      "text/plain": [
       "shape: (4, 2)\n",
       "┌──────────────────────┬─────────┐\n",
       "│ Age_Group            ┆ Revenue │\n",
       "│ ---                  ┆ ---     │\n",
       "│ str                  ┆ f64     │\n",
       "╞══════════════════════╪═════════╡\n",
       "│ Young Adults (25-34) ┆ 2227.0  │\n",
       "│ Adults (35-64)       ┆ 2217.0  │\n",
       "│ Youth (<25)          ┆ 1997.0  │\n",
       "│ Seniors (64+)        ┆ 943.0   │\n",
       "└──────────────────────┴─────────┘"
      ]
     },
     "execution_count": 42,
     "metadata": {},
     "output_type": "execute_result"
    }
   ],
   "source": [
    "(\n",
    "    sales.select(\"Age_Group\", \"Revenue\")\n",
    "    .group_by(\"Age_Group\")\n",
    "    .quantile(0.9)\n",
    "    .sort(\"Revenue\", descending=True)\n",
    ")"
   ]
  },
  {
   "cell_type": "markdown",
   "id": "f1222821",
   "metadata": {},
   "source": [
    "## Advanced Methods"
   ]
  },
  {
   "cell_type": "code",
   "execution_count": 43,
   "id": "5c5a1642",
   "metadata": {},
   "outputs": [
    {
     "data": {
      "text/html": [
       "<div><style>\n",
       ".dataframe > thead > tr,\n",
       ".dataframe > tbody > tr {\n",
       "  text-align: right;\n",
       "  white-space: pre-wrap;\n",
       "}\n",
       "</style>\n",
       "<small>shape: (6, 3)</small><table border=\"1\" class=\"dataframe\"><thead><tr><th>Country</th><th>Profit</th><th>Revenue</th></tr><tr><td>str</td><td>list[i64]</td><td>list[i64]</td></tr></thead><tbody><tr><td>&quot;United Kingdom&quot;</td><td>[1053, 1053, … 112]</td><td>[1728, 1728, … 184]</td></tr><tr><td>&quot;Australia&quot;</td><td>[1366, 1188, … 655]</td><td>[2401, 2088, … 1183]</td></tr><tr><td>&quot;France&quot;</td><td>[427, 427, … 655]</td><td>[787, 787, … 1207]</td></tr><tr><td>&quot;Canada&quot;</td><td>[590, 590, … 630]</td><td>[950, 950, … 1014]</td></tr><tr><td>&quot;Germany&quot;</td><td>[160, 53, … 746]</td><td>[295, 98, … 1250]</td></tr><tr><td>&quot;United States&quot;</td><td>[524, 407, … 542]</td><td>[929, 722, … 878]</td></tr></tbody></table></div>"
      ],
      "text/plain": [
       "shape: (6, 3)\n",
       "┌────────────────┬─────────────────────┬──────────────────────┐\n",
       "│ Country        ┆ Profit              ┆ Revenue              │\n",
       "│ ---            ┆ ---                 ┆ ---                  │\n",
       "│ str            ┆ list[i64]           ┆ list[i64]            │\n",
       "╞════════════════╪═════════════════════╪══════════════════════╡\n",
       "│ United Kingdom ┆ [1053, 1053, … 112] ┆ [1728, 1728, … 184]  │\n",
       "│ Australia      ┆ [1366, 1188, … 655] ┆ [2401, 2088, … 1183] │\n",
       "│ France         ┆ [427, 427, … 655]   ┆ [787, 787, … 1207]   │\n",
       "│ Canada         ┆ [590, 590, … 630]   ┆ [950, 950, … 1014]   │\n",
       "│ Germany        ┆ [160, 53, … 746]    ┆ [295, 98, … 1250]    │\n",
       "│ United States  ┆ [524, 407, … 542]   ┆ [929, 722, … 878]    │\n",
       "└────────────────┴─────────────────────┴──────────────────────┘"
      ]
     },
     "execution_count": 43,
     "metadata": {},
     "output_type": "execute_result"
    }
   ],
   "source": [
    "(\n",
    "    sales.select(\"Country\", \"Profit\", \"Revenue\")\n",
    "    .group_by(\"Country\")\n",
    "    .agg(\n",
    "        pl.col(\"Profit\"),\n",
    "        pl.col(\"Revenue\"),\n",
    "    )\n",
    ")"
   ]
  },
  {
   "cell_type": "code",
   "execution_count": 44,
   "id": "edd09c32",
   "metadata": {},
   "outputs": [
    {
     "data": {
      "text/html": [
       "<div><style>\n",
       ".dataframe > thead > tr,\n",
       ".dataframe > tbody > tr {\n",
       "  text-align: right;\n",
       "  white-space: pre-wrap;\n",
       "}\n",
       "</style>\n",
       "<small>shape: (6, 4)</small><table border=\"1\" class=\"dataframe\"><thead><tr><th>Country</th><th>All Profits Per Transactions</th><th>All Revenue</th><th>Cost</th></tr><tr><td>str</td><td>list[i64]</td><td>list[i64]</td><td>list[i64]</td></tr></thead><tbody><tr><td>&quot;Canada&quot;</td><td>[590, 590, … 630]</td><td>[950, 950, … 1014]</td><td>[360, 360, … 384]</td></tr><tr><td>&quot;United Kingdom&quot;</td><td>[1053, 1053, … 112]</td><td>[1728, 1728, … 184]</td><td>[675, 675, … 72]</td></tr><tr><td>&quot;Australia&quot;</td><td>[1366, 1188, … 655]</td><td>[2401, 2088, … 1183]</td><td>[1035, 900, … 528]</td></tr><tr><td>&quot;United States&quot;</td><td>[524, 407, … 542]</td><td>[929, 722, … 878]</td><td>[405, 315, … 336]</td></tr><tr><td>&quot;Germany&quot;</td><td>[160, 53, … 746]</td><td>[295, 98, … 1250]</td><td>[135, 45, … 504]</td></tr><tr><td>&quot;France&quot;</td><td>[427, 427, … 655]</td><td>[787, 787, … 1207]</td><td>[360, 360, … 552]</td></tr></tbody></table></div>"
      ],
      "text/plain": [
       "shape: (6, 4)\n",
       "┌────────────────┬──────────────────────────────┬──────────────────────┬────────────────────┐\n",
       "│ Country        ┆ All Profits Per Transactions ┆ All Revenue          ┆ Cost               │\n",
       "│ ---            ┆ ---                          ┆ ---                  ┆ ---                │\n",
       "│ str            ┆ list[i64]                    ┆ list[i64]            ┆ list[i64]          │\n",
       "╞════════════════╪══════════════════════════════╪══════════════════════╪════════════════════╡\n",
       "│ Canada         ┆ [590, 590, … 630]            ┆ [950, 950, … 1014]   ┆ [360, 360, … 384]  │\n",
       "│ United Kingdom ┆ [1053, 1053, … 112]          ┆ [1728, 1728, … 184]  ┆ [675, 675, … 72]   │\n",
       "│ Australia      ┆ [1366, 1188, … 655]          ┆ [2401, 2088, … 1183] ┆ [1035, 900, … 528] │\n",
       "│ United States  ┆ [524, 407, … 542]            ┆ [929, 722, … 878]    ┆ [405, 315, … 336]  │\n",
       "│ Germany        ┆ [160, 53, … 746]             ┆ [295, 98, … 1250]    ┆ [135, 45, … 504]   │\n",
       "│ France         ┆ [427, 427, … 655]            ┆ [787, 787, … 1207]   ┆ [360, 360, … 552]  │\n",
       "└────────────────┴──────────────────────────────┴──────────────────────┴────────────────────┘"
      ]
     },
     "execution_count": 44,
     "metadata": {},
     "output_type": "execute_result"
    }
   ],
   "source": [
    "(\n",
    "    sales.group_by(\"Country\").agg(\n",
    "        pl.col(\"Profit\").alias(\"All Profits Per Transactions\"),\n",
    "        pl.col(\"Revenue\").name.prefix(\"All \"),\n",
    "        Cost=pl.col(\"Revenue\") - pl.col(\"Profit\")\n",
    "    )\n",
    ")"
   ]
  },
  {
   "cell_type": "markdown",
   "id": "b5f03418",
   "metadata": {},
   "source": [
    "### Apply multiple aggregations at once"
   ]
  },
  {
   "cell_type": "code",
   "execution_count": 45,
   "id": "40783a1a",
   "metadata": {},
   "outputs": [
    {
     "data": {
      "text/html": [
       "<div><style>\n",
       ".dataframe > thead > tr,\n",
       ".dataframe > tbody > tr {\n",
       "  text-align: right;\n",
       "  white-space: pre-wrap;\n",
       "}\n",
       "</style>\n",
       "<small>shape: (6, 5)</small><table border=\"1\" class=\"dataframe\"><thead><tr><th>Country</th><th>Total Profit</th><th>Average Profit per Transaction</th><th>Total Revenue</th><th>Average Revenue per Transaction</th></tr><tr><td>str</td><td>i64</td><td>f64</td><td>i64</td><td>f64</td></tr></thead><tbody><tr><td>&quot;Australia&quot;</td><td>6776030</td><td>283.089489</td><td>21302059</td><td>889.959016</td></tr><tr><td>&quot;Germany&quot;</td><td>3359995</td><td>302.756803</td><td>8978596</td><td>809.028293</td></tr><tr><td>&quot;Canada&quot;</td><td>3717296</td><td>262.187615</td><td>7935738</td><td>559.721964</td></tr><tr><td>&quot;France&quot;</td><td>2880282</td><td>261.891435</td><td>8432872</td><td>766.764139</td></tr><tr><td>&quot;United States&quot;</td><td>11073644</td><td>282.447687</td><td>27975547</td><td>713.552696</td></tr><tr><td>&quot;United Kingdom&quot;</td><td>4413853</td><td>324.071439</td><td>10646196</td><td>781.659031</td></tr></tbody></table></div>"
      ],
      "text/plain": [
       "shape: (6, 5)\n",
       "┌────────────────┬──────────────┬────────────────────┬───────────────┬─────────────────────┐\n",
       "│ Country        ┆ Total Profit ┆ Average Profit per ┆ Total Revenue ┆ Average Revenue per │\n",
       "│ ---            ┆ ---          ┆ Transaction        ┆ ---           ┆ Transactio…         │\n",
       "│ str            ┆ i64          ┆ ---                ┆ i64           ┆ ---                 │\n",
       "│                ┆              ┆ f64                ┆               ┆ f64                 │\n",
       "╞════════════════╪══════════════╪════════════════════╪═══════════════╪═════════════════════╡\n",
       "│ Australia      ┆ 6776030      ┆ 283.089489         ┆ 21302059      ┆ 889.959016          │\n",
       "│ Germany        ┆ 3359995      ┆ 302.756803         ┆ 8978596       ┆ 809.028293          │\n",
       "│ Canada         ┆ 3717296      ┆ 262.187615         ┆ 7935738       ┆ 559.721964          │\n",
       "│ France         ┆ 2880282      ┆ 261.891435         ┆ 8432872       ┆ 766.764139          │\n",
       "│ United States  ┆ 11073644     ┆ 282.447687         ┆ 27975547      ┆ 713.552696          │\n",
       "│ United Kingdom ┆ 4413853      ┆ 324.071439         ┆ 10646196      ┆ 781.659031          │\n",
       "└────────────────┴──────────────┴────────────────────┴───────────────┴─────────────────────┘"
      ]
     },
     "execution_count": 45,
     "metadata": {},
     "output_type": "execute_result"
    }
   ],
   "source": [
    "(    \n",
    "    sales.select(\"Country\", \"Profit\", \"Revenue\")\n",
    "    .group_by(\"Country\")\n",
    "    .agg(\n",
    "        pl.col(\"Profit\").sum().name.prefix(\"Total \"),\n",
    "        pl.col(\"Profit\").mean().alias(\"Average Profit per Transaction\"),\n",
    "        pl.col(\"Revenue\").sum().name.prefix(\"Total \"),\n",
    "        pl.col(\"Revenue\").mean().alias(\"Average Revenue per Transaction\")\n",
    "    )\n",
    ")"
   ]
  },
  {
   "cell_type": "code",
   "execution_count": 46,
   "id": "9a15564b",
   "metadata": {},
   "outputs": [
    {
     "data": {
      "text/html": [
       "<div><style>\n",
       ".dataframe > thead > tr,\n",
       ".dataframe > tbody > tr {\n",
       "  text-align: right;\n",
       "  white-space: pre-wrap;\n",
       "}\n",
       "</style>\n",
       "<small>shape: (6, 5)</small><table border=\"1\" class=\"dataframe\"><thead><tr><th>Country</th><th>Total Profit</th><th>Total Revenue</th><th>Average Profit</th><th>Average Revenue</th></tr><tr><td>str</td><td>i64</td><td>i64</td><td>f64</td><td>f64</td></tr></thead><tbody><tr><td>&quot;France&quot;</td><td>2880282</td><td>8432872</td><td>261.891435</td><td>766.764139</td></tr><tr><td>&quot;United States&quot;</td><td>11073644</td><td>27975547</td><td>282.447687</td><td>713.552696</td></tr><tr><td>&quot;Germany&quot;</td><td>3359995</td><td>8978596</td><td>302.756803</td><td>809.028293</td></tr><tr><td>&quot;Australia&quot;</td><td>6776030</td><td>21302059</td><td>283.089489</td><td>889.959016</td></tr><tr><td>&quot;Canada&quot;</td><td>3717296</td><td>7935738</td><td>262.187615</td><td>559.721964</td></tr><tr><td>&quot;United Kingdom&quot;</td><td>4413853</td><td>10646196</td><td>324.071439</td><td>781.659031</td></tr></tbody></table></div>"
      ],
      "text/plain": [
       "shape: (6, 5)\n",
       "┌────────────────┬──────────────┬───────────────┬────────────────┬─────────────────┐\n",
       "│ Country        ┆ Total Profit ┆ Total Revenue ┆ Average Profit ┆ Average Revenue │\n",
       "│ ---            ┆ ---          ┆ ---           ┆ ---            ┆ ---             │\n",
       "│ str            ┆ i64          ┆ i64           ┆ f64            ┆ f64             │\n",
       "╞════════════════╪══════════════╪═══════════════╪════════════════╪═════════════════╡\n",
       "│ France         ┆ 2880282      ┆ 8432872       ┆ 261.891435     ┆ 766.764139      │\n",
       "│ United States  ┆ 11073644     ┆ 27975547      ┆ 282.447687     ┆ 713.552696      │\n",
       "│ Germany        ┆ 3359995      ┆ 8978596       ┆ 302.756803     ┆ 809.028293      │\n",
       "│ Australia      ┆ 6776030      ┆ 21302059      ┆ 283.089489     ┆ 889.959016      │\n",
       "│ Canada         ┆ 3717296      ┆ 7935738       ┆ 262.187615     ┆ 559.721964      │\n",
       "│ United Kingdom ┆ 4413853      ┆ 10646196      ┆ 324.071439     ┆ 781.659031      │\n",
       "└────────────────┴──────────────┴───────────────┴────────────────┴─────────────────┘"
      ]
     },
     "execution_count": 46,
     "metadata": {},
     "output_type": "execute_result"
    }
   ],
   "source": [
    "(\n",
    "    sales.select(\"Country\", \"Profit\", \"Revenue\")\n",
    "    .group_by(\"Country\")\n",
    "    .agg(\n",
    "        pl.all().sum().name.prefix(\"Total \"),\n",
    "        pl.all().mean().name.prefix(\"Average \"),\n",
    "    )\n",
    ")"
   ]
  },
  {
   "cell_type": "code",
   "execution_count": 47,
   "id": "5879eaad",
   "metadata": {},
   "outputs": [
    {
     "data": {
      "text/html": [
       "<div><style>\n",
       ".dataframe > thead > tr,\n",
       ".dataframe > tbody > tr {\n",
       "  text-align: right;\n",
       "  white-space: pre-wrap;\n",
       "}\n",
       "</style>\n",
       "<small>shape: (6, 3)</small><table border=\"1\" class=\"dataframe\"><thead><tr><th>Country</th><th>Profit &gt; 1000</th><th>Transactions with Profit &gt; 1000</th></tr><tr><td>str</td><td>list[bool]</td><td>u32</td></tr></thead><tbody><tr><td>&quot;Canada&quot;</td><td>[false, false, … false]</td><td>868</td></tr><tr><td>&quot;Germany&quot;</td><td>[false, false, … false]</td><td>659</td></tr><tr><td>&quot;United States&quot;</td><td>[false, false, … false]</td><td>2623</td></tr><tr><td>&quot;France&quot;</td><td>[false, false, … false]</td><td>482</td></tr><tr><td>&quot;Australia&quot;</td><td>[true, true, … false]</td><td>1233</td></tr><tr><td>&quot;United Kingdom&quot;</td><td>[true, true, … false]</td><td>788</td></tr></tbody></table></div>"
      ],
      "text/plain": [
       "shape: (6, 3)\n",
       "┌────────────────┬─────────────────────────┬─────────────────────────────────┐\n",
       "│ Country        ┆ Profit > 1000           ┆ Transactions with Profit > 100… │\n",
       "│ ---            ┆ ---                     ┆ ---                             │\n",
       "│ str            ┆ list[bool]              ┆ u32                             │\n",
       "╞════════════════╪═════════════════════════╪═════════════════════════════════╡\n",
       "│ Canada         ┆ [false, false, … false] ┆ 868                             │\n",
       "│ Germany        ┆ [false, false, … false] ┆ 659                             │\n",
       "│ United States  ┆ [false, false, … false] ┆ 2623                            │\n",
       "│ France         ┆ [false, false, … false] ┆ 482                             │\n",
       "│ Australia      ┆ [true, true, … false]   ┆ 1233                            │\n",
       "│ United Kingdom ┆ [true, true, … false]   ┆ 788                             │\n",
       "└────────────────┴─────────────────────────┴─────────────────────────────────┘"
      ]
     },
     "execution_count": 47,
     "metadata": {},
     "output_type": "execute_result"
    }
   ],
   "source": [
    "(\n",
    "    sales.select(\"Country\", \"Profit\")\n",
    "    .group_by(\"Country\")\n",
    "    .agg(\n",
    "        (pl.col(\"Profit\") > 1000).alias(\"Profit > 1000\"),\n",
    "        (pl.col(\"Profit\") > 1000)\n",
    "        .sum()\n",
    "        .alias(\"Transactions with Profit > 1000\"),\n",
    "    )\n",
    ")"
   ]
  },
  {
   "cell_type": "markdown",
   "id": "ca411c98",
   "metadata": {},
   "source": [
    " The *meta.root_names()* method returns the names of the columns from which\n",
    " the expression originates."
   ]
  },
  {
   "cell_type": "code",
   "execution_count": 48,
   "id": "b24eeca3",
   "metadata": {},
   "outputs": [
    {
     "data": {
      "text/html": [
       "<div><style>\n",
       ".dataframe > thead > tr,\n",
       ".dataframe > tbody > tr {\n",
       "  text-align: right;\n",
       "  white-space: pre-wrap;\n",
       "}\n",
       "</style>\n",
       "<small>shape: (6, 3)</small><table border=\"1\" class=\"dataframe\"><thead><tr><th>Country</th><th>Profit &gt; 1500</th><th>Transactions with Profit &gt; 1500</th></tr><tr><td>str</td><td>list[bool]</td><td>u32</td></tr></thead><tbody><tr><td>&quot;United States&quot;</td><td>[false, false, … false]</td><td>955</td></tr><tr><td>&quot;France&quot;</td><td>[false, false, … false]</td><td>270</td></tr><tr><td>&quot;Australia&quot;</td><td>[false, false, … false]</td><td>567</td></tr><tr><td>&quot;United Kingdom&quot;</td><td>[false, false, … false]</td><td>457</td></tr><tr><td>&quot;Canada&quot;</td><td>[false, false, … false]</td><td>303</td></tr><tr><td>&quot;Germany&quot;</td><td>[false, false, … false]</td><td>317</td></tr></tbody></table></div>"
      ],
      "text/plain": [
       "shape: (6, 3)\n",
       "┌────────────────┬─────────────────────────┬─────────────────────────────────┐\n",
       "│ Country        ┆ Profit > 1500           ┆ Transactions with Profit > 150… │\n",
       "│ ---            ┆ ---                     ┆ ---                             │\n",
       "│ str            ┆ list[bool]              ┆ u32                             │\n",
       "╞════════════════╪═════════════════════════╪═════════════════════════════════╡\n",
       "│ United States  ┆ [false, false, … false] ┆ 955                             │\n",
       "│ France         ┆ [false, false, … false] ┆ 270                             │\n",
       "│ Australia      ┆ [false, false, … false] ┆ 567                             │\n",
       "│ United Kingdom ┆ [false, false, … false] ┆ 457                             │\n",
       "│ Canada         ┆ [false, false, … false] ┆ 303                             │\n",
       "│ Germany        ┆ [false, false, … false] ┆ 317                             │\n",
       "└────────────────┴─────────────────────────┴─────────────────────────────────┘"
      ]
     },
     "execution_count": 48,
     "metadata": {},
     "output_type": "execute_result"
    }
   ],
   "source": [
    "def sum_transactions_above_threshold(\n",
    "    col: pl.Expr, threshold: float\n",
    ") -> tuple[pl.Expr, pl.Expr]:\n",
    "    \"\"\"Sums transactions where the column col exceeds specified threshold\"\"\"\n",
    "    original_column_name = col.meta.root_names()[0]\n",
    "    condition_column = (col > threshold).alias(\n",
    "        f\"{original_column_name} > {threshold}\"\n",
    "    )\n",
    "    new_column = (\n",
    "        (col > threshold)\n",
    "        .sum()\n",
    "        .alias(f\"Transactions with {original_column_name} > {threshold}\")\n",
    "    )\n",
    "    return condition_column, new_column\n",
    "\n",
    "sales.select(\"Country\", \"Profit\").group_by(\"Country\").agg(\n",
    "    *sum_transactions_above_threshold(pl.col(\"Profit\"), 1500)\n",
    ")"
   ]
  },
  {
   "cell_type": "markdown",
   "id": "966b6df2",
   "metadata": {},
   "source": [
    "## Row-Wise Aggregations\n",
    "\n",
    "Polars ofrece varias funciones para realizar agregaciones horizontales (row-wise) de manera eficiente y vectorizada. Las más flexibles son `pl.reduce()` y `pl.fold()`, que permiten aplicar funciones personalizadas sobre varias columnas de cada fila.\n",
    "\n",
    "**Resumen de métodos:**\n",
    "\n",
    "| Método         | Descripción                                                                                   |\n",
    "|----------------|----------------------------------------------------------------------------------------------|\n",
    "| `pl.reduce()`  | Aplica una función acumuladora sobre una lista de expresiones, usando el primer valor como acumulador inicial. |\n",
    "| `pl.fold()`    | Similar a `reduce`, pero permite especificar un valor inicial para el acumulador (`acc`).     |\n",
    "\n",
    "**Argumentos principales (`pl.reduce` y `pl.fold`):**\n",
    "\n",
    "| Argumento | Descripción                                                                                       |\n",
    "|-----------|--------------------------------------------------------------------------------------------------|\n",
    "| `function`| Función que recibe el acumulador y el valor actual, y devuelve el nuevo valor del acumulador.     |\n",
    "| `exprs`   | Lista de expresiones (columnas) sobre las que se aplica la función.                              |\n",
    "| `acc`     | (Solo en `fold`) Valor inicial del acumulador.                                                    |\n",
    "\n",
    "Esto crea una nueva columna `\"weight_plus_name_length\"` que suma el peso y la longitud del nombre para cada fila. Puedes adaptar la función y las columnas según la lógica de agregación que necesites."
   ]
  },
  {
   "cell_type": "code",
   "execution_count": 49,
   "id": "fb4512b0",
   "metadata": {},
   "outputs": [
    {
     "data": {
      "text/html": [
       "<div><style>\n",
       ".dataframe > thead > tr,\n",
       ".dataframe > tbody > tr {\n",
       "  text-align: right;\n",
       "  white-space: pre-wrap;\n",
       "}\n",
       "</style>\n",
       "<small>shape: (1, 4)</small><table border=\"1\" class=\"dataframe\"><thead><tr><th>col1</th><th>col2</th><th>col3</th><th>sum</th></tr><tr><td>i64</td><td>i64</td><td>i64</td><td>i64</td></tr></thead><tbody><tr><td>2</td><td>3</td><td>4</td><td>9</td></tr></tbody></table></div>"
      ],
      "text/plain": [
       "shape: (1, 4)\n",
       "┌──────┬──────┬──────┬─────┐\n",
       "│ col1 ┆ col2 ┆ col3 ┆ sum │\n",
       "│ ---  ┆ ---  ┆ ---  ┆ --- │\n",
       "│ i64  ┆ i64  ┆ i64  ┆ i64 │\n",
       "╞══════╪══════╪══════╪═════╡\n",
       "│ 2    ┆ 3    ┆ 4    ┆ 9   │\n",
       "└──────┴──────┴──────┴─────┘"
      ]
     },
     "execution_count": 49,
     "metadata": {},
     "output_type": "execute_result"
    }
   ],
   "source": [
    "fold_example = pl.DataFrame({\"col1\": [2], \"col2\": [3], \"col3\": [4]})\n",
    "\n",
    "fold_example.with_columns(\n",
    "    sum=pl.fold(\n",
    "        acc=pl.lit(0),\n",
    "        function=lambda acc, x: acc + x,\n",
    "        exprs=pl.col(\"*\"),\n",
    "    )\n",
    ")"
   ]
  },
  {
   "cell_type": "code",
   "execution_count": 50,
   "id": "acf5ffd0",
   "metadata": {},
   "outputs": [
    {
     "data": {
      "text/html": [
       "<div><style>\n",
       ".dataframe > thead > tr,\n",
       ".dataframe > tbody > tr {\n",
       "  text-align: right;\n",
       "  white-space: pre-wrap;\n",
       "}\n",
       "</style>\n",
       "<small>shape: (3, 4)</small><table border=\"1\" class=\"dataframe\"><thead><tr><th>product_A</th><th>product_B</th><th>product_C</th><th>weighted_sum</th></tr><tr><td>i64</td><td>i64</td><td>i64</td><td>f64</td></tr></thead><tbody><tr><td>10</td><td>20</td><td>30</td><td>23.0</td></tr><tr><td>20</td><td>30</td><td>40</td><td>33.0</td></tr><tr><td>30</td><td>40</td><td>50</td><td>43.0</td></tr></tbody></table></div>"
      ],
      "text/plain": [
       "shape: (3, 4)\n",
       "┌───────────┬───────────┬───────────┬──────────────┐\n",
       "│ product_A ┆ product_B ┆ product_C ┆ weighted_sum │\n",
       "│ ---       ┆ ---       ┆ ---       ┆ ---          │\n",
       "│ i64       ┆ i64       ┆ i64       ┆ f64          │\n",
       "╞═══════════╪═══════════╪═══════════╪══════════════╡\n",
       "│ 10        ┆ 20        ┆ 30        ┆ 23.0         │\n",
       "│ 20        ┆ 30        ┆ 40        ┆ 33.0         │\n",
       "│ 30        ┆ 40        ┆ 50        ┆ 43.0         │\n",
       "└───────────┴───────────┴───────────┴──────────────┘"
      ]
     },
     "execution_count": 50,
     "metadata": {},
     "output_type": "execute_result"
    }
   ],
   "source": [
    "# Define the product sales DataFrame\n",
    "products = pl.DataFrame(\n",
    "    {\n",
    "        \"product_A\": [10, 20, 30],\n",
    "        \"product_B\": [20, 30, 40],\n",
    "        \"product_C\": [30, 40, 50],\n",
    "    }\n",
    ")\n",
    "\n",
    "# Define weights for each product\n",
    "weights = {\"product_A\": 0.2, \"product_B\": 0.3, \"product_C\": 0.5}\n",
    "\n",
    "# Create Polars expressions that multiply each column by its respective weight\n",
    "weights_exprs = [\n",
    "    (pl.col(product) * weight).alias(product)\n",
    "    for product, weight in weights.items()\n",
    "]\n",
    "\n",
    "# Apply the fold function to calculate the weighted sum row-wise\n",
    "# - Start with an initial value of 0 for the accumulator\n",
    "# - Use a summing function (lambda acc, x: acc + x)\n",
    "# - Pass the weighted expressions to the fold function\n",
    "products_with_weighted_sum = products.with_columns(\n",
    "    weighted_sum=pl.fold(\n",
    "        acc=pl.lit(0),\n",
    "        function=lambda acc, x: acc + x,\n",
    "        exprs=weights_exprs,\n",
    "    )\n",
    ")\n",
    "\n",
    "products_with_weighted_sum"
   ]
  },
  {
   "cell_type": "markdown",
   "id": "f7b07fbf",
   "metadata": {},
   "source": [
    "## Window Functions in Selection Context\n",
    "\n",
    "Las funciones de ventana permiten agregar información contextual a cada fila sin reducir el DataFrame a grupos agregados. El método `Expr.over()` en Polars permite realizar agregaciones sobre grupos definidos por columnas, manteniendo la estructura original del DataFrame y enriqueciendo cada fila con información del grupo.\n",
    "\n",
    "**Ventajas principales:**\n",
    "- Permite agregar estadísticas de grupo (ej. suma, media) como nuevas columnas.\n",
    "- Mantiene el número de filas original.\n",
    "- Útil para análisis donde se requiere el contexto de cada fila junto con métricas agregadas del grupo.\n",
    "\n",
    "---\n",
    "\n",
    "### Argumentos de `Expr.over()`\n",
    "\n",
    "| Argumento         | Descripción                                                                                                                                                                                                                   |\n",
    "|-------------------|------------------------------------------------------------------------------------------------------------------------------------------------------------------------------------------------------------------------------|\n",
    "| `partition_by`    | Columnas por las que se agrupa. Acepta expresiones o nombres de columna como string.                                                                                                                                        |\n",
    "| `*more_exprs`     | Columnas adicionales para agrupar, especificadas como argumentos posicionales.                                                                                                                                              |\n",
    "| `order_by`        | Ordena las funciones de ventana/agregaciones dentro de los grupos según la expresión pasada.                                                                                                                                |\n",
    "| `mapping_strategy`| Estrategia para mapear los resultados de la agregación al DataFrame original:<br>• `group_to_rows`: Asigna los resultados a su posición original si el tamaño del grupo no cambia.<br>• `join`: Une los grupos como listas.<br>• `explode`: Explota los datos agrupados en nuevas filas, cambiando el número de filas. |\n",
    "\n",
    "---\n",
    "\n",
    "**Nota:**  \n",
    "- `group_to_rows` mantiene la correspondencia fila-grupo si el tamaño no cambia.  \n",
    "- `join` puede ser intensivo en memoria.  \n",
    "- `explode` modifica el número de filas y requiere que los grupos estén ordenados para que el resultado tenga sentido."
   ]
  },
  {
   "cell_type": "code",
   "execution_count": 51,
   "id": "18d9d3d4",
   "metadata": {},
   "outputs": [
    {
     "data": {
      "text/html": [
       "<div><style>\n",
       ".dataframe > thead > tr,\n",
       ".dataframe > tbody > tr {\n",
       "  text-align: right;\n",
       "  white-space: pre-wrap;\n",
       "}\n",
       "</style>\n",
       "<small>shape: (10, 5)</small><table border=\"1\" class=\"dataframe\"><thead><tr><th>jaar</th><th>artiest</th><th>titel</th><th>positie</th><th>year_rank</th></tr><tr><td>i64</td><td>str</td><td>str</td><td>i64</td><td>f64</td></tr></thead><tbody><tr><td>1985</td><td>&quot;Paul McCartney &amp; Frog Chorus&quot;</td><td>&quot;We All Stand Together&quot;</td><td>1622</td><td>45.0</td></tr><tr><td>1977</td><td>&quot;ABBA&quot;</td><td>&quot;Take A Chance On Me&quot;</td><td>636</td><td>23.0</td></tr><tr><td>1970</td><td>&quot;Carpenters&quot;</td><td>&quot;(They Long To Be) Close To You&quot;</td><td>1961</td><td>33.0</td></tr><tr><td>2021</td><td>&quot;Taylor Swift&quot;</td><td>&quot;Willow&quot;</td><td>1399</td><td>38.0</td></tr><tr><td>1985</td><td>&quot;Chris Rea&quot;</td><td>&quot;Josephine&quot;</td><td>1584</td><td>42.0</td></tr><tr><td>1999</td><td>&quot;Gé Reinders&quot;</td><td>&quot;Blaosmuziek&quot;</td><td>1174</td><td>14.0</td></tr><tr><td>1990</td><td>&quot;Frank Boeijen Groep&quot;</td><td>&quot;Zeg Me Dat Het Niet Zo Is&quot;</td><td>251</td><td>5.0</td></tr><tr><td>2008</td><td>&quot;Metallica&quot;</td><td>&quot;The Unforgiven III&quot;</td><td>1210</td><td>11.0</td></tr><tr><td>1991</td><td>&quot;Chris Isaak&quot;</td><td>&quot;Wicked Game&quot;</td><td>416</td><td>19.0</td></tr><tr><td>1994</td><td>&quot;Van Dik Hout&quot;</td><td>&quot;Meer Dan Een Ander&quot;</td><td>1867</td><td>30.0</td></tr></tbody></table></div>"
      ],
      "text/plain": [
       "shape: (10, 5)\n",
       "┌──────┬──────────────────────────────┬────────────────────────────────┬─────────┬───────────┐\n",
       "│ jaar ┆ artiest                      ┆ titel                          ┆ positie ┆ year_rank │\n",
       "│ ---  ┆ ---                          ┆ ---                            ┆ ---     ┆ ---       │\n",
       "│ i64  ┆ str                          ┆ str                            ┆ i64     ┆ f64       │\n",
       "╞══════╪══════════════════════════════╪════════════════════════════════╪═════════╪═══════════╡\n",
       "│ 1985 ┆ Paul McCartney & Frog Chorus ┆ We All Stand Together          ┆ 1622    ┆ 45.0      │\n",
       "│ 1977 ┆ ABBA                         ┆ Take A Chance On Me            ┆ 636     ┆ 23.0      │\n",
       "│ 1970 ┆ Carpenters                   ┆ (They Long To Be) Close To You ┆ 1961    ┆ 33.0      │\n",
       "│ 2021 ┆ Taylor Swift                 ┆ Willow                         ┆ 1399    ┆ 38.0      │\n",
       "│ 1985 ┆ Chris Rea                    ┆ Josephine                      ┆ 1584    ┆ 42.0      │\n",
       "│ 1999 ┆ Gé Reinders                  ┆ Blaosmuziek                    ┆ 1174    ┆ 14.0      │\n",
       "│ 1990 ┆ Frank Boeijen Groep          ┆ Zeg Me Dat Het Niet Zo Is      ┆ 251     ┆ 5.0       │\n",
       "│ 2008 ┆ Metallica                    ┆ The Unforgiven III             ┆ 1210    ┆ 11.0      │\n",
       "│ 1991 ┆ Chris Isaak                  ┆ Wicked Game                    ┆ 416     ┆ 19.0      │\n",
       "│ 1994 ┆ Van Dik Hout                 ┆ Meer Dan Een Ander             ┆ 1867    ┆ 30.0      │\n",
       "└──────┴──────────────────────────────┴────────────────────────────────┴─────────┴───────────┘"
      ]
     },
     "execution_count": 51,
     "metadata": {},
     "output_type": "execute_result"
    }
   ],
   "source": [
    "(\n",
    "    top2000.select(\n",
    "        \"jaar\",\n",
    "        \"artiest\",\n",
    "        \"titel\",\n",
    "        \"positie\",\n",
    "        year_rank=pl.col(\"positie\").rank().over(\"jaar\"),\n",
    "    )\n",
    "    .sample(10, seed=42)\n",
    ")"
   ]
  },
  {
   "cell_type": "markdown",
   "id": "d922b3b6",
   "metadata": {
    "vscode": {
     "languageId": "perl"
    }
   },
   "source": [
    "## Agrupación Dinámica\n",
    "\n",
    "Cuando trabajas con datos temporales, puede ser útil crear grupos basados en una ventana de tiempo. Aquí es donde entra el método `df.group_by_dynamic()`. Este método calcula una ventana temporal de tamaño y longitud fijos, a la que asigna las filas del DataFrame. Es diferente de un `df.group_by()` normal, porque las filas pueden aparecer en múltiples ventanas de tiempo, dependiendo del tamaño y la longitud de los pasos de la ventana. Esto es útil para calcular datos de ventas anuales o trimestrales, donde quieres dividir los datos en periodos específicos.\n",
    "\n",
    "### Tabla 1. Argumentos del método `df.group_by_dynamic()`\n",
    "\n",
    "| Argumento | Descripción |\n",
    "|-----------|-------------|\n",
    "| every     | El intervalo en el que comienzan las ventanas. |\n",
    "| offset    | Desplaza el inicio de la ventana. Por ejemplo, para iniciar la ventana a las 9 a.m. cada día y alinearla con el horario laboral, puedes usar `every=\"1d\"` y `offset=\"9h\"`. |\n",
    "| period    | La duración de la ventana de tiempo. Coincide con `every` si no se especifica, resultando en grupos adyacentes y no superpuestos. Si quieres ventanas superpuestas, puedes establecer `period` a un valor mayor que `every`. |\n",
    "| start_by  | Estrategia para determinar el inicio de la primera ventana, permitiendo alinearla con el primer dato, con un día específico de la semana, o ajustando al primer timestamp y aplicando el offset según el intervalo `every`. |\n",
    "\n",
    "Los argumentos `every`, `period` y `offset` se pueden especificar usando las siguientes cadenas de duración:\n",
    "\n",
    "### Tabla 2. Cadenas de duración y su significado\n",
    "\n",
    "| Cadena   | Descripción           |\n",
    "|----------|-----------------------|\n",
    "| 1ns      | 1 nanosegundo         |\n",
    "| 1us      | 1 microsegundo        |\n",
    "| 1ms      | 1 milisegundo         |\n",
    "| 1s       | 1 segundo             |\n",
    "| 1m       | 1 minuto              |\n",
    "| 1h       | 1 hora                |\n",
    "| 1d       | 1 día calendario      |\n",
    "| 1w       | 1 semana calendario   |\n",
    "| 1mo      | 1 mes calendario      |\n",
    "| 1q       | 1 trimestre calendario|\n",
    "| 1y       | 1 año calendario      |\n",
    "| 1i       | 1 conteo de índice    |\n",
    "\n",
    "Estas cadenas se pueden combinar, por ejemplo: `\"1y6m1w5d\"` sería 1 año, 6 meses, 1 semana y 5 días.\n",
    "\n",
    "Adicionalmente, el argumento `closed` determina si los valores que son exactamente el límite inferior o superior se incluyen o excluyen.\n",
    "\n",
    "### Tabla 3. Valores posibles para el argumento `closed` en `df.group_by_dynamic()`\n",
    "\n",
    "| Argumento | Descripción                                               | Intervalo | Incluye a | Incluye b |\n",
    "|-----------|-----------------------------------------------------------|-----------|-----------|-----------|\n",
    "| left      | El límite inferior es inclusivo, el superior es exclusivo | [a, b)    | ✓         | ✗         |\n",
    "| right     | El límite inferior es exclusivo, el superior es inclusivo | (a, b]    | ✗         | ✓         |\n",
    "| both      | Ambos límites son inclusivos                              | [a, b]    | ✓         | ✓         |\n",
    "| none      | Ambos límites son exclusivos                              | (a, b)    | ✗         | ✗         |"
   ]
  },
  {
   "cell_type": "markdown",
   "id": "6731c230",
   "metadata": {},
   "source": [
    "### Agregaciones Rolling (Ventana Móvil)\n",
    "\n",
    "Las agregaciones rolling permiten calcular métricas como medias móviles o sumas acumuladas sobre ventanas que se ajustan dinámicamente alrededor de los valores de una columna (por ejemplo, fechas). El método `df.rolling()` de Polars crea una ventana para cada valor de la columna de referencia, extendiéndose hacia atrás por el periodo especificado. Es útil para analizar tendencias temporales, como el promedio móvil de ventas por tienda.\n",
    "\n",
    "**Principales argumentos de `df.rolling()`:**\n",
    "\n",
    "| Argumento      | Descripción                                                                                           |\n",
    "|----------------|------------------------------------------------------------------------------------------------------|\n",
    "| index_column   | Columna que sirve como punto de referencia para la ventana (ej. timestamps).                         |\n",
    "| period         | Tamaño de la ventana (ej. \"7d\" para 7 días).                                                         |\n",
    "| offset         | Desplaza la ventana hacia adelante o atrás.                                                          |\n",
    "| closed         | Define cómo se incluyen los valores en los límites de la ventana (igual que en `group_by_dynamic`).  |\n",
    "| group_by       | Permite aplicar la agregación rolling dentro de grupos definidos por una o más columnas.              |\n",
    "\n",
    "Estas opciones permiten calcular métricas móviles ajustadas por tiempo y por grupo, facilitando el análisis de tendencias y variabilidad en series temporales."
   ]
  },
  {
   "cell_type": "code",
   "execution_count": 52,
   "id": "5c92a179",
   "metadata": {},
   "outputs": [
    {
     "data": {
      "text/html": [
       "<div><style>\n",
       ".dataframe > thead > tr,\n",
       ".dataframe > tbody > tr {\n",
       "  text-align: right;\n",
       "  white-space: pre-wrap;\n",
       "}\n",
       "</style>\n",
       "<small>shape: (20, 3)</small><table border=\"1\" class=\"dataframe\"><thead><tr><th>date</th><th>store</th><th>sales</th></tr><tr><td>date</td><td>str</td><td>i64</td></tr></thead><tbody><tr><td>2024-04-01</td><td>&quot;Store A&quot;</td><td>200</td></tr><tr><td>2024-04-01</td><td>&quot;Store B&quot;</td><td>150</td></tr><tr><td>2024-04-03</td><td>&quot;Store A&quot;</td><td>220</td></tr><tr><td>2024-04-03</td><td>&quot;Store B&quot;</td><td>160</td></tr><tr><td>2024-04-05</td><td>&quot;Store A&quot;</td><td>250</td></tr><tr><td>&hellip;</td><td>&hellip;</td><td>&hellip;</td></tr><tr><td>2024-04-19</td><td>&quot;Store B&quot;</td><td>190</td></tr><tr><td>2024-04-23</td><td>&quot;Store A&quot;</td><td>250</td></tr><tr><td>2024-04-23</td><td>&quot;Store B&quot;</td><td>200</td></tr><tr><td>2024-04-25</td><td>&quot;Store A&quot;</td><td>260</td></tr><tr><td>2024-04-25</td><td>&quot;Store B&quot;</td><td>210</td></tr></tbody></table></div>"
      ],
      "text/plain": [
       "shape: (20, 3)\n",
       "┌────────────┬─────────┬───────┐\n",
       "│ date       ┆ store   ┆ sales │\n",
       "│ ---        ┆ ---     ┆ ---   │\n",
       "│ date       ┆ str     ┆ i64   │\n",
       "╞════════════╪═════════╪═══════╡\n",
       "│ 2024-04-01 ┆ Store A ┆ 200   │\n",
       "│ 2024-04-01 ┆ Store B ┆ 150   │\n",
       "│ 2024-04-03 ┆ Store A ┆ 220   │\n",
       "│ 2024-04-03 ┆ Store B ┆ 160   │\n",
       "│ 2024-04-05 ┆ Store A ┆ 250   │\n",
       "│ …          ┆ …       ┆ …     │\n",
       "│ 2024-04-19 ┆ Store B ┆ 190   │\n",
       "│ 2024-04-23 ┆ Store A ┆ 250   │\n",
       "│ 2024-04-23 ┆ Store B ┆ 200   │\n",
       "│ 2024-04-25 ┆ Store A ┆ 260   │\n",
       "│ 2024-04-25 ┆ Store B ┆ 210   │\n",
       "└────────────┴─────────┴───────┘"
      ]
     },
     "execution_count": 52,
     "metadata": {},
     "output_type": "execute_result"
    }
   ],
   "source": [
    "# Genera un rango de fechas cada 2 días entre el 1 y el 26 de abril de 2024\n",
    "dates = pl.date_range(\n",
    "    start=pl.date(2024, 4, 1),\n",
    "    end=pl.date(2024, 4, 26),\n",
    "    interval=\"2d\",\n",
    "    eager=True,\n",
    ")\n",
    "# Filtra solo días de lunes a sábado (excluye domingos)\n",
    "dates = dates.filter(dates.dt.weekday() < 6)\n",
    "\n",
    "# Duplica las fechas para simular dos tiendas y las ordena\n",
    "dates_repeated = pl.concat([dates, dates]).sort()\n",
    "\n",
    "# Crea un DataFrame pequeño de ventas por tienda y fecha\n",
    "small_sales_df = (\n",
    "    pl.DataFrame(\n",
    "        {\n",
    "            \"date\": dates_repeated,\n",
    "            \"store\": [\"Store A\", \"Store B\"] * dates.len(),  # Alterna tiendas\n",
    "            \"sales\": [\n",
    "                200, 150, 220, 160, 250, 180, 270, 190, 280, 210,\n",
    "                210, 170, 220, 180, 240, 190, 250, 200, 260, 210,\n",
    "            ],\n",
    "        }\n",
    "    )\n",
    "    .set_sorted(\"date\")   # Informa a Polars que la columna 'date' está ordenada\n",
    "    .set_sorted(\"store\")  # Informa a Polars que la columna 'store' está ordenada\n",
    ")\n",
    "small_sales_df"
   ]
  },
  {
   "cell_type": "code",
   "execution_count": 53,
   "id": "ff9a0c96",
   "metadata": {},
   "outputs": [
    {
     "data": {
      "text/html": [
       "<div><style>\n",
       ".dataframe > thead > tr,\n",
       ".dataframe > tbody > tr {\n",
       "  text-align: right;\n",
       "  white-space: pre-wrap;\n",
       "}\n",
       "</style>\n",
       "<small>shape: (20, 4)</small><table border=\"1\" class=\"dataframe\"><thead><tr><th>date</th><th>store</th><th>sales</th><th>sum_of_last_7_days</th></tr><tr><td>date</td><td>str</td><td>i64</td><td>i64</td></tr></thead><tbody><tr><td>2024-04-01</td><td>&quot;Store A&quot;</td><td>200</td><td>200</td></tr><tr><td>2024-04-03</td><td>&quot;Store A&quot;</td><td>220</td><td>420</td></tr><tr><td>2024-04-05</td><td>&quot;Store A&quot;</td><td>250</td><td>670</td></tr><tr><td>2024-04-09</td><td>&quot;Store A&quot;</td><td>270</td><td>740</td></tr><tr><td>2024-04-11</td><td>&quot;Store A&quot;</td><td>280</td><td>800</td></tr><tr><td>&hellip;</td><td>&hellip;</td><td>&hellip;</td><td>&hellip;</td></tr><tr><td>2024-04-15</td><td>&quot;Store B&quot;</td><td>170</td><td>570</td></tr><tr><td>2024-04-17</td><td>&quot;Store B&quot;</td><td>180</td><td>560</td></tr><tr><td>2024-04-19</td><td>&quot;Store B&quot;</td><td>190</td><td>540</td></tr><tr><td>2024-04-23</td><td>&quot;Store B&quot;</td><td>200</td><td>570</td></tr><tr><td>2024-04-25</td><td>&quot;Store B&quot;</td><td>210</td><td>600</td></tr></tbody></table></div>"
      ],
      "text/plain": [
       "shape: (20, 4)\n",
       "┌────────────┬─────────┬───────┬────────────────────┐\n",
       "│ date       ┆ store   ┆ sales ┆ sum_of_last_7_days │\n",
       "│ ---        ┆ ---     ┆ ---   ┆ ---                │\n",
       "│ date       ┆ str     ┆ i64   ┆ i64                │\n",
       "╞════════════╪═════════╪═══════╪════════════════════╡\n",
       "│ 2024-04-01 ┆ Store A ┆ 200   ┆ 200                │\n",
       "│ 2024-04-03 ┆ Store A ┆ 220   ┆ 420                │\n",
       "│ 2024-04-05 ┆ Store A ┆ 250   ┆ 670                │\n",
       "│ 2024-04-09 ┆ Store A ┆ 270   ┆ 740                │\n",
       "│ 2024-04-11 ┆ Store A ┆ 280   ┆ 800                │\n",
       "│ …          ┆ …       ┆ …     ┆ …                  │\n",
       "│ 2024-04-15 ┆ Store B ┆ 170   ┆ 570                │\n",
       "│ 2024-04-17 ┆ Store B ┆ 180   ┆ 560                │\n",
       "│ 2024-04-19 ┆ Store B ┆ 190   ┆ 540                │\n",
       "│ 2024-04-23 ┆ Store B ┆ 200   ┆ 570                │\n",
       "│ 2024-04-25 ┆ Store B ┆ 210   ┆ 600                │\n",
       "└────────────┴─────────┴───────┴────────────────────┘"
      ]
     },
     "execution_count": 53,
     "metadata": {},
     "output_type": "execute_result"
    }
   ],
   "source": [
    "result = small_sales_df.rolling(\n",
    "    index_column=\"date\",\n",
    "    period=\"7d\",\n",
    "    group_by=\"store\",\n",
    ").agg(\n",
    "    sum_of_last_7_days=pl.sum(\"sales\"),\n",
    ")\n",
    "\n",
    "final_df = small_sales_df.join(\n",
    "    result,\n",
    "    on=[\"date\", \"store\"],\n",
    ")\n",
    "final_df"
   ]
  },
  {
   "cell_type": "markdown",
   "id": "9a9fefcd",
   "metadata": {},
   "source": [
    "## Upsampling con Polars\n",
    "\n",
    "El método `df.upsample()` permite aumentar la resolución temporal de tus datos, generando nuevas filas en intervalos regulares donde no existen observaciones. Es útil cuando necesitas rellenar huecos en series temporales para análisis o visualización.\n",
    "\n",
    "### Argumentos principales de `df.upsample()`\n",
    "\n",
    "| Argumento        | Descripción                                                                                                 |\n",
    "|------------------|------------------------------------------------------------------------------------------------------------|\n",
    "| `time_column`    | Columna temporal usada para determinar el rango de fechas. Debe estar ordenada para que el resultado tenga sentido. |\n",
    "| `every`          | Intervalo de duración para crear nuevas entradas (ejemplo: `\"1d\"` para cada día, `\"1h\"` para cada hora).   |\n",
    "| `group_by`       | (Opcional) Agrupa por estas columnas antes de aplicar el upsampling en cada grupo.                         |\n",
    "| `maintain_order` | (Opcional) Mantiene el orden predecible en la salida. Puede ser más lento si se activa.                    |\n",
    "\n",
    "\n",
    "Este método es el opuesto a las agregaciones temporales, ya que en vez de resumir, expande la serie temporal para rellenar los intervalos faltantes."
   ]
  },
  {
   "cell_type": "code",
   "execution_count": 57,
   "id": "4caf57da",
   "metadata": {},
   "outputs": [
    {
     "data": {
      "text/html": [
       "<div><style>\n",
       ".dataframe > thead > tr,\n",
       ".dataframe > tbody > tr {\n",
       "  text-align: right;\n",
       "  white-space: pre-wrap;\n",
       "}\n",
       "</style>\n",
       "<small>shape: (20, 3)</small><table border=\"1\" class=\"dataframe\"><thead><tr><th>date</th><th>store</th><th>sales</th></tr><tr><td>date</td><td>str</td><td>i64</td></tr></thead><tbody><tr><td>2024-04-01</td><td>&quot;Store A&quot;</td><td>200</td></tr><tr><td>2024-04-01</td><td>&quot;Store B&quot;</td><td>150</td></tr><tr><td>2024-04-03</td><td>&quot;Store A&quot;</td><td>220</td></tr><tr><td>2024-04-03</td><td>&quot;Store B&quot;</td><td>160</td></tr><tr><td>2024-04-05</td><td>&quot;Store A&quot;</td><td>250</td></tr><tr><td>&hellip;</td><td>&hellip;</td><td>&hellip;</td></tr><tr><td>2024-04-19</td><td>&quot;Store B&quot;</td><td>190</td></tr><tr><td>2024-04-23</td><td>&quot;Store A&quot;</td><td>250</td></tr><tr><td>2024-04-23</td><td>&quot;Store B&quot;</td><td>200</td></tr><tr><td>2024-04-25</td><td>&quot;Store A&quot;</td><td>260</td></tr><tr><td>2024-04-25</td><td>&quot;Store B&quot;</td><td>210</td></tr></tbody></table></div>"
      ],
      "text/plain": [
       "shape: (20, 3)\n",
       "┌────────────┬─────────┬───────┐\n",
       "│ date       ┆ store   ┆ sales │\n",
       "│ ---        ┆ ---     ┆ ---   │\n",
       "│ date       ┆ str     ┆ i64   │\n",
       "╞════════════╪═════════╪═══════╡\n",
       "│ 2024-04-01 ┆ Store A ┆ 200   │\n",
       "│ 2024-04-01 ┆ Store B ┆ 150   │\n",
       "│ 2024-04-03 ┆ Store A ┆ 220   │\n",
       "│ 2024-04-03 ┆ Store B ┆ 160   │\n",
       "│ 2024-04-05 ┆ Store A ┆ 250   │\n",
       "│ …          ┆ …       ┆ …     │\n",
       "│ 2024-04-19 ┆ Store B ┆ 190   │\n",
       "│ 2024-04-23 ┆ Store A ┆ 250   │\n",
       "│ 2024-04-23 ┆ Store B ┆ 200   │\n",
       "│ 2024-04-25 ┆ Store A ┆ 260   │\n",
       "│ 2024-04-25 ┆ Store B ┆ 210   │\n",
       "└────────────┴─────────┴───────┘"
      ]
     },
     "execution_count": 57,
     "metadata": {},
     "output_type": "execute_result"
    }
   ],
   "source": [
    "upsampled_small_sales_df = small_sales_df.upsample(\n",
    "    time_column=\"date\",\n",
    "    every=\"1d\",\n",
    "    group_by=\"store\",\n",
    "    maintain_order=True,\n",
    ")\n",
    "upsampled_small_sales_df"
   ]
  },
  {
   "cell_type": "code",
   "execution_count": 58,
   "id": "007e84fa",
   "metadata": {},
   "outputs": [
    {
     "data": {
      "text/html": [
       "<div><style>\n",
       ".dataframe > thead > tr,\n",
       ".dataframe > tbody > tr {\n",
       "  text-align: right;\n",
       "  white-space: pre-wrap;\n",
       "}\n",
       "</style>\n",
       "<small>shape: (20, 3)</small><table border=\"1\" class=\"dataframe\"><thead><tr><th>date</th><th>store</th><th>sales</th></tr><tr><td>date</td><td>str</td><td>f64</td></tr></thead><tbody><tr><td>2024-04-01</td><td>&quot;Store A&quot;</td><td>200.0</td></tr><tr><td>2024-04-01</td><td>&quot;Store B&quot;</td><td>150.0</td></tr><tr><td>2024-04-03</td><td>&quot;Store A&quot;</td><td>220.0</td></tr><tr><td>2024-04-03</td><td>&quot;Store B&quot;</td><td>160.0</td></tr><tr><td>2024-04-05</td><td>&quot;Store A&quot;</td><td>250.0</td></tr><tr><td>&hellip;</td><td>&hellip;</td><td>&hellip;</td></tr><tr><td>2024-04-19</td><td>&quot;Store B&quot;</td><td>190.0</td></tr><tr><td>2024-04-23</td><td>&quot;Store A&quot;</td><td>250.0</td></tr><tr><td>2024-04-23</td><td>&quot;Store B&quot;</td><td>200.0</td></tr><tr><td>2024-04-25</td><td>&quot;Store A&quot;</td><td>260.0</td></tr><tr><td>2024-04-25</td><td>&quot;Store B&quot;</td><td>210.0</td></tr></tbody></table></div>"
      ],
      "text/plain": [
       "shape: (20, 3)\n",
       "┌────────────┬─────────┬───────┐\n",
       "│ date       ┆ store   ┆ sales │\n",
       "│ ---        ┆ ---     ┆ ---   │\n",
       "│ date       ┆ str     ┆ f64   │\n",
       "╞════════════╪═════════╪═══════╡\n",
       "│ 2024-04-01 ┆ Store A ┆ 200.0 │\n",
       "│ 2024-04-01 ┆ Store B ┆ 150.0 │\n",
       "│ 2024-04-03 ┆ Store A ┆ 220.0 │\n",
       "│ 2024-04-03 ┆ Store B ┆ 160.0 │\n",
       "│ 2024-04-05 ┆ Store A ┆ 250.0 │\n",
       "│ …          ┆ …       ┆ …     │\n",
       "│ 2024-04-19 ┆ Store B ┆ 190.0 │\n",
       "│ 2024-04-23 ┆ Store A ┆ 250.0 │\n",
       "│ 2024-04-23 ┆ Store B ┆ 200.0 │\n",
       "│ 2024-04-25 ┆ Store A ┆ 260.0 │\n",
       "│ 2024-04-25 ┆ Store B ┆ 210.0 │\n",
       "└────────────┴─────────┴───────┘"
      ]
     },
     "execution_count": 58,
     "metadata": {},
     "output_type": "execute_result"
    }
   ],
   "source": [
    "upsampled_small_sales_df.select(\n",
    "    \"date\", pl.col(\"store\").forward_fill(), pl.col(\"sales\").interpolate()\n",
    ")"
   ]
  },
  {
   "cell_type": "markdown",
   "id": "43541fad",
   "metadata": {},
   "source": [
    "## Takeaways\n",
    "\n",
    "En este capítulo aprendiste a realizar agregaciones sobre tus datos utilizando Polars:\n",
    "\n",
    "- Las agregaciones básicas disponibles en el contexto GroupBy, como `sum()`, `mean()`, `quantile()`, y `median()`.\n",
    "- Las agregaciones avanzadas con `GroupBy.agg()`, que permiten combinar múltiples funciones, controlar nombres de columnas y agregar elementos como listas por grupo.\n",
    "- Cómo realizar agregaciones sobre grupos en el contexto de selección usando el método `Expr.over()`.\n",
    "- Cómo crear grupos basados en ventanas temporales con `df.group_by_dynamic()`.\n",
    "- Cómo calcular agregaciones móviles (rolling) alrededor de los valores de tu DataFrame usando el método `df.rolling()`."
   ]
  }
 ],
 "metadata": {
  "kernelspec": {
   "display_name": "python-polars-the-definitive-guide",
   "language": "python",
   "name": "python3"
  },
  "language_info": {
   "codemirror_mode": {
    "name": "ipython",
    "version": 3
   },
   "file_extension": ".py",
   "mimetype": "text/x-python",
   "name": "python",
   "nbconvert_exporter": "python",
   "pygments_lexer": "ipython3",
   "version": "3.12.11"
  }
 },
 "nbformat": 4,
 "nbformat_minor": 5
}
