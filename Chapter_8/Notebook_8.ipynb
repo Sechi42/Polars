{
 "cells": [
  {
   "cell_type": "markdown",
   "id": "d26d3162",
   "metadata": {},
   "source": [
    "## Continuing Expressions"
   ]
  },
  {
   "cell_type": "code",
   "execution_count": 1,
   "id": "f41886bf",
   "metadata": {},
   "outputs": [],
   "source": [
    "import polars as pl\n",
    "import math\n",
    "import numpy as np"
   ]
  },
  {
   "cell_type": "code",
   "execution_count": 2,
   "id": "e0485b28",
   "metadata": {},
   "outputs": [
    {
     "name": "stdout",
     "output_type": "stream",
     "text": [
      "math.pi=3.141592653589793\n",
      "rng.random()=0.03074202960516803\n"
     ]
    }
   ],
   "source": [
    "print(f\"{math.pi=}\")\n",
    "rng = np.random.default_rng(1729)\n",
    "print(f\"{rng.random()=}\")"
   ]
  }
 ],
 "metadata": {
  "kernelspec": {
   "display_name": "python-polars-the-definitive-guide",
   "language": "python",
   "name": "python3"
  },
  "language_info": {
   "codemirror_mode": {
    "name": "ipython",
    "version": 3
   },
   "file_extension": ".py",
   "mimetype": "text/x-python",
   "name": "python",
   "nbconvert_exporter": "python",
   "pygments_lexer": "ipython3",
   "version": "3.12.11"
  }
 },
 "nbformat": 4,
 "nbformat_minor": 5
}
