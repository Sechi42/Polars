{
 "cells": [
  {
   "cell_type": "markdown",
   "id": "c2954cfc",
   "metadata": {},
   "source": [
    "## Data Structures and Data Types\n",
    "\n",
    "- Resumen\n",
    "    - Este cuaderno introduce Polars (implementación sobre Arrow) y explica cómo maneja estructuras y tipos de datos para análisis eficientes en memoria. Incluye explicación teórica, ejemplos prácticos y visualizaciones con Plotnine.\n",
    "\n",
    "- Objetivos\n",
    "    - Entender las estructuras de datos principales de Polars: Series, DataFrame y LazyFrame.\n",
    "    - Conocer los tipos de datos soportados (numéricos, cadenas, booleanos, fechas, tipos categóricos, listas, structs).\n",
    "    - Aprender operaciones comunes: selección, filtrado, agregación, joins y transformaciones perezosas (lazy).\n",
    "    - Crear visualizaciones reproducibles usando Plotnine.\n",
    "    - Mostrar buenas prácticas para trabajar con datos grandes y conservar reproducibilidad.\n",
    "\n",
    "- Estructura del cuaderno\n",
    "    1. Introducción: motivación y conceptos clave (Arrow, in-memory, rendimiento).\n",
    "    2. Estructuras de datos en Polars: Series, DataFrame, LazyFrame — ejemplos básicos.\n",
    "    3. Tipos de datos: descripción y casos especiales (nulls, categorical, datetime, listas, structs).\n",
    "    4. Operaciones y transformaciones: selección, expresiones, groupby, joins y manejo de esquemas.\n",
    "    5. Lazy execution: cuándo y por qué usar LazyFrame; optimizaciones y plan de ejecución.\n",
    "    6. I/O: leer/escribir CSV, Parquet (nota: los archivos de datos no están incluidos en el repositorio).\n",
    "    7. Visualización: ejemplos con Plotnine integrados a Polars.\n",
    "    8. Ejemplos reproducibles y ejercicios prácticos.\n",
    "\n"
   ]
  },
  {
   "cell_type": "markdown",
   "id": "c66eb724",
   "metadata": {
    "vscode": {
     "languageId": "plaintext"
    }
   },
   "source": [
    "### Series, DataFrames, and LazyFrames\n",
    "\n"
   ]
  },
  {
   "cell_type": "code",
   "execution_count": 1,
   "id": "2dd44878",
   "metadata": {},
   "outputs": [
    {
     "data": {
      "text/html": [
       "<div><style>\n",
       ".dataframe > thead > tr,\n",
       ".dataframe > tbody > tr {\n",
       "  text-align: right;\n",
       "  white-space: pre-wrap;\n",
       "}\n",
       "</style>\n",
       "<small>shape: (3,)</small><table border=\"1\" class=\"dataframe\"><thead><tr><th>sales</th></tr><tr><td>f64</td></tr></thead><tbody><tr><td>150.0</td></tr><tr><td>300.0</td></tr><tr><td>250.0</td></tr></tbody></table></div>"
      ],
      "text/plain": [
       "shape: (3,)\n",
       "Series: 'sales' [f64]\n",
       "[\n",
       "\t150.0\n",
       "\t300.0\n",
       "\t250.0\n",
       "]"
      ]
     },
     "execution_count": 1,
     "metadata": {},
     "output_type": "execute_result"
    }
   ],
   "source": [
    "import polars as pl\n",
    "\n",
    "sales_series = pl.Series(\"sales\", [150.00, 300.00, 250.00])\n",
    "sales_series"
   ]
  },
  {
   "cell_type": "code",
   "execution_count": 2,
   "id": "f342117f",
   "metadata": {},
   "outputs": [
    {
     "data": {
      "text/html": [
       "<div><style>\n",
       ".dataframe > thead > tr,\n",
       ".dataframe > tbody > tr {\n",
       "  text-align: right;\n",
       "  white-space: pre-wrap;\n",
       "}\n",
       "</style>\n",
       "<small>shape: (3, 2)</small><table border=\"1\" class=\"dataframe\"><thead><tr><th>sales</th><th>customer_id</th></tr><tr><td>f64</td><td>i64</td></tr></thead><tbody><tr><td>150.0</td><td>24</td></tr><tr><td>300.0</td><td>25</td></tr><tr><td>250.0</td><td>26</td></tr></tbody></table></div>"
      ],
      "text/plain": [
       "shape: (3, 2)\n",
       "┌───────┬─────────────┐\n",
       "│ sales ┆ customer_id │\n",
       "│ ---   ┆ ---         │\n",
       "│ f64   ┆ i64         │\n",
       "╞═══════╪═════════════╡\n",
       "│ 150.0 ┆ 24          │\n",
       "│ 300.0 ┆ 25          │\n",
       "│ 250.0 ┆ 26          │\n",
       "└───────┴─────────────┘"
      ]
     },
     "execution_count": 2,
     "metadata": {},
     "output_type": "execute_result"
    }
   ],
   "source": [
    "# Implementación de dataframe en polars\n",
    "\n",
    "sales_df = pl.DataFrame(\n",
    "    {\n",
    "       \"sales\": sales_series,\n",
    "       \"customer_id\" : [24, 25, 26] \n",
    "    }\n",
    ")\n",
    "sales_df"
   ]
  },
  {
   "cell_type": "markdown",
   "id": "351e7209",
   "metadata": {},
   "source": [
    "### ¿Qué es un LazyFrame en Polars?\n",
    "\n",
    "Un LazyFrame es la representación perezosa (deferred) de un DataFrame en Polars: en lugar de ejecutar las operaciones inmediatamente, se construye un plan lógico de consulta que se optimiza y ejecuta solo cuando se solicita el resultado (por ejemplo, con `collect()` o `fetch()`).\n",
    "\n",
    "- Concepto clave\n",
    "    - Las transformaciones (filter, select, with_columns, groupby, join, etc.) devuelven un LazyFrame y se encadenan sin computación inmediata.\n",
    "    - La ejecución real ocurre al final: `collect()` (todo) o `fetch(n)` (muestras).\n",
    "\n",
    "- Ventajas\n",
    "    - Optimización del plan de ejecución (fusión de operaciones, eliminación de columnas innecesarias, pushdown de predicados).\n",
    "    - Mejor uso de memoria y CPU en pipelines complejos o con datos grandes.\n",
    "    - Permite reordenar/optimizar joins y agregaciones globalmente.\n",
    "\n",
    "- Limitaciones\n",
    "    - No puedes inspeccionar directamente los datos (shape, valores) sin materializar.\n",
    "    - Algunas APIs/operaciones pueden requerir materializar resultados antes de usarlas.\n",
    "\n",
    "- Métodos útiles\n",
    "    - `lazy()` — convertir un DataFrame a LazyFrame.\n",
    "    - `collect()` — ejecutar y devolver un DataFrame.\n",
    "    - `fetch(n)` — ejecutar y devolver las primeras n filas.\n",
    "    - `explain()` — mostrar el plan optimizado.\n",
    "    - Operadores habituales: `select`, `filter`, `with_columns`, `groupby`, `join`, `sort`.\n",
    "\n"
   ]
  },
  {
   "cell_type": "code",
   "execution_count": 3,
   "id": "f624b21b",
   "metadata": {},
   "outputs": [
    {
     "data": {
      "image/svg+xml": [
       "<svg xmlns=\"http://www.w3.org/2000/svg\" xmlns:xlink=\"http://www.w3.org/1999/xlink\" width=\"378pt\" height=\"121pt\" viewBox=\"0.00 0.00 378.00 121.00\">\n",
       "<g id=\"graph0\" class=\"graph\" transform=\"scale(1 1) rotate(0) translate(4 117)\">\n",
       "<title>polars_query</title>\n",
       "<polygon fill=\"white\" stroke=\"none\" points=\"-4,4 -4,-117 374,-117 374,4 -4,4\"/>\n",
       "<!-- p1 -->\n",
       "<g id=\"node1\" class=\"node\">\n",
       "<title>p1</title>\n",
       "<polygon fill=\"none\" stroke=\"black\" points=\"370,-113 0,-113 0,-77 370,-77 370,-113\"/>\n",
       "<text xml:space=\"preserve\" text-anchor=\"middle\" x=\"185\" y=\"-89.95\" font-family=\"Times New Roman,serif\" font-size=\"14.00\">WITH COLUMNS [[(col(&quot;weight&quot;)) &gt; (200)].alias(&quot;is_heavy&quot;)]</text>\n",
       "</g>\n",
       "<!-- p2 -->\n",
       "<g id=\"node2\" class=\"node\">\n",
       "<title>p2</title>\n",
       "<polygon fill=\"none\" stroke=\"black\" points=\"265.38,-41 104.62,-41 104.62,0 265.38,0 265.38,-41\"/>\n",
       "<text xml:space=\"preserve\" text-anchor=\"middle\" x=\"185\" y=\"-23.7\" font-family=\"Times New Roman,serif\" font-size=\"14.00\">Csv SCAN [data/fruit.csv]</text>\n",
       "<text xml:space=\"preserve\" text-anchor=\"middle\" x=\"185\" y=\"-7.2\" font-family=\"Times New Roman,serif\" font-size=\"14.00\">π */5;</text>\n",
       "</g>\n",
       "<!-- p1&#45;&#45;p2 -->\n",
       "<g id=\"edge1\" class=\"edge\">\n",
       "<title>p1--p2</title>\n",
       "<path fill=\"none\" stroke=\"black\" d=\"M185,-76.82C185,-66.18 185,-52.49 185,-41.38\"/>\n",
       "</g>\n",
       "</g>\n",
       "</svg>"
      ],
      "text/plain": [
       "<IPython.core.display.SVG object>"
      ]
     },
     "metadata": {},
     "output_type": "display_data"
    }
   ],
   "source": [
    "lazy_df = pl.scan_csv(\"data/fruit.csv\").with_columns(\n",
    "    is_heavy=pl.col(\"weight\") > 200\n",
    ")\n",
    "\n",
    "lazy_df.show_graph()"
   ]
  },
  {
   "cell_type": "code",
   "execution_count": 4,
   "id": "0ad9be78",
   "metadata": {},
   "outputs": [
    {
     "data": {
      "text/html": [
       "<div><style>\n",
       ".dataframe > thead > tr,\n",
       ".dataframe > tbody > tr {\n",
       "  text-align: right;\n",
       "  white-space: pre-wrap;\n",
       "}\n",
       "</style>\n",
       "<small>shape: (10, 6)</small><table border=\"1\" class=\"dataframe\"><thead><tr><th>name</th><th>weight</th><th>color</th><th>is_round</th><th>origin</th><th>is_heavy</th></tr><tr><td>str</td><td>i64</td><td>str</td><td>bool</td><td>str</td><td>bool</td></tr></thead><tbody><tr><td>&quot;Avocado&quot;</td><td>200</td><td>&quot;green&quot;</td><td>false</td><td>&quot;South America&quot;</td><td>false</td></tr><tr><td>&quot;Banana&quot;</td><td>120</td><td>&quot;yellow&quot;</td><td>false</td><td>&quot;Asia&quot;</td><td>false</td></tr><tr><td>&quot;Blueberry&quot;</td><td>1</td><td>&quot;blue&quot;</td><td>false</td><td>&quot;North America&quot;</td><td>false</td></tr><tr><td>&quot;Cantaloupe&quot;</td><td>2500</td><td>&quot;orange&quot;</td><td>true</td><td>&quot;Africa&quot;</td><td>true</td></tr><tr><td>&quot;Cranberry&quot;</td><td>2</td><td>&quot;red&quot;</td><td>false</td><td>&quot;North America&quot;</td><td>false</td></tr><tr><td>&quot;Elderberry&quot;</td><td>1</td><td>&quot;black&quot;</td><td>false</td><td>&quot;Europe&quot;</td><td>false</td></tr><tr><td>&quot;Orange&quot;</td><td>130</td><td>&quot;orange&quot;</td><td>true</td><td>&quot;Asia&quot;</td><td>false</td></tr><tr><td>&quot;Papaya&quot;</td><td>1000</td><td>&quot;orange&quot;</td><td>false</td><td>&quot;South America&quot;</td><td>true</td></tr><tr><td>&quot;Peach&quot;</td><td>150</td><td>&quot;orange&quot;</td><td>true</td><td>&quot;Asia&quot;</td><td>false</td></tr><tr><td>&quot;Watermelon&quot;</td><td>5000</td><td>&quot;green&quot;</td><td>true</td><td>&quot;Africa&quot;</td><td>true</td></tr></tbody></table></div>"
      ],
      "text/plain": [
       "shape: (10, 6)\n",
       "┌────────────┬────────┬────────┬──────────┬───────────────┬──────────┐\n",
       "│ name       ┆ weight ┆ color  ┆ is_round ┆ origin        ┆ is_heavy │\n",
       "│ ---        ┆ ---    ┆ ---    ┆ ---      ┆ ---           ┆ ---      │\n",
       "│ str        ┆ i64    ┆ str    ┆ bool     ┆ str           ┆ bool     │\n",
       "╞════════════╪════════╪════════╪══════════╪═══════════════╪══════════╡\n",
       "│ Avocado    ┆ 200    ┆ green  ┆ false    ┆ South America ┆ false    │\n",
       "│ Banana     ┆ 120    ┆ yellow ┆ false    ┆ Asia          ┆ false    │\n",
       "│ Blueberry  ┆ 1      ┆ blue   ┆ false    ┆ North America ┆ false    │\n",
       "│ Cantaloupe ┆ 2500   ┆ orange ┆ true     ┆ Africa        ┆ true     │\n",
       "│ Cranberry  ┆ 2      ┆ red    ┆ false    ┆ North America ┆ false    │\n",
       "│ Elderberry ┆ 1      ┆ black  ┆ false    ┆ Europe        ┆ false    │\n",
       "│ Orange     ┆ 130    ┆ orange ┆ true     ┆ Asia          ┆ false    │\n",
       "│ Papaya     ┆ 1000   ┆ orange ┆ false    ┆ South America ┆ true     │\n",
       "│ Peach      ┆ 150    ┆ orange ┆ true     ┆ Asia          ┆ false    │\n",
       "│ Watermelon ┆ 5000   ┆ green  ┆ true     ┆ Africa        ┆ true     │\n",
       "└────────────┴────────┴────────┴──────────┴───────────────┴──────────┘"
      ]
     },
     "execution_count": 4,
     "metadata": {},
     "output_type": "execute_result"
    }
   ],
   "source": [
    "lazy_df.collect()"
   ]
  },
  {
   "cell_type": "markdown",
   "id": "49a9533f",
   "metadata": {},
   "source": [
    "### Data Types\n",
    "\n",
    "Resumen rápido: Polars ofrece tipos optimizados sobre Arrow para rendimiento en memoria. La siguiente tabla agrupa y describe los tipos más usados.\n",
    "\n",
    "#### Numéricos\n",
    "| Tipo | Detalles | Rango / notas |\n",
    "|---|---:|---|\n",
    "| `Float32` | 32-bit punto flotante | ~ -3.4e38 a 3.4e38 |\n",
    "| `Float64` | 64-bit punto flotante | ~ -1.7e308 a 1.7e308 |\n",
    "| `Decimal` | Decimal de 128-bit con precisión opcional y escala no negativa. | Representa exactamente hasta ~38 dígitos significativos |\n",
    "| `Int8` | Entero con signo 8-bit | -128 a 127 |\n",
    "| `Int16` | Entero con signo 16-bit | -32,768 a 32,767 |\n",
    "| `Int32` | Entero con signo 32-bit | -2,147,483,648 a 2,147,483,647 |\n",
    "| `Int64` | Entero con signo 64-bit | -9,223,372,036,854,775,808 a 9,223,372,036,854,775,807 |\n",
    "| `UInt8` | Entero sin signo 8-bit | 0 a 255 |\n",
    "| `UInt16` | Entero sin signo 16-bit | 0 a 65,535 |\n",
    "| `UInt32` | Entero sin signo 32-bit | 0 a 4,294,967,295 |\n",
    "| `UInt64` | Entero sin signo 64-bit | 0 a 18,446,744,073,709,551,615 (~1.84e19) |\n",
    "\n",
    "#### Temporales\n",
    "| Tipo | Detalles |\n",
    "|---|---:|\n",
    "| `Date` | Fecha calendario (Arrow `date32` — días desde 1970-01-01) |\n",
    "| `Datetime` | Marca de tiempo exacta (int64 desde epoch). Unidad por defecto: microsegundos |\n",
    "| `Duration` | Duración / delta de tiempo |\n",
    "| `Time` | Hora del día |\n",
    "\n",
    "#### Anidados / Colecciones\n",
    "| Tipo | Detalles |\n",
    "|---|---:|\n",
    "| `Array` | Listas de longitud fija |\n",
    "| `List` | Listas de longitud variable |\n",
    "| `Struct` | Tipo estructurado (varias columnas como campo compuesto) |\n",
    "\n",
    "#### Texto y categorías\n",
    "| Tipo | Detalles |\n",
    "|---|---:|\n",
    "| `String` | UTF‑8, longitud variable |\n",
    "| `Categorical` | Codificación categórica eficiente para pocas categorías únicas |\n",
    "| `Enum` | Categórico fijo; las categorías deben definirse de antemano |\n",
    "\n",
    "#### Otros\n",
    "| Tipo | Detalles |\n",
    "|---|---:|\n",
    "| `Boolean` | `True` / `False` (almacenamiento muy compacto, bit-packed) |\n",
    "| `Binary` | Bytes de longitud variable |\n",
    "| `Null` | Representa valores nulos (`None`) |\n",
    "| `Object` | Envuelve objetos arbitrarios de Python |\n",
    "| `Unknown` | Placeholder interno — no usar en código de usuario |\n",
    "\n",
    "Notas adicionales:\n",
    "- La clase base para todos los tipos es la abstracción de tipos de Polars/Arrow.\n",
    "- Polars puede desviarse de la especificación de Arrow en algunos detalles (p. ej. implementación propia de `String` para optimizaciones). Ver la documentación de Arrow para diferencias: https://arrow.apache.org/docs/python/api/datatypes.html.\n"
   ]
  },
  {
   "cell_type": "markdown",
   "id": "600f3d84",
   "metadata": {},
   "source": [
    "### Tipos anidados en Polars: Array, List y Struct — Resumen\n",
    "\n",
    "- **Array**\n",
    "    - Colección de elementos del mismo tipo y forma fija por elemento de la Serie.\n",
    "    - Útil para almacenamiento compacto y acceso indexado predecible.\n",
    "    - Ejemplo conceptual: una `Series` donde cada fila contiene un arreglo de forma (3,).\n",
    "\n",
    "- **List**\n",
    "    - Colecciones de longitud variable por fila; cada elemento puede tener distinta longitud.\n",
    "    - Flexible para datos jerárquicos o cuando las sub-series no tienen tamaño fijo.\n",
    "    - Ejemplo conceptual: una columna donde cada fila es una lista de valores de distinto largo.\n",
    "\n",
    "- **Struct**\n",
    "    - Encapsula múltiples campos nombrados en un solo valor por fila (como un registro/objeto).\n",
    "    - Útil para agrupar columnas relacionadas y acceder a subcampos por nombre.\n",
    "    - Ejemplo conceptual: una columna `address` con subcampos `street`, `city`, `zip`.\n",
    "\n",
    "Notas rápidas:\n",
    "- `Array` exige homogeneidad de tipo y forma; `List` permite variabilidad en longitud; `Struct` agrupa campos heterogéneos por nombre.\n",
    "- Elegir `Array` cuando la forma es fija y se busca eficiencia; `List` para variabilidad; `Struct` para modelar registros compuestos."
   ]
  },
  {
   "cell_type": "code",
   "execution_count": 7,
   "id": "189af7cd",
   "metadata": {},
   "outputs": [
    {
     "data": {
      "text/html": [
       "<div><style>\n",
       ".dataframe > thead > tr,\n",
       ".dataframe > tbody > tr {\n",
       "  text-align: right;\n",
       "  white-space: pre-wrap;\n",
       "}\n",
       "</style>\n",
       "<small>shape: (2, 2)</small><table border=\"1\" class=\"dataframe\"><thead><tr><th>pint_2d</th><th>pint_3d</th></tr><tr><td>array[i64, 2]</td><td>array[i64, 3]</td></tr></thead><tbody><tr><td>[1, 3]</td><td>[1, 7, 3]</td></tr><tr><td>[2, 5]</td><td>[8, 1, 0]</td></tr></tbody></table></div>"
      ],
      "text/plain": [
       "shape: (2, 2)\n",
       "┌───────────────┬───────────────┐\n",
       "│ pint_2d       ┆ pint_3d       │\n",
       "│ ---           ┆ ---           │\n",
       "│ array[i64, 2] ┆ array[i64, 3] │\n",
       "╞═══════════════╪═══════════════╡\n",
       "│ [1, 3]        ┆ [1, 7, 3]     │\n",
       "│ [2, 5]        ┆ [8, 1, 0]     │\n",
       "└───────────────┴───────────────┘"
      ]
     },
     "execution_count": 7,
     "metadata": {},
     "output_type": "execute_result"
    }
   ],
   "source": [
    "coordinates = pl.DataFrame(\n",
    "    [\n",
    "        pl.Series(\"pint_2d\", [[1, 3], [2, 5]]),\n",
    "        pl.Series(\"pint_3d\", [[1, 7, 3], [8, 1, 0]]),\n",
    "    ],\n",
    "    schema={\n",
    "        \"pint_2d\": pl.Array(shape=2, inner=pl.Int64),\n",
    "        \"pint_3d\": pl.Array(shape=3, inner=pl.Int64)\n",
    "    }\n",
    ")\n",
    "coordinates"
   ]
  },
  {
   "cell_type": "code",
   "execution_count": 8,
   "id": "45baea05",
   "metadata": {},
   "outputs": [
    {
     "data": {
      "text/html": [
       "<div><style>\n",
       ".dataframe > thead > tr,\n",
       ".dataframe > tbody > tr {\n",
       "  text-align: right;\n",
       "  white-space: pre-wrap;\n",
       "}\n",
       "</style>\n",
       "<small>shape: (2, 2)</small><table border=\"1\" class=\"dataframe\"><thead><tr><th>temperature</th><th>wind_speed</th></tr><tr><td>list[f64]</td><td>list[i64]</td></tr></thead><tbody><tr><td>[72.5, 75.0, 77.3]</td><td>[15, 20]</td></tr><tr><td>[68.0, 70.2]</td><td>[10, 12, … 16]</td></tr></tbody></table></div>"
      ],
      "text/plain": [
       "shape: (2, 2)\n",
       "┌────────────────────┬────────────────┐\n",
       "│ temperature        ┆ wind_speed     │\n",
       "│ ---                ┆ ---            │\n",
       "│ list[f64]          ┆ list[i64]      │\n",
       "╞════════════════════╪════════════════╡\n",
       "│ [72.5, 75.0, 77.3] ┆ [15, 20]       │\n",
       "│ [68.0, 70.2]       ┆ [10, 12, … 16] │\n",
       "└────────────────────┴────────────────┘"
      ]
     },
     "execution_count": 8,
     "metadata": {},
     "output_type": "execute_result"
    }
   ],
   "source": [
    "weather_readings = pl.DataFrame(\n",
    "    {\n",
    "        \"temperature\" : [[72.5, 75.0, 77.3], [68.0, 70.2]],\n",
    "        \"wind_speed\" : [[15, 20], [10, 12, 14, 16]]\n",
    "    }\n",
    ")\n",
    "\n",
    "weather_readings"
   ]
  },
  {
   "cell_type": "code",
   "execution_count": 10,
   "id": "401adaa9",
   "metadata": {},
   "outputs": [
    {
     "name": "stdout",
     "output_type": "stream",
     "text": [
      "shape: (2,)\n",
      "Series: 'ratings' [struct[3]]\n",
      "[\n",
      "\t{\"Cars\",\"NE\",4.5}\n",
      "\t{\"Toy Story\",\"ME\",4.9}\n",
      "]\n"
     ]
    }
   ],
   "source": [
    "# The Struct\n",
    "\n",
    "rating_series = pl.Series(\n",
    "    \"ratings\",\n",
    "    [\n",
    "        {\"Movie\": \"Cars\", \"Theater\": \"NE\", \"Avg_Rating\": 4.5},\n",
    "        {\"Movie\": \"Toy Story\", \"Theater\": \"ME\", \"Avg_Rating\": 4.9},\n",
    "    ]\n",
    ")\n",
    "\n",
    "print(rating_series)"
   ]
  },
  {
   "cell_type": "markdown",
   "id": "6f850f14",
   "metadata": {},
   "source": [
    "## Missing Values"
   ]
  },
  {
   "cell_type": "code",
   "execution_count": null,
   "id": "42c529c3",
   "metadata": {},
   "outputs": [
    {
     "data": {
      "text/html": [
       "<div><style>\n",
       ".dataframe > thead > tr,\n",
       ".dataframe > tbody > tr {\n",
       "  text-align: right;\n",
       "  white-space: pre-wrap;\n",
       "}\n",
       "</style>\n",
       "<small>shape: (10, 1)</small><table border=\"1\" class=\"dataframe\"><thead><tr><th>value</th></tr><tr><td>i64</td></tr></thead><tbody><tr><td>null</td></tr><tr><td>2</td></tr><tr><td>3</td></tr><tr><td>4</td></tr><tr><td>null</td></tr><tr><td>null</td></tr><tr><td>7</td></tr><tr><td>8</td></tr><tr><td>9</td></tr><tr><td>null</td></tr></tbody></table></div>"
      ],
      "text/plain": [
       "shape: (10, 1)\n",
       "┌───────┐\n",
       "│ value │\n",
       "│ ---   │\n",
       "│ i64   │\n",
       "╞═══════╡\n",
       "│ null  │\n",
       "│ 2     │\n",
       "│ 3     │\n",
       "│ 4     │\n",
       "│ null  │\n",
       "│ null  │\n",
       "│ 7     │\n",
       "│ 8     │\n",
       "│ 9     │\n",
       "│ null  │\n",
       "└───────┘"
      ]
     },
     "execution_count": 15,
     "metadata": {},
     "output_type": "execute_result"
    }
   ],
   "source": [
    "missing_df = pl.DataFrame(\n",
    "    {\n",
    "        \"value\": [None, 2, 3, 4, None, None, 7, 8, 9, None]\n",
    "    }\n",
    ")\n",
    "\n",
    "missing_df"
   ]
  },
  {
   "cell_type": "markdown",
   "id": "b5c8d0d9",
   "metadata": {},
   "source": [
    "### NaN vs valores nulos en Polars — Resumen\n",
    "\n",
    "- NaN representa “not a number” y sólo aplica a tipos float; no se considera valor faltante (null).\n",
    "- Funciones que manejan nulos (p. ej. `df.null_count()` o `Expr.fill_null()`) no consideran NaN.\n",
    "- Para detectar o rellenar NaN use `Expr.is_nan()` y `Expr.fill_nan()`.\n",
    "- Use `fill_null()` para nulls y `fill_nan()` para NaN; trate ambos explícitamente si quiere normalizar ambos tipos de ausencia."
   ]
  },
  {
   "cell_type": "code",
   "execution_count": 26,
   "id": "6ca5866d",
   "metadata": {},
   "outputs": [
    {
     "data": {
      "text/html": [
       "<div><style>\n",
       ".dataframe > thead > tr,\n",
       ".dataframe > tbody > tr {\n",
       "  text-align: right;\n",
       "  white-space: pre-wrap;\n",
       "}\n",
       "</style>\n",
       "<small>shape: (10, 2)</small><table border=\"1\" class=\"dataframe\"><thead><tr><th>value</th><th>filled_with_single</th></tr><tr><td>i64</td><td>i64</td></tr></thead><tbody><tr><td>null</td><td>-1</td></tr><tr><td>2</td><td>2</td></tr><tr><td>3</td><td>3</td></tr><tr><td>4</td><td>4</td></tr><tr><td>null</td><td>-1</td></tr><tr><td>null</td><td>-1</td></tr><tr><td>7</td><td>7</td></tr><tr><td>8</td><td>8</td></tr><tr><td>9</td><td>9</td></tr><tr><td>null</td><td>-1</td></tr></tbody></table></div>"
      ],
      "text/plain": [
       "shape: (10, 2)\n",
       "┌───────┬────────────────────┐\n",
       "│ value ┆ filled_with_single │\n",
       "│ ---   ┆ ---                │\n",
       "│ i64   ┆ i64                │\n",
       "╞═══════╪════════════════════╡\n",
       "│ null  ┆ -1                 │\n",
       "│ 2     ┆ 2                  │\n",
       "│ 3     ┆ 3                  │\n",
       "│ 4     ┆ 4                  │\n",
       "│ null  ┆ -1                 │\n",
       "│ null  ┆ -1                 │\n",
       "│ 7     ┆ 7                  │\n",
       "│ 8     ┆ 8                  │\n",
       "│ 9     ┆ 9                  │\n",
       "│ null  ┆ -1                 │\n",
       "└───────┴────────────────────┘"
      ]
     },
     "execution_count": 26,
     "metadata": {},
     "output_type": "execute_result"
    }
   ],
   "source": [
    "missing_df.with_columns(filled_with_single=pl.col(\"value\").fill_null(-1))"
   ]
  },
  {
   "cell_type": "code",
   "execution_count": 20,
   "id": "8d41b5fb",
   "metadata": {},
   "outputs": [
    {
     "name": "stdout",
     "output_type": "stream",
     "text": [
      "shape: (10, 8)\n",
      "┌───────┬─────────┬──────────┬─────┬─────┬──────┬──────┬─────┐\n",
      "│ value ┆ forward ┆ backward ┆ min ┆ max ┆ mean ┆ zero ┆ one │\n",
      "│ ---   ┆ ---     ┆ ---      ┆ --- ┆ --- ┆ ---  ┆ ---  ┆ --- │\n",
      "│ i64   ┆ i64     ┆ i64      ┆ i64 ┆ i64 ┆ i64  ┆ i64  ┆ i64 │\n",
      "╞═══════╪═════════╪══════════╪═════╪═════╪══════╪══════╪═════╡\n",
      "│ null  ┆ null    ┆ 2        ┆ 2   ┆ 9   ┆ 5    ┆ 0    ┆ 1   │\n",
      "│ 2     ┆ 2       ┆ 2        ┆ 2   ┆ 2   ┆ 2    ┆ 2    ┆ 2   │\n",
      "│ 3     ┆ 3       ┆ 3        ┆ 3   ┆ 3   ┆ 3    ┆ 3    ┆ 3   │\n",
      "│ 4     ┆ 4       ┆ 4        ┆ 4   ┆ 4   ┆ 4    ┆ 4    ┆ 4   │\n",
      "│ null  ┆ 4       ┆ 7        ┆ 2   ┆ 9   ┆ 5    ┆ 0    ┆ 1   │\n",
      "│ null  ┆ 4       ┆ 7        ┆ 2   ┆ 9   ┆ 5    ┆ 0    ┆ 1   │\n",
      "│ 7     ┆ 7       ┆ 7        ┆ 7   ┆ 7   ┆ 7    ┆ 7    ┆ 7   │\n",
      "│ 8     ┆ 8       ┆ 8        ┆ 8   ┆ 8   ┆ 8    ┆ 8    ┆ 8   │\n",
      "│ 9     ┆ 9       ┆ 9        ┆ 9   ┆ 9   ┆ 9    ┆ 9    ┆ 9   │\n",
      "│ null  ┆ 9       ┆ null     ┆ 2   ┆ 9   ┆ 5    ┆ 0    ┆ 1   │\n",
      "└───────┴─────────┴──────────┴─────┴─────┴──────┴──────┴─────┘\n"
     ]
    }
   ],
   "source": [
    "print(\n",
    "    missing_df.with_columns(\n",
    "        forward=pl.col(\"value\").fill_null(strategy=\"forward\"),\n",
    "        backward=pl.col(\"value\").fill_null(strategy=\"backward\"),\n",
    "        min=pl.col(\"value\").fill_null(strategy=\"min\"),\n",
    "        max=pl.col(\"value\").fill_null(strategy=\"max\"),\n",
    "        mean=pl.col(\"value\").fill_null(strategy=\"mean\"),\n",
    "        zero=pl.col(\"value\").fill_null(strategy=\"zero\"),\n",
    "        one=pl.col(\"value\").fill_null(strategy=\"one\")\n",
    "    )\n",
    ")"
   ]
  },
  {
   "cell_type": "code",
   "execution_count": 18,
   "id": "68a3ed70",
   "metadata": {},
   "outputs": [
    {
     "data": {
      "text/html": [
       "<div><style>\n",
       ".dataframe > thead > tr,\n",
       ".dataframe > tbody > tr {\n",
       "  text-align: right;\n",
       "  white-space: pre-wrap;\n",
       "}\n",
       "</style>\n",
       "<small>shape: (10, 2)</small><table border=\"1\" class=\"dataframe\"><thead><tr><th>value</th><th>expression_mean</th></tr><tr><td>i64</td><td>f64</td></tr></thead><tbody><tr><td>null</td><td>5.5</td></tr><tr><td>2</td><td>2.0</td></tr><tr><td>3</td><td>3.0</td></tr><tr><td>4</td><td>4.0</td></tr><tr><td>null</td><td>5.5</td></tr><tr><td>null</td><td>5.5</td></tr><tr><td>7</td><td>7.0</td></tr><tr><td>8</td><td>8.0</td></tr><tr><td>9</td><td>9.0</td></tr><tr><td>null</td><td>5.5</td></tr></tbody></table></div>"
      ],
      "text/plain": [
       "shape: (10, 2)\n",
       "┌───────┬─────────────────┐\n",
       "│ value ┆ expression_mean │\n",
       "│ ---   ┆ ---             │\n",
       "│ i64   ┆ f64             │\n",
       "╞═══════╪═════════════════╡\n",
       "│ null  ┆ 5.5             │\n",
       "│ 2     ┆ 2.0             │\n",
       "│ 3     ┆ 3.0             │\n",
       "│ 4     ┆ 4.0             │\n",
       "│ null  ┆ 5.5             │\n",
       "│ null  ┆ 5.5             │\n",
       "│ 7     ┆ 7.0             │\n",
       "│ 8     ┆ 8.0             │\n",
       "│ 9     ┆ 9.0             │\n",
       "│ null  ┆ 5.5             │\n",
       "└───────┴─────────────────┘"
      ]
     },
     "execution_count": 18,
     "metadata": {},
     "output_type": "execute_result"
    }
   ],
   "source": [
    "missing_df.with_columns(\n",
    "    expression_mean=pl.col(\"value\").fill_null(pl.col(\"value\").mean())\n",
    ")"
   ]
  },
  {
   "cell_type": "code",
   "execution_count": 19,
   "id": "2e1969c2",
   "metadata": {},
   "outputs": [
    {
     "data": {
      "text/html": [
       "<div><style>\n",
       ".dataframe > thead > tr,\n",
       ".dataframe > tbody > tr {\n",
       "  text-align: right;\n",
       "  white-space: pre-wrap;\n",
       "}\n",
       "</style>\n",
       "<small>shape: (10, 1)</small><table border=\"1\" class=\"dataframe\"><thead><tr><th>value</th></tr><tr><td>f64</td></tr></thead><tbody><tr><td>null</td></tr><tr><td>2.0</td></tr><tr><td>3.0</td></tr><tr><td>4.0</td></tr><tr><td>5.0</td></tr><tr><td>6.0</td></tr><tr><td>7.0</td></tr><tr><td>8.0</td></tr><tr><td>9.0</td></tr><tr><td>null</td></tr></tbody></table></div>"
      ],
      "text/plain": [
       "shape: (10, 1)\n",
       "┌───────┐\n",
       "│ value │\n",
       "│ ---   │\n",
       "│ f64   │\n",
       "╞═══════╡\n",
       "│ null  │\n",
       "│ 2.0   │\n",
       "│ 3.0   │\n",
       "│ 4.0   │\n",
       "│ 5.0   │\n",
       "│ 6.0   │\n",
       "│ 7.0   │\n",
       "│ 8.0   │\n",
       "│ 9.0   │\n",
       "│ null  │\n",
       "└───────┘"
      ]
     },
     "execution_count": 19,
     "metadata": {},
     "output_type": "execute_result"
    }
   ],
   "source": [
    "missing_df.interpolate()"
   ]
  },
  {
   "cell_type": "markdown",
   "id": "6781ac12",
   "metadata": {},
   "source": [
    "### Data Type Conversión"
   ]
  },
  {
   "cell_type": "code",
   "execution_count": null,
   "id": "f5f6c83a",
   "metadata": {},
   "outputs": [
    {
     "name": "stdout",
     "output_type": "stream",
     "text": [
      "shape: (3, 1)\n",
      "┌───────┐\n",
      "│ id    │\n",
      "│ ---   │\n",
      "│ str   │\n",
      "╞═══════╡\n",
      "│ 10000 │\n",
      "│ 20000 │\n",
      "│ 30000 │\n",
      "└───────┘\n",
      "Estimated size: 15 bytes\n"
     ]
    }
   ],
   "source": [
    "string_df = pl.DataFrame({\"id\": [\"10000\", \"20000\", \"30000\"]})\n",
    "print(string_df)\n",
    "\n",
    "# Check the estimated size of the DataFrame\n",
    "print(f\"Estimated size: {string_df.estimated_size('b')} bytes\")"
   ]
  },
  {
   "cell_type": "code",
   "execution_count": 25,
   "id": "4a16314f",
   "metadata": {},
   "outputs": [
    {
     "name": "stdout",
     "output_type": "stream",
     "text": [
      "shape: (3, 1)\n",
      "┌───────┐\n",
      "│ id    │\n",
      "│ ---   │\n",
      "│ u16   │\n",
      "╞═══════╡\n",
      "│ 10000 │\n",
      "│ 20000 │\n",
      "│ 30000 │\n",
      "└───────┘\n",
      "Estimated size: 6 bytes\n"
     ]
    }
   ],
   "source": [
    "int_df = string_df.select(pl.col(\"id\").cast(pl.UInt16))\n",
    "print(int_df)\n",
    "\n",
    "# Check the estimated size of the DataFrame\n",
    "print(f\"Estimated size: {int_df.estimated_size('b')} bytes\")"
   ]
  },
  {
   "cell_type": "code",
   "execution_count": null,
   "id": "9e097644",
   "metadata": {},
   "outputs": [
    {
     "data": {
      "text/html": [
       "<div><style>\n",
       ".dataframe > thead > tr,\n",
       ".dataframe > tbody > tr {\n",
       "  text-align: right;\n",
       "  white-space: pre-wrap;\n",
       "}\n",
       "</style>\n",
       "<small>shape: (3, 3)</small><table border=\"1\" class=\"dataframe\"><thead><tr><th>id</th><th>value</th><th>value_2</th></tr><tr><td>u16</td><td>u16</td><td>u16</td></tr></thead><tbody><tr><td>10000</td><td>1</td><td>1</td></tr><tr><td>20000</td><td>2</td><td>2</td></tr><tr><td>30000</td><td>3</td><td>3</td></tr></tbody></table></div>"
      ],
      "text/plain": [
       "shape: (3, 3)\n",
       "┌───────┬───────┬─────────┐\n",
       "│ id    ┆ value ┆ value_2 │\n",
       "│ ---   ┆ ---   ┆ ---     │\n",
       "│ u16   ┆ u16   ┆ u16     │\n",
       "╞═══════╪═══════╪═════════╡\n",
       "│ 10000 ┆ 1     ┆ 1       │\n",
       "│ 20000 ┆ 2     ┆ 2       │\n",
       "│ 30000 ┆ 3     ┆ 3       │\n",
       "└───────┴───────┴─────────┘"
      ]
     },
     "execution_count": 28,
     "metadata": {},
     "output_type": "execute_result"
    }
   ],
   "source": [
    "# Create a DataFrame with different data types\n",
    "\n",
    "data_types_df = pl.DataFrame(\n",
    "    {\n",
    "        \"id\": [10000, 20000, 30000],\n",
    "        \"value\": [1.0, 2.0, 3.0],\n",
    "        \"value_2\": [\"1\", \"2\", \"3\"],\n",
    "    }\n",
    ")\n",
    "\n",
    "# Cast the DataFrame to a different data type\n",
    "data_types_df.cast(pl.UInt16)"
   ]
  },
  {
   "cell_type": "code",
   "execution_count": null,
   "id": "19c29ef8",
   "metadata": {},
   "outputs": [
    {
     "data": {
      "text/html": [
       "<div><style>\n",
       ".dataframe > thead > tr,\n",
       ".dataframe > tbody > tr {\n",
       "  text-align: right;\n",
       "  white-space: pre-wrap;\n",
       "}\n",
       "</style>\n",
       "<small>shape: (3, 3)</small><table border=\"1\" class=\"dataframe\"><thead><tr><th>id</th><th>value</th><th>value_2</th></tr><tr><td>u16</td><td>f32</td><td>u8</td></tr></thead><tbody><tr><td>10000</td><td>1.0</td><td>1</td></tr><tr><td>20000</td><td>2.0</td><td>2</td></tr><tr><td>30000</td><td>3.0</td><td>3</td></tr></tbody></table></div>"
      ],
      "text/plain": [
       "shape: (3, 3)\n",
       "┌───────┬───────┬─────────┐\n",
       "│ id    ┆ value ┆ value_2 │\n",
       "│ ---   ┆ ---   ┆ ---     │\n",
       "│ u16   ┆ f32   ┆ u8      │\n",
       "╞═══════╪═══════╪═════════╡\n",
       "│ 10000 ┆ 1.0   ┆ 1       │\n",
       "│ 20000 ┆ 2.0   ┆ 2       │\n",
       "│ 30000 ┆ 3.0   ┆ 3       │\n",
       "└───────┴───────┴─────────┘"
      ]
     },
     "execution_count": 29,
     "metadata": {},
     "output_type": "execute_result"
    }
   ],
   "source": [
    "data_types_df.cast(\n",
    "    {\n",
    "        \"id\": pl.UInt16,\n",
    "        \"value\": pl.Float32,\n",
    "        \"value_2\": pl.UInt8\n",
    "    }\n",
    ")"
   ]
  }
 ],
 "metadata": {
  "kernelspec": {
   "display_name": "python-polars-the-definitive-guide",
   "language": "python",
   "name": "python3"
  },
  "language_info": {
   "codemirror_mode": {
    "name": "ipython",
    "version": 3
   },
   "file_extension": ".py",
   "mimetype": "text/x-python",
   "name": "python",
   "nbconvert_exporter": "python",
   "pygments_lexer": "ipython3",
   "version": "3.12.11"
  }
 },
 "nbformat": 4,
 "nbformat_minor": 5
}
