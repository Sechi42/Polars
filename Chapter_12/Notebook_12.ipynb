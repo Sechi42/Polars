{
 "cells": [
  {
   "cell_type": "markdown",
   "id": "58bb6ef4",
   "metadata": {},
   "source": [
    "# Working with Textual, Temporal, and Nested Data Types"
   ]
  },
  {
   "cell_type": "code",
   "execution_count": 27,
   "id": "c3154d5f",
   "metadata": {},
   "outputs": [],
   "source": [
    "import polars as pl"
   ]
  },
  {
   "cell_type": "markdown",
   "id": "e7c20013",
   "metadata": {},
   "source": [
    "## String"
   ]
  },
  {
   "cell_type": "markdown",
   "id": "b0c72d07",
   "metadata": {},
   "source": [
    "## String Methods"
   ]
  },
  {
   "cell_type": "markdown",
   "id": "a98a9037",
   "metadata": {},
   "source": [
    "### String methods for conversion\n",
    "\n",
    "| Method                | Description                                                                 |\n",
    "|-----------------------|-----------------------------------------------------------------------------|\n",
    "| `Expr.str.decode()`   | Decodes a byte string to a Unicode string using a specified encoding.        |\n",
    "| `Expr.str.encode()`   | Encodes a string to bytes using a specified encoding.                        |\n",
    "| `Expr.str.json_decode()` | Parses a JSON string and returns the corresponding data structure.         |\n",
    "| `Expr.str.json_path_match()` | Extracts data from a JSON string using a JSONPath expression.          |\n",
    "| `Expr.str.strptime()` | Parses a string into a datetime object using a specified format.             |\n",
    "| `Expr.str.to_date()`  | Converts a string to a date object.                                          |\n",
    "| `Expr.str.to_datetime()` | Converts a string to a datetime object.                                   |\n",
    "| `Expr.str.to_decimal()` | Converts a string to a decimal number.                                     |\n",
    "| `Expr.str.to_integer()` | Converts a string to an integer.                                           |\n",
    "| `Expr.str.to_time()`  | Converts a string to a time object.                                          |"
   ]
  },
  {
   "cell_type": "markdown",
   "id": "9701d67c",
   "metadata": {},
   "source": [
    "### Métodos de cadena para describir y consultar\n",
    "\n",
    "| Método                        | Descripción                                                                                       |\n",
    "|-------------------------------|---------------------------------------------------------------------------------------------------|\n",
    "| `Expr.str.contains()`         | Verifica si la cadena contiene un patrón o subcadena especificada.                                |\n",
    "| `Expr.str.contains_any()`     | Verifica si la cadena contiene alguno de los patrones especificados.                              |\n",
    "| `Expr.str.count_matches()`    | Cuenta cuántas veces aparece un patrón en la cadena.                                              |\n",
    "| `Expr.str.ends_with()`        | Verifica si la cadena termina con una subcadena especificada.                                     |\n",
    "| `Expr.str.find()`             | Devuelve el índice de la primera aparición de una subcadena o patrón en la cadena.                |\n",
    "| `Expr.str.len_bytes()`        | Devuelve la longitud de la cadena en bytes.                                                       |\n",
    "| `Expr.str.len_chars()`        | Devuelve la longitud de la cadena en caracteres.                                                  |\n",
    "| `Expr.str.starts_with()`      | Verifica si la cadena comienza con una subcadena especificada.                                    |"
   ]
  },
  {
   "cell_type": "markdown",
   "id": "f4c61984",
   "metadata": {},
   "source": [
    "### Strings method for manipulation\n",
    "\n",
    "| Método                           | Descripción                                                                                           |\n",
    "|-----------------------------------|-------------------------------------------------------------------------------------------------------|\n",
    "| `Expr.str.concat()`               | Concatena varias cadenas en una sola.                                                                 |\n",
    "| `Expr.str.escape_regex()`         | Escapa caracteres especiales en una cadena para usarlos en expresiones regulares.                     |\n",
    "| `Expr.str.explode()`              | Divide una cadena en partes y las convierte en filas separadas.                                       |\n",
    "| `Expr.str.extract()`              | Extrae la primera coincidencia de un patrón de expresión regular en la cadena.                        |\n",
    "| `Expr.str.extract_all()`          | Extrae todas las coincidencias de un patrón de expresión regular en la cadena.                        |\n",
    "| `Expr.str.extract_groups()`       | Extrae grupos de coincidencias de una expresión regular en la cadena.                                 |\n",
    "| `Expr.str.extract_many()`         | Extrae múltiples coincidencias de varios patrones en la cadena.                                       |\n",
    "| `Expr.str.head()`                 | Devuelve los primeros caracteres de la cadena.                                                        |\n",
    "| `Expr.str.join()`                 | Une una lista de cadenas usando un separador especificado.                                            |\n",
    "| `Expr.str.pad_end()`              | Rellena la cadena al final con un carácter hasta alcanzar una longitud específica.                    |\n",
    "| `Expr.str.pad_start()`            | Rellena la cadena al inicio con un carácter hasta alcanzar una longitud específica.                   |\n",
    "| `Expr.str.replace()`              | Reemplaza la primera aparición de un patrón por otra subcadena.                                       |\n",
    "| `Expr.str.replace_all()`          | Reemplaza todas las apariciones de un patrón por otra subcadena.                                      |\n",
    "| `Expr.str.replace_many()`         | Reemplaza múltiples patrones por sus respectivas subcadenas en la cadena.                             |\n",
    "| `Expr.str.reverse()`              | Invierte el orden de los caracteres en la cadena.                                                     |\n",
    "| `Expr.str.slice()`                | Extrae una subcadena usando índices de inicio y fin.                                                  |\n",
    "| `Expr.str.split()`                | Divide la cadena en una lista de subcadenas usando un separador.                                      |\n",
    "| `Expr.str.split_exact()`          | Divide la cadena en un número exacto de partes usando un separador.                                   |\n",
    "| `Expr.str.splitn()`               | Divide la cadena en un número limitado de partes usando un separador.                                 |\n",
    "| `Expr.str.strip_chars()`          | Elimina los caracteres especificados de ambos extremos de la cadena.                                  |\n",
    "| `Expr.str.strip_chars_end()`      | Elimina los caracteres especificados solo del final de la cadena.                                     |\n",
    "| `Expr.str.strip_chars_start()`    | Elimina los caracteres especificados solo del inicio de la cadena.                                    |\n",
    "| `Expr.str.strip_prefix()`         | Elimina el prefijo especificado de la cadena si está presente.                                        |\n",
    "| `Expr.str.strip_suffix()`         | Elimina el sufijo especificado de la cadena si está presente.                                         |\n",
    "| `Expr.str.tail()`                 | Devuelve los últimos caracteres de la cadena.                                                         |\n",
    "| `Expr.str.to_lowercase()`         | Convierte todos los caracteres de la cadena a minúsculas.                                             |\n",
    "| `Expr.str.to_littlecase()`        | Convierte la cadena a minúsculas (sinónimo de `to_lowercase`).                                        |\n",
    "| `Expr.str.to_uppercase()`         | Convierte todos los caracteres de la cadena a mayúsculas.                                             |\n",
    "| `Expr.str.zfill()`                | Rellena la cadena con ceros a la izquierda hasta alcanzar una longitud específica.                    |"
   ]
  },
  {
   "cell_type": "markdown",
   "id": "61573963",
   "metadata": {},
   "source": [
    "### String Examples"
   ]
  },
  {
   "cell_type": "code",
   "execution_count": 28,
   "id": "b9928032",
   "metadata": {},
   "outputs": [
    {
     "data": {
      "text/html": [
       "<div><style>\n",
       ".dataframe > thead > tr,\n",
       ".dataframe > tbody > tr {\n",
       "  text-align: right;\n",
       "  white-space: pre-wrap;\n",
       "}\n",
       "</style>\n",
       "<small>shape: (3, 1)</small><table border=\"1\" class=\"dataframe\"><thead><tr><th>raw_data</th></tr><tr><td>str</td></tr></thead><tbody><tr><td>&quot;&nbsp;&nbsp;Data Science is amazing &quot;</td></tr><tr><td>&quot;Data_analysis &gt; Data entry&quot;</td></tr><tr><td>&quot; Python$Polars; Fast&quot;</td></tr></tbody></table></div>"
      ],
      "text/plain": [
       "shape: (3, 1)\n",
       "┌────────────────────────────┐\n",
       "│ raw_data                   │\n",
       "│ ---                        │\n",
       "│ str                        │\n",
       "╞════════════════════════════╡\n",
       "│   Data Science is amazing  │\n",
       "│ Data_analysis > Data entry │\n",
       "│  Python$Polars; Fast       │\n",
       "└────────────────────────────┘"
      ]
     },
     "execution_count": 28,
     "metadata": {},
     "output_type": "execute_result"
    }
   ],
   "source": [
    "corpus = pl.DataFrame(\n",
    "    {\n",
    "        \"raw_data\": [\n",
    "            \"  Data Science is amazing \",\n",
    "            \"Data_analysis > Data entry\",\n",
    "            \" Python$Polars; Fast\",\n",
    "        ]\n",
    "    }\n",
    ")\n",
    "corpus"
   ]
  },
  {
   "cell_type": "code",
   "execution_count": 29,
   "id": "8b79196d",
   "metadata": {},
   "outputs": [
    {
     "data": {
      "text/html": [
       "<div><style>\n",
       ".dataframe > thead > tr,\n",
       ".dataframe > tbody > tr {\n",
       "  text-align: right;\n",
       "  white-space: pre-wrap;\n",
       "}\n",
       "</style>\n",
       "<small>shape: (3, 2)</small><table border=\"1\" class=\"dataframe\"><thead><tr><th>raw_data</th><th>processed_text</th></tr><tr><td>str</td><td>str</td></tr></thead><tbody><tr><td>&quot;&nbsp;&nbsp;Data Science is amazing &quot;</td><td>&quot;data science is amazing&quot;</td></tr><tr><td>&quot;Data_analysis &gt; Data entry&quot;</td><td>&quot;data analysis &gt; data entry&quot;</td></tr><tr><td>&quot; Python$Polars; Fast&quot;</td><td>&quot;python$polars; fast&quot;</td></tr></tbody></table></div>"
      ],
      "text/plain": [
       "shape: (3, 2)\n",
       "┌────────────────────────────┬────────────────────────────┐\n",
       "│ raw_data                   ┆ processed_text             │\n",
       "│ ---                        ┆ ---                        │\n",
       "│ str                        ┆ str                        │\n",
       "╞════════════════════════════╪════════════════════════════╡\n",
       "│   Data Science is amazing  ┆ data science is amazing    │\n",
       "│ Data_analysis > Data entry ┆ data analysis > data entry │\n",
       "│  Python$Polars; Fast       ┆ python$polars; fast        │\n",
       "└────────────────────────────┴────────────────────────────┘"
      ]
     },
     "execution_count": 29,
     "metadata": {},
     "output_type": "execute_result"
    }
   ],
   "source": [
    "corpus = corpus.with_columns(\n",
    "    processed_text=pl.col(\"raw_data\")\n",
    "    .str.strip_chars()  # Remove leading/trailing whitespace\n",
    "    .str.to_lowercase()  # Convert to lowercase\n",
    "    .str.replace_all(\"_\", \" \")  # Replace underscores with spaces\n",
    ")\n",
    "corpus"
   ]
  },
  {
   "cell_type": "code",
   "execution_count": 30,
   "id": "68daf259",
   "metadata": {},
   "outputs": [
    {
     "data": {
      "text/html": [
       "<div><style>\n",
       ".dataframe > thead > tr,\n",
       ".dataframe > tbody > tr {\n",
       "  text-align: right;\n",
       "  white-space: pre-wrap;\n",
       "}\n",
       "</style>\n",
       "<small>shape: (3, 5)</small><table border=\"1\" class=\"dataframe\"><thead><tr><th>raw_data</th><th>processed_text</th><th>first_5_chars</th><th>firs_word</th><th>second_word</th></tr><tr><td>str</td><td>str</td><td>str</td><td>str</td><td>str</td></tr></thead><tbody><tr><td>&quot;&nbsp;&nbsp;Data Science is amazing &quot;</td><td>&quot;data science is amazing&quot;</td><td>&quot;data &quot;</td><td>&quot;data&quot;</td><td>&quot;science&quot;</td></tr><tr><td>&quot;Data_analysis &gt; Data entry&quot;</td><td>&quot;data analysis &gt; data entry&quot;</td><td>&quot;data &quot;</td><td>&quot;data&quot;</td><td>&quot;analysis&quot;</td></tr><tr><td>&quot; Python$Polars; Fast&quot;</td><td>&quot;python$polars; fast&quot;</td><td>&quot;pytho&quot;</td><td>&quot;python$polars;&quot;</td><td>&quot;fast&quot;</td></tr></tbody></table></div>"
      ],
      "text/plain": [
       "shape: (3, 5)\n",
       "┌─────────────────────────┬─────────────────────────┬───────────────┬────────────────┬─────────────┐\n",
       "│ raw_data                ┆ processed_text          ┆ first_5_chars ┆ firs_word      ┆ second_word │\n",
       "│ ---                     ┆ ---                     ┆ ---           ┆ ---            ┆ ---         │\n",
       "│ str                     ┆ str                     ┆ str           ┆ str            ┆ str         │\n",
       "╞═════════════════════════╪═════════════════════════╪═══════════════╪════════════════╪═════════════╡\n",
       "│ Data Science is amazing ┆ data science is amazing ┆ data          ┆ data           ┆ science     │\n",
       "│ Data_analysis > Data    ┆ data analysis > data    ┆ data          ┆ data           ┆ analysis    │\n",
       "│ entry                   ┆ entry                   ┆               ┆                ┆             │\n",
       "│  Python$Polars; Fast    ┆ python$polars; fast     ┆ pytho         ┆ python$polars; ┆ fast        │\n",
       "└─────────────────────────┴─────────────────────────┴───────────────┴────────────────┴─────────────┘"
      ]
     },
     "execution_count": 30,
     "metadata": {},
     "output_type": "execute_result"
    }
   ],
   "source": [
    "corpus.with_columns(\n",
    "    first_5_chars=pl.col(\"processed_text\").str.slice(0, 5),\n",
    "    firs_word=pl.col(\"processed_text\")\n",
    "    .str.split(\" \")\n",
    "    .list.get(0),\n",
    "    second_word=pl.col(\"processed_text\")\n",
    "    .str.split(\" \")\n",
    "    .list.get(1),\n",
    "    \n",
    ")"
   ]
  },
  {
   "cell_type": "code",
   "execution_count": 31,
   "id": "834aa137",
   "metadata": {},
   "outputs": [
    {
     "data": {
      "text/html": [
       "<div><style>\n",
       ".dataframe > thead > tr,\n",
       ".dataframe > tbody > tr {\n",
       "  text-align: right;\n",
       "  white-space: pre-wrap;\n",
       "}\n",
       "</style>\n",
       "<small>shape: (3, 5)</small><table border=\"1\" class=\"dataframe\"><thead><tr><th>raw_data</th><th>processed_text</th><th>len_chars</th><th>len_bytes</th><th>count_a</th></tr><tr><td>str</td><td>str</td><td>u32</td><td>u32</td><td>u32</td></tr></thead><tbody><tr><td>&quot;&nbsp;&nbsp;Data Science is amazing &quot;</td><td>&quot;data science is amazing&quot;</td><td>23</td><td>23</td><td>4</td></tr><tr><td>&quot;Data_analysis &gt; Data entry&quot;</td><td>&quot;data analysis &gt; data entry&quot;</td><td>26</td><td>26</td><td>6</td></tr><tr><td>&quot; Python$Polars; Fast&quot;</td><td>&quot;python$polars; fast&quot;</td><td>19</td><td>19</td><td>2</td></tr></tbody></table></div>"
      ],
      "text/plain": [
       "shape: (3, 5)\n",
       "┌────────────────────────────┬────────────────────────────┬───────────┬───────────┬─────────┐\n",
       "│ raw_data                   ┆ processed_text             ┆ len_chars ┆ len_bytes ┆ count_a │\n",
       "│ ---                        ┆ ---                        ┆ ---       ┆ ---       ┆ ---     │\n",
       "│ str                        ┆ str                        ┆ u32       ┆ u32       ┆ u32     │\n",
       "╞════════════════════════════╪════════════════════════════╪═══════════╪═══════════╪═════════╡\n",
       "│   Data Science is amazing  ┆ data science is amazing    ┆ 23        ┆ 23        ┆ 4       │\n",
       "│ Data_analysis > Data entry ┆ data analysis > data entry ┆ 26        ┆ 26        ┆ 6       │\n",
       "│  Python$Polars; Fast       ┆ python$polars; fast        ┆ 19        ┆ 19        ┆ 2       │\n",
       "└────────────────────────────┴────────────────────────────┴───────────┴───────────┴─────────┘"
      ]
     },
     "execution_count": 31,
     "metadata": {},
     "output_type": "execute_result"
    }
   ],
   "source": [
    "corpus.with_columns(\n",
    "    len_chars=pl.col(\"processed_text\").str.len_chars(),\n",
    "    len_bytes=pl.col(\"processed_text\").str.len_bytes(),\n",
    "    count_a=pl.col(\"processed_text\").str.count_matches(\"a\"),\n",
    ")"
   ]
  },
  {
   "cell_type": "code",
   "execution_count": 32,
   "id": "ee50e442",
   "metadata": {},
   "outputs": [
    {
     "data": {
      "text/html": [
       "<div><style>\n",
       ".dataframe > thead > tr,\n",
       ".dataframe > tbody > tr {\n",
       "  text-align: right;\n",
       "  white-space: pre-wrap;\n",
       "}\n",
       "</style>\n",
       "<small>shape: (2, 2)</small><table border=\"1\" class=\"dataframe\"><thead><tr><th>post</th><th>hashtags</th></tr><tr><td>str</td><td>list[str]</td></tr></thead><tbody><tr><td>&quot;Loving #python and #polars&quot;</td><td>[&quot;#python&quot;, &quot;#polars&quot;]</td></tr><tr><td>&quot;A boomer post without hashtags&quot;</td><td>[]</td></tr></tbody></table></div>"
      ],
      "text/plain": [
       "shape: (2, 2)\n",
       "┌────────────────────────────────┬────────────────────────┐\n",
       "│ post                           ┆ hashtags               │\n",
       "│ ---                            ┆ ---                    │\n",
       "│ str                            ┆ list[str]              │\n",
       "╞════════════════════════════════╪════════════════════════╡\n",
       "│ Loving #python and #polars     ┆ [\"#python\", \"#polars\"] │\n",
       "│ A boomer post without hashtags ┆ []                     │\n",
       "└────────────────────────────────┴────────────────────────┘"
      ]
     },
     "execution_count": 32,
     "metadata": {},
     "output_type": "execute_result"
    }
   ],
   "source": [
    "posts = pl.DataFrame(\n",
    "    {\n",
    "        \"post\": [\n",
    "            \"Loving #python and #polars\",\n",
    "            \"A boomer post without hashtags\",\n",
    "        ]\n",
    "    }\n",
    ")\n",
    "\n",
    "hashtag_regex = r\"#(\\w+)\"\n",
    "\n",
    "posts.with_columns(\n",
    "    hashtags=pl.col(\"post\").str.extract_all(hashtag_regex)\n",
    ")"
   ]
  },
  {
   "cell_type": "markdown",
   "id": "578803e6",
   "metadata": {},
   "source": [
    "## Categorical"
   ]
  },
  {
   "cell_type": "markdown",
   "id": "d7a80cb4",
   "metadata": {},
   "source": [
    "### Categorical vs String (Utf8) en Polars\n",
    "\n",
    "Resumen rápido: Categorical es un tipo de datos que almacena un diccionario de valores únicos y usa códigos enteros para representar cada valor; Utf8 (string) almacena las cadenas tal cual.\n",
    "\n",
    "- Categorical:\n",
    "  - Almacena internamente códigos enteros que apuntan a un diccionario de valores únicos (dictionary encoding).\n",
    "  - Ventajas: menor uso de memoria cuando hay valores repetidos, comparaciones más rápidas, agrupaciones y joins más eficientes (operaciones sobre enteros).\n",
    "  - Ideal para columnas de baja cardinalidad (pocas categorías), claves de join o features categóricas para modelos.\n"
   ]
  },
  {
   "cell_type": "code",
   "execution_count": 33,
   "id": "86f3eb52",
   "metadata": {},
   "outputs": [],
   "source": [
    "cats = pl.DataFrame(\n",
    "    {\n",
    "        \"name\": [\"Persian cat\", \"Siamese Cat\", \"Lynx\", \"Lynx\"]\n",
    "    },\n",
    "    schema=[(\"name\", pl.Categorical)]\n",
    ")"
   ]
  },
  {
   "cell_type": "code",
   "execution_count": 34,
   "id": "65337d01",
   "metadata": {},
   "outputs": [
    {
     "data": {
      "text/html": [
       "<div><style>\n",
       ".dataframe > thead > tr,\n",
       ".dataframe > tbody > tr {\n",
       "  text-align: right;\n",
       "  white-space: pre-wrap;\n",
       "}\n",
       "</style>\n",
       "<small>shape: (4, 2)</small><table border=\"1\" class=\"dataframe\"><thead><tr><th>name</th><th>name_physical</th></tr><tr><td>cat</td><td>u32</td></tr></thead><tbody><tr><td>&quot;Persian cat&quot;</td><td>0</td></tr><tr><td>&quot;Siamese Cat&quot;</td><td>1</td></tr><tr><td>&quot;Lynx&quot;</td><td>2</td></tr><tr><td>&quot;Lynx&quot;</td><td>2</td></tr></tbody></table></div>"
      ],
      "text/plain": [
       "shape: (4, 2)\n",
       "┌─────────────┬───────────────┐\n",
       "│ name        ┆ name_physical │\n",
       "│ ---         ┆ ---           │\n",
       "│ cat         ┆ u32           │\n",
       "╞═════════════╪═══════════════╡\n",
       "│ Persian cat ┆ 0             │\n",
       "│ Siamese Cat ┆ 1             │\n",
       "│ Lynx        ┆ 2             │\n",
       "│ Lynx        ┆ 2             │\n",
       "└─────────────┴───────────────┘"
      ]
     },
     "execution_count": 34,
     "metadata": {},
     "output_type": "execute_result"
    }
   ],
   "source": [
    "cats.with_columns(\n",
    "    name_physical=pl.col(\"name\").to_physical()\n",
    ")"
   ]
  },
  {
   "cell_type": "markdown",
   "id": "bff93437",
   "metadata": {},
   "source": [
    "## Categorical Methods\n",
    "\n",
    "| Método                      | Descripción                                                                                   |\n",
    "|-----------------------------|-----------------------------------------------------------------------------------------------|\n",
    "| `Expr.cat.get_categories()` | Devuelve una lista con todas las categorías únicas presentes en una columna categórica.        |"
   ]
  },
  {
   "cell_type": "code",
   "execution_count": 35,
   "id": "307eb160",
   "metadata": {},
   "outputs": [],
   "source": [
    "more_cats = pl.DataFrame(\n",
    "    {\n",
    "        \"name\": [\"Maine Coon Cat\", \"Lynx\", \"Lynx\", \"Siamese Cat\"]\n",
    "    }, schema={\"name\": pl.Categorical},\n",
    ")"
   ]
  },
  {
   "cell_type": "code",
   "execution_count": 36,
   "id": "485b645a",
   "metadata": {},
   "outputs": [
    {
     "data": {
      "text/html": [
       "<div><style>\n",
       ".dataframe > thead > tr,\n",
       ".dataframe > tbody > tr {\n",
       "  text-align: right;\n",
       "  white-space: pre-wrap;\n",
       "}\n",
       "</style>\n",
       "<small>shape: (4, 2)</small><table border=\"1\" class=\"dataframe\"><thead><tr><th>name</th><th>name_physical</th></tr><tr><td>cat</td><td>u32</td></tr></thead><tbody><tr><td>&quot;Maine Coon Cat&quot;</td><td>3</td></tr><tr><td>&quot;Lynx&quot;</td><td>2</td></tr><tr><td>&quot;Lynx&quot;</td><td>2</td></tr><tr><td>&quot;Siamese Cat&quot;</td><td>1</td></tr></tbody></table></div>"
      ],
      "text/plain": [
       "shape: (4, 2)\n",
       "┌────────────────┬───────────────┐\n",
       "│ name           ┆ name_physical │\n",
       "│ ---            ┆ ---           │\n",
       "│ cat            ┆ u32           │\n",
       "╞════════════════╪═══════════════╡\n",
       "│ Maine Coon Cat ┆ 3             │\n",
       "│ Lynx           ┆ 2             │\n",
       "│ Lynx           ┆ 2             │\n",
       "│ Siamese Cat    ┆ 1             │\n",
       "└────────────────┴───────────────┘"
      ]
     },
     "execution_count": 36,
     "metadata": {},
     "output_type": "execute_result"
    }
   ],
   "source": [
    "more_cats.with_columns(\n",
    "    name_physical=pl.col(\"name\").to_physical()\n",
    ")"
   ]
  },
  {
   "cell_type": "code",
   "execution_count": 37,
   "id": "0add3656",
   "metadata": {},
   "outputs": [
    {
     "data": {
      "text/html": [
       "<div><style>\n",
       ".dataframe > thead > tr,\n",
       ".dataframe > tbody > tr {\n",
       "  text-align: right;\n",
       "  white-space: pre-wrap;\n",
       "}\n",
       "</style>\n",
       "<small>shape: (5, 1)</small><table border=\"1\" class=\"dataframe\"><thead><tr><th>name</th></tr><tr><td>cat</td></tr></thead><tbody><tr><td>&quot;Lynx&quot;</td></tr><tr><td>&quot;Lynx&quot;</td></tr><tr><td>&quot;Lynx&quot;</td></tr><tr><td>&quot;Lynx&quot;</td></tr><tr><td>&quot;Siamese Cat&quot;</td></tr></tbody></table></div>"
      ],
      "text/plain": [
       "shape: (5, 1)\n",
       "┌─────────────┐\n",
       "│ name        │\n",
       "│ ---         │\n",
       "│ cat         │\n",
       "╞═════════════╡\n",
       "│ Lynx        │\n",
       "│ Lynx        │\n",
       "│ Lynx        │\n",
       "│ Lynx        │\n",
       "│ Siamese Cat │\n",
       "└─────────────┘"
      ]
     },
     "execution_count": 37,
     "metadata": {},
     "output_type": "execute_result"
    }
   ],
   "source": [
    "cats.join(more_cats, on=\"name\")"
   ]
  },
  {
   "cell_type": "code",
   "execution_count": 38,
   "id": "73ac8b51",
   "metadata": {},
   "outputs": [],
   "source": [
    "with pl.StringCache():\n",
    "    left = pl.DataFrame(\n",
    "        {\n",
    "            \"categorical_column\": [\"value3\", \"value2\", \"value1\"],\n",
    "            \"other\": [\"a\", \"b\", \"c\"],\n",
    "        },\n",
    "        schema={\"categorical_column\": pl.Categorical, \"other\": pl.String},\n",
    "    )\n",
    "    right = pl.DataFrame(\n",
    "        {\n",
    "            \"categorical_column\": [\"value2\", \"value3\", \"value4\"],\n",
    "            \"other\": [\"d\", \"e\", \"f\"],\n",
    "        },\n",
    "        schema={\"categorical_column\": pl.Categorical, \"other\": pl.String},\n",
    "    )"
   ]
  },
  {
   "cell_type": "code",
   "execution_count": 39,
   "id": "ac483fc4",
   "metadata": {},
   "outputs": [
    {
     "data": {
      "text/html": [
       "<div><style>\n",
       ".dataframe > thead > tr,\n",
       ".dataframe > tbody > tr {\n",
       "  text-align: right;\n",
       "  white-space: pre-wrap;\n",
       "}\n",
       "</style>\n",
       "<small>shape: (2, 3)</small><table border=\"1\" class=\"dataframe\"><thead><tr><th>categorical_column</th><th>other</th><th>other_right</th></tr><tr><td>cat</td><td>str</td><td>str</td></tr></thead><tbody><tr><td>&quot;value2&quot;</td><td>&quot;b&quot;</td><td>&quot;d&quot;</td></tr><tr><td>&quot;value3&quot;</td><td>&quot;a&quot;</td><td>&quot;e&quot;</td></tr></tbody></table></div>"
      ],
      "text/plain": [
       "shape: (2, 3)\n",
       "┌────────────────────┬───────┬─────────────┐\n",
       "│ categorical_column ┆ other ┆ other_right │\n",
       "│ ---                ┆ ---   ┆ ---         │\n",
       "│ cat                ┆ str   ┆ str         │\n",
       "╞════════════════════╪═══════╪═════════════╡\n",
       "│ value2             ┆ b     ┆ d           │\n",
       "│ value3             ┆ a     ┆ e           │\n",
       "└────────────────────┴───────┴─────────────┘"
      ]
     },
     "execution_count": 39,
     "metadata": {},
     "output_type": "execute_result"
    }
   ],
   "source": [
    "left.join(right, on=\"categorical_column\")"
   ]
  },
  {
   "cell_type": "code",
   "execution_count": 40,
   "id": "40679e65",
   "metadata": {},
   "outputs": [],
   "source": [
    "\n",
    "pl.enable_string_cache()"
   ]
  },
  {
   "cell_type": "code",
   "execution_count": 41,
   "id": "5509931d",
   "metadata": {},
   "outputs": [
    {
     "data": {
      "text/html": [
       "<div><style>\n",
       ".dataframe > thead > tr,\n",
       ".dataframe > tbody > tr {\n",
       "  text-align: right;\n",
       "  white-space: pre-wrap;\n",
       "}\n",
       "</style>\n",
       "<small>shape: (11, 1)</small><table border=\"1\" class=\"dataframe\"><thead><tr><th>categorical_column</th></tr><tr><td>str</td></tr></thead><tbody><tr><td>&quot;Persian cat&quot;</td></tr><tr><td>&quot;Siamese Cat&quot;</td></tr><tr><td>&quot;Lynx&quot;</td></tr><tr><td>&quot;Maine Coon Cat&quot;</td></tr><tr><td>&quot;value3&quot;</td></tr><tr><td>&hellip;</td></tr><tr><td>&quot;value1&quot;</td></tr><tr><td>&quot;value4&quot;</td></tr><tr><td>&quot;Polar&quot;</td></tr><tr><td>&quot;Panda&quot;</td></tr><tr><td>&quot;Brown&quot;</td></tr></tbody></table></div>"
      ],
      "text/plain": [
       "shape: (11, 1)\n",
       "┌────────────────────┐\n",
       "│ categorical_column │\n",
       "│ ---                │\n",
       "│ str                │\n",
       "╞════════════════════╡\n",
       "│ Persian cat        │\n",
       "│ Siamese Cat        │\n",
       "│ Lynx               │\n",
       "│ Maine Coon Cat     │\n",
       "│ value3             │\n",
       "│ …                  │\n",
       "│ value1             │\n",
       "│ value4             │\n",
       "│ Polar              │\n",
       "│ Panda              │\n",
       "│ Brown              │\n",
       "└────────────────────┘"
      ]
     },
     "execution_count": 41,
     "metadata": {},
     "output_type": "execute_result"
    }
   ],
   "source": [
    "right.select(pl.col(\"categorical_column\").cat.get_categories())"
   ]
  },
  {
   "cell_type": "code",
   "execution_count": 42,
   "id": "959dd080",
   "metadata": {},
   "outputs": [
    {
     "data": {
      "text/html": [
       "<div><style>\n",
       ".dataframe > thead > tr,\n",
       ".dataframe > tbody > tr {\n",
       "  text-align: right;\n",
       "  white-space: pre-wrap;\n",
       "}\n",
       "</style>\n",
       "<small>shape: (4, 2)</small><table border=\"1\" class=\"dataframe\"><thead><tr><th>cat_lexical</th><th>cat_physical</th></tr><tr><td>cat</td><td>u32</td></tr></thead><tbody><tr><td>&quot;Persian cat&quot;</td><td>0</td></tr><tr><td>&quot;Siamese Cat&quot;</td><td>1</td></tr><tr><td>&quot;Lynx&quot;</td><td>2</td></tr><tr><td>&quot;Lynx&quot;</td><td>2</td></tr></tbody></table></div>"
      ],
      "text/plain": [
       "shape: (4, 2)\n",
       "┌─────────────┬──────────────┐\n",
       "│ cat_lexical ┆ cat_physical │\n",
       "│ ---         ┆ ---          │\n",
       "│ cat         ┆ u32          │\n",
       "╞═════════════╪══════════════╡\n",
       "│ Persian cat ┆ 0            │\n",
       "│ Siamese Cat ┆ 1            │\n",
       "│ Lynx        ┆ 2            │\n",
       "│ Lynx        ┆ 2            │\n",
       "└─────────────┴──────────────┘"
      ]
     },
     "execution_count": 42,
     "metadata": {},
     "output_type": "execute_result"
    }
   ],
   "source": [
    "sorting_comparison_df = cats.select(cat_lexical=pl.col(\"name\")).with_columns(\n",
    "    cat_physical=pl.col(\"cat_lexical\").to_physical()\n",
    ")\n",
    "\n",
    "sorting_comparison_df"
   ]
  },
  {
   "cell_type": "code",
   "execution_count": 43,
   "id": "b79432bc",
   "metadata": {},
   "outputs": [
    {
     "data": {
      "text/html": [
       "<div><style>\n",
       ".dataframe > thead > tr,\n",
       ".dataframe > tbody > tr {\n",
       "  text-align: right;\n",
       "  white-space: pre-wrap;\n",
       "}\n",
       "</style>\n",
       "<small>shape: (4, 2)</small><table border=\"1\" class=\"dataframe\"><thead><tr><th>cat_lexical</th><th>cat_physical</th></tr><tr><td>cat</td><td>u32</td></tr></thead><tbody><tr><td>&quot;Lynx&quot;</td><td>2</td></tr><tr><td>&quot;Lynx&quot;</td><td>2</td></tr><tr><td>&quot;Persian cat&quot;</td><td>0</td></tr><tr><td>&quot;Siamese Cat&quot;</td><td>1</td></tr></tbody></table></div>"
      ],
      "text/plain": [
       "shape: (4, 2)\n",
       "┌─────────────┬──────────────┐\n",
       "│ cat_lexical ┆ cat_physical │\n",
       "│ ---         ┆ ---          │\n",
       "│ cat         ┆ u32          │\n",
       "╞═════════════╪══════════════╡\n",
       "│ Lynx        ┆ 2            │\n",
       "│ Lynx        ┆ 2            │\n",
       "│ Persian cat ┆ 0            │\n",
       "│ Siamese Cat ┆ 1            │\n",
       "└─────────────┴──────────────┘"
      ]
     },
     "execution_count": 43,
     "metadata": {},
     "output_type": "execute_result"
    }
   ],
   "source": [
    "sorting_comparison_df.with_columns(\n",
    "   pl.col(\"cat_lexical\").cast(pl.Categorical())\n",
    ").sort(by=\"cat_lexical\")"
   ]
  },
  {
   "cell_type": "code",
   "execution_count": 44,
   "id": "40835e3d",
   "metadata": {},
   "outputs": [
    {
     "data": {
      "text/html": [
       "<div><style>\n",
       ".dataframe > thead > tr,\n",
       ".dataframe > tbody > tr {\n",
       "  text-align: right;\n",
       "  white-space: pre-wrap;\n",
       "}\n",
       "</style>\n",
       "<small>shape: (4, 2)</small><table border=\"1\" class=\"dataframe\"><thead><tr><th>cat_lexical</th><th>cat_physical</th></tr><tr><td>cat</td><td>u32</td></tr></thead><tbody><tr><td>&quot;Lynx&quot;</td><td>2</td></tr><tr><td>&quot;Lynx&quot;</td><td>2</td></tr><tr><td>&quot;Persian cat&quot;</td><td>0</td></tr><tr><td>&quot;Siamese Cat&quot;</td><td>1</td></tr></tbody></table></div>"
      ],
      "text/plain": [
       "shape: (4, 2)\n",
       "┌─────────────┬──────────────┐\n",
       "│ cat_lexical ┆ cat_physical │\n",
       "│ ---         ┆ ---          │\n",
       "│ cat         ┆ u32          │\n",
       "╞═════════════╪══════════════╡\n",
       "│ Lynx        ┆ 2            │\n",
       "│ Lynx        ┆ 2            │\n",
       "│ Persian cat ┆ 0            │\n",
       "│ Siamese Cat ┆ 1            │\n",
       "└─────────────┴──────────────┘"
      ]
     },
     "execution_count": 44,
     "metadata": {},
     "output_type": "execute_result"
    }
   ],
   "source": [
    "sorting_comparison_df.with_columns(\n",
    "    pl.col(\"cat_lexical\").cast(pl.Categorical(\"lexical\"))\n",
    ").sort(by=\"cat_lexical\")"
   ]
  },
  {
   "cell_type": "markdown",
   "id": "7026876d",
   "metadata": {},
   "source": [
    "## Enum"
   ]
  },
  {
   "cell_type": "code",
   "execution_count": 45,
   "id": "e6d09689",
   "metadata": {},
   "outputs": [
    {
     "data": {
      "text/plain": [
       "Enum(categories=['Polar', 'Panda', 'Brown'])"
      ]
     },
     "execution_count": 45,
     "metadata": {},
     "output_type": "execute_result"
    }
   ],
   "source": [
    "bear_enum_dtype = pl.Enum([\"Polar\", \"Panda\", \"Brown\"])\n",
    "bear_enum_dtype"
   ]
  },
  {
   "cell_type": "code",
   "execution_count": 46,
   "id": "5376a4df",
   "metadata": {},
   "outputs": [
    {
     "data": {
      "text/html": [
       "<div><style>\n",
       ".dataframe > thead > tr,\n",
       ".dataframe > tbody > tr {\n",
       "  text-align: right;\n",
       "  white-space: pre-wrap;\n",
       "}\n",
       "</style>\n",
       "<small>shape: (5,)</small><table border=\"1\" class=\"dataframe\"><thead><tr><th></th></tr><tr><td>enum</td></tr></thead><tbody><tr><td>&quot;Polar&quot;</td></tr><tr><td>&quot;Panda&quot;</td></tr><tr><td>&quot;Brown&quot;</td></tr><tr><td>&quot;Brown&quot;</td></tr><tr><td>&quot;Polar&quot;</td></tr></tbody></table></div>"
      ],
      "text/plain": [
       "shape: (5,)\n",
       "Series: '' [enum]\n",
       "[\n",
       "\t\"Polar\"\n",
       "\t\"Panda\"\n",
       "\t\"Brown\"\n",
       "\t\"Brown\"\n",
       "\t\"Polar\"\n",
       "]"
      ]
     },
     "execution_count": 46,
     "metadata": {},
     "output_type": "execute_result"
    }
   ],
   "source": [
    "bear_enum_series = pl.Series(\n",
    "    [\"Polar\", \"Panda\", \"Brown\", \"Brown\", \"Polar\"], dtype=bear_enum_dtype\n",
    ")\n",
    "bear_enum_series"
   ]
  },
  {
   "cell_type": "code",
   "execution_count": 47,
   "id": "f1a7bf63",
   "metadata": {},
   "outputs": [
    {
     "data": {
      "text/html": [
       "<div><style>\n",
       ".dataframe > thead > tr,\n",
       ".dataframe > tbody > tr {\n",
       "  text-align: right;\n",
       "  white-space: pre-wrap;\n",
       "}\n",
       "</style>\n",
       "<small>shape: (5,)</small><table border=\"1\" class=\"dataframe\"><thead><tr><th></th></tr><tr><td>cat</td></tr></thead><tbody><tr><td>&quot;Polar&quot;</td></tr><tr><td>&quot;Panda&quot;</td></tr><tr><td>&quot;Brown&quot;</td></tr><tr><td>&quot;Brown&quot;</td></tr><tr><td>&quot;Polar&quot;</td></tr></tbody></table></div>"
      ],
      "text/plain": [
       "shape: (5,)\n",
       "Series: '' [cat]\n",
       "[\n",
       "\t\"Polar\"\n",
       "\t\"Panda\"\n",
       "\t\"Brown\"\n",
       "\t\"Brown\"\n",
       "\t\"Polar\"\n",
       "]"
      ]
     },
     "execution_count": 47,
     "metadata": {},
     "output_type": "execute_result"
    }
   ],
   "source": [
    "bear_cat_series = pl.Series(\n",
    "    [\"Polar\", \"Panda\", \"Brown\", \"Brown\", \"Polar\"], dtype=pl.Categorical\n",
    ")\n",
    "bear_cat_series"
   ]
  },
  {
   "cell_type": "markdown",
   "id": "122acd3e",
   "metadata": {},
   "source": [
    "##  **Temporal**\n",
    "\n",
    "| Data type | Description | Example | Storage |\n",
    "|-----------|-------------|---------|---------|\n",
    "| **Date** | Represents a calendar date without a time of day. | Birthdays | Int32 representing the amount of days since the Unix epoch (1970-01-01). |\n",
    "| **Datetime** | Represents a calendar date and a time of day on that date. | Timestamps in logging | Int64 since the Unix epoch, and can have different units such as ns, us, ms. |\n",
    "| **Duration** | Represents a time interval, the difference between two points in time. It’s similar to `timedelta` in Python. | Elapsed time between two events | Int64 created when subtracting Date/Datetime. |\n",
    "| **Time** | Focuses only on a time of day. | Scheduling of daily tasks. | Int64 representing nanoseconds since midnight. |"
   ]
  },
  {
   "cell_type": "markdown",
   "id": "4c6749be",
   "metadata": {},
   "source": [
    "## Temporal Methods\n",
    "\n",
    "El espacio de nombres `Expr.dt` en Polars proporciona una variedad de métodos para convertir, describir y manipular tipos de datos temporales.\n",
    "\n",
    "---\n",
    "\n",
    "### Métodos temporales para conversión\n",
    "\n",
    "Estos métodos permiten convertir datos temporales a y desde otros tipos de datos o formatos.\n",
    "\n",
    "| Método                           | Descripción                                                                                      |\n",
    "|-----------------------------------|--------------------------------------------------------------------------------------------------|\n",
    "| `Expr.dt.cast_time_unit(...)`     | Convierte los datos subyacentes a otra unidad de tiempo.                                         |\n",
    "| `Expr.dt.strftime(...)`           | Convierte una columna de Date/Time/Datetime en una columna de String con el formato dado.        |\n",
    "| `Expr.dt.to_string(...)`          | Convierte una columna de Date/Time/Datetime en una columna de String con el formato dado.        |\n",
    "\n",
    "---\n",
    "\n",
    "### Métodos temporales para descripción y consulta\n",
    "\n",
    "Estos métodos devuelven atributos o propiedades de los datos temporales.\n",
    "\n",
    "| Método                                 | Descripción                                                                                   |\n",
    "|-----------------------------------------|-----------------------------------------------------------------------------------------------|\n",
    "| `Expr.dt.base_utc_offset()`             | Desplazamiento base respecto a UTC.                                                           |\n",
    "| `Expr.dt.century()`                     | Extrae el siglo de la representación Date subyacente.                                         |\n",
    "| `Expr.dt.date()`                        | Extrae la fecha de un Datetime.                                                               |\n",
    "| `Expr.dt.datetime()`                    | Devuelve el Datetime.                                                                         |\n",
    "| `Expr.dt.day()`                         | Extrae el día de la representación Date subyacente.                                           |\n",
    "| `Expr.dt.dst_offset()`                  | Desplazamiento adicional actualmente en efecto (por horario de verano, por ejemplo).          |\n",
    "| `Expr.dt.epoch(...)`                    | Obtiene el tiempo transcurrido desde el Unix epoch en la unidad de tiempo dada.               |\n",
    "| `Expr.dt.hour()`                        | Extrae la hora de la representación Datetime subyacente.                                      |\n",
    "| `Expr.dt.is_leap_year()`                | Determina si el año de la Date subyacente es bisiesto.                                        |\n",
    "| `Expr.dt.iso_year()`                    | Extrae el año ISO de la representación Date subyacente.                                       |\n",
    "| `Expr.dt.microsecond()`                 | Extrae los microsegundos de la representación Datetime subyacente.                            |\n",
    "| `Expr.dt.millennium()`                  | Extrae el milenio de la representación Date subyacente.                                       |\n",
    "| `Expr.dt.millisecond()`                 | Extrae los milisegundos de la representación Datetime subyacente.                             |\n",
    "| `Expr.dt.minute()`                      | Extrae los minutos de la representación Datetime subyacente.                                  |\n",
    "| `Expr.dt.month()`                       | Extrae el mes de la representación Date subyacente.                                           |\n",
    "| `Expr.dt.nanosecond()`                  | Extrae los nanosegundos de la representación Datetime subyacente.                             |\n",
    "| `Expr.dt.ordinal_day()`                 | Extrae el día ordinal de la representación Date subyacente.                                   |\n",
    "| `Expr.dt.quarter()`                     | Extrae el trimestre de la representación Date subyacente.                                     |\n",
    "| `Expr.dt.second(...)`                   | Extrae los segundos de la representación Datetime subyacente.                                 |\n",
    "| `Expr.dt.time()`                        | Extrae la hora.                                                                               |\n",
    "| `Expr.dt.timestamp(...)`                | Devuelve un timestamp en la unidad de tiempo dada.                                            |\n",
    "| `Expr.dt.total_days()`                  | Extrae el total de días de un tipo de dato Duration.                                          |\n",
    "| `Expr.dt.total_hours()`                 | Extrae el total de horas de un tipo de dato Duration.                                         |\n",
    "| `Expr.dt.total_microseconds()`          | Extrae el total de microsegundos de un tipo de dato Duration.                                 |\n",
    "| `Expr.dt.total_milliseconds()`          | Extrae el total de milisegundos de un tipo de dato Duration.                                  |\n",
    "| `Expr.dt.total_minutes()`               | Extrae el total de minutos de un tipo de dato Duration.                                       |\n",
    "| `Expr.dt.total_nanoseconds()`           | Extrae el total de nanosegundos de un tipo de dato Duration.                                  |\n",
    "| `Expr.dt.total_seconds()`               | Extrae el total de segundos de un tipo de dato Duration.                                      |\n",
    "| `Expr.dt.year()`                        | Extrae el año de la representación Date subyacente.                                           |\n",
    "\n",
    "---\n",
    "\n",
    "### Métodos temporales para manipulación\n",
    "\n",
    "Estos métodos permiten manipular y transformar datos temporales.\n",
    "\n",
    "| Método                                  | Descripción                                                                                   |\n",
    "|------------------------------------------|-----------------------------------------------------------------------------------------------|\n",
    "| `Expr.dt.add_business_days(...)`         | Desplaza por n días hábiles.                                                                  |\n",
    "| `Expr.dt.combine(...)`                   | Crea un Datetime naive a partir de una expresión Date/Datetime existente y una hora.           |\n",
    "| `Expr.dt.convert_time_zone(...)`         | Convierte a la zona horaria dada para una expresión de tipo Datetime.                         |\n",
    "| `Expr.dt.month_start()`                  | Retrocede al primer día del mes.                                                              |\n",
    "| `Expr.dt.month_end()`                    | Avanza al último día del mes.                                                                 |\n",
    "| `Expr.dt.offset_by(...)`                 | Desplaza esta fecha por un desplazamiento relativo de tiempo.                                 |\n",
    "| `Expr.dt.replace_time_zone(...)`         | Reemplaza la zona horaria para una expresión de tipo Datetime.                                |\n",
    "| `Expr.dt.round(...)`                     | Divide el rango Date/Datetime en intervalos (redondea al intervalo más cercano).              |\n",
    "| `Expr.dt.truncate(...)`                  | Divide el rango Date/Datetime en intervalos (trunca al intervalo).                            |\n",
    "| `Expr.dt.week()`                         | Extrae la semana de la representación Date subyacente.                                        |\n",
    "| `Expr.dt.weekday()`                      | Extrae el día de la semana de la representación Date subyacente.                              |\n",
    "| `Expr.dt.with_time_unit(...)`            | Establece la unidad de tiempo de una expresión de tipo Datetime o Duration.                   |\n"
   ]
  },
  {
   "cell_type": "markdown",
   "id": "dee61c50",
   "metadata": {},
   "source": [
    "## Temporal Examples"
   ]
  },
  {
   "cell_type": "code",
   "execution_count": 48,
   "id": "6ad40434",
   "metadata": {},
   "outputs": [
    {
     "data": {
      "text/html": [
       "<div><style>\n",
       ".dataframe > thead > tr,\n",
       ".dataframe > tbody > tr {\n",
       "  text-align: right;\n",
       "  white-space: pre-wrap;\n",
       "}\n",
       "</style>\n",
       "<small>shape: (18_476, 8)</small><table border=\"1\" class=\"dataframe\"><thead><tr><th>symbol</th><th>date</th><th>open</th><th>high</th><th>low</th><th>close</th><th>adj close</th><th>volume</th></tr><tr><td>str</td><td>date</td><td>f64</td><td>f64</td><td>f64</td><td>f64</td><td>f64</td><td>i64</td></tr></thead><tbody><tr><td>&quot;ASML&quot;</td><td>1999-01-04</td><td>11.765625</td><td>12.28125</td><td>11.765625</td><td>12.140625</td><td>7.522523</td><td>1801867</td></tr><tr><td>&quot;ASML&quot;</td><td>1999-01-05</td><td>11.859375</td><td>14.25</td><td>11.71875</td><td>13.96875</td><td>8.655257</td><td>8241600</td></tr><tr><td>&quot;ASML&quot;</td><td>1999-01-06</td><td>14.25</td><td>17.601563</td><td>14.203125</td><td>16.875</td><td>10.456018</td><td>16400267</td></tr><tr><td>&quot;ASML&quot;</td><td>1999-01-07</td><td>14.742188</td><td>17.8125</td><td>14.53125</td><td>16.851563</td><td>10.441495</td><td>17722133</td></tr><tr><td>&quot;ASML&quot;</td><td>1999-01-08</td><td>16.078125</td><td>16.289063</td><td>15.023438</td><td>15.796875</td><td>9.787995</td><td>10696000</td></tr><tr><td>&hellip;</td><td>&hellip;</td><td>&hellip;</td><td>&hellip;</td><td>&hellip;</td><td>&hellip;</td><td>&hellip;</td><td>&hellip;</td></tr><tr><td>&quot;TSM&quot;</td><td>2023-06-26</td><td>102.019997</td><td>103.040001</td><td>100.089996</td><td>100.110001</td><td>99.125954</td><td>8560000</td></tr><tr><td>&quot;TSM&quot;</td><td>2023-06-27</td><td>101.150002</td><td>102.790001</td><td>100.019997</td><td>102.080002</td><td>101.076591</td><td>9732000</td></tr><tr><td>&quot;TSM&quot;</td><td>2023-06-28</td><td>100.5</td><td>101.879997</td><td>100.220001</td><td>100.919998</td><td>99.927986</td><td>8160900</td></tr><tr><td>&quot;TSM&quot;</td><td>2023-06-29</td><td>101.339996</td><td>101.519997</td><td>100.019997</td><td>100.639999</td><td>99.650742</td><td>7383900</td></tr><tr><td>&quot;TSM&quot;</td><td>2023-06-30</td><td>101.400002</td><td>101.889999</td><td>100.410004</td><td>100.919998</td><td>99.927986</td><td>11701700</td></tr></tbody></table></div>"
      ],
      "text/plain": [
       "shape: (18_476, 8)\n",
       "┌────────┬────────────┬────────────┬────────────┬────────────┬────────────┬────────────┬──────────┐\n",
       "│ symbol ┆ date       ┆ open       ┆ high       ┆ low        ┆ close      ┆ adj close  ┆ volume   │\n",
       "│ ---    ┆ ---        ┆ ---        ┆ ---        ┆ ---        ┆ ---        ┆ ---        ┆ ---      │\n",
       "│ str    ┆ date       ┆ f64        ┆ f64        ┆ f64        ┆ f64        ┆ f64        ┆ i64      │\n",
       "╞════════╪════════════╪════════════╪════════════╪════════════╪════════════╪════════════╪══════════╡\n",
       "│ ASML   ┆ 1999-01-04 ┆ 11.765625  ┆ 12.28125   ┆ 11.765625  ┆ 12.140625  ┆ 7.522523   ┆ 1801867  │\n",
       "│ ASML   ┆ 1999-01-05 ┆ 11.859375  ┆ 14.25      ┆ 11.71875   ┆ 13.96875   ┆ 8.655257   ┆ 8241600  │\n",
       "│ ASML   ┆ 1999-01-06 ┆ 14.25      ┆ 17.601563  ┆ 14.203125  ┆ 16.875     ┆ 10.456018  ┆ 16400267 │\n",
       "│ ASML   ┆ 1999-01-07 ┆ 14.742188  ┆ 17.8125    ┆ 14.53125   ┆ 16.851563  ┆ 10.441495  ┆ 17722133 │\n",
       "│ ASML   ┆ 1999-01-08 ┆ 16.078125  ┆ 16.289063  ┆ 15.023438  ┆ 15.796875  ┆ 9.787995   ┆ 10696000 │\n",
       "│ …      ┆ …          ┆ …          ┆ …          ┆ …          ┆ …          ┆ …          ┆ …        │\n",
       "│ TSM    ┆ 2023-06-26 ┆ 102.019997 ┆ 103.040001 ┆ 100.089996 ┆ 100.110001 ┆ 99.125954  ┆ 8560000  │\n",
       "│ TSM    ┆ 2023-06-27 ┆ 101.150002 ┆ 102.790001 ┆ 100.019997 ┆ 102.080002 ┆ 101.076591 ┆ 9732000  │\n",
       "│ TSM    ┆ 2023-06-28 ┆ 100.5      ┆ 101.879997 ┆ 100.220001 ┆ 100.919998 ┆ 99.927986  ┆ 8160900  │\n",
       "│ TSM    ┆ 2023-06-29 ┆ 101.339996 ┆ 101.519997 ┆ 100.019997 ┆ 100.639999 ┆ 99.650742  ┆ 7383900  │\n",
       "│ TSM    ┆ 2023-06-30 ┆ 101.400002 ┆ 101.889999 ┆ 100.410004 ┆ 100.919998 ┆ 99.927986  ┆ 11701700 │\n",
       "└────────┴────────────┴────────────┴────────────┴────────────┴────────────┴────────────┴──────────┘"
      ]
     },
     "execution_count": 48,
     "metadata": {},
     "output_type": "execute_result"
    }
   ],
   "source": [
    "pl.read_csv(\"data/all_stocks.csv\", try_parse_dates=True)"
   ]
  },
  {
   "cell_type": "markdown",
   "id": "4c726f9e",
   "metadata": {},
   "source": [
    "Converting to and on a String"
   ]
  },
  {
   "cell_type": "code",
   "execution_count": 49,
   "id": "5b5f8483",
   "metadata": {},
   "outputs": [
    {
     "data": {
      "text/html": [
       "<div><style>\n",
       ".dataframe > thead > tr,\n",
       ".dataframe > tbody > tr {\n",
       "  text-align: right;\n",
       "  white-space: pre-wrap;\n",
       "}\n",
       "</style>\n",
       "<small>shape: (2, 2)</small><table border=\"1\" class=\"dataframe\"><thead><tr><th>date_str</th><th>date</th></tr><tr><td>str</td><td>date</td></tr></thead><tbody><tr><td>&quot;2023-12-31&quot;</td><td>2023-12-31</td></tr><tr><td>&quot;2024-02-29&quot;</td><td>2024-02-29</td></tr></tbody></table></div>"
      ],
      "text/plain": [
       "shape: (2, 2)\n",
       "┌────────────┬────────────┐\n",
       "│ date_str   ┆ date       │\n",
       "│ ---        ┆ ---        │\n",
       "│ str        ┆ date       │\n",
       "╞════════════╪════════════╡\n",
       "│ 2023-12-31 ┆ 2023-12-31 │\n",
       "│ 2024-02-29 ┆ 2024-02-29 │\n",
       "└────────────┴────────────┘"
      ]
     },
     "execution_count": 49,
     "metadata": {},
     "output_type": "execute_result"
    }
   ],
   "source": [
    "dates = pl.DataFrame(\n",
    "    {\n",
    "        'date_str': [\n",
    "            \"2023-12-31\", \"2024-02-29\"\n",
    "        ] \n",
    "    }\n",
    ").with_columns(\n",
    "    date=pl.col(\"date_str\").str.to_date(\"%Y-%m-%d\")\n",
    ")\n",
    "dates"
   ]
  },
  {
   "cell_type": "code",
   "execution_count": 50,
   "id": "65af1973",
   "metadata": {},
   "outputs": [
    {
     "data": {
      "text/html": [
       "<div><style>\n",
       ".dataframe > thead > tr,\n",
       ".dataframe > tbody > tr {\n",
       "  text-align: right;\n",
       "  white-space: pre-wrap;\n",
       "}\n",
       "</style>\n",
       "<small>shape: (2, 3)</small><table border=\"1\" class=\"dataframe\"><thead><tr><th>date_str</th><th>date</th><th>formatted_date</th></tr><tr><td>str</td><td>date</td><td>str</td></tr></thead><tbody><tr><td>&quot;2023-12-31&quot;</td><td>2023-12-31</td><td>&quot;31-12-2023&quot;</td></tr><tr><td>&quot;2024-02-29&quot;</td><td>2024-02-29</td><td>&quot;29-02-2024&quot;</td></tr></tbody></table></div>"
      ],
      "text/plain": [
       "shape: (2, 3)\n",
       "┌────────────┬────────────┬────────────────┐\n",
       "│ date_str   ┆ date       ┆ formatted_date │\n",
       "│ ---        ┆ ---        ┆ ---            │\n",
       "│ str        ┆ date       ┆ str            │\n",
       "╞════════════╪════════════╪════════════════╡\n",
       "│ 2023-12-31 ┆ 2023-12-31 ┆ 31-12-2023     │\n",
       "│ 2024-02-29 ┆ 2024-02-29 ┆ 29-02-2024     │\n",
       "└────────────┴────────────┴────────────────┘"
      ]
     },
     "execution_count": 50,
     "metadata": {},
     "output_type": "execute_result"
    }
   ],
   "source": [
    "dates.with_columns(formatted_date=pl.col(\"date\").dt.to_string(\"%d-%m-%Y\"))"
   ]
  },
  {
   "cell_type": "code",
   "execution_count": 51,
   "id": "15994abf",
   "metadata": {},
   "outputs": [
    {
     "data": {
      "text/html": [
       "<div><style>\n",
       ".dataframe > thead > tr,\n",
       ".dataframe > tbody > tr {\n",
       "  text-align: right;\n",
       "  white-space: pre-wrap;\n",
       "}\n",
       "</style>\n",
       "<small>shape: (5, 1)</small><table border=\"1\" class=\"dataframe\"><thead><tr><th>monday</th></tr><tr><td>date</td></tr></thead><tbody><tr><td>2024-10-28</td></tr><tr><td>2024-11-04</td></tr><tr><td>2024-11-11</td></tr><tr><td>2024-11-18</td></tr><tr><td>2024-11-25</td></tr></tbody></table></div>"
      ],
      "text/plain": [
       "shape: (5, 1)\n",
       "┌────────────┐\n",
       "│ monday     │\n",
       "│ ---        │\n",
       "│ date       │\n",
       "╞════════════╡\n",
       "│ 2024-10-28 │\n",
       "│ 2024-11-04 │\n",
       "│ 2024-11-11 │\n",
       "│ 2024-11-18 │\n",
       "│ 2024-11-25 │\n",
       "└────────────┘"
      ]
     },
     "execution_count": 51,
     "metadata": {},
     "output_type": "execute_result"
    }
   ],
   "source": [
    "pl.DataFrame(\n",
    "    {\n",
    "        \"monday\": pl.date_range(\n",
    "            start=pl.date(2024, 10, 28),\n",
    "            end=pl.date(2024, 12, 1),\n",
    "            interval=\"1w\",  \n",
    "            eager=True,  \n",
    "        ),\n",
    "    }\n",
    ")"
   ]
  },
  {
   "cell_type": "markdown",
   "id": "3182b6b5",
   "metadata": {},
   "source": [
    "Time zones"
   ]
  },
  {
   "cell_type": "code",
   "execution_count": 52,
   "id": "bf707cfd",
   "metadata": {},
   "outputs": [
    {
     "data": {
      "text/html": [
       "<div><style>\n",
       ".dataframe > thead > tr,\n",
       ".dataframe > tbody > tr {\n",
       "  text-align: right;\n",
       "  white-space: pre-wrap;\n",
       "}\n",
       "</style>\n",
       "<small>shape: (4, 3)</small><table border=\"1\" class=\"dataframe\"><thead><tr><th>utc_mixed_offset</th><th>parsed</th><th>converted</th></tr><tr><td>str</td><td>datetime[μs, UTC]</td><td>datetime[μs, Europe/Amsterdam]</td></tr></thead><tbody><tr><td>&quot;2021-03-27T00:00:00+0100&quot;</td><td>2021-03-26 23:00:00 UTC</td><td>2021-03-27 00:00:00 CET</td></tr><tr><td>&quot;2021-03-28T00:00:00+0100&quot;</td><td>2021-03-27 23:00:00 UTC</td><td>2021-03-28 00:00:00 CET</td></tr><tr><td>&quot;2021-03-29T00:00:00+0200&quot;</td><td>2021-03-28 22:00:00 UTC</td><td>2021-03-29 00:00:00 CEST</td></tr><tr><td>&quot;2021-03-30T00:00:00+0200&quot;</td><td>2021-03-29 22:00:00 UTC</td><td>2021-03-30 00:00:00 CEST</td></tr></tbody></table></div>"
      ],
      "text/plain": [
       "shape: (4, 3)\n",
       "┌──────────────────────────┬─────────────────────────┬────────────────────────────────┐\n",
       "│ utc_mixed_offset         ┆ parsed                  ┆ converted                      │\n",
       "│ ---                      ┆ ---                     ┆ ---                            │\n",
       "│ str                      ┆ datetime[μs, UTC]       ┆ datetime[μs, Europe/Amsterdam] │\n",
       "╞══════════════════════════╪═════════════════════════╪════════════════════════════════╡\n",
       "│ 2021-03-27T00:00:00+0100 ┆ 2021-03-26 23:00:00 UTC ┆ 2021-03-27 00:00:00 CET        │\n",
       "│ 2021-03-28T00:00:00+0100 ┆ 2021-03-27 23:00:00 UTC ┆ 2021-03-28 00:00:00 CET        │\n",
       "│ 2021-03-29T00:00:00+0200 ┆ 2021-03-28 22:00:00 UTC ┆ 2021-03-29 00:00:00 CEST       │\n",
       "│ 2021-03-30T00:00:00+0200 ┆ 2021-03-29 22:00:00 UTC ┆ 2021-03-30 00:00:00 CEST       │\n",
       "└──────────────────────────┴─────────────────────────┴────────────────────────────────┘"
      ]
     },
     "execution_count": 52,
     "metadata": {},
     "output_type": "execute_result"
    }
   ],
   "source": [
    "pl.DataFrame(  \n",
    "    {\n",
    "        \"utc_mixed_offset\": [\n",
    "        \"2021-03-27T00:00:00+0100\",\n",
    "        \"2021-03-28T00:00:00+0100\",\n",
    "        \"2021-03-29T00:00:00+0200\",\n",
    "        \"2021-03-30T00:00:00+0200\",\n",
    "        ]\n",
    "    }\n",
    ").with_columns(\n",
    "    parsed=pl.col(\"utc_mixed_offset\").str.to_datetime(\n",
    "    \"%Y-%m-%dT%H:%M:%S%z\"\n",
    ")  \n",
    ").with_columns(\n",
    "    converted=pl.col(\"parsed\").dt.convert_time_zone(\"Europe/Amsterdam\")  \n",
    ")"
   ]
  },
  {
   "cell_type": "markdown",
   "id": "21bd3249",
   "metadata": {},
   "source": [
    "## List\n",
    "\n",
    "Existen tres formas principales de almacenar una colección de datos en una sola columna en Polars: usando un **Array**, una **List** o un **Struct**.\n",
    "\n",
    "- **Array**: Es una colección de elementos del mismo tipo y longitud fija. Útil para datos numéricos o vectores donde cada fila tiene la misma cantidad de elementos.\n",
    "- **List**: Permite almacenar una secuencia de elementos del mismo tipo, pero de longitud variable. Es ideal para casos donde cada fila puede tener diferente cantidad de elementos.\n",
    "- **Struct**: Permite agrupar múltiples columnas bajo una sola columna, donde cada campo puede tener un tipo diferente. Es útil para representar registros o entidades con atributos heterogéneos.\n",
    "\n",
    "Cada uno tiene ventajas según el tipo de datos y la estructura que necesites modelar."
   ]
  },
  {
   "cell_type": "markdown",
   "id": "e208edf9",
   "metadata": {},
   "source": [
    "### Métodos para el tipo de dato List en Polars\n",
    "\n",
    "| Método                                      | Descripción                                                                                           |\n",
    "|----------------------------------------------|-------------------------------------------------------------------------------------------------------|\n",
    "| `Expr.list.all()`                           | Evalúa si todos los valores booleanos en una List son verdaderos.                                     |\n",
    "| `Expr.list.any()`                           | Evalúa si algún valor booleano en una List es verdadero.                                              |\n",
    "| `Expr.list.arg_max()`                       | Devuelve el índice del valor máximo en cada sub-List.                                                 |\n",
    "| `Expr.list.arg_min()`                       | Devuelve el índice del valor mínimo en cada sub-List.                                                 |\n",
    "| `Expr.list.concat(...)`                     | Concatena los Arrays en una List Series en tiempo lineal.                                             |\n",
    "| `Expr.list.contains(...)`                   | Verifica si las sub-List contienen el elemento dado.                                                  |\n",
    "| `Expr.list.count_matches(...)`              | Cuenta cuántas veces aparece un valor en los elementos de la List.                                    |\n",
    "| `Expr.list.diff(...)`                       | Calcula la primera diferencia discreta entre elementos desplazados de cada sub-List.                  |\n",
    "| `Expr.list.drop_nulls()`                    | Elimina todos los valores nulos en la List.                                                           |\n",
    "| `Expr.list.eval(...)`                       | Ejecuta cualquier expresión de Polars sobre los elementos de la List.                                 |\n",
    "| `Expr.list.explode()`                       | Devuelve una columna con una fila separada por cada elemento de la List.                              |\n",
    "| `Expr.list.first()`                         | Obtiene el primer valor de las sub-List.                                                              |\n",
    "| `Expr.list.gather(...)`                     | Toma sub-List por múltiples índices.                                                                  |\n",
    "| `Expr.list.gather_every(...)`               | Toma cada n-ésimo valor desde un offset en las sub-List.                                              |\n",
    "| `Expr.list.get(...)`                        | Obtiene el valor por índice en las sub-List.                                                          |\n",
    "| `Expr.list.head(...)`                       | Extrae los primeros n valores de cada sub-List.                                                       |\n",
    "| `Expr.list.join(...)`                       | Une todos los elementos String de una sub-List usando un separador.                                   |\n",
    "| `Expr.list.last()`                          | Obtiene el último valor de las sub-List.                                                              |\n",
    "| `Expr.list.len()`                           | Devuelve el número de elementos en cada List.                                                         |\n",
    "| `Expr.list.max()`                           | Calcula el valor máximo de las List en el Array.                                                      |\n",
    "| `Expr.list.mean()`                          | Calcula el valor medio de las List en el Array.                                                       |\n",
    "| `Expr.list.median()`                        | Calcula el valor mediano de las List en el Array.                                                     |\n",
    "| `Expr.list.min()`                           | Calcula el valor mínimo de las List en el Array.                                                      |\n",
    "| `Expr.list.n_unique()`                      | Cuenta el número de valores únicos en cada sub-List.                                                  |\n",
    "| `Expr.list.reverse()`                       | Invierte los Arrays en la List.                                                                       |\n",
    "| `Expr.list.sample(...)`                     | Muestra aleatoriamente elementos de la List.                                                          |\n",
    "| `Expr.list.set_difference(...)`             | Calcula la diferencia de conjuntos entre los elementos de esta List y otra.                           |\n",
    "| `Expr.list.set_intersection(...)`           | Calcula la intersección de conjuntos entre los elementos de esta List y otra.                         |\n",
    "| `Expr.list.set_symmetric_difference(...)`   | Calcula la diferencia simétrica de conjuntos entre los elementos de esta List y otra.                 |\n",
    "| `Expr.list.set_union(...)`                  | Calcula la unión de conjuntos entre los elementos de esta List y otra.                                |\n",
    "| `Expr.list.shift(...)`                      | Desplaza los valores de la List por el número dado de índices.                                        |\n",
    "| `Expr.list.slice(...)`                      | Extrae una porción de cada sub-List.                                                                  |\n",
    "| `Expr.list.sort(...)`                       | Ordena las List en esta columna.                                                                      |\n",
    "| `Expr.list.std(...)`                        | Calcula la desviación estándar de las List en el Array.                                               |\n",
    "| `Expr.list.sum()`                           | Suma todos los valores de las List en el Array.                                                       |\n",
    "| `Expr.list.tail(...)`                       | Extrae los últimos n valores de cada sub-List.                                                        |\n",
    "| `Expr.list.to_array(...)`                   | Convierte una columna List en una columna Array con el mismo tipo de dato interno.                    |\n",
    "| `Expr.list.to_struct(...)`                  | Convierte una Series de tipo List a una Series de tipo Struct.                                        |\n",
    "| `Expr.list.unique(...)`                     | Obtiene los valores únicos/distintos en la List.                                                      |\n",
    "| `Expr.list.var(...)`                        | Calcula la varianza de las List en el Array.                                                          |"
   ]
  },
  {
   "cell_type": "markdown",
   "id": "07fa00bb",
   "metadata": {},
   "source": [
    "## List Examples"
   ]
  },
  {
   "cell_type": "code",
   "execution_count": 54,
   "id": "53f204f4",
   "metadata": {},
   "outputs": [
    {
     "data": {
      "text/html": [
       "<div><style>\n",
       ".dataframe > thead > tr,\n",
       ".dataframe > tbody > tr {\n",
       "  text-align: right;\n",
       "  white-space: pre-wrap;\n",
       "}\n",
       "</style>\n",
       "<small>shape: (3, 3)</small><table border=\"1\" class=\"dataframe\"><thead><tr><th>values</th><th>all_true</th><th>any_true</th></tr><tr><td>list[bool]</td><td>bool</td><td>bool</td></tr></thead><tbody><tr><td>[true, true]</td><td>true</td><td>true</td></tr><tr><td>[false, false, true]</td><td>false</td><td>true</td></tr><tr><td>[false]</td><td>false</td><td>false</td></tr></tbody></table></div>"
      ],
      "text/plain": [
       "shape: (3, 3)\n",
       "┌──────────────────────┬──────────┬──────────┐\n",
       "│ values               ┆ all_true ┆ any_true │\n",
       "│ ---                  ┆ ---      ┆ ---      │\n",
       "│ list[bool]           ┆ bool     ┆ bool     │\n",
       "╞══════════════════════╪══════════╪══════════╡\n",
       "│ [true, true]         ┆ true     ┆ true     │\n",
       "│ [false, false, true] ┆ false    ┆ true     │\n",
       "│ [false]              ┆ false    ┆ false    │\n",
       "└──────────────────────┴──────────┴──────────┘"
      ]
     },
     "execution_count": 54,
     "metadata": {},
     "output_type": "execute_result"
    }
   ],
   "source": [
    "bools = pl.DataFrame(\n",
    "    {\n",
    "        \"values\": [[True, True], [False, False, True], [False]]\n",
    "    }\n",
    ")\n",
    "\n",
    "bools.with_columns(\n",
    "    all_true=pl.col(\"values\").list.all(),\n",
    "    any_true=pl.col(\"values\").list.any(),\n",
    ")"
   ]
  },
  {
   "cell_type": "code",
   "execution_count": null,
   "id": "eadf10fa",
   "metadata": {},
   "outputs": [
    {
     "data": {
      "text/html": [
       "<div><style>\n",
       ".dataframe > thead > tr,\n",
       ".dataframe > tbody > tr {\n",
       "  text-align: right;\n",
       "  white-space: pre-wrap;\n",
       "}\n",
       "</style>\n",
       "<small>shape: (3, 3)</small><table border=\"1\" class=\"dataframe\"><thead><tr><th>ages</th><th>over_forty</th><th>all_over_forty</th></tr><tr><td>list[i64]</td><td>list[bool]</td><td>bool</td></tr></thead><tbody><tr><td>[18, 21]</td><td>[false, false]</td><td>false</td></tr><tr><td>[30, 40, 50]</td><td>[false, false, true]</td><td>false</td></tr><tr><td>[42, 69]</td><td>[true, true]</td><td>true</td></tr></tbody></table></div>"
      ],
      "text/plain": [
       "shape: (3, 3)\n",
       "┌──────────────┬──────────────────────┬────────────────┐\n",
       "│ ages         ┆ over_forty           ┆ all_over_forty │\n",
       "│ ---          ┆ ---                  ┆ ---            │\n",
       "│ list[i64]    ┆ list[bool]           ┆ bool           │\n",
       "╞══════════════╪══════════════════════╪════════════════╡\n",
       "│ [18, 21]     ┆ [false, false]       ┆ false          │\n",
       "│ [30, 40, 50] ┆ [false, false, true] ┆ false          │\n",
       "│ [42, 69]     ┆ [true, true]         ┆ true           │\n",
       "└──────────────┴──────────────────────┴────────────────┘"
      ]
     },
     "execution_count": 55,
     "metadata": {},
     "output_type": "execute_result"
    }
   ],
   "source": [
    "groups = pl.DataFrame({\"ages\": [[18, 21], [30, 40, 50], [42, 69]]})\n",
    "\n",
    "# Evalúa si cada elemento de la lista 'ages' es mayor a 40, usando procesamiento paralelo\n",
    "groups = groups.with_columns(\n",
    "    over_forty=pl.col(\"ages\").list.eval(\n",
    "        pl.element() > 40,\n",
    "        parallel=True  # acelera el cálculo si es posible\n",
    "    )\n",
    ")\n",
    "\n",
    "# Verifica si todos los valores en la lista 'over_forty' son True (es decir, si todos son > 40)\n",
    "groups = groups.with_columns(\n",
    "    all_over_forty=pl.col(\"over_forty\").list.all()\n",
    ")\n",
    "\n",
    "groups"
   ]
  },
  {
   "cell_type": "code",
   "execution_count": 56,
   "id": "115f0d60",
   "metadata": {},
   "outputs": [
    {
     "data": {
      "text/html": [
       "<div><style>\n",
       ".dataframe > thead > tr,\n",
       ".dataframe > tbody > tr {\n",
       "  text-align: right;\n",
       "  white-space: pre-wrap;\n",
       "}\n",
       "</style>\n",
       "<small>shape: (3, 2)</small><table border=\"1\" class=\"dataframe\"><thead><tr><th>ages</th><th>ages_sorted_descending</th></tr><tr><td>list[i64]</td><td>list[i64]</td></tr></thead><tbody><tr><td>[18, 21]</td><td>[21, 18]</td></tr><tr><td>[30, 40, 50]</td><td>[50, 40, 30]</td></tr><tr><td>[42, 69]</td><td>[69, 42]</td></tr></tbody></table></div>"
      ],
      "text/plain": [
       "shape: (3, 2)\n",
       "┌──────────────┬────────────────────────┐\n",
       "│ ages         ┆ ages_sorted_descending │\n",
       "│ ---          ┆ ---                    │\n",
       "│ list[i64]    ┆ list[i64]              │\n",
       "╞══════════════╪════════════════════════╡\n",
       "│ [18, 21]     ┆ [21, 18]               │\n",
       "│ [30, 40, 50] ┆ [50, 40, 30]           │\n",
       "│ [42, 69]     ┆ [69, 42]               │\n",
       "└──────────────┴────────────────────────┘"
      ]
     },
     "execution_count": 56,
     "metadata": {},
     "output_type": "execute_result"
    }
   ],
   "source": [
    "groups.with_columns(\n",
    "    ages_sorted_descending=pl.col(\"ages\").list.sort(descending=True)\n",
    ")"
   ]
  },
  {
   "cell_type": "code",
   "execution_count": 57,
   "id": "0386269b",
   "metadata": {},
   "outputs": [
    {
     "data": {
      "text/html": [
       "<div><style>\n",
       ".dataframe > thead > tr,\n",
       ".dataframe > tbody > tr {\n",
       "  text-align: right;\n",
       "  white-space: pre-wrap;\n",
       "}\n",
       "</style>\n",
       "<small>shape: (7, 1)</small><table border=\"1\" class=\"dataframe\"><thead><tr><th>ages</th></tr><tr><td>i64</td></tr></thead><tbody><tr><td>18</td></tr><tr><td>21</td></tr><tr><td>30</td></tr><tr><td>40</td></tr><tr><td>50</td></tr><tr><td>42</td></tr><tr><td>69</td></tr></tbody></table></div>"
      ],
      "text/plain": [
       "shape: (7, 1)\n",
       "┌──────┐\n",
       "│ ages │\n",
       "│ ---  │\n",
       "│ i64  │\n",
       "╞══════╡\n",
       "│ 18   │\n",
       "│ 21   │\n",
       "│ 30   │\n",
       "│ 40   │\n",
       "│ 50   │\n",
       "│ 42   │\n",
       "│ 69   │\n",
       "└──────┘"
      ]
     },
     "execution_count": 57,
     "metadata": {},
     "output_type": "execute_result"
    }
   ],
   "source": [
    "groups.explode(\"ages\")"
   ]
  },
  {
   "cell_type": "code",
   "execution_count": 58,
   "id": "03d1722f",
   "metadata": {},
   "outputs": [
    {
     "data": {
      "text/html": [
       "<div><style>\n",
       ".dataframe > thead > tr,\n",
       ".dataframe > tbody > tr {\n",
       "  text-align: right;\n",
       "  white-space: pre-wrap;\n",
       "}\n",
       "</style>\n",
       "<small>shape: (7, 1)</small><table border=\"1\" class=\"dataframe\"><thead><tr><th>ages</th></tr><tr><td>i64</td></tr></thead><tbody><tr><td>18</td></tr><tr><td>21</td></tr><tr><td>30</td></tr><tr><td>40</td></tr><tr><td>50</td></tr><tr><td>42</td></tr><tr><td>69</td></tr></tbody></table></div>"
      ],
      "text/plain": [
       "shape: (7, 1)\n",
       "┌──────┐\n",
       "│ ages │\n",
       "│ ---  │\n",
       "│ i64  │\n",
       "╞══════╡\n",
       "│ 18   │\n",
       "│ 21   │\n",
       "│ 30   │\n",
       "│ 40   │\n",
       "│ 50   │\n",
       "│ 42   │\n",
       "│ 69   │\n",
       "└──────┘"
      ]
     },
     "execution_count": 58,
     "metadata": {},
     "output_type": "execute_result"
    }
   ],
   "source": [
    "groups.select(pl.col(\"ages\").list.explode())"
   ]
  },
  {
   "cell_type": "markdown",
   "id": "c8636abd",
   "metadata": {},
   "source": [
    "## Métodos para el tipo de dato Array en Polars\n",
    "\n",
    "El tipo de dato **Array** permite almacenar secuencias de longitud fija con valores del mismo tipo, siendo más eficiente en memoria y rendimiento que List. A continuación se muestra una tabla con los métodos principales disponibles para manipular, consultar y convertir datos de tipo Array en Polars.\n",
    "\n",
    "| Método                        | Descripción                                                                                           |\n",
    "|-------------------------------|-------------------------------------------------------------------------------------------------------|\n",
    "| `Expr.arr.all()`              | Evalúa si todos los valores booleanos en cada sub-Array son verdaderos.                              |\n",
    "| `Expr.arr.any()`              | Evalúa si algún valor booleano en cada sub-Array es verdadero.                                       |\n",
    "| `Expr.arr.arg_max()`          | Devuelve el índice del valor máximo en cada sub-Array.                                               |\n",
    "| `Expr.arr.arg_min()`          | Devuelve el índice del valor mínimo en cada sub-Array.                                               |\n",
    "| `Expr.arr.contains(...)`      | Verifica si los sub-Arrays contienen el elemento dado.                                               |\n",
    "| `Expr.arr.count_matches(...)` | Cuenta cuántas veces aparece un valor en los elementos del Array.                                    |\n",
    "| `Expr.arr.explode()`          | Devuelve una columna con una fila separada por cada elemento del Array.                              |\n",
    "| `Expr.arr.first()`            | Obtiene el primer valor de los sub-Arrays.                                                           |\n",
    "| `Expr.arr.get(...)`           | Obtiene el valor por índice en los sub-Arrays.                                                       |\n",
    "| `Expr.arr.join(...)`          | Une todos los elementos String de un sub-Array usando un separador.                                  |\n",
    "| `Expr.arr.last()`             | Obtiene el último valor de los sub-Arrays.                                                           |\n",
    "| `Expr.arr.max()`              | Calcula el valor máximo de los sub-Arrays.                                                           |\n",
    "| `Expr.arr.median()`           | Calcula el valor mediano de los sub-Arrays.                                                          |\n",
    "| `Expr.arr.min()`              | Calcula el valor mínimo de los sub-Arrays.                                                           |\n",
    "| `Expr.arr.n_unique()`         | Cuenta el número de valores únicos en cada sub-Array.                                                |\n",
    "| `Expr.arr.reverse()`          | Invierte los Arrays en esta columna.                                                                 |\n",
    "| `Expr.arr.shift(...)`         | Desplaza los valores del Array por el número dado de índices.                                        |\n",
    "| `Expr.arr.sort(...)`          | Ordena los Arrays en esta columna.                                                                   |\n",
    "| `Expr.arr.std(...)`           | Calcula la desviación estándar de los valores en los sub-Arrays.                                     |\n",
    "| `Expr.arr.sum()`              | Suma todos los valores de los sub-Arrays.                                                            |\n",
    "| `Expr.arr.to_list()`          | Convierte una columna Array en una columna List con el mismo tipo de dato interno.                   |\n",
    "| `Expr.arr.to_struct(...)`     | Convierte una Series de tipo Array a una Series de tipo Struct.                                      |\n",
    "| `Expr.arr.unique(...)`        | Obtiene los valores únicos/distintos en el Array.                                                    |\n",
    "| `Expr.arr.var(...)`           | Calcula la varianza de los valores en los sub-Arrays.                                                |"
   ]
  },
  {
   "cell_type": "markdown",
   "id": "2cafc398",
   "metadata": {},
   "source": [
    "## Array Examples"
   ]
  },
  {
   "cell_type": "code",
   "execution_count": 59,
   "id": "937df2f5",
   "metadata": {},
   "outputs": [
    {
     "data": {
      "text/html": [
       "<div><style>\n",
       ".dataframe > thead > tr,\n",
       ".dataframe > tbody > tr {\n",
       "  text-align: right;\n",
       "  white-space: pre-wrap;\n",
       "}\n",
       "</style>\n",
       "<small>shape: (3, 2)</small><table border=\"1\" class=\"dataframe\"><thead><tr><th>location</th><th>temperatures</th></tr><tr><td>str</td><td>array[i64, 7]</td></tr></thead><tbody><tr><td>&quot;Paris&quot;</td><td>[23, 27, … 22]</td></tr><tr><td>&quot;Amsterdam&quot;</td><td>[17, 19, … 21]</td></tr><tr><td>&quot;Barcelona&quot;</td><td>[30, 32, … 31]</td></tr></tbody></table></div>"
      ],
      "text/plain": [
       "shape: (3, 2)\n",
       "┌───────────┬────────────────┐\n",
       "│ location  ┆ temperatures   │\n",
       "│ ---       ┆ ---            │\n",
       "│ str       ┆ array[i64, 7]  │\n",
       "╞═══════════╪════════════════╡\n",
       "│ Paris     ┆ [23, 27, … 22] │\n",
       "│ Amsterdam ┆ [17, 19, … 21] │\n",
       "│ Barcelona ┆ [30, 32, … 31] │\n",
       "└───────────┴────────────────┘"
      ]
     },
     "execution_count": 59,
     "metadata": {},
     "output_type": "execute_result"
    }
   ],
   "source": [
    "# Ejemplo reproducible: DataFrame con columna Array para temperaturas semanales por ciudad\n",
    "events = pl.DataFrame(\n",
    "    [\n",
    "        pl.Series(\n",
    "            \"location\", [\"Paris\", \"Amsterdam\", \"Barcelona\"], dtype=pl.String\n",
    "        ),\n",
    "        pl.Series(\n",
    "            \"temperatures\",\n",
    "            [\n",
    "                [23, 27, 21, 22, 24, 23, 22],\n",
    "                [17, 19, 15, 22, 18, 20, 21],\n",
    "                [30, 32, 28, 29, 34, 33, 31],\n",
    "            ],\n",
    "            dtype=pl.Array(pl.Int64, shape=7),\n",
    "        ),\n",
    "    ]\n",
    ")\n",
    "\n",
    "events"
   ]
  },
  {
   "cell_type": "code",
   "execution_count": 62,
   "id": "9a4c50e2",
   "metadata": {},
   "outputs": [
    {
     "data": {
      "text/html": [
       "<div><style>\n",
       ".dataframe > thead > tr,\n",
       ".dataframe > tbody > tr {\n",
       "  text-align: right;\n",
       "  white-space: pre-wrap;\n",
       "}\n",
       "</style>\n",
       "<small>shape: (3, 5)</small><table border=\"1\" class=\"dataframe\"><thead><tr><th>location</th><th>temperatures</th><th>median</th><th>max</th><th>warmest_dow</th></tr><tr><td>str</td><td>array[i64, 7]</td><td>f64</td><td>i64</td><td>u32</td></tr></thead><tbody><tr><td>&quot;Paris&quot;</td><td>[23, 27, … 22]</td><td>23.0</td><td>27</td><td>1</td></tr><tr><td>&quot;Amsterdam&quot;</td><td>[17, 19, … 21]</td><td>19.0</td><td>22</td><td>3</td></tr><tr><td>&quot;Barcelona&quot;</td><td>[30, 32, … 31]</td><td>31.0</td><td>34</td><td>4</td></tr></tbody></table></div>"
      ],
      "text/plain": [
       "shape: (3, 5)\n",
       "┌───────────┬────────────────┬────────┬─────┬─────────────┐\n",
       "│ location  ┆ temperatures   ┆ median ┆ max ┆ warmest_dow │\n",
       "│ ---       ┆ ---            ┆ ---    ┆ --- ┆ ---         │\n",
       "│ str       ┆ array[i64, 7]  ┆ f64    ┆ i64 ┆ u32         │\n",
       "╞═══════════╪════════════════╪════════╪═════╪═════════════╡\n",
       "│ Paris     ┆ [23, 27, … 22] ┆ 23.0   ┆ 27  ┆ 1           │\n",
       "│ Amsterdam ┆ [17, 19, … 21] ┆ 19.0   ┆ 22  ┆ 3           │\n",
       "│ Barcelona ┆ [30, 32, … 31] ┆ 31.0   ┆ 34  ┆ 4           │\n",
       "└───────────┴────────────────┴────────┴─────┴─────────────┘"
      ]
     },
     "execution_count": 62,
     "metadata": {},
     "output_type": "execute_result"
    }
   ],
   "source": [
    "events.with_columns(\n",
    "    median=pl.col(\"temperatures\").arr.median(),\n",
    "    max=pl.col(\"temperatures\").arr.max(),\n",
    "    warmest_dow=pl.col(\"temperatures\").arr.arg_max()\n",
    ")"
   ]
  },
  {
   "cell_type": "markdown",
   "id": "39881388",
   "metadata": {},
   "source": [
    "### Tipo de dato Struct en Polars\n",
    "\n",
    "Un **Struct** es un tipo de dato anidado que permite almacenar múltiples Series (campos) dentro de una sola Series, similar a un diccionario de Python con claves y valores nombrados. Cada campo puede tener su propio tipo de dato, lo que facilita el manejo eficiente de datos heterogéneos. Los Structs permiten realizar operaciones multicolumna manteniendo el paradigma de expresiones en Polars, y no duplican datos: referencian los buffers existentes para eficiencia de memoria.\n",
    "\n",
    "#### Métodos principales para Struct\n",
    "\n",
    "| Método                          | Descripción                                                      |\n",
    "|----------------------------------|------------------------------------------------------------------|\n",
    "| `Expr.struct.field(...)`         | Recupera un campo del Struct como una nueva Series.              |\n",
    "| `Expr.struct.json_encode()`      | Convierte el Struct en una columna String con valores JSON.       |\n",
    "| `Expr.struct.rename_fields(...)` | Renombra los campos del Struct.                                  |\n",
    "| `Expr.struct.unnest()`           | Expande el Struct en sus campos individuales.                    |\n",
    "| `Expr.struct.with_fields(...)`   | Añade o sobrescribe campos en el Struct.                         |\n",
    "\n",
    "Los Structs son ideales para trabajar con datos anidados o agrupados, permitiendo operaciones complejas y manteniendo el uso de memoria eficiente."
   ]
  },
  {
   "cell_type": "markdown",
   "id": "a61e706f",
   "metadata": {},
   "source": [
    "## Struct Examples"
   ]
  },
  {
   "cell_type": "code",
   "execution_count": 63,
   "id": "001b6348",
   "metadata": {},
   "outputs": [
    {
     "data": {
      "text/html": [
       "<div><style>\n",
       ".dataframe > thead > tr,\n",
       ".dataframe > tbody > tr {\n",
       "  text-align: right;\n",
       "  white-space: pre-wrap;\n",
       "}\n",
       "</style>\n",
       "<small>shape: (3, 2)</small><table border=\"1\" class=\"dataframe\"><thead><tr><th>customer_id</th><th>order_details</th></tr><tr><td>i64</td><td>struct[3]</td></tr></thead><tbody><tr><td>2781</td><td>{250.0,2024-01-03,5}</td></tr><tr><td>6139</td><td>{150.0,2024-01-05,1}</td></tr><tr><td>5392</td><td>{100.0,2024-01-02,3}</td></tr></tbody></table></div>"
      ],
      "text/plain": [
       "shape: (3, 2)\n",
       "┌─────────────┬──────────────────────┐\n",
       "│ customer_id ┆ order_details        │\n",
       "│ ---         ┆ ---                  │\n",
       "│ i64         ┆ struct[3]            │\n",
       "╞═════════════╪══════════════════════╡\n",
       "│ 2781        ┆ {250.0,2024-01-03,5} │\n",
       "│ 6139        ┆ {150.0,2024-01-05,1} │\n",
       "│ 5392        ┆ {100.0,2024-01-02,3} │\n",
       "└─────────────┴──────────────────────┘"
      ]
     },
     "execution_count": 63,
     "metadata": {},
     "output_type": "execute_result"
    }
   ],
   "source": [
    "from datetime import date\n",
    "\n",
    "orders = pl.DataFrame(\n",
    "\t{\n",
    "\t\t\"customer_id\": [2781, 6139, 5392],\n",
    "\t\t\"order_details\": [\n",
    "\t\t\t{\"amount\": 250.00, \"date\": date(2024, 1, 3), \"items\": 5},\n",
    "\t\t\t{\"amount\": 150.00, \"date\": date(2024, 1, 5), \"items\": 1},\n",
    "\t\t\t{\"amount\": 100.00, \"date\": date(2024, 1, 2), \"items\": 3},\n",
    "\t\t],\n",
    "\t},\n",
    ")\n",
    "orders"
   ]
  },
  {
   "cell_type": "code",
   "execution_count": 67,
   "id": "1dbf7080",
   "metadata": {},
   "outputs": [
    {
     "data": {
      "text/html": [
       "<div><style>\n",
       ".dataframe > thead > tr,\n",
       ".dataframe > tbody > tr {\n",
       "  text-align: right;\n",
       "  white-space: pre-wrap;\n",
       "}\n",
       "</style>\n",
       "<small>shape: (3, 1)</small><table border=\"1\" class=\"dataframe\"><thead><tr><th>amount</th></tr><tr><td>f64</td></tr></thead><tbody><tr><td>250.0</td></tr><tr><td>150.0</td></tr><tr><td>100.0</td></tr></tbody></table></div>"
      ],
      "text/plain": [
       "shape: (3, 1)\n",
       "┌────────┐\n",
       "│ amount │\n",
       "│ ---    │\n",
       "│ f64    │\n",
       "╞════════╡\n",
       "│ 250.0  │\n",
       "│ 150.0  │\n",
       "│ 100.0  │\n",
       "└────────┘"
      ]
     },
     "execution_count": 67,
     "metadata": {},
     "output_type": "execute_result"
    }
   ],
   "source": [
    "orders.select(pl.col(\"order_details\").struct.field(\"amount\"))"
   ]
  },
  {
   "cell_type": "markdown",
   "id": "baf5e784",
   "metadata": {},
   "source": [
    "The same as Expr.struct.field(\"*\")"
   ]
  },
  {
   "cell_type": "code",
   "execution_count": 65,
   "id": "a3648cea",
   "metadata": {},
   "outputs": [
    {
     "data": {
      "text/html": [
       "<div><style>\n",
       ".dataframe > thead > tr,\n",
       ".dataframe > tbody > tr {\n",
       "  text-align: right;\n",
       "  white-space: pre-wrap;\n",
       "}\n",
       "</style>\n",
       "<small>shape: (3, 4)</small><table border=\"1\" class=\"dataframe\"><thead><tr><th>customer_id</th><th>amount</th><th>date</th><th>items</th></tr><tr><td>i64</td><td>f64</td><td>date</td><td>i64</td></tr></thead><tbody><tr><td>2781</td><td>250.0</td><td>2024-01-03</td><td>5</td></tr><tr><td>6139</td><td>150.0</td><td>2024-01-05</td><td>1</td></tr><tr><td>5392</td><td>100.0</td><td>2024-01-02</td><td>3</td></tr></tbody></table></div>"
      ],
      "text/plain": [
       "shape: (3, 4)\n",
       "┌─────────────┬────────┬────────────┬───────┐\n",
       "│ customer_id ┆ amount ┆ date       ┆ items │\n",
       "│ ---         ┆ ---    ┆ ---        ┆ ---   │\n",
       "│ i64         ┆ f64    ┆ date       ┆ i64   │\n",
       "╞═════════════╪════════╪════════════╪═══════╡\n",
       "│ 2781        ┆ 250.0  ┆ 2024-01-03 ┆ 5     │\n",
       "│ 6139        ┆ 150.0  ┆ 2024-01-05 ┆ 1     │\n",
       "│ 5392        ┆ 100.0  ┆ 2024-01-02 ┆ 3     │\n",
       "└─────────────┴────────┴────────────┴───────┘"
      ]
     },
     "execution_count": 65,
     "metadata": {},
     "output_type": "execute_result"
    }
   ],
   "source": [
    "# return multiple columns\n",
    "oder_details_df = orders.unnest(\"order_details\")\n",
    "oder_details_df"
   ]
  },
  {
   "cell_type": "code",
   "execution_count": 69,
   "id": "c5466ee5",
   "metadata": {},
   "outputs": [
    {
     "data": {
      "text/html": [
       "<div><style>\n",
       ".dataframe > thead > tr,\n",
       ".dataframe > tbody > tr {\n",
       "  text-align: right;\n",
       "  white-space: pre-wrap;\n",
       "}\n",
       "</style>\n",
       "<small>shape: (3, 4)</small><table border=\"1\" class=\"dataframe\"><thead><tr><th>amount</th><th>date</th><th>items</th><th>order_details</th></tr><tr><td>f64</td><td>date</td><td>i64</td><td>struct[3]</td></tr></thead><tbody><tr><td>250.0</td><td>2024-01-03</td><td>5</td><td>{250.0,2024-01-03,5}</td></tr><tr><td>150.0</td><td>2024-01-05</td><td>1</td><td>{150.0,2024-01-05,1}</td></tr><tr><td>100.0</td><td>2024-01-02</td><td>3</td><td>{100.0,2024-01-02,3}</td></tr></tbody></table></div>"
      ],
      "text/plain": [
       "shape: (3, 4)\n",
       "┌────────┬────────────┬───────┬──────────────────────┐\n",
       "│ amount ┆ date       ┆ items ┆ order_details        │\n",
       "│ ---    ┆ ---        ┆ ---   ┆ ---                  │\n",
       "│ f64    ┆ date       ┆ i64   ┆ struct[3]            │\n",
       "╞════════╪════════════╪═══════╪══════════════════════╡\n",
       "│ 250.0  ┆ 2024-01-03 ┆ 5     ┆ {250.0,2024-01-03,5} │\n",
       "│ 150.0  ┆ 2024-01-05 ┆ 1     ┆ {150.0,2024-01-05,1} │\n",
       "│ 100.0  ┆ 2024-01-02 ┆ 3     ┆ {100.0,2024-01-02,3} │\n",
       "└────────┴────────────┴───────┴──────────────────────┘"
      ]
     },
     "execution_count": 69,
     "metadata": {},
     "output_type": "execute_result"
    }
   ],
   "source": [
    "oder_details_df.select(\n",
    "    \"amount\",\n",
    "    \"date\",\n",
    "    \"items\",\n",
    "     order_details=pl.struct(pl.col(\"amount\"), pl.col(\"date\"), pl.col(\"items\")),\n",
    ")"
   ]
  },
  {
   "cell_type": "code",
   "execution_count": 70,
   "id": "6f1cd566",
   "metadata": {},
   "outputs": [
    {
     "data": {
      "text/html": [
       "<div><style>\n",
       ".dataframe > thead > tr,\n",
       ".dataframe > tbody > tr {\n",
       "  text-align: right;\n",
       "  white-space: pre-wrap;\n",
       "}\n",
       "</style>\n",
       "<small>shape: (6, 1)</small><table border=\"1\" class=\"dataframe\"><thead><tr><th>fruit</th></tr><tr><td>str</td></tr></thead><tbody><tr><td>&quot;cherry&quot;</td></tr><tr><td>&quot;apple&quot;</td></tr><tr><td>&quot;banana&quot;</td></tr><tr><td>&quot;banana&quot;</td></tr><tr><td>&quot;apple&quot;</td></tr><tr><td>&quot;banana&quot;</td></tr></tbody></table></div>"
      ],
      "text/plain": [
       "shape: (6, 1)\n",
       "┌────────┐\n",
       "│ fruit  │\n",
       "│ ---    │\n",
       "│ str    │\n",
       "╞════════╡\n",
       "│ cherry │\n",
       "│ apple  │\n",
       "│ banana │\n",
       "│ banana │\n",
       "│ apple  │\n",
       "│ banana │\n",
       "└────────┘"
      ]
     },
     "execution_count": 70,
     "metadata": {},
     "output_type": "execute_result"
    }
   ],
   "source": [
    "basket = pl.DataFrame(\n",
    "    {\n",
    "        \"fruit\": [\"cherry\", \"apple\", \"banana\", \"banana\", \"apple\", \"banana\"],\n",
    "    }\n",
    ")\n",
    "basket"
   ]
  },
  {
   "cell_type": "code",
   "execution_count": 71,
   "id": "b051fac4",
   "metadata": {},
   "outputs": [
    {
     "data": {
      "text/html": [
       "<div><style>\n",
       ".dataframe > thead > tr,\n",
       ".dataframe > tbody > tr {\n",
       "  text-align: right;\n",
       "  white-space: pre-wrap;\n",
       "}\n",
       "</style>\n",
       "<small>shape: (3, 1)</small><table border=\"1\" class=\"dataframe\"><thead><tr><th>fruit</th></tr><tr><td>struct[2]</td></tr></thead><tbody><tr><td>{&quot;banana&quot;,3}</td></tr><tr><td>{&quot;apple&quot;,2}</td></tr><tr><td>{&quot;cherry&quot;,1}</td></tr></tbody></table></div>"
      ],
      "text/plain": [
       "shape: (3, 1)\n",
       "┌──────────────┐\n",
       "│ fruit        │\n",
       "│ ---          │\n",
       "│ struct[2]    │\n",
       "╞══════════════╡\n",
       "│ {\"banana\",3} │\n",
       "│ {\"apple\",2}  │\n",
       "│ {\"cherry\",1} │\n",
       "└──────────────┘"
      ]
     },
     "execution_count": 71,
     "metadata": {},
     "output_type": "execute_result"
    }
   ],
   "source": [
    "basket.select(pl.col(\"fruit\").value_counts(sort=True))"
   ]
  },
  {
   "cell_type": "code",
   "execution_count": 72,
   "id": "862fd7e9",
   "metadata": {},
   "outputs": [
    {
     "data": {
      "text/html": [
       "<div><style>\n",
       ".dataframe > thead > tr,\n",
       ".dataframe > tbody > tr {\n",
       "  text-align: right;\n",
       "  white-space: pre-wrap;\n",
       "}\n",
       "</style>\n",
       "<small>shape: (3, 2)</small><table border=\"1\" class=\"dataframe\"><thead><tr><th>fruit</th><th>count</th></tr><tr><td>str</td><td>u32</td></tr></thead><tbody><tr><td>&quot;banana&quot;</td><td>3</td></tr><tr><td>&quot;apple&quot;</td><td>2</td></tr><tr><td>&quot;cherry&quot;</td><td>1</td></tr></tbody></table></div>"
      ],
      "text/plain": [
       "shape: (3, 2)\n",
       "┌────────┬───────┐\n",
       "│ fruit  ┆ count │\n",
       "│ ---    ┆ ---   │\n",
       "│ str    ┆ u32   │\n",
       "╞════════╪═══════╡\n",
       "│ banana ┆ 3     │\n",
       "│ apple  ┆ 2     │\n",
       "│ cherry ┆ 1     │\n",
       "└────────┴───────┘"
      ]
     },
     "execution_count": 72,
     "metadata": {},
     "output_type": "execute_result"
    }
   ],
   "source": [
    "basket.select(pl.col(\"fruit\").value_counts(sort=True).struct.unnest())"
   ]
  },
  {
   "cell_type": "markdown",
   "id": "5144107f",
   "metadata": {},
   "source": [
    "### Resumen del capítulo: Tipos de datos en Polars\n",
    "\n",
    "En este capítulo se exploraron los principales tipos de datos en Polars que cuentan con espacios de nombres y métodos especializados para su manipulación eficiente:\n",
    "\n",
    "- **Strings**: Se destacó cómo Polars optimiza el almacenamiento de cadenas de longitud variable mediante layouts de memoria eficientes.\n",
    "- **Categorical y Enum**: Se explicó cómo estos tipos permiten trabajar con cadenas repetidas de forma eficiente en memoria, usando codificación por diccionario y categorías fijas.\n",
    "- **Datos temporales**: Se revisaron los tipos Date, Datetime, Time y Duration, mostrando cómo facilitan el manejo de información basada en fechas y tiempos, y los métodos disponibles para conversión, consulta y manipulación.\n",
    "- **Tipos anidados**: Se presentaron List, Array y Struct, que permiten almacenar secuencias y datos estructurados en una sola columna, facilitando el trabajo con datos complejos y heterogéneos.\n",
    "\n",
    "Con estos tipos de datos y sus métodos, Polars permite trabajar de manera flexible y eficiente con una amplia variedad de estructuras y necesidades de datos. En el siguiente capítulo se abordarán técnicas para resumir y agregar información."
   ]
  }
 ],
 "metadata": {
  "kernelspec": {
   "display_name": "python-polars-the-definitive-guide",
   "language": "python",
   "name": "python3"
  },
  "language_info": {
   "codemirror_mode": {
    "name": "ipython",
    "version": 3
   },
   "file_extension": ".py",
   "mimetype": "text/x-python",
   "name": "python",
   "nbconvert_exporter": "python",
   "pygments_lexer": "ipython3",
   "version": "3.12.11"
  }
 },
 "nbformat": 4,
 "nbformat_minor": 5
}
