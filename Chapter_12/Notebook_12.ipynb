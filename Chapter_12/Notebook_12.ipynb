{
 "cells": [
  {
   "cell_type": "markdown",
   "id": "58bb6ef4",
   "metadata": {},
   "source": [
    "# Working with Textual, Temporal, and Nested Data Types"
   ]
  },
  {
   "cell_type": "code",
   "execution_count": 1,
   "id": "c3154d5f",
   "metadata": {},
   "outputs": [],
   "source": [
    "import polars as pl"
   ]
  },
  {
   "cell_type": "markdown",
   "id": "e7c20013",
   "metadata": {},
   "source": [
    "## String"
   ]
  },
  {
   "cell_type": "markdown",
   "id": "b0c72d07",
   "metadata": {},
   "source": [
    "## String Methods"
   ]
  },
  {
   "cell_type": "markdown",
   "id": "a98a9037",
   "metadata": {},
   "source": [
    "### String methods for conversion\n",
    "\n",
    "| Method                | Description                                                                 |\n",
    "|-----------------------|-----------------------------------------------------------------------------|\n",
    "| `Expr.str.decode()`   | Decodes a byte string to a Unicode string using a specified encoding.        |\n",
    "| `Expr.str.encode()`   | Encodes a string to bytes using a specified encoding.                        |\n",
    "| `Expr.str.json_decode()` | Parses a JSON string and returns the corresponding data structure.         |\n",
    "| `Expr.str.json_path_match()` | Extracts data from a JSON string using a JSONPath expression.          |\n",
    "| `Expr.str.strptime()` | Parses a string into a datetime object using a specified format.             |\n",
    "| `Expr.str.to_date()`  | Converts a string to a date object.                                          |\n",
    "| `Expr.str.to_datetime()` | Converts a string to a datetime object.                                   |\n",
    "| `Expr.str.to_decimal()` | Converts a string to a decimal number.                                     |\n",
    "| `Expr.str.to_integer()` | Converts a string to an integer.                                           |\n",
    "| `Expr.str.to_time()`  | Converts a string to a time object.                                          |"
   ]
  },
  {
   "cell_type": "markdown",
   "id": "9701d67c",
   "metadata": {},
   "source": [
    "### Métodos de cadena para describir y consultar\n",
    "\n",
    "| Método                        | Descripción                                                                                       |\n",
    "|-------------------------------|---------------------------------------------------------------------------------------------------|\n",
    "| `Expr.str.contains()`         | Verifica si la cadena contiene un patrón o subcadena especificada.                                |\n",
    "| `Expr.str.contains_any()`     | Verifica si la cadena contiene alguno de los patrones especificados.                              |\n",
    "| `Expr.str.count_matches()`    | Cuenta cuántas veces aparece un patrón en la cadena.                                              |\n",
    "| `Expr.str.ends_with()`        | Verifica si la cadena termina con una subcadena especificada.                                     |\n",
    "| `Expr.str.find()`             | Devuelve el índice de la primera aparición de una subcadena o patrón en la cadena.                |\n",
    "| `Expr.str.len_bytes()`        | Devuelve la longitud de la cadena en bytes.                                                       |\n",
    "| `Expr.str.len_chars()`        | Devuelve la longitud de la cadena en caracteres.                                                  |\n",
    "| `Expr.str.starts_with()`      | Verifica si la cadena comienza con una subcadena especificada.                                    |"
   ]
  },
  {
   "cell_type": "markdown",
   "id": "f4c61984",
   "metadata": {},
   "source": [
    "### Strings method for manipulation\n",
    "\n",
    "| Método                           | Descripción                                                                                           |\n",
    "|-----------------------------------|-------------------------------------------------------------------------------------------------------|\n",
    "| `Expr.str.concat()`               | Concatena varias cadenas en una sola.                                                                 |\n",
    "| `Expr.str.escape_regex()`         | Escapa caracteres especiales en una cadena para usarlos en expresiones regulares.                     |\n",
    "| `Expr.str.explode()`              | Divide una cadena en partes y las convierte en filas separadas.                                       |\n",
    "| `Expr.str.extract()`              | Extrae la primera coincidencia de un patrón de expresión regular en la cadena.                        |\n",
    "| `Expr.str.extract_all()`          | Extrae todas las coincidencias de un patrón de expresión regular en la cadena.                        |\n",
    "| `Expr.str.extract_groups()`       | Extrae grupos de coincidencias de una expresión regular en la cadena.                                 |\n",
    "| `Expr.str.extract_many()`         | Extrae múltiples coincidencias de varios patrones en la cadena.                                       |\n",
    "| `Expr.str.head()`                 | Devuelve los primeros caracteres de la cadena.                                                        |\n",
    "| `Expr.str.join()`                 | Une una lista de cadenas usando un separador especificado.                                            |\n",
    "| `Expr.str.pad_end()`              | Rellena la cadena al final con un carácter hasta alcanzar una longitud específica.                    |\n",
    "| `Expr.str.pad_start()`            | Rellena la cadena al inicio con un carácter hasta alcanzar una longitud específica.                   |\n",
    "| `Expr.str.replace()`              | Reemplaza la primera aparición de un patrón por otra subcadena.                                       |\n",
    "| `Expr.str.replace_all()`          | Reemplaza todas las apariciones de un patrón por otra subcadena.                                      |\n",
    "| `Expr.str.replace_many()`         | Reemplaza múltiples patrones por sus respectivas subcadenas en la cadena.                             |\n",
    "| `Expr.str.reverse()`              | Invierte el orden de los caracteres en la cadena.                                                     |\n",
    "| `Expr.str.slice()`                | Extrae una subcadena usando índices de inicio y fin.                                                  |\n",
    "| `Expr.str.split()`                | Divide la cadena en una lista de subcadenas usando un separador.                                      |\n",
    "| `Expr.str.split_exact()`          | Divide la cadena en un número exacto de partes usando un separador.                                   |\n",
    "| `Expr.str.splitn()`               | Divide la cadena en un número limitado de partes usando un separador.                                 |\n",
    "| `Expr.str.strip_chars()`          | Elimina los caracteres especificados de ambos extremos de la cadena.                                  |\n",
    "| `Expr.str.strip_chars_end()`      | Elimina los caracteres especificados solo del final de la cadena.                                     |\n",
    "| `Expr.str.strip_chars_start()`    | Elimina los caracteres especificados solo del inicio de la cadena.                                    |\n",
    "| `Expr.str.strip_prefix()`         | Elimina el prefijo especificado de la cadena si está presente.                                        |\n",
    "| `Expr.str.strip_suffix()`         | Elimina el sufijo especificado de la cadena si está presente.                                         |\n",
    "| `Expr.str.tail()`                 | Devuelve los últimos caracteres de la cadena.                                                         |\n",
    "| `Expr.str.to_lowercase()`         | Convierte todos los caracteres de la cadena a minúsculas.                                             |\n",
    "| `Expr.str.to_littlecase()`        | Convierte la cadena a minúsculas (sinónimo de `to_lowercase`).                                        |\n",
    "| `Expr.str.to_uppercase()`         | Convierte todos los caracteres de la cadena a mayúsculas.                                             |\n",
    "| `Expr.str.zfill()`                | Rellena la cadena con ceros a la izquierda hasta alcanzar una longitud específica.                    |"
   ]
  },
  {
   "cell_type": "markdown",
   "id": "61573963",
   "metadata": {},
   "source": [
    "### String Examples"
   ]
  },
  {
   "cell_type": "code",
   "execution_count": 3,
   "id": "b9928032",
   "metadata": {},
   "outputs": [
    {
     "data": {
      "text/html": [
       "<div><style>\n",
       ".dataframe > thead > tr,\n",
       ".dataframe > tbody > tr {\n",
       "  text-align: right;\n",
       "  white-space: pre-wrap;\n",
       "}\n",
       "</style>\n",
       "<small>shape: (3, 1)</small><table border=\"1\" class=\"dataframe\"><thead><tr><th>raw_data</th></tr><tr><td>str</td></tr></thead><tbody><tr><td>&quot;&nbsp;&nbsp;Data Science is amazing &quot;</td></tr><tr><td>&quot;Data_analysis &gt; Data entry&quot;</td></tr><tr><td>&quot; Python$Polars; Fast&quot;</td></tr></tbody></table></div>"
      ],
      "text/plain": [
       "shape: (3, 1)\n",
       "┌────────────────────────────┐\n",
       "│ raw_data                   │\n",
       "│ ---                        │\n",
       "│ str                        │\n",
       "╞════════════════════════════╡\n",
       "│   Data Science is amazing  │\n",
       "│ Data_analysis > Data entry │\n",
       "│  Python$Polars; Fast       │\n",
       "└────────────────────────────┘"
      ]
     },
     "execution_count": 3,
     "metadata": {},
     "output_type": "execute_result"
    }
   ],
   "source": [
    "corpus = pl.DataFrame(\n",
    "    {\n",
    "        \"raw_data\": [\n",
    "            \"  Data Science is amazing \",\n",
    "            \"Data_analysis > Data entry\",\n",
    "            \" Python$Polars; Fast\",\n",
    "        ]\n",
    "    }\n",
    ")\n",
    "corpus"
   ]
  },
  {
   "cell_type": "code",
   "execution_count": 4,
   "id": "8b79196d",
   "metadata": {},
   "outputs": [
    {
     "data": {
      "text/html": [
       "<div><style>\n",
       ".dataframe > thead > tr,\n",
       ".dataframe > tbody > tr {\n",
       "  text-align: right;\n",
       "  white-space: pre-wrap;\n",
       "}\n",
       "</style>\n",
       "<small>shape: (3, 2)</small><table border=\"1\" class=\"dataframe\"><thead><tr><th>raw_data</th><th>processed_text</th></tr><tr><td>str</td><td>str</td></tr></thead><tbody><tr><td>&quot;&nbsp;&nbsp;Data Science is amazing &quot;</td><td>&quot;data science is amazing&quot;</td></tr><tr><td>&quot;Data_analysis &gt; Data entry&quot;</td><td>&quot;data analysis &gt; data entry&quot;</td></tr><tr><td>&quot; Python$Polars; Fast&quot;</td><td>&quot;python$polars; fast&quot;</td></tr></tbody></table></div>"
      ],
      "text/plain": [
       "shape: (3, 2)\n",
       "┌────────────────────────────┬────────────────────────────┐\n",
       "│ raw_data                   ┆ processed_text             │\n",
       "│ ---                        ┆ ---                        │\n",
       "│ str                        ┆ str                        │\n",
       "╞════════════════════════════╪════════════════════════════╡\n",
       "│   Data Science is amazing  ┆ data science is amazing    │\n",
       "│ Data_analysis > Data entry ┆ data analysis > data entry │\n",
       "│  Python$Polars; Fast       ┆ python$polars; fast        │\n",
       "└────────────────────────────┴────────────────────────────┘"
      ]
     },
     "execution_count": 4,
     "metadata": {},
     "output_type": "execute_result"
    }
   ],
   "source": [
    "corpus = corpus.with_columns(\n",
    "    processed_text=pl.col(\"raw_data\")\n",
    "    .str.strip_chars()  # Remove leading/trailing whitespace\n",
    "    .str.to_lowercase()  # Convert to lowercase\n",
    "    .str.replace_all(\"_\", \" \")  # Replace underscores with spaces\n",
    ")\n",
    "corpus"
   ]
  },
  {
   "cell_type": "code",
   "execution_count": 5,
   "id": "68daf259",
   "metadata": {},
   "outputs": [
    {
     "data": {
      "text/html": [
       "<div><style>\n",
       ".dataframe > thead > tr,\n",
       ".dataframe > tbody > tr {\n",
       "  text-align: right;\n",
       "  white-space: pre-wrap;\n",
       "}\n",
       "</style>\n",
       "<small>shape: (3, 5)</small><table border=\"1\" class=\"dataframe\"><thead><tr><th>raw_data</th><th>processed_text</th><th>first_5_chars</th><th>firs_word</th><th>second_word</th></tr><tr><td>str</td><td>str</td><td>str</td><td>str</td><td>str</td></tr></thead><tbody><tr><td>&quot;&nbsp;&nbsp;Data Science is amazing &quot;</td><td>&quot;data science is amazing&quot;</td><td>&quot;data &quot;</td><td>&quot;data&quot;</td><td>&quot;science&quot;</td></tr><tr><td>&quot;Data_analysis &gt; Data entry&quot;</td><td>&quot;data analysis &gt; data entry&quot;</td><td>&quot;data &quot;</td><td>&quot;data&quot;</td><td>&quot;analysis&quot;</td></tr><tr><td>&quot; Python$Polars; Fast&quot;</td><td>&quot;python$polars; fast&quot;</td><td>&quot;pytho&quot;</td><td>&quot;python$polars;&quot;</td><td>&quot;fast&quot;</td></tr></tbody></table></div>"
      ],
      "text/plain": [
       "shape: (3, 5)\n",
       "┌─────────────────────────┬─────────────────────────┬───────────────┬────────────────┬─────────────┐\n",
       "│ raw_data                ┆ processed_text          ┆ first_5_chars ┆ firs_word      ┆ second_word │\n",
       "│ ---                     ┆ ---                     ┆ ---           ┆ ---            ┆ ---         │\n",
       "│ str                     ┆ str                     ┆ str           ┆ str            ┆ str         │\n",
       "╞═════════════════════════╪═════════════════════════╪═══════════════╪════════════════╪═════════════╡\n",
       "│ Data Science is amazing ┆ data science is amazing ┆ data          ┆ data           ┆ science     │\n",
       "│ Data_analysis > Data    ┆ data analysis > data    ┆ data          ┆ data           ┆ analysis    │\n",
       "│ entry                   ┆ entry                   ┆               ┆                ┆             │\n",
       "│  Python$Polars; Fast    ┆ python$polars; fast     ┆ pytho         ┆ python$polars; ┆ fast        │\n",
       "└─────────────────────────┴─────────────────────────┴───────────────┴────────────────┴─────────────┘"
      ]
     },
     "execution_count": 5,
     "metadata": {},
     "output_type": "execute_result"
    }
   ],
   "source": [
    "corpus.with_columns(\n",
    "    first_5_chars=pl.col(\"processed_text\").str.slice(0, 5),\n",
    "    firs_word=pl.col(\"processed_text\")\n",
    "    .str.split(\" \")\n",
    "    .list.get(0),\n",
    "    second_word=pl.col(\"processed_text\")\n",
    "    .str.split(\" \")\n",
    "    .list.get(1),\n",
    "    \n",
    ")"
   ]
  },
  {
   "cell_type": "code",
   "execution_count": 7,
   "id": "834aa137",
   "metadata": {},
   "outputs": [
    {
     "data": {
      "text/html": [
       "<div><style>\n",
       ".dataframe > thead > tr,\n",
       ".dataframe > tbody > tr {\n",
       "  text-align: right;\n",
       "  white-space: pre-wrap;\n",
       "}\n",
       "</style>\n",
       "<small>shape: (3, 5)</small><table border=\"1\" class=\"dataframe\"><thead><tr><th>raw_data</th><th>processed_text</th><th>len_chars</th><th>len_bytes</th><th>count_a</th></tr><tr><td>str</td><td>str</td><td>u32</td><td>u32</td><td>u32</td></tr></thead><tbody><tr><td>&quot;&nbsp;&nbsp;Data Science is amazing &quot;</td><td>&quot;data science is amazing&quot;</td><td>23</td><td>23</td><td>4</td></tr><tr><td>&quot;Data_analysis &gt; Data entry&quot;</td><td>&quot;data analysis &gt; data entry&quot;</td><td>26</td><td>26</td><td>6</td></tr><tr><td>&quot; Python$Polars; Fast&quot;</td><td>&quot;python$polars; fast&quot;</td><td>19</td><td>19</td><td>2</td></tr></tbody></table></div>"
      ],
      "text/plain": [
       "shape: (3, 5)\n",
       "┌────────────────────────────┬────────────────────────────┬───────────┬───────────┬─────────┐\n",
       "│ raw_data                   ┆ processed_text             ┆ len_chars ┆ len_bytes ┆ count_a │\n",
       "│ ---                        ┆ ---                        ┆ ---       ┆ ---       ┆ ---     │\n",
       "│ str                        ┆ str                        ┆ u32       ┆ u32       ┆ u32     │\n",
       "╞════════════════════════════╪════════════════════════════╪═══════════╪═══════════╪═════════╡\n",
       "│   Data Science is amazing  ┆ data science is amazing    ┆ 23        ┆ 23        ┆ 4       │\n",
       "│ Data_analysis > Data entry ┆ data analysis > data entry ┆ 26        ┆ 26        ┆ 6       │\n",
       "│  Python$Polars; Fast       ┆ python$polars; fast        ┆ 19        ┆ 19        ┆ 2       │\n",
       "└────────────────────────────┴────────────────────────────┴───────────┴───────────┴─────────┘"
      ]
     },
     "execution_count": 7,
     "metadata": {},
     "output_type": "execute_result"
    }
   ],
   "source": [
    "corpus.with_columns(\n",
    "    len_chars=pl.col(\"processed_text\").str.len_chars(),\n",
    "    len_bytes=pl.col(\"processed_text\").str.len_bytes(),\n",
    "    count_a=pl.col(\"processed_text\").str.count_matches(\"a\"),\n",
    ")"
   ]
  },
  {
   "cell_type": "code",
   "execution_count": 8,
   "id": "ee50e442",
   "metadata": {},
   "outputs": [
    {
     "data": {
      "text/html": [
       "<div><style>\n",
       ".dataframe > thead > tr,\n",
       ".dataframe > tbody > tr {\n",
       "  text-align: right;\n",
       "  white-space: pre-wrap;\n",
       "}\n",
       "</style>\n",
       "<small>shape: (2, 2)</small><table border=\"1\" class=\"dataframe\"><thead><tr><th>post</th><th>hashtags</th></tr><tr><td>str</td><td>list[str]</td></tr></thead><tbody><tr><td>&quot;Loving #python and #polars&quot;</td><td>[&quot;#python&quot;, &quot;#polars&quot;]</td></tr><tr><td>&quot;A boomer post without hashtags&quot;</td><td>[]</td></tr></tbody></table></div>"
      ],
      "text/plain": [
       "shape: (2, 2)\n",
       "┌────────────────────────────────┬────────────────────────┐\n",
       "│ post                           ┆ hashtags               │\n",
       "│ ---                            ┆ ---                    │\n",
       "│ str                            ┆ list[str]              │\n",
       "╞════════════════════════════════╪════════════════════════╡\n",
       "│ Loving #python and #polars     ┆ [\"#python\", \"#polars\"] │\n",
       "│ A boomer post without hashtags ┆ []                     │\n",
       "└────────────────────────────────┴────────────────────────┘"
      ]
     },
     "execution_count": 8,
     "metadata": {},
     "output_type": "execute_result"
    }
   ],
   "source": [
    "posts = pl.DataFrame(\n",
    "    {\n",
    "        \"post\": [\n",
    "            \"Loving #python and #polars\",\n",
    "            \"A boomer post without hashtags\",\n",
    "        ]\n",
    "    }\n",
    ")\n",
    "\n",
    "hashtag_regex = r\"#(\\w+)\"\n",
    "\n",
    "posts.with_columns(\n",
    "    hashtags=pl.col(\"post\").str.extract_all(hashtag_regex)\n",
    ")"
   ]
  }
 ],
 "metadata": {
  "kernelspec": {
   "display_name": "polars_env",
   "language": "python",
   "name": "python3"
  },
  "language_info": {
   "codemirror_mode": {
    "name": "ipython",
    "version": 3
   },
   "file_extension": ".py",
   "mimetype": "text/x-python",
   "name": "python",
   "nbconvert_exporter": "python",
   "pygments_lexer": "ipython3",
   "version": "3.12.11"
  }
 },
 "nbformat": 4,
 "nbformat_minor": 5
}
