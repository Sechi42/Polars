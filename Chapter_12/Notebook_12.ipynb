{
 "cells": [
  {
   "cell_type": "markdown",
   "id": "58bb6ef4",
   "metadata": {},
   "source": [
    "# Working with Textual, Temporal, and Nested Data Types"
   ]
  },
  {
   "cell_type": "code",
   "execution_count": 3,
   "id": "c3154d5f",
   "metadata": {},
   "outputs": [],
   "source": [
    "import polars as pl"
   ]
  },
  {
   "cell_type": "markdown",
   "id": "e7c20013",
   "metadata": {},
   "source": [
    "## String"
   ]
  },
  {
   "cell_type": "markdown",
   "id": "b0c72d07",
   "metadata": {},
   "source": [
    "## String Methods"
   ]
  },
  {
   "cell_type": "markdown",
   "id": "a98a9037",
   "metadata": {},
   "source": [
    "### String methods for conversion\n",
    "\n",
    "| Method                | Description                                                                 |\n",
    "|-----------------------|-----------------------------------------------------------------------------|\n",
    "| `Expr.str.decode()`   | Decodes a byte string to a Unicode string using a specified encoding.        |\n",
    "| `Expr.str.encode()`   | Encodes a string to bytes using a specified encoding.                        |\n",
    "| `Expr.str.json_decode()` | Parses a JSON string and returns the corresponding data structure.         |\n",
    "| `Expr.str.json_path_match()` | Extracts data from a JSON string using a JSONPath expression.          |\n",
    "| `Expr.str.strptime()` | Parses a string into a datetime object using a specified format.             |\n",
    "| `Expr.str.to_date()`  | Converts a string to a date object.                                          |\n",
    "| `Expr.str.to_datetime()` | Converts a string to a datetime object.                                   |\n",
    "| `Expr.str.to_decimal()` | Converts a string to a decimal number.                                     |\n",
    "| `Expr.str.to_integer()` | Converts a string to an integer.                                           |\n",
    "| `Expr.str.to_time()`  | Converts a string to a time object.                                          |"
   ]
  },
  {
   "cell_type": "markdown",
   "id": "9701d67c",
   "metadata": {},
   "source": [
    "### Métodos de cadena para describir y consultar\n",
    "\n",
    "| Método                        | Descripción                                                                                       |\n",
    "|-------------------------------|---------------------------------------------------------------------------------------------------|\n",
    "| `Expr.str.contains()`         | Verifica si la cadena contiene un patrón o subcadena especificada.                                |\n",
    "| `Expr.str.contains_any()`     | Verifica si la cadena contiene alguno de los patrones especificados.                              |\n",
    "| `Expr.str.count_matches()`    | Cuenta cuántas veces aparece un patrón en la cadena.                                              |\n",
    "| `Expr.str.ends_with()`        | Verifica si la cadena termina con una subcadena especificada.                                     |\n",
    "| `Expr.str.find()`             | Devuelve el índice de la primera aparición de una subcadena o patrón en la cadena.                |\n",
    "| `Expr.str.len_bytes()`        | Devuelve la longitud de la cadena en bytes.                                                       |\n",
    "| `Expr.str.len_chars()`        | Devuelve la longitud de la cadena en caracteres.                                                  |\n",
    "| `Expr.str.starts_with()`      | Verifica si la cadena comienza con una subcadena especificada.                                    |"
   ]
  },
  {
   "cell_type": "markdown",
   "id": "f4c61984",
   "metadata": {},
   "source": [
    "### Strings method for manipulation\n",
    "\n"
   ]
  }
 ],
 "metadata": {
  "kernelspec": {
   "display_name": "polars_env",
   "language": "python",
   "name": "python3"
  },
  "language_info": {
   "codemirror_mode": {
    "name": "ipython",
    "version": 3
   },
   "file_extension": ".py",
   "mimetype": "text/x-python",
   "name": "python",
   "nbconvert_exporter": "python",
   "pygments_lexer": "ipython3",
   "version": "3.12.11"
  }
 },
 "nbformat": 4,
 "nbformat_minor": 5
}
