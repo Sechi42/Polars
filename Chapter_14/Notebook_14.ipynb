{
 "cells": [
  {
   "cell_type": "markdown",
   "id": "108237c1",
   "metadata": {},
   "source": [
    "##  Joining and Concatenating\n",
    "\n",
    "En este capítulo exploraremos cómo combinar y unir DataFrames en Polars, una habilidad esencial para trabajar con datos provenientes de múltiples fuentes. Aprenderás:\n",
    "\n",
    "- Cómo usar `df.join()` para unir DataFrames según valores comunes y diferentes estrategias de combinación.\n",
    "- Qué es un join asof (`df.join_asof()`), útil para unir DataFrames según el valor más cercano en otra tabla.\n",
    "- Métodos para concatenar DataFrames: `pl.concat()`, `df.vstack()`, `df.hstack()` y `df.extend()`.\n",
    "- Cómo unir Series con `series.append()`.\n",
    "- Las diferencias entre estos métodos y cuándo utilizar cada uno.\n",
    "\n",
    "Recuerda que los archivos necesarios deben estar en el subdirectorio `data/`."
   ]
  }
 ],
 "metadata": {
  "language_info": {
   "name": "python"
  }
 },
 "nbformat": 4,
 "nbformat_minor": 5
}
