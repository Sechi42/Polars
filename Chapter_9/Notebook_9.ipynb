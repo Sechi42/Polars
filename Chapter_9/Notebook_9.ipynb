{
 "cells": [
  {
   "cell_type": "markdown",
   "id": "1b5acac9",
   "metadata": {},
   "source": [
    "# Combining Expression"
   ]
  },
  {
   "cell_type": "code",
   "execution_count": 1,
   "id": "5549da5b",
   "metadata": {},
   "outputs": [],
   "source": [
    "import polars as pl"
   ]
  },
  {
   "cell_type": "code",
   "execution_count": 7,
   "id": "3c8123d2",
   "metadata": {},
   "outputs": [
    {
     "data": {
      "text/html": [
       "<div><style>\n",
       ".dataframe > thead > tr,\n",
       ".dataframe > tbody > tr {\n",
       "  text-align: right;\n",
       "  white-space: pre-wrap;\n",
       "}\n",
       "</style>\n",
       "<small>shape: (10, 5)</small><table border=\"1\" class=\"dataframe\"><thead><tr><th>name</th><th>weight</th><th>color</th><th>is_round</th><th>origin</th></tr><tr><td>str</td><td>i64</td><td>str</td><td>bool</td><td>str</td></tr></thead><tbody><tr><td>&quot;Avocado&quot;</td><td>200</td><td>&quot;green&quot;</td><td>false</td><td>&quot;South America&quot;</td></tr><tr><td>&quot;Banana&quot;</td><td>120</td><td>&quot;yellow&quot;</td><td>false</td><td>&quot;Asia&quot;</td></tr><tr><td>&quot;Blueberry&quot;</td><td>1</td><td>&quot;blue&quot;</td><td>false</td><td>&quot;North America&quot;</td></tr><tr><td>&quot;Cantaloupe&quot;</td><td>2500</td><td>&quot;orange&quot;</td><td>true</td><td>&quot;Africa&quot;</td></tr><tr><td>&quot;Cranberry&quot;</td><td>2</td><td>&quot;red&quot;</td><td>false</td><td>&quot;North America&quot;</td></tr><tr><td>&quot;Elderberry&quot;</td><td>1</td><td>&quot;black&quot;</td><td>false</td><td>&quot;Europe&quot;</td></tr><tr><td>&quot;Orange&quot;</td><td>130</td><td>&quot;orange&quot;</td><td>true</td><td>&quot;Asia&quot;</td></tr><tr><td>&quot;Papaya&quot;</td><td>1000</td><td>&quot;orange&quot;</td><td>false</td><td>&quot;South America&quot;</td></tr><tr><td>&quot;Peach&quot;</td><td>150</td><td>&quot;orange&quot;</td><td>true</td><td>&quot;Asia&quot;</td></tr><tr><td>&quot;Watermelon&quot;</td><td>5000</td><td>&quot;green&quot;</td><td>true</td><td>&quot;Africa&quot;</td></tr></tbody></table></div>"
      ],
      "text/plain": [
       "shape: (10, 5)\n",
       "┌────────────┬────────┬────────┬──────────┬───────────────┐\n",
       "│ name       ┆ weight ┆ color  ┆ is_round ┆ origin        │\n",
       "│ ---        ┆ ---    ┆ ---    ┆ ---      ┆ ---           │\n",
       "│ str        ┆ i64    ┆ str    ┆ bool     ┆ str           │\n",
       "╞════════════╪════════╪════════╪══════════╪═══════════════╡\n",
       "│ Avocado    ┆ 200    ┆ green  ┆ false    ┆ South America │\n",
       "│ Banana     ┆ 120    ┆ yellow ┆ false    ┆ Asia          │\n",
       "│ Blueberry  ┆ 1      ┆ blue   ┆ false    ┆ North America │\n",
       "│ Cantaloupe ┆ 2500   ┆ orange ┆ true     ┆ Africa        │\n",
       "│ Cranberry  ┆ 2      ┆ red    ┆ false    ┆ North America │\n",
       "│ Elderberry ┆ 1      ┆ black  ┆ false    ┆ Europe        │\n",
       "│ Orange     ┆ 130    ┆ orange ┆ true     ┆ Asia          │\n",
       "│ Papaya     ┆ 1000   ┆ orange ┆ false    ┆ South America │\n",
       "│ Peach      ┆ 150    ┆ orange ┆ true     ┆ Asia          │\n",
       "│ Watermelon ┆ 5000   ┆ green  ┆ true     ┆ Africa        │\n",
       "└────────────┴────────┴────────┴──────────┴───────────────┘"
      ]
     },
     "execution_count": 7,
     "metadata": {},
     "output_type": "execute_result"
    }
   ],
   "source": [
    "fruit = pl.read_csv(\"data/fruit.csv\")\n",
    "fruit"
   ]
  },
  {
   "cell_type": "code",
   "execution_count": 8,
   "id": "b298db4e",
   "metadata": {},
   "outputs": [
    {
     "data": {
      "text/html": [
       "<div><style>\n",
       ".dataframe > thead > tr,\n",
       ".dataframe > tbody > tr {\n",
       "  text-align: right;\n",
       "  white-space: pre-wrap;\n",
       "}\n",
       "</style>\n",
       "<small>shape: (2, 5)</small><table border=\"1\" class=\"dataframe\"><thead><tr><th>name</th><th>weight</th><th>color</th><th>is_round</th><th>origin</th></tr><tr><td>str</td><td>i64</td><td>str</td><td>bool</td><td>str</td></tr></thead><tbody><tr><td>&quot;Cantaloupe&quot;</td><td>2500</td><td>&quot;orange&quot;</td><td>true</td><td>&quot;Africa&quot;</td></tr><tr><td>&quot;Watermelon&quot;</td><td>5000</td><td>&quot;green&quot;</td><td>true</td><td>&quot;Africa&quot;</td></tr></tbody></table></div>"
      ],
      "text/plain": [
       "shape: (2, 5)\n",
       "┌────────────┬────────┬────────┬──────────┬────────┐\n",
       "│ name       ┆ weight ┆ color  ┆ is_round ┆ origin │\n",
       "│ ---        ┆ ---    ┆ ---    ┆ ---      ┆ ---    │\n",
       "│ str        ┆ i64    ┆ str    ┆ bool     ┆ str    │\n",
       "╞════════════╪════════╪════════╪══════════╪════════╡\n",
       "│ Cantaloupe ┆ 2500   ┆ orange ┆ true     ┆ Africa │\n",
       "│ Watermelon ┆ 5000   ┆ green  ┆ true     ┆ Africa │\n",
       "└────────────┴────────┴────────┴──────────┴────────┘"
      ]
     },
     "execution_count": 8,
     "metadata": {},
     "output_type": "execute_result"
    }
   ],
   "source": [
    "fruit.filter(pl.col(\"is_round\") & (pl.col(\"weight\") > 1000))"
   ]
  },
  {
   "cell_type": "markdown",
   "id": "336a5173",
   "metadata": {},
   "source": [
    "## Inline Operators Versus Methods"
   ]
  },
  {
   "cell_type": "code",
   "execution_count": 9,
   "id": "0deebb96",
   "metadata": {},
   "outputs": [
    {
     "data": {
      "text/html": [
       "<div><style>\n",
       ".dataframe > thead > tr,\n",
       ".dataframe > tbody > tr {\n",
       "  text-align: right;\n",
       "  white-space: pre-wrap;\n",
       "}\n",
       "</style>\n",
       "<small>shape: (4, 4)</small><table border=\"1\" class=\"dataframe\"><thead><tr><th>i</th><th>j</th><th>*</th><th>Expr.mul()</th></tr><tr><td>f64</td><td>f64</td><td>f64</td><td>f64</td></tr></thead><tbody><tr><td>6.0</td><td>7.0</td><td>42.0</td><td>42.0</td></tr><tr><td>0.0</td><td>1.0</td><td>0.0</td><td>0.0</td></tr><tr><td>2.0</td><td>2.0</td><td>4.0</td><td>4.0</td></tr><tr><td>2.5</td><td>3.0</td><td>7.5</td><td>7.5</td></tr></tbody></table></div>"
      ],
      "text/plain": [
       "shape: (4, 4)\n",
       "┌─────┬─────┬──────┬────────────┐\n",
       "│ i   ┆ j   ┆ *    ┆ Expr.mul() │\n",
       "│ --- ┆ --- ┆ ---  ┆ ---        │\n",
       "│ f64 ┆ f64 ┆ f64  ┆ f64        │\n",
       "╞═════╪═════╪══════╪════════════╡\n",
       "│ 6.0 ┆ 7.0 ┆ 42.0 ┆ 42.0       │\n",
       "│ 0.0 ┆ 1.0 ┆ 0.0  ┆ 0.0        │\n",
       "│ 2.0 ┆ 2.0 ┆ 4.0  ┆ 4.0        │\n",
       "│ 2.5 ┆ 3.0 ┆ 7.5  ┆ 7.5        │\n",
       "└─────┴─────┴──────┴────────────┘"
      ]
     },
     "execution_count": 9,
     "metadata": {},
     "output_type": "execute_result"
    }
   ],
   "source": [
    "(\n",
    "    pl.DataFrame({\"i\": [6.0, 0, 2, 2.5], \"j\": [7.0, 1, 2, 3]}).with_columns(\n",
    "        (pl.col(\"i\") * pl.col(\"j\")).alias(\"*\"),\n",
    "        pl.col(\"i\").mul(pl.col(\"j\")).alias(\"Expr.mul()\")\n",
    "    )\n",
    ")"
   ]
  },
  {
   "cell_type": "markdown",
   "id": "8aecb513",
   "metadata": {},
   "source": [
    "## Arthmetic Operations"
   ]
  },
  {
   "cell_type": "code",
   "execution_count": 12,
   "id": "404e43ed",
   "metadata": {},
   "outputs": [
    {
     "data": {
      "text/html": [
       "<div><style>\n",
       ".dataframe > thead > tr,\n",
       ".dataframe > tbody > tr {\n",
       "  text-align: right;\n",
       "  white-space: pre-wrap;\n",
       "}\n",
       "</style>\n",
       "<small>shape: (10, 2)</small><table border=\"1\" class=\"dataframe\"><thead><tr><th>name</th><th>weight</th></tr><tr><td>str</td><td>f64</td></tr></thead><tbody><tr><td>&quot;Avocado&quot;</td><td>0.2</td></tr><tr><td>&quot;Banana&quot;</td><td>0.12</td></tr><tr><td>&quot;Blueberry&quot;</td><td>0.001</td></tr><tr><td>&quot;Cantaloupe&quot;</td><td>2.5</td></tr><tr><td>&quot;Cranberry&quot;</td><td>0.002</td></tr><tr><td>&quot;Elderberry&quot;</td><td>0.001</td></tr><tr><td>&quot;Orange&quot;</td><td>0.13</td></tr><tr><td>&quot;Papaya&quot;</td><td>1.0</td></tr><tr><td>&quot;Peach&quot;</td><td>0.15</td></tr><tr><td>&quot;Watermelon&quot;</td><td>5.0</td></tr></tbody></table></div>"
      ],
      "text/plain": [
       "shape: (10, 2)\n",
       "┌────────────┬────────┐\n",
       "│ name       ┆ weight │\n",
       "│ ---        ┆ ---    │\n",
       "│ str        ┆ f64    │\n",
       "╞════════════╪════════╡\n",
       "│ Avocado    ┆ 0.2    │\n",
       "│ Banana     ┆ 0.12   │\n",
       "│ Blueberry  ┆ 0.001  │\n",
       "│ Cantaloupe ┆ 2.5    │\n",
       "│ Cranberry  ┆ 0.002  │\n",
       "│ Elderberry ┆ 0.001  │\n",
       "│ Orange     ┆ 0.13   │\n",
       "│ Papaya     ┆ 1.0    │\n",
       "│ Peach      ┆ 0.15   │\n",
       "│ Watermelon ┆ 5.0    │\n",
       "└────────────┴────────┘"
      ]
     },
     "execution_count": 12,
     "metadata": {},
     "output_type": "execute_result"
    }
   ],
   "source": [
    "fruit.select(pl.col(\"name\"), (pl.col(\"weight\") / 1000))"
   ]
  },
  {
   "cell_type": "markdown",
   "id": "ca6cee3f",
   "metadata": {},
   "source": [
    "| Operador en línea | Método            | Descripción                           |\n",
    "|-------------------|------------------|---------------------------------------|\n",
    "| `+`               | `expr.add()`     | Suma                                  |\n",
    "| `-`               | `expr.sub()`     | Resta                                 |\n",
    "| `*`               | `expr.mul()`     | Multiplicación                        |\n",
    "| `/`               | `expr.truediv()` | División real (punto flotante)         |\n",
    "| `//`              | `expr.floordiv()`| División entera (redondeo hacia abajo) |\n",
    "| `**`              | `expr.pow()`     | Exponenciación                        |\n",
    "| `%`               | `expr.mod()`     | Módulo (resto)                        |\n",
    "| N/A               | `expr.dot()`     | Producto punto (multiplicación vectorial)|\n",
    "\n",
    "Utiliza operadores en línea para expresiones rápidas y métodos para mayor claridad o composición en Polars."
   ]
  },
  {
   "cell_type": "code",
   "execution_count": 14,
   "id": "af606b3a",
   "metadata": {},
   "outputs": [
    {
     "name": "stdout",
     "output_type": "stream",
     "text": [
      "shape: (5, 10)\n",
      "┌───────┬─────┬───────┬───────┬───┬────────┬───────┬────────┬───────┐\n",
      "│     i ┆   j ┆ i + j ┆ i - j ┆ … ┆ i // j ┆ i % j ┆ i ** j ┆ i . j │\n",
      "│   --- ┆ --- ┆   --- ┆   --- ┆   ┆    --- ┆   --- ┆    --- ┆   --- │\n",
      "│   f64 ┆ i64 ┆   f64 ┆   f64 ┆   ┆    f64 ┆   f64 ┆    f64 ┆   f64 │\n",
      "╞═══════╪═════╪═══════╪═══════╪═══╪════════╪═══════╪════════╪═══════╡\n",
      "│  0.00 ┆   1 ┆  1.00 ┆ -1.00 ┆ … ┆   0.00 ┆  0.00 ┆   0.00 ┆ 12.00 │\n",
      "│  2.00 ┆   2 ┆  4.00 ┆  0.00 ┆ … ┆   1.00 ┆  0.00 ┆   4.00 ┆ 12.00 │\n",
      "│  2.00 ┆   3 ┆  5.00 ┆ -1.00 ┆ … ┆   0.00 ┆  2.00 ┆   8.00 ┆ 12.00 │\n",
      "│ -2.00 ┆   4 ┆  2.00 ┆ -6.00 ┆ … ┆  -1.00 ┆  2.00 ┆  16.00 ┆ 12.00 │\n",
      "│ -2.00 ┆  -5 ┆ -7.00 ┆  3.00 ┆ … ┆   0.00 ┆ -2.00 ┆  -0.03 ┆ 12.00 │\n",
      "└───────┴─────┴───────┴───────┴───┴────────┴───────┴────────┴───────┘\n"
     ]
    }
   ],
   "source": [
    "with pl.Config(float_precision=2, tbl_cell_numeric_alignment=\"RIGHT\"):\n",
    "    print((\n",
    "        pl.DataFrame({\"i\": [0.0, 2, 2, -2, -2], \"j\": [1, 2, 3, 4, -5]})).with_columns(\n",
    "            (pl.col(\"i\") + pl.col(\"j\")).alias(\"i + j\"),\n",
    "            (pl.col(\"i\") - pl.col(\"j\")).alias(\"i - j\"),\n",
    "            (pl.col(\"i\") * pl.col(\"j\")).alias(\"i * j\"),\n",
    "            (pl.col(\"i\") / pl.col(\"j\")).alias(\"i / j\"),\n",
    "            (pl.col(\"i\") // pl.col(\"j\")).alias(\"i // j\"),\n",
    "            (pl.col(\"i\") % pl.col(\"j\")).alias(\"i % j\"),\n",
    "            (pl.col(\"i\") ** pl.col(\"j\")).alias(\"i ** j\"),  \n",
    "            (pl.col(\"i\").dot(pl.col(\"j\"))).alias(\"i . j\"),\n",
    "    ))"
   ]
  },
  {
   "cell_type": "markdown",
   "id": "624c7e8f",
   "metadata": {},
   "source": [
    "## Comparison Operations"
   ]
  },
  {
   "cell_type": "code",
   "execution_count": 15,
   "id": "cb48bd2c",
   "metadata": {},
   "outputs": [
    {
     "data": {
      "text/html": [
       "<div><style>\n",
       ".dataframe > thead > tr,\n",
       ".dataframe > tbody > tr {\n",
       "  text-align: right;\n",
       "  white-space: pre-wrap;\n",
       "}\n",
       "</style>\n",
       "<small>shape: (3, 2)</small><table border=\"1\" class=\"dataframe\"><thead><tr><th>name</th><th>weight</th></tr><tr><td>str</td><td>i64</td></tr></thead><tbody><tr><td>&quot;Cantaloupe&quot;</td><td>2500</td></tr><tr><td>&quot;Papaya&quot;</td><td>1000</td></tr><tr><td>&quot;Watermelon&quot;</td><td>5000</td></tr></tbody></table></div>"
      ],
      "text/plain": [
       "shape: (3, 2)\n",
       "┌────────────┬────────┐\n",
       "│ name       ┆ weight │\n",
       "│ ---        ┆ ---    │\n",
       "│ str        ┆ i64    │\n",
       "╞════════════╪════════╡\n",
       "│ Cantaloupe ┆ 2500   │\n",
       "│ Papaya     ┆ 1000   │\n",
       "│ Watermelon ┆ 5000   │\n",
       "└────────────┴────────┘"
      ]
     },
     "execution_count": 15,
     "metadata": {},
     "output_type": "execute_result"
    }
   ],
   "source": [
    "(\n",
    "    fruit.select(\n",
    "        pl.col(\"name\"),\n",
    "        pl.col(\"weight\"),\n",
    "    ).filter(pl.col(\"weight\") >= 1000)\n",
    ")"
   ]
  },
  {
   "cell_type": "markdown",
   "id": "d46be4a0",
   "metadata": {},
   "source": [
    "| Operador en línea | Método         | Descripción                          |\n",
    "|-------------------|---------------|--------------------------------------|\n",
    "| `==`              | `expr.eq()`   | Igualdad                             |\n",
    "| `!=`              | `expr.ne()`  | Desigualdad                          |\n",
    "| `<`               | `expr.lt()`   | Menor que                            |\n",
    "| `<=`              | `expr.le()`   | Menor o igual que                    |\n",
    "| `>`               | `expr.gt()`   | Mayor que                            |\n",
    "| `>=`              | `expr.ge()`   | Mayor o igual que                    |\n",
    "\n",
    "Utiliza operadores en línea para expresiones rápidas y métodos para mayor claridad o composición en Polars."
   ]
  }
 ],
 "metadata": {
  "kernelspec": {
   "display_name": "python-polars-the-definitive-guide",
   "language": "python",
   "name": "python3"
  },
  "language_info": {
   "codemirror_mode": {
    "name": "ipython",
    "version": 3
   },
   "file_extension": ".py",
   "mimetype": "text/x-python",
   "name": "python",
   "nbconvert_exporter": "python",
   "pygments_lexer": "ipython3",
   "version": "3.12.11"
  }
 },
 "nbformat": 4,
 "nbformat_minor": 5
}
