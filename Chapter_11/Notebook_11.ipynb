{
 "cells": [
  {
   "cell_type": "markdown",
   "id": "d60ac8ec",
   "metadata": {},
   "source": [
    "# Filtering and Sorting Rows"
   ]
  },
  {
   "cell_type": "code",
   "execution_count": 1,
   "id": "8901a283",
   "metadata": {},
   "outputs": [],
   "source": [
    "import polars as pl"
   ]
  },
  {
   "cell_type": "code",
   "execution_count": 3,
   "id": "abbfed45",
   "metadata": {},
   "outputs": [
    {
     "name": "stdout",
     "output_type": "stream",
     "text": [
      "shape: (10, 6)\n",
      "┌───────────────────────┬──────────────┬────────┬──────────┬───────┬───────┐\n",
      "│ tool                  ┆ product      ┆ brand  ┆ cordless ┆ price ┆ rpm   │\n",
      "│ ---                   ┆ ---          ┆ ---    ┆ ---      ┆ ---   ┆ ---   │\n",
      "│ str                   ┆ str          ┆ str    ┆ bool     ┆ i64   ┆ i64   │\n",
      "╞═══════════════════════╪══════════════╪════════╪══════════╪═══════╪═══════╡\n",
      "│ Rotary Hammer         ┆ HR2230       ┆ Makita ┆ false    ┆ 199   ┆ 1050  │\n",
      "│ Miter Saw             ┆ GCM 8 SJL    ┆ Bosch  ┆ false    ┆ 391   ┆ 5500  │\n",
      "│ Plunge Cut Saw        ┆ DSP600ZJ     ┆ Makita ┆ true     ┆ 459   ┆ 6300  │\n",
      "│ Impact Driver         ┆ DTD157Z      ┆ Makita ┆ true     ┆ 156   ┆ 3000  │\n",
      "│ Jigsaw                ┆ PST 900 PEL  ┆ Bosch  ┆ false    ┆ 79    ┆ 3100  │\n",
      "│ Angle Grinder         ┆ DGA504ZJ     ┆ Makita ┆ true     ┆ 229   ┆ 8500  │\n",
      "│ Nail Gun              ┆ DPSB2IN1-XJ  ┆ DeWalt ┆ true     ┆ 129   ┆ null  │\n",
      "│ Router                ┆ POF 1400 ACE ┆ Bosch  ┆ false    ┆ 185   ┆ 28000 │\n",
      "│ Random Orbital Sander ┆ DBO180ZJ     ┆ Makita ┆ true     ┆ 199   ┆ 11000 │\n",
      "│ Table Saw             ┆ DWE7485      ┆ DeWalt ┆ false    ┆ 516   ┆ 5800  │\n",
      "└───────────────────────┴──────────────┴────────┴──────────┴───────┴───────┘\n"
     ]
    }
   ],
   "source": [
    "tools = pl.read_csv(\"data/tools.csv\")\n",
    "print(tools)"
   ]
  },
  {
   "cell_type": "markdown",
   "id": "f334a6bf",
   "metadata": {},
   "source": [
    "## Filtering Rows"
   ]
  },
  {
   "cell_type": "markdown",
   "id": "c36ff01c",
   "metadata": {},
   "source": [
    "### Filtering Based on Expressions\n",
    "\n",
    "Ambas expresiones de filtrado en Polars son equivalentes:\n",
    "\n",
    "- `tools.filter(pl.col(\"cordless\") & (pl.col(\"brand\") == \"Makita\"))`\n",
    "- `tools.filter(pl.col(\"cordless\"), pl.col(\"brand\") == \"Makita\")`\n",
    "\n",
    "La primera utiliza el operador `&` para combinar dos condiciones en una sola expresión booleana. La segunda pasa cada condición como argumento separado a `filter()`, que internamente los combina con `AND`. En ambos casos, el resultado es un DataFrame con las filas donde `cordless` es `True` y `brand` es `\"Makita\"`."
   ]
  },
  {
   "cell_type": "code",
   "execution_count": 6,
   "id": "5177645d",
   "metadata": {},
   "outputs": [
    {
     "data": {
      "text/html": [
       "<div><style>\n",
       ".dataframe > thead > tr,\n",
       ".dataframe > tbody > tr {\n",
       "  text-align: right;\n",
       "  white-space: pre-wrap;\n",
       "}\n",
       "</style>\n",
       "<small>shape: (4, 6)</small><table border=\"1\" class=\"dataframe\"><thead><tr><th>tool</th><th>product</th><th>brand</th><th>cordless</th><th>price</th><th>rpm</th></tr><tr><td>str</td><td>str</td><td>str</td><td>bool</td><td>i64</td><td>i64</td></tr></thead><tbody><tr><td>&quot;Plunge Cut Saw&quot;</td><td>&quot;DSP600ZJ&quot;</td><td>&quot;Makita&quot;</td><td>true</td><td>459</td><td>6300</td></tr><tr><td>&quot;Impact Driver&quot;</td><td>&quot;DTD157Z&quot;</td><td>&quot;Makita&quot;</td><td>true</td><td>156</td><td>3000</td></tr><tr><td>&quot;Angle Grinder&quot;</td><td>&quot;DGA504ZJ&quot;</td><td>&quot;Makita&quot;</td><td>true</td><td>229</td><td>8500</td></tr><tr><td>&quot;Random Orbital Sander&quot;</td><td>&quot;DBO180ZJ&quot;</td><td>&quot;Makita&quot;</td><td>true</td><td>199</td><td>11000</td></tr></tbody></table></div>"
      ],
      "text/plain": [
       "shape: (4, 6)\n",
       "┌───────────────────────┬──────────┬────────┬──────────┬───────┬───────┐\n",
       "│ tool                  ┆ product  ┆ brand  ┆ cordless ┆ price ┆ rpm   │\n",
       "│ ---                   ┆ ---      ┆ ---    ┆ ---      ┆ ---   ┆ ---   │\n",
       "│ str                   ┆ str      ┆ str    ┆ bool     ┆ i64   ┆ i64   │\n",
       "╞═══════════════════════╪══════════╪════════╪══════════╪═══════╪═══════╡\n",
       "│ Plunge Cut Saw        ┆ DSP600ZJ ┆ Makita ┆ true     ┆ 459   ┆ 6300  │\n",
       "│ Impact Driver         ┆ DTD157Z  ┆ Makita ┆ true     ┆ 156   ┆ 3000  │\n",
       "│ Angle Grinder         ┆ DGA504ZJ ┆ Makita ┆ true     ┆ 229   ┆ 8500  │\n",
       "│ Random Orbital Sander ┆ DBO180ZJ ┆ Makita ┆ true     ┆ 199   ┆ 11000 │\n",
       "└───────────────────────┴──────────┴────────┴──────────┴───────┴───────┘"
      ]
     },
     "execution_count": 6,
     "metadata": {},
     "output_type": "execute_result"
    }
   ],
   "source": [
    "tools.filter(pl.col(\"cordless\") & (pl.col(\"brand\") == \"Makita\"))"
   ]
  },
  {
   "cell_type": "code",
   "execution_count": 7,
   "id": "0a2a0c4f",
   "metadata": {},
   "outputs": [
    {
     "data": {
      "text/html": [
       "<div><style>\n",
       ".dataframe > thead > tr,\n",
       ".dataframe > tbody > tr {\n",
       "  text-align: right;\n",
       "  white-space: pre-wrap;\n",
       "}\n",
       "</style>\n",
       "<small>shape: (4, 6)</small><table border=\"1\" class=\"dataframe\"><thead><tr><th>tool</th><th>product</th><th>brand</th><th>cordless</th><th>price</th><th>rpm</th></tr><tr><td>str</td><td>str</td><td>str</td><td>bool</td><td>i64</td><td>i64</td></tr></thead><tbody><tr><td>&quot;Plunge Cut Saw&quot;</td><td>&quot;DSP600ZJ&quot;</td><td>&quot;Makita&quot;</td><td>true</td><td>459</td><td>6300</td></tr><tr><td>&quot;Impact Driver&quot;</td><td>&quot;DTD157Z&quot;</td><td>&quot;Makita&quot;</td><td>true</td><td>156</td><td>3000</td></tr><tr><td>&quot;Angle Grinder&quot;</td><td>&quot;DGA504ZJ&quot;</td><td>&quot;Makita&quot;</td><td>true</td><td>229</td><td>8500</td></tr><tr><td>&quot;Random Orbital Sander&quot;</td><td>&quot;DBO180ZJ&quot;</td><td>&quot;Makita&quot;</td><td>true</td><td>199</td><td>11000</td></tr></tbody></table></div>"
      ],
      "text/plain": [
       "shape: (4, 6)\n",
       "┌───────────────────────┬──────────┬────────┬──────────┬───────┬───────┐\n",
       "│ tool                  ┆ product  ┆ brand  ┆ cordless ┆ price ┆ rpm   │\n",
       "│ ---                   ┆ ---      ┆ ---    ┆ ---      ┆ ---   ┆ ---   │\n",
       "│ str                   ┆ str      ┆ str    ┆ bool     ┆ i64   ┆ i64   │\n",
       "╞═══════════════════════╪══════════╪════════╪══════════╪═══════╪═══════╡\n",
       "│ Plunge Cut Saw        ┆ DSP600ZJ ┆ Makita ┆ true     ┆ 459   ┆ 6300  │\n",
       "│ Impact Driver         ┆ DTD157Z  ┆ Makita ┆ true     ┆ 156   ┆ 3000  │\n",
       "│ Angle Grinder         ┆ DGA504ZJ ┆ Makita ┆ true     ┆ 229   ┆ 8500  │\n",
       "│ Random Orbital Sander ┆ DBO180ZJ ┆ Makita ┆ true     ┆ 199   ┆ 11000 │\n",
       "└───────────────────────┴──────────┴────────┴──────────┴───────┴───────┘"
      ]
     },
     "execution_count": 7,
     "metadata": {},
     "output_type": "execute_result"
    }
   ],
   "source": [
    "tools.filter(pl.col(\"cordless\"), pl.col(\"brand\") == \"Makita\")"
   ]
  },
  {
   "cell_type": "markdown",
   "id": "12a149aa",
   "metadata": {},
   "source": [
    "## Filtering Based on Columns Names"
   ]
  },
  {
   "cell_type": "code",
   "execution_count": 8,
   "id": "0b7704fa",
   "metadata": {},
   "outputs": [
    {
     "data": {
      "text/html": [
       "<div><style>\n",
       ".dataframe > thead > tr,\n",
       ".dataframe > tbody > tr {\n",
       "  text-align: right;\n",
       "  white-space: pre-wrap;\n",
       "}\n",
       "</style>\n",
       "<small>shape: (5, 6)</small><table border=\"1\" class=\"dataframe\"><thead><tr><th>tool</th><th>product</th><th>brand</th><th>cordless</th><th>price</th><th>rpm</th></tr><tr><td>str</td><td>str</td><td>str</td><td>bool</td><td>i64</td><td>i64</td></tr></thead><tbody><tr><td>&quot;Plunge Cut Saw&quot;</td><td>&quot;DSP600ZJ&quot;</td><td>&quot;Makita&quot;</td><td>true</td><td>459</td><td>6300</td></tr><tr><td>&quot;Impact Driver&quot;</td><td>&quot;DTD157Z&quot;</td><td>&quot;Makita&quot;</td><td>true</td><td>156</td><td>3000</td></tr><tr><td>&quot;Angle Grinder&quot;</td><td>&quot;DGA504ZJ&quot;</td><td>&quot;Makita&quot;</td><td>true</td><td>229</td><td>8500</td></tr><tr><td>&quot;Nail Gun&quot;</td><td>&quot;DPSB2IN1-XJ&quot;</td><td>&quot;DeWalt&quot;</td><td>true</td><td>129</td><td>null</td></tr><tr><td>&quot;Random Orbital Sander&quot;</td><td>&quot;DBO180ZJ&quot;</td><td>&quot;Makita&quot;</td><td>true</td><td>199</td><td>11000</td></tr></tbody></table></div>"
      ],
      "text/plain": [
       "shape: (5, 6)\n",
       "┌───────────────────────┬─────────────┬────────┬──────────┬───────┬───────┐\n",
       "│ tool                  ┆ product     ┆ brand  ┆ cordless ┆ price ┆ rpm   │\n",
       "│ ---                   ┆ ---         ┆ ---    ┆ ---      ┆ ---   ┆ ---   │\n",
       "│ str                   ┆ str         ┆ str    ┆ bool     ┆ i64   ┆ i64   │\n",
       "╞═══════════════════════╪═════════════╪════════╪══════════╪═══════╪═══════╡\n",
       "│ Plunge Cut Saw        ┆ DSP600ZJ    ┆ Makita ┆ true     ┆ 459   ┆ 6300  │\n",
       "│ Impact Driver         ┆ DTD157Z     ┆ Makita ┆ true     ┆ 156   ┆ 3000  │\n",
       "│ Angle Grinder         ┆ DGA504ZJ    ┆ Makita ┆ true     ┆ 229   ┆ 8500  │\n",
       "│ Nail Gun              ┆ DPSB2IN1-XJ ┆ DeWalt ┆ true     ┆ 129   ┆ null  │\n",
       "│ Random Orbital Sander ┆ DBO180ZJ    ┆ Makita ┆ true     ┆ 199   ┆ 11000 │\n",
       "└───────────────────────┴─────────────┴────────┴──────────┴───────┴───────┘"
      ]
     },
     "execution_count": 8,
     "metadata": {},
     "output_type": "execute_result"
    }
   ],
   "source": [
    "tools.filter(\"cordless\")"
   ]
  },
  {
   "cell_type": "markdown",
   "id": "42b4fb5e",
   "metadata": {},
   "source": [
    "### Filtering Based on Contrains"
   ]
  },
  {
   "cell_type": "code",
   "execution_count": 9,
   "id": "5397c259",
   "metadata": {},
   "outputs": [
    {
     "data": {
      "text/html": [
       "<div><style>\n",
       ".dataframe > thead > tr,\n",
       ".dataframe > tbody > tr {\n",
       "  text-align: right;\n",
       "  white-space: pre-wrap;\n",
       "}\n",
       "</style>\n",
       "<small>shape: (4, 6)</small><table border=\"1\" class=\"dataframe\"><thead><tr><th>tool</th><th>product</th><th>brand</th><th>cordless</th><th>price</th><th>rpm</th></tr><tr><td>str</td><td>str</td><td>str</td><td>bool</td><td>i64</td><td>i64</td></tr></thead><tbody><tr><td>&quot;Plunge Cut Saw&quot;</td><td>&quot;DSP600ZJ&quot;</td><td>&quot;Makita&quot;</td><td>true</td><td>459</td><td>6300</td></tr><tr><td>&quot;Impact Driver&quot;</td><td>&quot;DTD157Z&quot;</td><td>&quot;Makita&quot;</td><td>true</td><td>156</td><td>3000</td></tr><tr><td>&quot;Angle Grinder&quot;</td><td>&quot;DGA504ZJ&quot;</td><td>&quot;Makita&quot;</td><td>true</td><td>229</td><td>8500</td></tr><tr><td>&quot;Random Orbital Sander&quot;</td><td>&quot;DBO180ZJ&quot;</td><td>&quot;Makita&quot;</td><td>true</td><td>199</td><td>11000</td></tr></tbody></table></div>"
      ],
      "text/plain": [
       "shape: (4, 6)\n",
       "┌───────────────────────┬──────────┬────────┬──────────┬───────┬───────┐\n",
       "│ tool                  ┆ product  ┆ brand  ┆ cordless ┆ price ┆ rpm   │\n",
       "│ ---                   ┆ ---      ┆ ---    ┆ ---      ┆ ---   ┆ ---   │\n",
       "│ str                   ┆ str      ┆ str    ┆ bool     ┆ i64   ┆ i64   │\n",
       "╞═══════════════════════╪══════════╪════════╪══════════╪═══════╪═══════╡\n",
       "│ Plunge Cut Saw        ┆ DSP600ZJ ┆ Makita ┆ true     ┆ 459   ┆ 6300  │\n",
       "│ Impact Driver         ┆ DTD157Z  ┆ Makita ┆ true     ┆ 156   ┆ 3000  │\n",
       "│ Angle Grinder         ┆ DGA504ZJ ┆ Makita ┆ true     ┆ 229   ┆ 8500  │\n",
       "│ Random Orbital Sander ┆ DBO180ZJ ┆ Makita ┆ true     ┆ 199   ┆ 11000 │\n",
       "└───────────────────────┴──────────┴────────┴──────────┴───────┴───────┘"
      ]
     },
     "execution_count": 9,
     "metadata": {},
     "output_type": "execute_result"
    }
   ],
   "source": [
    "tools.filter(cordless=True, brand=\"Makita\")"
   ]
  }
 ],
 "metadata": {
  "kernelspec": {
   "display_name": "python-polars-the-definitive-guide",
   "language": "python",
   "name": "python3"
  },
  "language_info": {
   "codemirror_mode": {
    "name": "ipython",
    "version": 3
   },
   "file_extension": ".py",
   "mimetype": "text/x-python",
   "name": "python",
   "nbconvert_exporter": "python",
   "pygments_lexer": "ipython3",
   "version": "3.12.11"
  }
 },
 "nbformat": 4,
 "nbformat_minor": 5
}
