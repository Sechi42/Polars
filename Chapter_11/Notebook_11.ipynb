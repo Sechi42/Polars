{
 "cells": [
  {
   "cell_type": "markdown",
   "id": "d60ac8ec",
   "metadata": {},
   "source": [
    "# Filtering and Sorting Rows"
   ]
  },
  {
   "cell_type": "code",
   "execution_count": 88,
   "id": "8901a283",
   "metadata": {},
   "outputs": [],
   "source": [
    "import polars as pl"
   ]
  },
  {
   "cell_type": "code",
   "execution_count": 89,
   "id": "abbfed45",
   "metadata": {},
   "outputs": [
    {
     "name": "stdout",
     "output_type": "stream",
     "text": [
      "shape: (10, 6)\n",
      "┌───────────────────────┬──────────────┬────────┬──────────┬───────┬───────┐\n",
      "│ tool                  ┆ product      ┆ brand  ┆ cordless ┆ price ┆ rpm   │\n",
      "│ ---                   ┆ ---          ┆ ---    ┆ ---      ┆ ---   ┆ ---   │\n",
      "│ str                   ┆ str          ┆ str    ┆ bool     ┆ i64   ┆ i64   │\n",
      "╞═══════════════════════╪══════════════╪════════╪══════════╪═══════╪═══════╡\n",
      "│ Rotary Hammer         ┆ HR2230       ┆ Makita ┆ false    ┆ 199   ┆ 1050  │\n",
      "│ Miter Saw             ┆ GCM 8 SJL    ┆ Bosch  ┆ false    ┆ 391   ┆ 5500  │\n",
      "│ Plunge Cut Saw        ┆ DSP600ZJ     ┆ Makita ┆ true     ┆ 459   ┆ 6300  │\n",
      "│ Impact Driver         ┆ DTD157Z      ┆ Makita ┆ true     ┆ 156   ┆ 3000  │\n",
      "│ Jigsaw                ┆ PST 900 PEL  ┆ Bosch  ┆ false    ┆ 79    ┆ 3100  │\n",
      "│ Angle Grinder         ┆ DGA504ZJ     ┆ Makita ┆ true     ┆ 229   ┆ 8500  │\n",
      "│ Nail Gun              ┆ DPSB2IN1-XJ  ┆ DeWalt ┆ true     ┆ 129   ┆ null  │\n",
      "│ Router                ┆ POF 1400 ACE ┆ Bosch  ┆ false    ┆ 185   ┆ 28000 │\n",
      "│ Random Orbital Sander ┆ DBO180ZJ     ┆ Makita ┆ true     ┆ 199   ┆ 11000 │\n",
      "│ Table Saw             ┆ DWE7485      ┆ DeWalt ┆ false    ┆ 516   ┆ 5800  │\n",
      "└───────────────────────┴──────────────┴────────┴──────────┴───────┴───────┘\n"
     ]
    }
   ],
   "source": [
    "tools = pl.read_csv(\"data/tools.csv\")\n",
    "print(tools)"
   ]
  },
  {
   "cell_type": "markdown",
   "id": "f334a6bf",
   "metadata": {},
   "source": [
    "## Filtering Rows"
   ]
  },
  {
   "cell_type": "markdown",
   "id": "c36ff01c",
   "metadata": {},
   "source": [
    "### Filtering Based on Expressions\n",
    "\n",
    "Ambas expresiones de filtrado en Polars son equivalentes:\n",
    "\n",
    "- `tools.filter(pl.col(\"cordless\") & (pl.col(\"brand\") == \"Makita\"))`\n",
    "- `tools.filter(pl.col(\"cordless\"), pl.col(\"brand\") == \"Makita\")`\n",
    "\n",
    "La primera utiliza el operador `&` para combinar dos condiciones en una sola expresión booleana. La segunda pasa cada condición como argumento separado a `filter()`, que internamente los combina con `AND`. En ambos casos, el resultado es un DataFrame con las filas donde `cordless` es `True` y `brand` es `\"Makita\"`."
   ]
  },
  {
   "cell_type": "code",
   "execution_count": 90,
   "id": "5177645d",
   "metadata": {},
   "outputs": [
    {
     "data": {
      "text/html": [
       "<div><style>\n",
       ".dataframe > thead > tr,\n",
       ".dataframe > tbody > tr {\n",
       "  text-align: right;\n",
       "  white-space: pre-wrap;\n",
       "}\n",
       "</style>\n",
       "<small>shape: (4, 6)</small><table border=\"1\" class=\"dataframe\"><thead><tr><th>tool</th><th>product</th><th>brand</th><th>cordless</th><th>price</th><th>rpm</th></tr><tr><td>str</td><td>str</td><td>str</td><td>bool</td><td>i64</td><td>i64</td></tr></thead><tbody><tr><td>&quot;Plunge Cut Saw&quot;</td><td>&quot;DSP600ZJ&quot;</td><td>&quot;Makita&quot;</td><td>true</td><td>459</td><td>6300</td></tr><tr><td>&quot;Impact Driver&quot;</td><td>&quot;DTD157Z&quot;</td><td>&quot;Makita&quot;</td><td>true</td><td>156</td><td>3000</td></tr><tr><td>&quot;Angle Grinder&quot;</td><td>&quot;DGA504ZJ&quot;</td><td>&quot;Makita&quot;</td><td>true</td><td>229</td><td>8500</td></tr><tr><td>&quot;Random Orbital Sander&quot;</td><td>&quot;DBO180ZJ&quot;</td><td>&quot;Makita&quot;</td><td>true</td><td>199</td><td>11000</td></tr></tbody></table></div>"
      ],
      "text/plain": [
       "shape: (4, 6)\n",
       "┌───────────────────────┬──────────┬────────┬──────────┬───────┬───────┐\n",
       "│ tool                  ┆ product  ┆ brand  ┆ cordless ┆ price ┆ rpm   │\n",
       "│ ---                   ┆ ---      ┆ ---    ┆ ---      ┆ ---   ┆ ---   │\n",
       "│ str                   ┆ str      ┆ str    ┆ bool     ┆ i64   ┆ i64   │\n",
       "╞═══════════════════════╪══════════╪════════╪══════════╪═══════╪═══════╡\n",
       "│ Plunge Cut Saw        ┆ DSP600ZJ ┆ Makita ┆ true     ┆ 459   ┆ 6300  │\n",
       "│ Impact Driver         ┆ DTD157Z  ┆ Makita ┆ true     ┆ 156   ┆ 3000  │\n",
       "│ Angle Grinder         ┆ DGA504ZJ ┆ Makita ┆ true     ┆ 229   ┆ 8500  │\n",
       "│ Random Orbital Sander ┆ DBO180ZJ ┆ Makita ┆ true     ┆ 199   ┆ 11000 │\n",
       "└───────────────────────┴──────────┴────────┴──────────┴───────┴───────┘"
      ]
     },
     "execution_count": 90,
     "metadata": {},
     "output_type": "execute_result"
    }
   ],
   "source": [
    "tools.filter(pl.col(\"cordless\") & (pl.col(\"brand\") == \"Makita\"))"
   ]
  },
  {
   "cell_type": "code",
   "execution_count": 91,
   "id": "0a2a0c4f",
   "metadata": {},
   "outputs": [
    {
     "data": {
      "text/html": [
       "<div><style>\n",
       ".dataframe > thead > tr,\n",
       ".dataframe > tbody > tr {\n",
       "  text-align: right;\n",
       "  white-space: pre-wrap;\n",
       "}\n",
       "</style>\n",
       "<small>shape: (4, 6)</small><table border=\"1\" class=\"dataframe\"><thead><tr><th>tool</th><th>product</th><th>brand</th><th>cordless</th><th>price</th><th>rpm</th></tr><tr><td>str</td><td>str</td><td>str</td><td>bool</td><td>i64</td><td>i64</td></tr></thead><tbody><tr><td>&quot;Plunge Cut Saw&quot;</td><td>&quot;DSP600ZJ&quot;</td><td>&quot;Makita&quot;</td><td>true</td><td>459</td><td>6300</td></tr><tr><td>&quot;Impact Driver&quot;</td><td>&quot;DTD157Z&quot;</td><td>&quot;Makita&quot;</td><td>true</td><td>156</td><td>3000</td></tr><tr><td>&quot;Angle Grinder&quot;</td><td>&quot;DGA504ZJ&quot;</td><td>&quot;Makita&quot;</td><td>true</td><td>229</td><td>8500</td></tr><tr><td>&quot;Random Orbital Sander&quot;</td><td>&quot;DBO180ZJ&quot;</td><td>&quot;Makita&quot;</td><td>true</td><td>199</td><td>11000</td></tr></tbody></table></div>"
      ],
      "text/plain": [
       "shape: (4, 6)\n",
       "┌───────────────────────┬──────────┬────────┬──────────┬───────┬───────┐\n",
       "│ tool                  ┆ product  ┆ brand  ┆ cordless ┆ price ┆ rpm   │\n",
       "│ ---                   ┆ ---      ┆ ---    ┆ ---      ┆ ---   ┆ ---   │\n",
       "│ str                   ┆ str      ┆ str    ┆ bool     ┆ i64   ┆ i64   │\n",
       "╞═══════════════════════╪══════════╪════════╪══════════╪═══════╪═══════╡\n",
       "│ Plunge Cut Saw        ┆ DSP600ZJ ┆ Makita ┆ true     ┆ 459   ┆ 6300  │\n",
       "│ Impact Driver         ┆ DTD157Z  ┆ Makita ┆ true     ┆ 156   ┆ 3000  │\n",
       "│ Angle Grinder         ┆ DGA504ZJ ┆ Makita ┆ true     ┆ 229   ┆ 8500  │\n",
       "│ Random Orbital Sander ┆ DBO180ZJ ┆ Makita ┆ true     ┆ 199   ┆ 11000 │\n",
       "└───────────────────────┴──────────┴────────┴──────────┴───────┴───────┘"
      ]
     },
     "execution_count": 91,
     "metadata": {},
     "output_type": "execute_result"
    }
   ],
   "source": [
    "tools.filter(pl.col(\"cordless\"), pl.col(\"brand\") == \"Makita\")"
   ]
  },
  {
   "cell_type": "markdown",
   "id": "12a149aa",
   "metadata": {},
   "source": [
    "## Filtering Based on Columns Names"
   ]
  },
  {
   "cell_type": "code",
   "execution_count": 92,
   "id": "0b7704fa",
   "metadata": {},
   "outputs": [
    {
     "data": {
      "text/html": [
       "<div><style>\n",
       ".dataframe > thead > tr,\n",
       ".dataframe > tbody > tr {\n",
       "  text-align: right;\n",
       "  white-space: pre-wrap;\n",
       "}\n",
       "</style>\n",
       "<small>shape: (5, 6)</small><table border=\"1\" class=\"dataframe\"><thead><tr><th>tool</th><th>product</th><th>brand</th><th>cordless</th><th>price</th><th>rpm</th></tr><tr><td>str</td><td>str</td><td>str</td><td>bool</td><td>i64</td><td>i64</td></tr></thead><tbody><tr><td>&quot;Plunge Cut Saw&quot;</td><td>&quot;DSP600ZJ&quot;</td><td>&quot;Makita&quot;</td><td>true</td><td>459</td><td>6300</td></tr><tr><td>&quot;Impact Driver&quot;</td><td>&quot;DTD157Z&quot;</td><td>&quot;Makita&quot;</td><td>true</td><td>156</td><td>3000</td></tr><tr><td>&quot;Angle Grinder&quot;</td><td>&quot;DGA504ZJ&quot;</td><td>&quot;Makita&quot;</td><td>true</td><td>229</td><td>8500</td></tr><tr><td>&quot;Nail Gun&quot;</td><td>&quot;DPSB2IN1-XJ&quot;</td><td>&quot;DeWalt&quot;</td><td>true</td><td>129</td><td>null</td></tr><tr><td>&quot;Random Orbital Sander&quot;</td><td>&quot;DBO180ZJ&quot;</td><td>&quot;Makita&quot;</td><td>true</td><td>199</td><td>11000</td></tr></tbody></table></div>"
      ],
      "text/plain": [
       "shape: (5, 6)\n",
       "┌───────────────────────┬─────────────┬────────┬──────────┬───────┬───────┐\n",
       "│ tool                  ┆ product     ┆ brand  ┆ cordless ┆ price ┆ rpm   │\n",
       "│ ---                   ┆ ---         ┆ ---    ┆ ---      ┆ ---   ┆ ---   │\n",
       "│ str                   ┆ str         ┆ str    ┆ bool     ┆ i64   ┆ i64   │\n",
       "╞═══════════════════════╪═════════════╪════════╪══════════╪═══════╪═══════╡\n",
       "│ Plunge Cut Saw        ┆ DSP600ZJ    ┆ Makita ┆ true     ┆ 459   ┆ 6300  │\n",
       "│ Impact Driver         ┆ DTD157Z     ┆ Makita ┆ true     ┆ 156   ┆ 3000  │\n",
       "│ Angle Grinder         ┆ DGA504ZJ    ┆ Makita ┆ true     ┆ 229   ┆ 8500  │\n",
       "│ Nail Gun              ┆ DPSB2IN1-XJ ┆ DeWalt ┆ true     ┆ 129   ┆ null  │\n",
       "│ Random Orbital Sander ┆ DBO180ZJ    ┆ Makita ┆ true     ┆ 199   ┆ 11000 │\n",
       "└───────────────────────┴─────────────┴────────┴──────────┴───────┴───────┘"
      ]
     },
     "execution_count": 92,
     "metadata": {},
     "output_type": "execute_result"
    }
   ],
   "source": [
    "tools.filter(\"cordless\")"
   ]
  },
  {
   "cell_type": "markdown",
   "id": "42b4fb5e",
   "metadata": {},
   "source": [
    "### Filtering Based on Contrains"
   ]
  },
  {
   "cell_type": "code",
   "execution_count": 93,
   "id": "5397c259",
   "metadata": {},
   "outputs": [
    {
     "data": {
      "text/html": [
       "<div><style>\n",
       ".dataframe > thead > tr,\n",
       ".dataframe > tbody > tr {\n",
       "  text-align: right;\n",
       "  white-space: pre-wrap;\n",
       "}\n",
       "</style>\n",
       "<small>shape: (4, 6)</small><table border=\"1\" class=\"dataframe\"><thead><tr><th>tool</th><th>product</th><th>brand</th><th>cordless</th><th>price</th><th>rpm</th></tr><tr><td>str</td><td>str</td><td>str</td><td>bool</td><td>i64</td><td>i64</td></tr></thead><tbody><tr><td>&quot;Plunge Cut Saw&quot;</td><td>&quot;DSP600ZJ&quot;</td><td>&quot;Makita&quot;</td><td>true</td><td>459</td><td>6300</td></tr><tr><td>&quot;Impact Driver&quot;</td><td>&quot;DTD157Z&quot;</td><td>&quot;Makita&quot;</td><td>true</td><td>156</td><td>3000</td></tr><tr><td>&quot;Angle Grinder&quot;</td><td>&quot;DGA504ZJ&quot;</td><td>&quot;Makita&quot;</td><td>true</td><td>229</td><td>8500</td></tr><tr><td>&quot;Random Orbital Sander&quot;</td><td>&quot;DBO180ZJ&quot;</td><td>&quot;Makita&quot;</td><td>true</td><td>199</td><td>11000</td></tr></tbody></table></div>"
      ],
      "text/plain": [
       "shape: (4, 6)\n",
       "┌───────────────────────┬──────────┬────────┬──────────┬───────┬───────┐\n",
       "│ tool                  ┆ product  ┆ brand  ┆ cordless ┆ price ┆ rpm   │\n",
       "│ ---                   ┆ ---      ┆ ---    ┆ ---      ┆ ---   ┆ ---   │\n",
       "│ str                   ┆ str      ┆ str    ┆ bool     ┆ i64   ┆ i64   │\n",
       "╞═══════════════════════╪══════════╪════════╪══════════╪═══════╪═══════╡\n",
       "│ Plunge Cut Saw        ┆ DSP600ZJ ┆ Makita ┆ true     ┆ 459   ┆ 6300  │\n",
       "│ Impact Driver         ┆ DTD157Z  ┆ Makita ┆ true     ┆ 156   ┆ 3000  │\n",
       "│ Angle Grinder         ┆ DGA504ZJ ┆ Makita ┆ true     ┆ 229   ┆ 8500  │\n",
       "│ Random Orbital Sander ┆ DBO180ZJ ┆ Makita ┆ true     ┆ 199   ┆ 11000 │\n",
       "└───────────────────────┴──────────┴────────┴──────────┴───────┴───────┘"
      ]
     },
     "execution_count": 93,
     "metadata": {},
     "output_type": "execute_result"
    }
   ],
   "source": [
    "tools.filter(cordless=True, brand=\"Makita\")"
   ]
  },
  {
   "cell_type": "markdown",
   "id": "b33ff0ea",
   "metadata": {},
   "source": [
    "## Sorting Rows\n",
    "\n",
    "### Sorting Bases on a Single Column"
   ]
  },
  {
   "cell_type": "code",
   "execution_count": 94,
   "id": "b16b3330",
   "metadata": {},
   "outputs": [
    {
     "data": {
      "text/html": [
       "<div><style>\n",
       ".dataframe > thead > tr,\n",
       ".dataframe > tbody > tr {\n",
       "  text-align: right;\n",
       "  white-space: pre-wrap;\n",
       "}\n",
       "</style>\n",
       "<small>shape: (10, 6)</small><table border=\"1\" class=\"dataframe\"><thead><tr><th>tool</th><th>product</th><th>brand</th><th>cordless</th><th>price</th><th>rpm</th></tr><tr><td>str</td><td>str</td><td>str</td><td>bool</td><td>i64</td><td>i64</td></tr></thead><tbody><tr><td>&quot;Jigsaw&quot;</td><td>&quot;PST 900 PEL&quot;</td><td>&quot;Bosch&quot;</td><td>false</td><td>79</td><td>3100</td></tr><tr><td>&quot;Nail Gun&quot;</td><td>&quot;DPSB2IN1-XJ&quot;</td><td>&quot;DeWalt&quot;</td><td>true</td><td>129</td><td>null</td></tr><tr><td>&quot;Impact Driver&quot;</td><td>&quot;DTD157Z&quot;</td><td>&quot;Makita&quot;</td><td>true</td><td>156</td><td>3000</td></tr><tr><td>&quot;Router&quot;</td><td>&quot;POF 1400 ACE&quot;</td><td>&quot;Bosch&quot;</td><td>false</td><td>185</td><td>28000</td></tr><tr><td>&quot;Rotary Hammer&quot;</td><td>&quot;HR2230&quot;</td><td>&quot;Makita&quot;</td><td>false</td><td>199</td><td>1050</td></tr><tr><td>&quot;Random Orbital Sander&quot;</td><td>&quot;DBO180ZJ&quot;</td><td>&quot;Makita&quot;</td><td>true</td><td>199</td><td>11000</td></tr><tr><td>&quot;Angle Grinder&quot;</td><td>&quot;DGA504ZJ&quot;</td><td>&quot;Makita&quot;</td><td>true</td><td>229</td><td>8500</td></tr><tr><td>&quot;Miter Saw&quot;</td><td>&quot;GCM 8 SJL&quot;</td><td>&quot;Bosch&quot;</td><td>false</td><td>391</td><td>5500</td></tr><tr><td>&quot;Plunge Cut Saw&quot;</td><td>&quot;DSP600ZJ&quot;</td><td>&quot;Makita&quot;</td><td>true</td><td>459</td><td>6300</td></tr><tr><td>&quot;Table Saw&quot;</td><td>&quot;DWE7485&quot;</td><td>&quot;DeWalt&quot;</td><td>false</td><td>516</td><td>5800</td></tr></tbody></table></div>"
      ],
      "text/plain": [
       "shape: (10, 6)\n",
       "┌───────────────────────┬──────────────┬────────┬──────────┬───────┬───────┐\n",
       "│ tool                  ┆ product      ┆ brand  ┆ cordless ┆ price ┆ rpm   │\n",
       "│ ---                   ┆ ---          ┆ ---    ┆ ---      ┆ ---   ┆ ---   │\n",
       "│ str                   ┆ str          ┆ str    ┆ bool     ┆ i64   ┆ i64   │\n",
       "╞═══════════════════════╪══════════════╪════════╪══════════╪═══════╪═══════╡\n",
       "│ Jigsaw                ┆ PST 900 PEL  ┆ Bosch  ┆ false    ┆ 79    ┆ 3100  │\n",
       "│ Nail Gun              ┆ DPSB2IN1-XJ  ┆ DeWalt ┆ true     ┆ 129   ┆ null  │\n",
       "│ Impact Driver         ┆ DTD157Z      ┆ Makita ┆ true     ┆ 156   ┆ 3000  │\n",
       "│ Router                ┆ POF 1400 ACE ┆ Bosch  ┆ false    ┆ 185   ┆ 28000 │\n",
       "│ Rotary Hammer         ┆ HR2230       ┆ Makita ┆ false    ┆ 199   ┆ 1050  │\n",
       "│ Random Orbital Sander ┆ DBO180ZJ     ┆ Makita ┆ true     ┆ 199   ┆ 11000 │\n",
       "│ Angle Grinder         ┆ DGA504ZJ     ┆ Makita ┆ true     ┆ 229   ┆ 8500  │\n",
       "│ Miter Saw             ┆ GCM 8 SJL    ┆ Bosch  ┆ false    ┆ 391   ┆ 5500  │\n",
       "│ Plunge Cut Saw        ┆ DSP600ZJ     ┆ Makita ┆ true     ┆ 459   ┆ 6300  │\n",
       "│ Table Saw             ┆ DWE7485      ┆ DeWalt ┆ false    ┆ 516   ┆ 5800  │\n",
       "└───────────────────────┴──────────────┴────────┴──────────┴───────┴───────┘"
      ]
     },
     "execution_count": 94,
     "metadata": {},
     "output_type": "execute_result"
    }
   ],
   "source": [
    "tools.sort(\"price\")"
   ]
  },
  {
   "cell_type": "markdown",
   "id": "d83a7427",
   "metadata": {},
   "source": [
    "| Argument         | Descripción                                                                                   |\n",
    "|------------------|----------------------------------------------------------------------------------------------|\n",
    "| by               | Nombre(s) de columna(s) o expresión(es) por las que ordenar. Puede ser un string, lista de strings o expresiones. |\n",
    "| *more_by         | Columnas o expresiones adicionales para ordenar (argumentos variádicos).                      |\n",
    "| descending       | Booleano o lista de booleanos que indica el orden para cada columna (`True` para descendente).|\n",
    "| null_last        | Si es `True`, los valores nulos se ordenan al final; si es `False`, los nulos van primero.    |\n",
    "| multithreaded    | Si es `True`, habilita ordenamiento multihilo para mayor rendimiento.                         |\n",
    "| maintain_order   | Si es `True`, preserva el orden de elementos iguales (orden estable).                         |"
   ]
  },
  {
   "cell_type": "markdown",
   "id": "046e0bb4",
   "metadata": {},
   "source": [
    "### Sorting in reverse"
   ]
  },
  {
   "cell_type": "code",
   "execution_count": 95,
   "id": "5cc14195",
   "metadata": {},
   "outputs": [
    {
     "data": {
      "text/html": [
       "<div><style>\n",
       ".dataframe > thead > tr,\n",
       ".dataframe > tbody > tr {\n",
       "  text-align: right;\n",
       "  white-space: pre-wrap;\n",
       "}\n",
       "</style>\n",
       "<small>shape: (3, 6)</small><table border=\"1\" class=\"dataframe\"><thead><tr><th>tool</th><th>product</th><th>brand</th><th>cordless</th><th>price</th><th>rpm</th></tr><tr><td>str</td><td>str</td><td>str</td><td>bool</td><td>i64</td><td>i64</td></tr></thead><tbody><tr><td>&quot;Table Saw&quot;</td><td>&quot;DWE7485&quot;</td><td>&quot;DeWalt&quot;</td><td>false</td><td>516</td><td>5800</td></tr><tr><td>&quot;Plunge Cut Saw&quot;</td><td>&quot;DSP600ZJ&quot;</td><td>&quot;Makita&quot;</td><td>true</td><td>459</td><td>6300</td></tr><tr><td>&quot;Miter Saw&quot;</td><td>&quot;GCM 8 SJL&quot;</td><td>&quot;Bosch&quot;</td><td>false</td><td>391</td><td>5500</td></tr></tbody></table></div>"
      ],
      "text/plain": [
       "shape: (3, 6)\n",
       "┌────────────────┬───────────┬────────┬──────────┬───────┬──────┐\n",
       "│ tool           ┆ product   ┆ brand  ┆ cordless ┆ price ┆ rpm  │\n",
       "│ ---            ┆ ---       ┆ ---    ┆ ---      ┆ ---   ┆ ---  │\n",
       "│ str            ┆ str       ┆ str    ┆ bool     ┆ i64   ┆ i64  │\n",
       "╞════════════════╪═══════════╪════════╪══════════╪═══════╪══════╡\n",
       "│ Table Saw      ┆ DWE7485   ┆ DeWalt ┆ false    ┆ 516   ┆ 5800 │\n",
       "│ Plunge Cut Saw ┆ DSP600ZJ  ┆ Makita ┆ true     ┆ 459   ┆ 6300 │\n",
       "│ Miter Saw      ┆ GCM 8 SJL ┆ Bosch  ┆ false    ┆ 391   ┆ 5500 │\n",
       "└────────────────┴───────────┴────────┴──────────┴───────┴──────┘"
      ]
     },
     "execution_count": 95,
     "metadata": {},
     "output_type": "execute_result"
    }
   ],
   "source": [
    "tools.sort(\"price\", descending=True).head(3)"
   ]
  },
  {
   "cell_type": "markdown",
   "id": "3d4b5ffd",
   "metadata": {},
   "source": [
    "### Sorting Based on Multiple Columns"
   ]
  },
  {
   "cell_type": "code",
   "execution_count": 96,
   "id": "b880142a",
   "metadata": {},
   "outputs": [
    {
     "data": {
      "text/html": [
       "<div><style>\n",
       ".dataframe > thead > tr,\n",
       ".dataframe > tbody > tr {\n",
       "  text-align: right;\n",
       "  white-space: pre-wrap;\n",
       "}\n",
       "</style>\n",
       "<small>shape: (10, 6)</small><table border=\"1\" class=\"dataframe\"><thead><tr><th>tool</th><th>product</th><th>brand</th><th>cordless</th><th>price</th><th>rpm</th></tr><tr><td>str</td><td>str</td><td>str</td><td>bool</td><td>i64</td><td>i64</td></tr></thead><tbody><tr><td>&quot;Jigsaw&quot;</td><td>&quot;PST 900 PEL&quot;</td><td>&quot;Bosch&quot;</td><td>false</td><td>79</td><td>3100</td></tr><tr><td>&quot;Router&quot;</td><td>&quot;POF 1400 ACE&quot;</td><td>&quot;Bosch&quot;</td><td>false</td><td>185</td><td>28000</td></tr><tr><td>&quot;Miter Saw&quot;</td><td>&quot;GCM 8 SJL&quot;</td><td>&quot;Bosch&quot;</td><td>false</td><td>391</td><td>5500</td></tr><tr><td>&quot;Nail Gun&quot;</td><td>&quot;DPSB2IN1-XJ&quot;</td><td>&quot;DeWalt&quot;</td><td>true</td><td>129</td><td>null</td></tr><tr><td>&quot;Table Saw&quot;</td><td>&quot;DWE7485&quot;</td><td>&quot;DeWalt&quot;</td><td>false</td><td>516</td><td>5800</td></tr><tr><td>&quot;Impact Driver&quot;</td><td>&quot;DTD157Z&quot;</td><td>&quot;Makita&quot;</td><td>true</td><td>156</td><td>3000</td></tr><tr><td>&quot;Rotary Hammer&quot;</td><td>&quot;HR2230&quot;</td><td>&quot;Makita&quot;</td><td>false</td><td>199</td><td>1050</td></tr><tr><td>&quot;Random Orbital Sander&quot;</td><td>&quot;DBO180ZJ&quot;</td><td>&quot;Makita&quot;</td><td>true</td><td>199</td><td>11000</td></tr><tr><td>&quot;Angle Grinder&quot;</td><td>&quot;DGA504ZJ&quot;</td><td>&quot;Makita&quot;</td><td>true</td><td>229</td><td>8500</td></tr><tr><td>&quot;Plunge Cut Saw&quot;</td><td>&quot;DSP600ZJ&quot;</td><td>&quot;Makita&quot;</td><td>true</td><td>459</td><td>6300</td></tr></tbody></table></div>"
      ],
      "text/plain": [
       "shape: (10, 6)\n",
       "┌───────────────────────┬──────────────┬────────┬──────────┬───────┬───────┐\n",
       "│ tool                  ┆ product      ┆ brand  ┆ cordless ┆ price ┆ rpm   │\n",
       "│ ---                   ┆ ---          ┆ ---    ┆ ---      ┆ ---   ┆ ---   │\n",
       "│ str                   ┆ str          ┆ str    ┆ bool     ┆ i64   ┆ i64   │\n",
       "╞═══════════════════════╪══════════════╪════════╪══════════╪═══════╪═══════╡\n",
       "│ Jigsaw                ┆ PST 900 PEL  ┆ Bosch  ┆ false    ┆ 79    ┆ 3100  │\n",
       "│ Router                ┆ POF 1400 ACE ┆ Bosch  ┆ false    ┆ 185   ┆ 28000 │\n",
       "│ Miter Saw             ┆ GCM 8 SJL    ┆ Bosch  ┆ false    ┆ 391   ┆ 5500  │\n",
       "│ Nail Gun              ┆ DPSB2IN1-XJ  ┆ DeWalt ┆ true     ┆ 129   ┆ null  │\n",
       "│ Table Saw             ┆ DWE7485      ┆ DeWalt ┆ false    ┆ 516   ┆ 5800  │\n",
       "│ Impact Driver         ┆ DTD157Z      ┆ Makita ┆ true     ┆ 156   ┆ 3000  │\n",
       "│ Rotary Hammer         ┆ HR2230       ┆ Makita ┆ false    ┆ 199   ┆ 1050  │\n",
       "│ Random Orbital Sander ┆ DBO180ZJ     ┆ Makita ┆ true     ┆ 199   ┆ 11000 │\n",
       "│ Angle Grinder         ┆ DGA504ZJ     ┆ Makita ┆ true     ┆ 229   ┆ 8500  │\n",
       "│ Plunge Cut Saw        ┆ DSP600ZJ     ┆ Makita ┆ true     ┆ 459   ┆ 6300  │\n",
       "└───────────────────────┴──────────────┴────────┴──────────┴───────┴───────┘"
      ]
     },
     "execution_count": 96,
     "metadata": {},
     "output_type": "execute_result"
    }
   ],
   "source": [
    "tools.sort(\"brand\", \"price\")"
   ]
  },
  {
   "cell_type": "code",
   "execution_count": 97,
   "id": "818fd154",
   "metadata": {},
   "outputs": [
    {
     "data": {
      "text/html": [
       "<div><style>\n",
       ".dataframe > thead > tr,\n",
       ".dataframe > tbody > tr {\n",
       "  text-align: right;\n",
       "  white-space: pre-wrap;\n",
       "}\n",
       "</style>\n",
       "<small>shape: (10, 6)</small><table border=\"1\" class=\"dataframe\"><thead><tr><th>tool</th><th>product</th><th>brand</th><th>cordless</th><th>price</th><th>rpm</th></tr><tr><td>str</td><td>str</td><td>str</td><td>bool</td><td>i64</td><td>i64</td></tr></thead><tbody><tr><td>&quot;Miter Saw&quot;</td><td>&quot;GCM 8 SJL&quot;</td><td>&quot;Bosch&quot;</td><td>false</td><td>391</td><td>5500</td></tr><tr><td>&quot;Router&quot;</td><td>&quot;POF 1400 ACE&quot;</td><td>&quot;Bosch&quot;</td><td>false</td><td>185</td><td>28000</td></tr><tr><td>&quot;Jigsaw&quot;</td><td>&quot;PST 900 PEL&quot;</td><td>&quot;Bosch&quot;</td><td>false</td><td>79</td><td>3100</td></tr><tr><td>&quot;Table Saw&quot;</td><td>&quot;DWE7485&quot;</td><td>&quot;DeWalt&quot;</td><td>false</td><td>516</td><td>5800</td></tr><tr><td>&quot;Nail Gun&quot;</td><td>&quot;DPSB2IN1-XJ&quot;</td><td>&quot;DeWalt&quot;</td><td>true</td><td>129</td><td>null</td></tr><tr><td>&quot;Plunge Cut Saw&quot;</td><td>&quot;DSP600ZJ&quot;</td><td>&quot;Makita&quot;</td><td>true</td><td>459</td><td>6300</td></tr><tr><td>&quot;Angle Grinder&quot;</td><td>&quot;DGA504ZJ&quot;</td><td>&quot;Makita&quot;</td><td>true</td><td>229</td><td>8500</td></tr><tr><td>&quot;Rotary Hammer&quot;</td><td>&quot;HR2230&quot;</td><td>&quot;Makita&quot;</td><td>false</td><td>199</td><td>1050</td></tr><tr><td>&quot;Random Orbital Sander&quot;</td><td>&quot;DBO180ZJ&quot;</td><td>&quot;Makita&quot;</td><td>true</td><td>199</td><td>11000</td></tr><tr><td>&quot;Impact Driver&quot;</td><td>&quot;DTD157Z&quot;</td><td>&quot;Makita&quot;</td><td>true</td><td>156</td><td>3000</td></tr></tbody></table></div>"
      ],
      "text/plain": [
       "shape: (10, 6)\n",
       "┌───────────────────────┬──────────────┬────────┬──────────┬───────┬───────┐\n",
       "│ tool                  ┆ product      ┆ brand  ┆ cordless ┆ price ┆ rpm   │\n",
       "│ ---                   ┆ ---          ┆ ---    ┆ ---      ┆ ---   ┆ ---   │\n",
       "│ str                   ┆ str          ┆ str    ┆ bool     ┆ i64   ┆ i64   │\n",
       "╞═══════════════════════╪══════════════╪════════╪══════════╪═══════╪═══════╡\n",
       "│ Miter Saw             ┆ GCM 8 SJL    ┆ Bosch  ┆ false    ┆ 391   ┆ 5500  │\n",
       "│ Router                ┆ POF 1400 ACE ┆ Bosch  ┆ false    ┆ 185   ┆ 28000 │\n",
       "│ Jigsaw                ┆ PST 900 PEL  ┆ Bosch  ┆ false    ┆ 79    ┆ 3100  │\n",
       "│ Table Saw             ┆ DWE7485      ┆ DeWalt ┆ false    ┆ 516   ┆ 5800  │\n",
       "│ Nail Gun              ┆ DPSB2IN1-XJ  ┆ DeWalt ┆ true     ┆ 129   ┆ null  │\n",
       "│ Plunge Cut Saw        ┆ DSP600ZJ     ┆ Makita ┆ true     ┆ 459   ┆ 6300  │\n",
       "│ Angle Grinder         ┆ DGA504ZJ     ┆ Makita ┆ true     ┆ 229   ┆ 8500  │\n",
       "│ Rotary Hammer         ┆ HR2230       ┆ Makita ┆ false    ┆ 199   ┆ 1050  │\n",
       "│ Random Orbital Sander ┆ DBO180ZJ     ┆ Makita ┆ true     ┆ 199   ┆ 11000 │\n",
       "│ Impact Driver         ┆ DTD157Z      ┆ Makita ┆ true     ┆ 156   ┆ 3000  │\n",
       "└───────────────────────┴──────────────┴────────┴──────────┴───────┴───────┘"
      ]
     },
     "execution_count": 97,
     "metadata": {},
     "output_type": "execute_result"
    }
   ],
   "source": [
    "tools.sort(\"brand\", \"price\", descending=[False, True])"
   ]
  },
  {
   "cell_type": "markdown",
   "id": "5e2a389f",
   "metadata": {},
   "source": [
    "### Sorted Based on Expressions"
   ]
  },
  {
   "cell_type": "code",
   "execution_count": 76,
   "id": "cef7bfd5",
   "metadata": {},
   "outputs": [
    {
     "data": {
      "text/html": [
       "<div><style>\n",
       ".dataframe > thead > tr,\n",
       ".dataframe > tbody > tr {\n",
       "  text-align: right;\n",
       "  white-space: pre-wrap;\n",
       "}\n",
       "</style>\n",
       "<small>shape: (10, 7)</small><table border=\"1\" class=\"dataframe\"><thead><tr><th>tool</th><th>product</th><th>brand</th><th>cordless</th><th>price</th><th>rpm</th><th>rpm_per_price</th></tr><tr><td>str</td><td>str</td><td>str</td><td>bool</td><td>i64</td><td>i64</td><td>f64</td></tr></thead><tbody><tr><td>&quot;Nail Gun&quot;</td><td>&quot;DPSB2IN1-XJ&quot;</td><td>&quot;DeWalt&quot;</td><td>true</td><td>129</td><td>null</td><td>null</td></tr><tr><td>&quot;Rotary Hammer&quot;</td><td>&quot;HR2230&quot;</td><td>&quot;Makita&quot;</td><td>false</td><td>199</td><td>1050</td><td>5.276382</td></tr><tr><td>&quot;Table Saw&quot;</td><td>&quot;DWE7485&quot;</td><td>&quot;DeWalt&quot;</td><td>false</td><td>516</td><td>5800</td><td>11.24031</td></tr><tr><td>&quot;Plunge Cut Saw&quot;</td><td>&quot;DSP600ZJ&quot;</td><td>&quot;Makita&quot;</td><td>true</td><td>459</td><td>6300</td><td>13.72549</td></tr><tr><td>&quot;Miter Saw&quot;</td><td>&quot;GCM 8 SJL&quot;</td><td>&quot;Bosch&quot;</td><td>false</td><td>391</td><td>5500</td><td>14.066496</td></tr><tr><td>&quot;Impact Driver&quot;</td><td>&quot;DTD157Z&quot;</td><td>&quot;Makita&quot;</td><td>true</td><td>156</td><td>3000</td><td>19.230769</td></tr><tr><td>&quot;Angle Grinder&quot;</td><td>&quot;DGA504ZJ&quot;</td><td>&quot;Makita&quot;</td><td>true</td><td>229</td><td>8500</td><td>37.117904</td></tr><tr><td>&quot;Jigsaw&quot;</td><td>&quot;PST 900 PEL&quot;</td><td>&quot;Bosch&quot;</td><td>false</td><td>79</td><td>3100</td><td>39.240506</td></tr><tr><td>&quot;Random Orbital Sander&quot;</td><td>&quot;DBO180ZJ&quot;</td><td>&quot;Makita&quot;</td><td>true</td><td>199</td><td>11000</td><td>55.276382</td></tr><tr><td>&quot;Router&quot;</td><td>&quot;POF 1400 ACE&quot;</td><td>&quot;Bosch&quot;</td><td>false</td><td>185</td><td>28000</td><td>151.351351</td></tr></tbody></table></div>"
      ],
      "text/plain": [
       "shape: (10, 7)\n",
       "┌───────────────────────┬──────────────┬────────┬──────────┬───────┬───────┬───────────────┐\n",
       "│ tool                  ┆ product      ┆ brand  ┆ cordless ┆ price ┆ rpm   ┆ rpm_per_price │\n",
       "│ ---                   ┆ ---          ┆ ---    ┆ ---      ┆ ---   ┆ ---   ┆ ---           │\n",
       "│ str                   ┆ str          ┆ str    ┆ bool     ┆ i64   ┆ i64   ┆ f64           │\n",
       "╞═══════════════════════╪══════════════╪════════╪══════════╪═══════╪═══════╪═══════════════╡\n",
       "│ Nail Gun              ┆ DPSB2IN1-XJ  ┆ DeWalt ┆ true     ┆ 129   ┆ null  ┆ null          │\n",
       "│ Rotary Hammer         ┆ HR2230       ┆ Makita ┆ false    ┆ 199   ┆ 1050  ┆ 5.276382      │\n",
       "│ Table Saw             ┆ DWE7485      ┆ DeWalt ┆ false    ┆ 516   ┆ 5800  ┆ 11.24031      │\n",
       "│ Plunge Cut Saw        ┆ DSP600ZJ     ┆ Makita ┆ true     ┆ 459   ┆ 6300  ┆ 13.72549      │\n",
       "│ Miter Saw             ┆ GCM 8 SJL    ┆ Bosch  ┆ false    ┆ 391   ┆ 5500  ┆ 14.066496     │\n",
       "│ Impact Driver         ┆ DTD157Z      ┆ Makita ┆ true     ┆ 156   ┆ 3000  ┆ 19.230769     │\n",
       "│ Angle Grinder         ┆ DGA504ZJ     ┆ Makita ┆ true     ┆ 229   ┆ 8500  ┆ 37.117904     │\n",
       "│ Jigsaw                ┆ PST 900 PEL  ┆ Bosch  ┆ false    ┆ 79    ┆ 3100  ┆ 39.240506     │\n",
       "│ Random Orbital Sander ┆ DBO180ZJ     ┆ Makita ┆ true     ┆ 199   ┆ 11000 ┆ 55.276382     │\n",
       "│ Router                ┆ POF 1400 ACE ┆ Bosch  ┆ false    ┆ 185   ┆ 28000 ┆ 151.351351    │\n",
       "└───────────────────────┴──────────────┴────────┴──────────┴───────┴───────┴───────────────┘"
      ]
     },
     "execution_count": 76,
     "metadata": {},
     "output_type": "execute_result"
    }
   ],
   "source": [
    "tools.with_columns(\n",
    "    (pl.col(\"rpm\") / pl.col(\"price\")).alias(\"rpm_per_price\")\n",
    "    ).sort(pl.col(\"rpm\") / pl.col(\"price\"))"
   ]
  },
  {
   "cell_type": "markdown",
   "id": "b6c2a2ca",
   "metadata": {},
   "source": [
    "## Sorting Nested Data Types"
   ]
  },
  {
   "cell_type": "code",
   "execution_count": 77,
   "id": "fdd61883",
   "metadata": {},
   "outputs": [
    {
     "data": {
      "text/html": [
       "<div><style>\n",
       ".dataframe > thead > tr,\n",
       ".dataframe > tbody > tr {\n",
       "  text-align: right;\n",
       "  white-space: pre-wrap;\n",
       "}\n",
       "</style>\n",
       "<small>shape: (3, 1)</small><table border=\"1\" class=\"dataframe\"><thead><tr><th>lists</th></tr><tr><td>list[i64]</td></tr></thead><tbody><tr><td>[1]</td></tr><tr><td>[2, 1, 3]</td></tr><tr><td>[2, 2]</td></tr></tbody></table></div>"
      ],
      "text/plain": [
       "shape: (3, 1)\n",
       "┌───────────┐\n",
       "│ lists     │\n",
       "│ ---       │\n",
       "│ list[i64] │\n",
       "╞═══════════╡\n",
       "│ [1]       │\n",
       "│ [2, 1, 3] │\n",
       "│ [2, 2]    │\n",
       "└───────────┘"
      ]
     },
     "execution_count": 77,
     "metadata": {},
     "output_type": "execute_result"
    }
   ],
   "source": [
    "lists = pl.DataFrame({\n",
    "    \"lists\": [[2, 2], [2, 1, 3], [1]]\n",
    "    }\n",
    ")\n",
    "lists.sort(\"lists\")"
   ]
  },
  {
   "cell_type": "code",
   "execution_count": 78,
   "id": "93363888",
   "metadata": {},
   "outputs": [
    {
     "data": {
      "text/html": [
       "<div><style>\n",
       ".dataframe > thead > tr,\n",
       ".dataframe > tbody > tr {\n",
       "  text-align: right;\n",
       "  white-space: pre-wrap;\n",
       "}\n",
       "</style>\n",
       "<small>shape: (3, 1)</small><table border=\"1\" class=\"dataframe\"><thead><tr><th>structs</th></tr><tr><td>struct[3]</td></tr></thead><tbody><tr><td>{1,1,2}</td></tr><tr><td>{1,2,3}</td></tr><tr><td>{1,3,1}</td></tr></tbody></table></div>"
      ],
      "text/plain": [
       "shape: (3, 1)\n",
       "┌───────────┐\n",
       "│ structs   │\n",
       "│ ---       │\n",
       "│ struct[3] │\n",
       "╞═══════════╡\n",
       "│ {1,1,2}   │\n",
       "│ {1,2,3}   │\n",
       "│ {1,3,1}   │\n",
       "└───────────┘"
      ]
     },
     "execution_count": 78,
     "metadata": {},
     "output_type": "execute_result"
    }
   ],
   "source": [
    "structs = pl.DataFrame(\n",
    "    {\n",
    "        \"structs\": [\n",
    "            {\"a\": 1, \"b\": 2, \"c\": 3},\n",
    "            {\"a\": 1, \"b\": 3, \"c\": 1},\n",
    "            {\"a\": 1, \"b\": 1, \"c\": 2},\n",
    "        ]\n",
    "    }\n",
    ")\n",
    "structs.sort(\"structs\")"
   ]
  },
  {
   "cell_type": "code",
   "execution_count": 79,
   "id": "7ddaf46e",
   "metadata": {},
   "outputs": [
    {
     "data": {
      "text/html": [
       "<div><style>\n",
       ".dataframe > thead > tr,\n",
       ".dataframe > tbody > tr {\n",
       "  text-align: right;\n",
       "  white-space: pre-wrap;\n",
       "}\n",
       "</style>\n",
       "<small>shape: (3, 2)</small><table border=\"1\" class=\"dataframe\"><thead><tr><th>brand</th><th>collection</th></tr><tr><td>str</td><td>list[struct[5]]</td></tr></thead><tbody><tr><td>&quot;Bosch&quot;</td><td>[{&quot;Miter Saw&quot;,&quot;GCM 8 SJL&quot;,false,391,5500}, {&quot;Jigsaw&quot;,&quot;PST 900 PEL&quot;,false,79,3100}, {&quot;Router&quot;,&quot;POF 1400 ACE&quot;,false,185,28000}]</td></tr><tr><td>&quot;DeWalt&quot;</td><td>[{&quot;Nail Gun&quot;,&quot;DPSB2IN1-XJ&quot;,true,129,null}, {&quot;Table Saw&quot;,&quot;DWE7485&quot;,false,516,5800}]</td></tr><tr><td>&quot;Makita&quot;</td><td>[{&quot;Rotary Hammer&quot;,&quot;HR2230&quot;,false,199,1050}, {&quot;Plunge Cut Saw&quot;,&quot;DSP600ZJ&quot;,true,459,6300}, … {&quot;Random Orbital Sander&quot;,&quot;DBO180ZJ&quot;,true,199,11000}]</td></tr></tbody></table></div>"
      ],
      "text/plain": [
       "shape: (3, 2)\n",
       "┌────────┬─────────────────────────────────┐\n",
       "│ brand  ┆ collection                      │\n",
       "│ ---    ┆ ---                             │\n",
       "│ str    ┆ list[struct[5]]                 │\n",
       "╞════════╪═════════════════════════════════╡\n",
       "│ Bosch  ┆ [{\"Miter Saw\",\"GCM 8 SJL\",fals… │\n",
       "│ DeWalt ┆ [{\"Nail Gun\",\"DPSB2IN1-XJ\",tru… │\n",
       "│ Makita ┆ [{\"Rotary Hammer\",\"HR2230\",fal… │\n",
       "└────────┴─────────────────────────────────┘"
      ]
     },
     "execution_count": 79,
     "metadata": {},
     "output_type": "execute_result"
    }
   ],
   "source": [
    "tools_collection = tools.group_by(\"brand\").agg(collection=pl.struct(pl.all()))\n",
    "tools_collection"
   ]
  },
  {
   "cell_type": "code",
   "execution_count": 80,
   "id": "ea910624",
   "metadata": {},
   "outputs": [
    {
     "data": {
      "text/html": [
       "<div><style>\n",
       ".dataframe > thead > tr,\n",
       ".dataframe > tbody > tr {\n",
       "  text-align: right;\n",
       "  white-space: pre-wrap;\n",
       "}\n",
       "</style>\n",
       "<small>shape: (3, 2)</small><table border=\"1\" class=\"dataframe\"><thead><tr><th>brand</th><th>collection</th></tr><tr><td>str</td><td>list[struct[5]]</td></tr></thead><tbody><tr><td>&quot;Makita&quot;</td><td>[{&quot;Rotary Hammer&quot;,&quot;HR2230&quot;,false,199,1050}, {&quot;Plunge Cut Saw&quot;,&quot;DSP600ZJ&quot;,true,459,6300}, … {&quot;Random Orbital Sander&quot;,&quot;DBO180ZJ&quot;,true,199,11000}]</td></tr><tr><td>&quot;Bosch&quot;</td><td>[{&quot;Miter Saw&quot;,&quot;GCM 8 SJL&quot;,false,391,5500}, {&quot;Jigsaw&quot;,&quot;PST 900 PEL&quot;,false,79,3100}, {&quot;Router&quot;,&quot;POF 1400 ACE&quot;,false,185,28000}]</td></tr><tr><td>&quot;DeWalt&quot;</td><td>[{&quot;Nail Gun&quot;,&quot;DPSB2IN1-XJ&quot;,true,129,null}, {&quot;Table Saw&quot;,&quot;DWE7485&quot;,false,516,5800}]</td></tr></tbody></table></div>"
      ],
      "text/plain": [
       "shape: (3, 2)\n",
       "┌────────┬─────────────────────────────────┐\n",
       "│ brand  ┆ collection                      │\n",
       "│ ---    ┆ ---                             │\n",
       "│ str    ┆ list[struct[5]]                 │\n",
       "╞════════╪═════════════════════════════════╡\n",
       "│ Makita ┆ [{\"Rotary Hammer\",\"HR2230\",fal… │\n",
       "│ Bosch  ┆ [{\"Miter Saw\",\"GCM 8 SJL\",fals… │\n",
       "│ DeWalt ┆ [{\"Nail Gun\",\"DPSB2IN1-XJ\",tru… │\n",
       "└────────┴─────────────────────────────────┘"
      ]
     },
     "execution_count": 80,
     "metadata": {},
     "output_type": "execute_result"
    }
   ],
   "source": [
    "tools_collection.sort(pl.col(\"collection\").list.len(), descending=True)"
   ]
  },
  {
   "cell_type": "code",
   "execution_count": 81,
   "id": "739553b8",
   "metadata": {},
   "outputs": [
    {
     "data": {
      "text/html": [
       "<div><style>\n",
       ".dataframe > thead > tr,\n",
       ".dataframe > tbody > tr {\n",
       "  text-align: right;\n",
       "  white-space: pre-wrap;\n",
       "}\n",
       "</style>\n",
       "<small>shape: (3, 2)</small><table border=\"1\" class=\"dataframe\"><thead><tr><th>brand</th><th>collection</th></tr><tr><td>str</td><td>list[struct[5]]</td></tr></thead><tbody><tr><td>&quot;Bosch&quot;</td><td>[{&quot;Miter Saw&quot;,&quot;GCM 8 SJL&quot;,false,391,5500}, {&quot;Jigsaw&quot;,&quot;PST 900 PEL&quot;,false,79,3100}, {&quot;Router&quot;,&quot;POF 1400 ACE&quot;,false,185,28000}]</td></tr><tr><td>&quot;Makita&quot;</td><td>[{&quot;Rotary Hammer&quot;,&quot;HR2230&quot;,false,199,1050}, {&quot;Plunge Cut Saw&quot;,&quot;DSP600ZJ&quot;,true,459,6300}, … {&quot;Random Orbital Sander&quot;,&quot;DBO180ZJ&quot;,true,199,11000}]</td></tr><tr><td>&quot;DeWalt&quot;</td><td>[{&quot;Nail Gun&quot;,&quot;DPSB2IN1-XJ&quot;,true,129,null}, {&quot;Table Saw&quot;,&quot;DWE7485&quot;,false,516,5800}]</td></tr></tbody></table></div>"
      ],
      "text/plain": [
       "shape: (3, 2)\n",
       "┌────────┬─────────────────────────────────┐\n",
       "│ brand  ┆ collection                      │\n",
       "│ ---    ┆ ---                             │\n",
       "│ str    ┆ list[struct[5]]                 │\n",
       "╞════════╪═════════════════════════════════╡\n",
       "│ Bosch  ┆ [{\"Miter Saw\",\"GCM 8 SJL\",fals… │\n",
       "│ Makita ┆ [{\"Rotary Hammer\",\"HR2230\",fal… │\n",
       "│ DeWalt ┆ [{\"Nail Gun\",\"DPSB2IN1-XJ\",tru… │\n",
       "└────────┴─────────────────────────────────┘"
      ]
     },
     "execution_count": 81,
     "metadata": {},
     "output_type": "execute_result"
    }
   ],
   "source": [
    "tools_collection.sort(\n",
    "    pl.col(\"collection\")\n",
    "    .list.eval(pl.element().struct.field(\"price\"))\n",
    "    .list.mean()\n",
    ")"
   ]
  },
  {
   "cell_type": "code",
   "execution_count": 82,
   "id": "352c7e01",
   "metadata": {},
   "outputs": [
    {
     "data": {
      "text/html": [
       "<div><style>\n",
       ".dataframe > thead > tr,\n",
       ".dataframe > tbody > tr {\n",
       "  text-align: right;\n",
       "  white-space: pre-wrap;\n",
       "}\n",
       "</style>\n",
       "<small>shape: (3, 3)</small><table border=\"1\" class=\"dataframe\"><thead><tr><th>brand</th><th>collection</th><th>mean_price</th></tr><tr><td>str</td><td>list[struct[5]]</td><td>f64</td></tr></thead><tbody><tr><td>&quot;Bosch&quot;</td><td>[{&quot;Miter Saw&quot;,&quot;GCM 8 SJL&quot;,false,391,5500}, {&quot;Jigsaw&quot;,&quot;PST 900 PEL&quot;,false,79,3100}, {&quot;Router&quot;,&quot;POF 1400 ACE&quot;,false,185,28000}]</td><td>218.333333</td></tr><tr><td>&quot;DeWalt&quot;</td><td>[{&quot;Nail Gun&quot;,&quot;DPSB2IN1-XJ&quot;,true,129,null}, {&quot;Table Saw&quot;,&quot;DWE7485&quot;,false,516,5800}]</td><td>322.5</td></tr><tr><td>&quot;Makita&quot;</td><td>[{&quot;Rotary Hammer&quot;,&quot;HR2230&quot;,false,199,1050}, {&quot;Plunge Cut Saw&quot;,&quot;DSP600ZJ&quot;,true,459,6300}, … {&quot;Random Orbital Sander&quot;,&quot;DBO180ZJ&quot;,true,199,11000}]</td><td>248.4</td></tr></tbody></table></div>"
      ],
      "text/plain": [
       "shape: (3, 3)\n",
       "┌────────┬─────────────────────────────────┬────────────┐\n",
       "│ brand  ┆ collection                      ┆ mean_price │\n",
       "│ ---    ┆ ---                             ┆ ---        │\n",
       "│ str    ┆ list[struct[5]]                 ┆ f64        │\n",
       "╞════════╪═════════════════════════════════╪════════════╡\n",
       "│ Bosch  ┆ [{\"Miter Saw\",\"GCM 8 SJL\",fals… ┆ 218.333333 │\n",
       "│ DeWalt ┆ [{\"Nail Gun\",\"DPSB2IN1-XJ\",tru… ┆ 322.5      │\n",
       "│ Makita ┆ [{\"Rotary Hammer\",\"HR2230\",fal… ┆ 248.4      │\n",
       "└────────┴─────────────────────────────────┴────────────┘"
      ]
     },
     "execution_count": 82,
     "metadata": {},
     "output_type": "execute_result"
    }
   ],
   "source": [
    "tools_collection.with_columns(\n",
    "    mean_price=pl.col(\"collection\")\n",
    "    .list.eval(pl.element().struct.field(\"price\"))\n",
    "    .list.mean()\n",
    ")"
   ]
  },
  {
   "cell_type": "markdown",
   "id": "05fd9773",
   "metadata": {},
   "source": [
    "## Related Row Operations"
   ]
  },
  {
   "cell_type": "markdown",
   "id": "b62049d6",
   "metadata": {},
   "source": [
    "### Filtering Missing Values"
   ]
  },
  {
   "cell_type": "code",
   "execution_count": 83,
   "id": "9861f6a0",
   "metadata": {},
   "outputs": [
    {
     "data": {
      "text/plain": [
       "9"
      ]
     },
     "execution_count": 83,
     "metadata": {},
     "output_type": "execute_result"
    }
   ],
   "source": [
    "tools.drop_nulls(\"rpm\").height"
   ]
  },
  {
   "cell_type": "code",
   "execution_count": 84,
   "id": "342b9e11",
   "metadata": {},
   "outputs": [
    {
     "data": {
      "text/plain": [
       "9"
      ]
     },
     "execution_count": 84,
     "metadata": {},
     "output_type": "execute_result"
    }
   ],
   "source": [
    "tools.filter(pl.all_horizontal(pl.all().is_not_null())).height"
   ]
  },
  {
   "cell_type": "markdown",
   "id": "ba60ebba",
   "metadata": {},
   "source": [
    "### Slicing"
   ]
  },
  {
   "cell_type": "code",
   "execution_count": 85,
   "id": "40649ab8",
   "metadata": {},
   "outputs": [
    {
     "data": {
      "text/html": [
       "<div><style>\n",
       ".dataframe > thead > tr,\n",
       ".dataframe > tbody > tr {\n",
       "  text-align: right;\n",
       "  white-space: pre-wrap;\n",
       "}\n",
       "</style>\n",
       "<small>shape: (3, 7)</small><table border=\"1\" class=\"dataframe\"><thead><tr><th>index</th><th>tool</th><th>product</th><th>brand</th><th>cordless</th><th>price</th><th>rpm</th></tr><tr><td>u32</td><td>str</td><td>str</td><td>str</td><td>bool</td><td>i64</td><td>i64</td></tr></thead><tbody><tr><td>0</td><td>&quot;Rotary Hammer&quot;</td><td>&quot;HR2230&quot;</td><td>&quot;Makita&quot;</td><td>false</td><td>199</td><td>1050</td></tr><tr><td>2</td><td>&quot;Plunge Cut Saw&quot;</td><td>&quot;DSP600ZJ&quot;</td><td>&quot;Makita&quot;</td><td>true</td><td>459</td><td>6300</td></tr><tr><td>4</td><td>&quot;Jigsaw&quot;</td><td>&quot;PST 900 PEL&quot;</td><td>&quot;Bosch&quot;</td><td>false</td><td>79</td><td>3100</td></tr></tbody></table></div>"
      ],
      "text/plain": [
       "shape: (3, 7)\n",
       "┌───────┬────────────────┬─────────────┬────────┬──────────┬───────┬──────┐\n",
       "│ index ┆ tool           ┆ product     ┆ brand  ┆ cordless ┆ price ┆ rpm  │\n",
       "│ ---   ┆ ---            ┆ ---         ┆ ---    ┆ ---      ┆ ---   ┆ ---  │\n",
       "│ u32   ┆ str            ┆ str         ┆ str    ┆ bool     ┆ i64   ┆ i64  │\n",
       "╞═══════╪════════════════╪═════════════╪════════╪══════════╪═══════╪══════╡\n",
       "│ 0     ┆ Rotary Hammer  ┆ HR2230      ┆ Makita ┆ false    ┆ 199   ┆ 1050 │\n",
       "│ 2     ┆ Plunge Cut Saw ┆ DSP600ZJ    ┆ Makita ┆ true     ┆ 459   ┆ 6300 │\n",
       "│ 4     ┆ Jigsaw         ┆ PST 900 PEL ┆ Bosch  ┆ false    ┆ 79    ┆ 3100 │\n",
       "└───────┴────────────────┴─────────────┴────────┴──────────┴───────┴──────┘"
      ]
     },
     "execution_count": 85,
     "metadata": {},
     "output_type": "execute_result"
    }
   ],
   "source": [
    "tools.with_row_index().gather_every(2).head(3)"
   ]
  },
  {
   "cell_type": "markdown",
   "id": "0c405411",
   "metadata": {},
   "source": [
    "### Top an Bottom Rows"
   ]
  },
  {
   "cell_type": "code",
   "execution_count": 86,
   "id": "a62ea43e",
   "metadata": {},
   "outputs": [
    {
     "data": {
      "text/html": [
       "<div><style>\n",
       ".dataframe > thead > tr,\n",
       ".dataframe > tbody > tr {\n",
       "  text-align: right;\n",
       "  white-space: pre-wrap;\n",
       "}\n",
       "</style>\n",
       "<small>shape: (3, 6)</small><table border=\"1\" class=\"dataframe\"><thead><tr><th>tool</th><th>product</th><th>brand</th><th>cordless</th><th>price</th><th>rpm</th></tr><tr><td>str</td><td>str</td><td>str</td><td>bool</td><td>i64</td><td>i64</td></tr></thead><tbody><tr><td>&quot;Table Saw&quot;</td><td>&quot;DWE7485&quot;</td><td>&quot;DeWalt&quot;</td><td>false</td><td>516</td><td>5800</td></tr><tr><td>&quot;Plunge Cut Saw&quot;</td><td>&quot;DSP600ZJ&quot;</td><td>&quot;Makita&quot;</td><td>true</td><td>459</td><td>6300</td></tr><tr><td>&quot;Miter Saw&quot;</td><td>&quot;GCM 8 SJL&quot;</td><td>&quot;Bosch&quot;</td><td>false</td><td>391</td><td>5500</td></tr></tbody></table></div>"
      ],
      "text/plain": [
       "shape: (3, 6)\n",
       "┌────────────────┬───────────┬────────┬──────────┬───────┬──────┐\n",
       "│ tool           ┆ product   ┆ brand  ┆ cordless ┆ price ┆ rpm  │\n",
       "│ ---            ┆ ---       ┆ ---    ┆ ---      ┆ ---   ┆ ---  │\n",
       "│ str            ┆ str       ┆ str    ┆ bool     ┆ i64   ┆ i64  │\n",
       "╞════════════════╪═══════════╪════════╪══════════╪═══════╪══════╡\n",
       "│ Table Saw      ┆ DWE7485   ┆ DeWalt ┆ false    ┆ 516   ┆ 5800 │\n",
       "│ Plunge Cut Saw ┆ DSP600ZJ  ┆ Makita ┆ true     ┆ 459   ┆ 6300 │\n",
       "│ Miter Saw      ┆ GCM 8 SJL ┆ Bosch  ┆ false    ┆ 391   ┆ 5500 │\n",
       "└────────────────┴───────────┴────────┴──────────┴───────┴──────┘"
      ]
     },
     "execution_count": 86,
     "metadata": {},
     "output_type": "execute_result"
    }
   ],
   "source": [
    "tools.top_k(3, by=\"price\") # Si se requiere ordenación previa, se puede hacer un sort() antes"
   ]
  },
  {
   "cell_type": "markdown",
   "id": "228028be",
   "metadata": {},
   "source": [
    "### Sampling"
   ]
  },
  {
   "cell_type": "code",
   "execution_count": 87,
   "id": "bffc41b6",
   "metadata": {},
   "outputs": [
    {
     "data": {
      "text/html": [
       "<div><style>\n",
       ".dataframe > thead > tr,\n",
       ".dataframe > tbody > tr {\n",
       "  text-align: right;\n",
       "  white-space: pre-wrap;\n",
       "}\n",
       "</style>\n",
       "<small>shape: (2, 6)</small><table border=\"1\" class=\"dataframe\"><thead><tr><th>tool</th><th>product</th><th>brand</th><th>cordless</th><th>price</th><th>rpm</th></tr><tr><td>str</td><td>str</td><td>str</td><td>bool</td><td>i64</td><td>i64</td></tr></thead><tbody><tr><td>&quot;Jigsaw&quot;</td><td>&quot;PST 900 PEL&quot;</td><td>&quot;Bosch&quot;</td><td>false</td><td>79</td><td>3100</td></tr><tr><td>&quot;Table Saw&quot;</td><td>&quot;DWE7485&quot;</td><td>&quot;DeWalt&quot;</td><td>false</td><td>516</td><td>5800</td></tr></tbody></table></div>"
      ],
      "text/plain": [
       "shape: (2, 6)\n",
       "┌───────────┬─────────────┬────────┬──────────┬───────┬──────┐\n",
       "│ tool      ┆ product     ┆ brand  ┆ cordless ┆ price ┆ rpm  │\n",
       "│ ---       ┆ ---         ┆ ---    ┆ ---      ┆ ---   ┆ ---  │\n",
       "│ str       ┆ str         ┆ str    ┆ bool     ┆ i64   ┆ i64  │\n",
       "╞═══════════╪═════════════╪════════╪══════════╪═══════╪══════╡\n",
       "│ Jigsaw    ┆ PST 900 PEL ┆ Bosch  ┆ false    ┆ 79    ┆ 3100 │\n",
       "│ Table Saw ┆ DWE7485     ┆ DeWalt ┆ false    ┆ 516   ┆ 5800 │\n",
       "└───────────┴─────────────┴────────┴──────────┴───────┴──────┘"
      ]
     },
     "execution_count": 87,
     "metadata": {},
     "output_type": "execute_result"
    }
   ],
   "source": [
    "tools.sample(fraction=0.2)"
   ]
  },
  {
   "cell_type": "markdown",
   "id": "1ac80503",
   "metadata": {},
   "source": [
    "### Semi-Joins"
   ]
  },
  {
   "cell_type": "code",
   "execution_count": 98,
   "id": "53db832c",
   "metadata": {},
   "outputs": [
    {
     "data": {
      "text/html": [
       "<div><style>\n",
       ".dataframe > thead > tr,\n",
       ".dataframe > tbody > tr {\n",
       "  text-align: right;\n",
       "  white-space: pre-wrap;\n",
       "}\n",
       "</style>\n",
       "<small>shape: (4, 6)</small><table border=\"1\" class=\"dataframe\"><thead><tr><th>tool</th><th>product</th><th>brand</th><th>cordless</th><th>price</th><th>rpm</th></tr><tr><td>str</td><td>str</td><td>str</td><td>bool</td><td>i64</td><td>i64</td></tr></thead><tbody><tr><td>&quot;Miter Saw&quot;</td><td>&quot;GCM 8 SJL&quot;</td><td>&quot;Bosch&quot;</td><td>false</td><td>391</td><td>5500</td></tr><tr><td>&quot;Plunge Cut Saw&quot;</td><td>&quot;DSP600ZJ&quot;</td><td>&quot;Makita&quot;</td><td>true</td><td>459</td><td>6300</td></tr><tr><td>&quot;Jigsaw&quot;</td><td>&quot;PST 900 PEL&quot;</td><td>&quot;Bosch&quot;</td><td>false</td><td>79</td><td>3100</td></tr><tr><td>&quot;Table Saw&quot;</td><td>&quot;DWE7485&quot;</td><td>&quot;DeWalt&quot;</td><td>false</td><td>516</td><td>5800</td></tr></tbody></table></div>"
      ],
      "text/plain": [
       "shape: (4, 6)\n",
       "┌────────────────┬─────────────┬────────┬──────────┬───────┬──────┐\n",
       "│ tool           ┆ product     ┆ brand  ┆ cordless ┆ price ┆ rpm  │\n",
       "│ ---            ┆ ---         ┆ ---    ┆ ---      ┆ ---   ┆ ---  │\n",
       "│ str            ┆ str         ┆ str    ┆ bool     ┆ i64   ┆ i64  │\n",
       "╞════════════════╪═════════════╪════════╪══════════╪═══════╪══════╡\n",
       "│ Miter Saw      ┆ GCM 8 SJL   ┆ Bosch  ┆ false    ┆ 391   ┆ 5500 │\n",
       "│ Plunge Cut Saw ┆ DSP600ZJ    ┆ Makita ┆ true     ┆ 459   ┆ 6300 │\n",
       "│ Jigsaw         ┆ PST 900 PEL ┆ Bosch  ┆ false    ┆ 79    ┆ 3100 │\n",
       "│ Table Saw      ┆ DWE7485     ┆ DeWalt ┆ false    ┆ 516   ┆ 5800 │\n",
       "└────────────────┴─────────────┴────────┴──────────┴───────┴──────┘"
      ]
     },
     "execution_count": 98,
     "metadata": {},
     "output_type": "execute_result"
    }
   ],
   "source": [
    "saws = pl.DataFrame(\n",
    "    {\n",
    "        \"tool\": [\n",
    "            \"Table Saw\",\n",
    "            \"Plunge Cut Saw\",\n",
    "            \"Miter Saw\",\n",
    "            \"Jigsaw\",\n",
    "            \"Bamndsaw\",\n",
    "            \"Chainsaw\",\n",
    "            \"Seesaw\",\n",
    "        ]\n",
    "    }\n",
    ")\n",
    "tools.join(saws, how=\"semi\", on=\"tool\")"
   ]
  },
  {
   "cell_type": "markdown",
   "id": "273f01f2",
   "metadata": {},
   "source": [
    "## Takeaways\n",
    "- Filtrado de filas con expresiones y argumentos directos.\n",
    "- Ordenamiento por una o varias columnas, incluyendo expresiones y tipos anidados (listas, structs).\n",
    "- Agrupación y agregación avanzada, con resultados como structs o listas.\n",
    "- Eliminación y filtrado de valores nulos.\n",
    "- Slicing, sampling y selección de filas superiores/inferiores.\n",
    "- Semi-joins para filtrar filas presentes en otro DataFrame.\n",
    "- Polars destaca por su sintaxis clara, eficiencia y soporte para operaciones complejas sobre grandes volúmenes de datos."
   ]
  }
 ],
 "metadata": {
  "kernelspec": {
   "display_name": "python-polars-the-definitive-guide",
   "language": "python",
   "name": "python3"
  },
  "language_info": {
   "codemirror_mode": {
    "name": "ipython",
    "version": 3
   },
   "file_extension": ".py",
   "mimetype": "text/x-python",
   "name": "python",
   "nbconvert_exporter": "python",
   "pygments_lexer": "ipython3",
   "version": "3.12.11"
  }
 },
 "nbformat": 4,
 "nbformat_minor": 5
}
