{
 "cells": [
  {
   "cell_type": "code",
   "execution_count": 1,
   "id": "c38f8da4",
   "metadata": {},
   "outputs": [
    {
     "data": {
      "text/plain": [
       "{'POLARS_AUTO_STRUCTIFY': None,\n",
       " 'POLARS_FMT_MAX_COLS': None,\n",
       " 'POLARS_FMT_MAX_ROWS': None,\n",
       " 'POLARS_FMT_NUM_DECIMAL': None,\n",
       " 'POLARS_FMT_NUM_GROUP_SEPARATOR': None,\n",
       " 'POLARS_FMT_NUM_LEN': None,\n",
       " 'POLARS_FMT_STR_LEN': None,\n",
       " 'POLARS_FMT_TABLE_CELL_ALIGNMENT': None,\n",
       " 'POLARS_FMT_TABLE_CELL_LIST_LEN': None,\n",
       " 'POLARS_FMT_TABLE_CELL_NUMERIC_ALIGNMENT': None,\n",
       " 'POLARS_FMT_TABLE_DATAFRAME_SHAPE_BELOW': None,\n",
       " 'POLARS_FMT_TABLE_FORMATTING': None,\n",
       " 'POLARS_FMT_TABLE_HIDE_COLUMN_DATA_TYPES': None,\n",
       " 'POLARS_FMT_TABLE_HIDE_COLUMN_NAMES': None,\n",
       " 'POLARS_FMT_TABLE_HIDE_COLUMN_SEPARATOR': None,\n",
       " 'POLARS_FMT_TABLE_HIDE_DATAFRAME_SHAPE_INFORMATION': None,\n",
       " 'POLARS_FMT_TABLE_INLINE_COLUMN_DATA_TYPE': None,\n",
       " 'POLARS_FMT_TABLE_ROUNDED_CORNERS': None,\n",
       " 'POLARS_MAX_EXPR_DEPTH': None,\n",
       " 'POLARS_STREAMING_CHUNK_SIZE': None,\n",
       " 'POLARS_TABLE_WIDTH': None,\n",
       " 'POLARS_VERBOSE': None,\n",
       " 'POLARS_WARN_UNSTABLE': None,\n",
       " 'set_fmt_float': 'mixed',\n",
       " 'set_float_precision': None,\n",
       " 'set_thousands_separator': '',\n",
       " 'set_decimal_separator': '.',\n",
       " 'set_trim_decimal_zeros': False}"
      ]
     },
     "execution_count": 1,
     "metadata": {},
     "output_type": "execute_result"
    }
   ],
   "source": [
    "import polars as pl\n",
    "\n",
    "pl.Config.state()\n"
   ]
  },
  {
   "cell_type": "markdown",
   "id": "7eda5478",
   "metadata": {},
   "source": [
    "## Configuración de visualización en Polars\n",
    "\n",
    "Polars permite ajustar múltiples parámetros de visualización para adaptar la forma en que se muestran los DataFrames en el notebook.  \n",
    "Algunas opciones configurables incluyen:\n",
    "\n",
    "- **Número máximo de columnas y filas** (`tbl_cols`, `tbl_rows`): controla cuántas columnas y filas se muestran.\n",
    "- **Longitud máxima de las cadenas** (`fmt_str_lengths`): limita el número de caracteres visibles por celda.\n",
    "- **Precisión y formato de números** (`fmt_float`, `fmt_float_precision`, `fmt_thousands_separator`, `fmt_decimal_separator`): define cómo se muestran los valores numéricos.\n",
    "- **Alineación y formato de celdas** (`tbl_cell_alignment`, `tbl_cell_numeric_alignment`): ajusta la presentación de los datos en la tabla.\n",
    "- **Ocultar información adicional** (`tbl_hide_column_names`, `tbl_hide_column_data_types`, `tbl_hide_dataframe_shape_information`): permite simplificar la vista ocultando metadatos.\n",
    "\n",
    "Estas configuraciones se pueden modificar temporalmente usando el contexto `with pl.Config(...)`, o de forma global con `pl.Config.set_option(...)`.  \n",
    "Esto facilita la exploración de grandes volúmenes de datos y mejora la legibilidad en el análisis."
   ]
  },
  {
   "cell_type": "code",
   "execution_count": 2,
   "id": "2383f777",
   "metadata": {},
   "outputs": [],
   "source": [
    "import random\n",
    "import string\n",
    "def generate_random_string(length: int) -> str:\n",
    "    return \"\".join(random.choice(string.ascii_letters) for i in range(length))\n",
    "data = {}\n",
    "for i in range(1, 11):\n",
    "    data[f\"column_{i}\"] = [generate_random_string(50) for _ in range(5)]  \n",
    "df = pl.DataFrame(data)"
   ]
  },
  {
   "cell_type": "code",
   "execution_count": 3,
   "id": "c2f69ef4",
   "metadata": {},
   "outputs": [
    {
     "data": {
      "text/html": [
       "<div><style>\n",
       ".dataframe > thead > tr,\n",
       ".dataframe > tbody > tr {\n",
       "  text-align: right;\n",
       "  white-space: pre-wrap;\n",
       "}\n",
       "</style>\n",
       "<small>shape: (5, 10)</small><table border=\"1\" class=\"dataframe\"><thead><tr><th>column_1</th><th>column_2</th><th>column_3</th><th>column_4</th><th>column_5</th><th>column_6</th><th>column_7</th><th>column_8</th><th>column_9</th><th>column_10</th></tr><tr><td>str</td><td>str</td><td>str</td><td>str</td><td>str</td><td>str</td><td>str</td><td>str</td><td>str</td><td>str</td></tr></thead><tbody><tr><td>&quot;JHMSznwhuxcrIEKDoxEEsAMYammzlS…</td><td>&quot;GRdSDRAWhSMXzQQPbVtUYyGOuHDVfP…</td><td>&quot;KtrGoDEVcNfCVKpZkVqLpxvfiiLEXr…</td><td>&quot;CmAGYNEahKjOpvZMwDqZYnmGkRkgNE…</td><td>&quot;HcemgsSAPyqTrFXlXfGyGUxsDUCzPO…</td><td>&quot;sSubyWtVaIncTtxrBPxNsETRnfpTaK…</td><td>&quot;lXYSlaqepgWDxZMCIlotohwdSOchJf…</td><td>&quot;fWwxeCVOIrPBMXMkiMMzIHMBDlbXgE…</td><td>&quot;kwrHcOTcUjTdYEMeyXGaKmnObygUlm…</td><td>&quot;bTJBEBAudleLgxYeSFkOJjJtbdOTUm…</td></tr><tr><td>&quot;gUkkRGNMbeutGTppaLmGikoQeExpfL…</td><td>&quot;ZjuKwDpddFtiOIoXQArpwtEKfVNiRU…</td><td>&quot;JcAZlvvejBCEYHObhkjuWaVyzVnncR…</td><td>&quot;iWKwWRcuEItjeqVnzpgTHrNBQRTAaE…</td><td>&quot;FAuWEDBZSHBcPJmuycaUwGkwzszHQg…</td><td>&quot;WlfXGOSMyXzbmApsFWRYvgZJEToimI…</td><td>&quot;BItkfgIovRvgAkPcAZmSkwgZxHFRIs…</td><td>&quot;sXIAxOmRiFfdisatsfSDSxijtWaEbu…</td><td>&quot;gJyWliQyeRvzsCXIZeFxhIfcXZDNYo…</td><td>&quot;VexccIAmuQZGCChPoonoOikHMAaUYr…</td></tr><tr><td>&quot;jupsrdTaKTYMkhkkFRYpbYhwNNmGOl…</td><td>&quot;wNuHvfZXDebMOfNPUHTfMioshyBeEF…</td><td>&quot;DGIOzYFXykiZxkQAwqgivQsubkLmjo…</td><td>&quot;kqBuHUvHKDujIurSqeXmfLieadsRWE…</td><td>&quot;LDkjhpPMwXpxpPurbReDltnWhrxukI…</td><td>&quot;VfpcvZYdXBnuQQmDOucMWfzfpUASgl…</td><td>&quot;RvCBSZejFnGYiIpdMkPLUlNeqVfCtR…</td><td>&quot;akDxLDZEHuXXXsCaTxOISCBpDfuXLl…</td><td>&quot;uecWAIGbeqmzjhHVyFpuXNsyuRKgMT…</td><td>&quot;qIviajgrerbuRhWbPXCbbNYfdHUpnE…</td></tr><tr><td>&quot;RsztorKjPAlhzgJvjqBzKLFfetXrHp…</td><td>&quot;BxlWEAkTaGmsFPgBRVNthazqoZuJWC…</td><td>&quot;wsfaKhJvudhmGuJaCeWjgDgxlzHgPP…</td><td>&quot;MGMaghfnZCUzKdTuQIImGjmBzbzrgK…</td><td>&quot;bdfuikslMSNePPaJYADPrzMPJnERLJ…</td><td>&quot;blKhyxohKvuJvBLqkhKgDVNvqPUwlS…</td><td>&quot;ALXMuCfnxqXAUEEmlrbmbfStXZyJVe…</td><td>&quot;rRixByOEGDvtYjRrQDlEEMTctWnaet…</td><td>&quot;OBlghPVjEvlexhaZLImLRahxDHLosh…</td><td>&quot;mdsRnUPiRZXBZEDZIrXFdDRpglWyWj…</td></tr><tr><td>&quot;uYMqUgDidmLvzqxsCuCliNbSFUPxHd…</td><td>&quot;JFsnUrXjjYmKchlWZJLgnsGjjufgeI…</td><td>&quot;uGJaaAiSqKjSpszzdCtTCauzmHBkSv…</td><td>&quot;bBMHrPNeIArLXHDEKxAhBiwvbPRMKt…</td><td>&quot;dfjVvxLjdGkgzEuKbfbuQnoaWimwyi…</td><td>&quot;LdXcSTVqFpNaPncdUmTLYEWddVumWh…</td><td>&quot;CfghWfRGaZrAhRRhPJZjwdIfzkDzuA…</td><td>&quot;JdDAzrrcaQggGvGEEuUSbmYXLJqzbD…</td><td>&quot;ylGuwneJaANAlahzUjICalWQcuKSob…</td><td>&quot;oyCipEWeFJCPhzqLSTQAeDNckpyYaP…</td></tr></tbody></table></div>"
      ],
      "text/plain": [
       "shape: (5, 10)\n",
       "┌───────────┬───────────┬───────────┬───────────┬───┬───────────┬───────────┬───────────┬──────────┐\n",
       "│ column_1  ┆ column_2  ┆ column_3  ┆ column_4  ┆ … ┆ column_7  ┆ column_8  ┆ column_9  ┆ column_1 │\n",
       "│ ---       ┆ ---       ┆ ---       ┆ ---       ┆   ┆ ---       ┆ ---       ┆ ---       ┆ 0        │\n",
       "│ str       ┆ str       ┆ str       ┆ str       ┆   ┆ str       ┆ str       ┆ str       ┆ ---      │\n",
       "│           ┆           ┆           ┆           ┆   ┆           ┆           ┆           ┆ str      │\n",
       "╞═══════════╪═══════════╪═══════════╪═══════════╪═══╪═══════════╪═══════════╪═══════════╪══════════╡\n",
       "│ JHMSznwhu ┆ GRdSDRAWh ┆ KtrGoDEVc ┆ CmAGYNEah ┆ … ┆ lXYSlaqep ┆ fWwxeCVOI ┆ kwrHcOTcU ┆ bTJBEBAu │\n",
       "│ xcrIEKDox ┆ SMXzQQPbV ┆ NfCVKpZkV ┆ KjOpvZMwD ┆   ┆ gWDxZMCIl ┆ rPBMXMkiM ┆ jTdYEMeyX ┆ dleLgxYe │\n",
       "│ EEsAMYamm ┆ tUYyGOuHD ┆ qLpxvfiiL ┆ qZYnmGkRk ┆   ┆ otohwdSOc ┆ MzIHMBDlb ┆ GaKmnObyg ┆ SFkOJjJt │\n",
       "│ zlS…      ┆ VfP…      ┆ EXr…      ┆ gNE…      ┆   ┆ hJf…      ┆ XgE…      ┆ Ulm…      ┆ bdOTUm…  │\n",
       "│ gUkkRGNMb ┆ ZjuKwDpdd ┆ JcAZlvvej ┆ iWKwWRcuE ┆ … ┆ BItkfgIov ┆ sXIAxOmRi ┆ gJyWliQye ┆ VexccIAm │\n",
       "│ eutGTppaL ┆ FtiOIoXQA ┆ BCEYHObhk ┆ ItjeqVnzp ┆   ┆ RvgAkPcAZ ┆ Ffdisatsf ┆ RvzsCXIZe ┆ uQZGCChP │\n",
       "│ mGikoQeEx ┆ rpwtEKfVN ┆ juWaVyzVn ┆ gTHrNBQRT ┆   ┆ mSkwgZxHF ┆ SDSxijtWa ┆ FxhIfcXZD ┆ oonoOikH │\n",
       "│ pfL…      ┆ iRU…      ┆ ncR…      ┆ AaE…      ┆   ┆ RIs…      ┆ Ebu…      ┆ NYo…      ┆ MAaUYr…  │\n",
       "│ jupsrdTaK ┆ wNuHvfZXD ┆ DGIOzYFXy ┆ kqBuHUvHK ┆ … ┆ RvCBSZejF ┆ akDxLDZEH ┆ uecWAIGbe ┆ qIviajgr │\n",
       "│ TYMkhkkFR ┆ ebMOfNPUH ┆ kiZxkQAwq ┆ DujIurSqe ┆   ┆ nGYiIpdMk ┆ uXXXsCaTx ┆ qmzjhHVyF ┆ erbuRhWb │\n",
       "│ YpbYhwNNm ┆ TfMioshyB ┆ givQsubkL ┆ XmfLieads ┆   ┆ PLUlNeqVf ┆ OISCBpDfu ┆ puXNsyuRK ┆ PXCbbNYf │\n",
       "│ GOl…      ┆ eEF…      ┆ mjo…      ┆ RWE…      ┆   ┆ CtR…      ┆ XLl…      ┆ gMT…      ┆ dHUpnE…  │\n",
       "│ RsztorKjP ┆ BxlWEAkTa ┆ wsfaKhJvu ┆ MGMaghfnZ ┆ … ┆ ALXMuCfnx ┆ rRixByOEG ┆ OBlghPVjE ┆ mdsRnUPi │\n",
       "│ AlhzgJvjq ┆ GmsFPgBRV ┆ dhmGuJaCe ┆ CUzKdTuQI ┆   ┆ qXAUEEmlr ┆ DvtYjRrQD ┆ vlexhaZLI ┆ RZXBZEDZ │\n",
       "│ BzKLFfetX ┆ NthazqoZu ┆ WjgDgxlzH ┆ ImGjmBzbz ┆   ┆ bmbfStXZy ┆ lEEMTctWn ┆ mLRahxDHL ┆ IrXFdDRp │\n",
       "│ rHp…      ┆ JWC…      ┆ gPP…      ┆ rgK…      ┆   ┆ JVe…      ┆ aet…      ┆ osh…      ┆ glWyWj…  │\n",
       "│ uYMqUgDid ┆ JFsnUrXjj ┆ uGJaaAiSq ┆ bBMHrPNeI ┆ … ┆ CfghWfRGa ┆ JdDAzrrca ┆ ylGuwneJa ┆ oyCipEWe │\n",
       "│ mLvzqxsCu ┆ YmKchlWZJ ┆ KjSpszzdC ┆ ArLXHDEKx ┆   ┆ ZrAhRRhPJ ┆ QggGvGEEu ┆ ANAlahzUj ┆ FJCPhzqL │\n",
       "│ CliNbSFUP ┆ LgnsGjjuf ┆ tTCauzmHB ┆ AhBiwvbPR ┆   ┆ ZjwdIfzkD ┆ USbmYXLJq ┆ ICalWQcuK ┆ STQAeDNc │\n",
       "│ xHd…      ┆ geI…      ┆ kSv…      ┆ MKt…      ┆   ┆ zuA…      ┆ zbD…      ┆ Sob…      ┆ kpyYaP…  │\n",
       "└───────────┴───────────┴───────────┴───────────┴───┴───────────┴───────────┴───────────┴──────────┘"
      ]
     },
     "execution_count": 3,
     "metadata": {},
     "output_type": "execute_result"
    }
   ],
   "source": [
    "df"
   ]
  },
  {
   "cell_type": "code",
   "execution_count": 12,
   "id": "5c230d82",
   "metadata": {},
   "outputs": [
    {
     "name": "stdout",
     "output_type": "stream",
     "text": [
      "shape: (5, 10)\n",
      "┌─────────┬─────────┬─────────┬─────────┬─────────┬─────────┬─────────┬─────────┬─────────┬────────┐\n",
      "│ column… ┆ column… ┆ column… ┆ column… ┆ column… ┆ column… ┆ column… ┆ column… ┆ column… ┆ column │\n",
      "│ ---     ┆ ---     ┆ ---     ┆ ---     ┆ ---     ┆ ---     ┆ ---     ┆ ---     ┆ ---     ┆ …      │\n",
      "│ str     ┆ str     ┆ str     ┆ str     ┆ str     ┆ str     ┆ str     ┆ str     ┆ str     ┆ ---    │\n",
      "│         ┆         ┆         ┆         ┆         ┆         ┆         ┆         ┆         ┆ str    │\n",
      "╞═════════╪═════════╪═════════╪═════════╪═════════╪═════════╪═════════╪═════════╪═════════╪════════╡\n",
      "│ JHMSzn… ┆ GRdSDR… ┆ KtrGoD… ┆ CmAGYN… ┆ Hcemgs… ┆ sSubyW… ┆ lXYSla… ┆ fWwxeC… ┆ kwrHcO… ┆ bTJBEB │\n",
      "│         ┆         ┆         ┆         ┆         ┆         ┆         ┆         ┆         ┆ …      │\n",
      "│ gUkkRG… ┆ ZjuKwD… ┆ JcAZlv… ┆ iWKwWR… ┆ FAuWED… ┆ WlfXGO… ┆ BItkfg… ┆ sXIAxO… ┆ gJyWli… ┆ VexccI │\n",
      "│         ┆         ┆         ┆         ┆         ┆         ┆         ┆         ┆         ┆ …      │\n",
      "│ jupsrd… ┆ wNuHvf… ┆ DGIOzY… ┆ kqBuHU… ┆ LDkjhp… ┆ VfpcvZ… ┆ RvCBSZ… ┆ akDxLD… ┆ uecWAI… ┆ qIviaj │\n",
      "│         ┆         ┆         ┆         ┆         ┆         ┆         ┆         ┆         ┆ …      │\n",
      "│ Rsztor… ┆ BxlWEA… ┆ wsfaKh… ┆ MGMagh… ┆ bdfuik… ┆ blKhyx… ┆ ALXMuC… ┆ rRixBy… ┆ OBlghP… ┆ mdsRnU │\n",
      "│         ┆         ┆         ┆         ┆         ┆         ┆         ┆         ┆         ┆ …      │\n",
      "│ uYMqUg… ┆ JFsnUr… ┆ uGJaaA… ┆ bBMHrP… ┆ dfjVvx… ┆ LdXcST… ┆ CfghWf… ┆ JdDAzr… ┆ ylGuwn… ┆ oyCipE │\n",
      "│         ┆         ┆         ┆         ┆         ┆         ┆         ┆         ┆         ┆ …      │\n",
      "└─────────┴─────────┴─────────┴─────────┴─────────┴─────────┴─────────┴─────────┴─────────┴────────┘\n"
     ]
    }
   ],
   "source": [
    "with pl.Config(tbl_cols=-1, fmt_str_lengths=6):\n",
    "    print(df)"
   ]
  }
 ],
 "metadata": {
  "kernelspec": {
   "display_name": "python-polars-the-definitive-guide",
   "language": "python",
   "name": "python3"
  },
  "language_info": {
   "codemirror_mode": {
    "name": "ipython",
    "version": 3
   },
   "file_extension": ".py",
   "mimetype": "text/x-python",
   "name": "python",
   "nbconvert_exporter": "python",
   "pygments_lexer": "ipython3",
   "version": "3.12.11"
  }
 },
 "nbformat": 4,
 "nbformat_minor": 5
}
