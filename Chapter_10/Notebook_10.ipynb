{
 "cells": [
  {
   "cell_type": "markdown",
   "id": "4bbef220",
   "metadata": {},
   "source": [
    "# Selecting and Creatinng Columns"
   ]
  },
  {
   "cell_type": "code",
   "execution_count": 95,
   "id": "327b6959",
   "metadata": {},
   "outputs": [],
   "source": [
    "import polars as pl"
   ]
  },
  {
   "cell_type": "code",
   "execution_count": 96,
   "id": "095ccc00",
   "metadata": {},
   "outputs": [
    {
     "name": "stdout",
     "output_type": "stream",
     "text": [
      "shape: (3, 6)\n",
      "┌────────────────┬────────┬──────┬────────────┬────────────┬───────────┐\n",
      "│ name           ┆ height ┆ mass ┆ hair_color ┆ skin_color ┆ eye_color │\n",
      "│ ---            ┆ ---    ┆ ---  ┆ ---        ┆ ---        ┆ ---       │\n",
      "│ str            ┆ u16    ┆ f64  ┆ str        ┆ str        ┆ str       │\n",
      "╞════════════════╪════════╪══════╪════════════╪════════════╪═══════════╡\n",
      "│ Han Solo       ┆ 180    ┆ 80.0 ┆ brown      ┆ fair       ┆ brown     │\n",
      "│ Leia Organa    ┆ 150    ┆ 49.0 ┆ brown      ┆ light      ┆ brown     │\n",
      "│ Luke Skywalker ┆ 172    ┆ 77.0 ┆ blond      ┆ fair       ┆ blue      │\n",
      "└────────────────┴────────┴──────┴────────────┴────────────┴───────────┘\n",
      "shape: (3, 5)\n",
      "┌────────────┬────────┬───────────┬───────────┬─────────┐\n",
      "│ birth_year ┆ sex    ┆ gender    ┆ homeworld ┆ species │\n",
      "│ ---        ┆ ---    ┆ ---       ┆ ---       ┆ ---     │\n",
      "│ f64        ┆ cat    ┆ cat       ┆ str       ┆ str     │\n",
      "╞════════════╪════════╪═══════════╪═══════════╪═════════╡\n",
      "│ 29.0       ┆ male   ┆ masculine ┆ Corellia  ┆ Human   │\n",
      "│ 19.0       ┆ female ┆ feminine  ┆ Alderaan  ┆ Human   │\n",
      "│ 19.0       ┆ male   ┆ masculine ┆ Tatooine  ┆ Human   │\n",
      "└────────────┴────────┴───────────┴───────────┴─────────┘\n",
      "shape: (3, 4)\n",
      "┌─────────────────────────────────┬─────────────────────────────────┬────────────┬──────────────┐\n",
      "│ vehicles                        ┆ starships                       ┆ birth_date ┆ screen_time  │\n",
      "│ ---                             ┆ ---                             ┆ ---        ┆ ---          │\n",
      "│ list[str]                       ┆ list[str]                       ┆ date       ┆ duration[μs] │\n",
      "╞═════════════════════════════════╪═════════════════════════════════╪════════════╪══════════════╡\n",
      "│ null                            ┆ [\"Millennium Falcon\", \"Imperia… ┆ 1948-06-01 ┆ 1h 12m 37s   │\n",
      "│ [\"Imperial Speeder Bike\"]       ┆ null                            ┆ 1958-05-30 ┆ 1h 3m 40s    │\n",
      "│ [\"Snowspeeder\", \"Imperial Spee… ┆ [\"X-wing\", \"Imperial shuttle\"]  ┆ 1958-05-30 ┆ 1h 58m 44s   │\n",
      "└─────────────────────────────────┴─────────────────────────────────┴────────────┴──────────────┘\n"
     ]
    }
   ],
   "source": [
    "starwars = pl.read_parquet(\"data/starwars.parquet\")\n",
    "rebels = starwars.drop(\"films\").filter(pl.col(\"name\")\n",
    "                 .is_in([\"Luke Skywalker\", \"Han Solo\", \"Leia Organa\"]))\n",
    "\n",
    "print(rebels[:, :6])\n",
    "print(rebels[:, 6:11])\n",
    "print(rebels[:, 11:])"
   ]
  },
  {
   "cell_type": "code",
   "execution_count": 97,
   "id": "9cca2efd",
   "metadata": {},
   "outputs": [
    {
     "data": {
      "text/plain": [
       "(3, 15)"
      ]
     },
     "execution_count": 97,
     "metadata": {},
     "output_type": "execute_result"
    }
   ],
   "source": [
    "rebels.shape"
   ]
  },
  {
   "cell_type": "markdown",
   "id": "87bc2483",
   "metadata": {},
   "source": [
    "## Selectiing Columns"
   ]
  },
  {
   "cell_type": "code",
   "execution_count": 98,
   "id": "1f7e9a3d",
   "metadata": {},
   "outputs": [
    {
     "name": "stdout",
     "output_type": "stream",
     "text": [
      "shape: (2, 3)\n",
      "┌─────┬─────┬───────────┐\n",
      "│ a   ┆ b   ┆ ab_struct │\n",
      "│ --- ┆ --- ┆ ---       │\n",
      "│ i64 ┆ i64 ┆ struct[2] │\n",
      "╞═════╪═════╪═══════════╡\n",
      "│ 1   ┆ 3   ┆ {1,3}     │\n",
      "│ 2   ┆ 4   ┆ {2,4}     │\n",
      "└─────┴─────┴───────────┘\n"
     ]
    }
   ],
   "source": [
    "df = pl.DataFrame({\n",
    "    \"a\": [1, 2],\n",
    "    \"b\": [3, 4]\n",
    "})\n",
    "\n",
    "df_struct = df.with_columns(\n",
    "    pl.struct([\"a\", \"b\"]).alias(\"ab_struct\")\n",
    ")\n",
    "print(df_struct)"
   ]
  },
  {
   "cell_type": "markdown",
   "id": "28880afe",
   "metadata": {},
   "source": [
    "## Selecting Columns"
   ]
  },
  {
   "cell_type": "code",
   "execution_count": 99,
   "id": "fe428e00",
   "metadata": {},
   "outputs": [
    {
     "name": "stdout",
     "output_type": "stream",
     "text": [
      "shape: (3, 6)\n",
      "┌────────────────┬───────────┬────────────┬────────────┬───────────┬──────────┐\n",
      "│ name           ┆ homeworld ┆ hair_color ┆ skin_color ┆ eye_color ┆ height_m │\n",
      "│ ---            ┆ ---       ┆ ---        ┆ ---        ┆ ---       ┆ ---      │\n",
      "│ str            ┆ str       ┆ str        ┆ str        ┆ str       ┆ f64      │\n",
      "╞════════════════╪═══════════╪════════════╪════════════╪═══════════╪══════════╡\n",
      "│ Han Solo       ┆ Corellia  ┆ brown      ┆ fair       ┆ brown     ┆ 1.8      │\n",
      "│ Leia Organa    ┆ Alderaan  ┆ brown      ┆ light      ┆ brown     ┆ 1.5      │\n",
      "│ Luke Skywalker ┆ Tatooine  ┆ blond      ┆ fair       ┆ blue      ┆ 1.72     │\n",
      "└────────────────┴───────────┴────────────┴────────────┴───────────┴──────────┘\n"
     ]
    }
   ],
   "source": [
    "print(\n",
    "    rebels.select(\n",
    "        \"name\",\n",
    "        pl.col(\"homeworld\"),\n",
    "        pl.col(\"^.*_color$\"),\n",
    "        (pl.col(\"height\") / 100).alias(\"height_m\")\n",
    "    )\n",
    ")"
   ]
  },
  {
   "cell_type": "markdown",
   "id": "0c7783fb",
   "metadata": {},
   "source": [
    "## Introducing Selectors"
   ]
  },
  {
   "cell_type": "code",
   "execution_count": 100,
   "id": "416fd95b",
   "metadata": {},
   "outputs": [],
   "source": [
    "import polars.selectors as cs"
   ]
  },
  {
   "cell_type": "code",
   "execution_count": 101,
   "id": "71841f7c",
   "metadata": {},
   "outputs": [
    {
     "name": "stdout",
     "output_type": "stream",
     "text": [
      "shape: (3, 6)\n",
      "┌────────────────┬───────────┬────────────┬────────────┬───────────┬──────────┐\n",
      "│ name           ┆ homeworld ┆ hair_color ┆ skin_color ┆ eye_color ┆ height_m │\n",
      "│ ---            ┆ ---       ┆ ---        ┆ ---        ┆ ---       ┆ ---      │\n",
      "│ str            ┆ str       ┆ str        ┆ str        ┆ str       ┆ f64      │\n",
      "╞════════════════╪═══════════╪════════════╪════════════╪═══════════╪══════════╡\n",
      "│ Han Solo       ┆ Corellia  ┆ brown      ┆ fair       ┆ brown     ┆ 1.8      │\n",
      "│ Leia Organa    ┆ Alderaan  ┆ brown      ┆ light      ┆ brown     ┆ 1.5      │\n",
      "│ Luke Skywalker ┆ Tatooine  ┆ blond      ┆ fair       ┆ blue      ┆ 1.72     │\n",
      "└────────────────┴───────────┴────────────┴────────────┴───────────┴──────────┘\n"
     ]
    }
   ],
   "source": [
    "print(\n",
    "    rebels.select(\n",
    "        \"name\",\n",
    "        cs.by_name(\"homeworld\"),\n",
    "        cs.by_name(\"^.*_color$\"),\n",
    "        (cs.by_name(\"height\") / 100).alias(\"height_m\")\n",
    "    )\n",
    ")"
   ]
  },
  {
   "cell_type": "markdown",
   "id": "73cbbb79",
   "metadata": {},
   "source": [
    "## Selecting based on Name\n",
    "\n",
    "| Función              | Descripción                                                                 |\n",
    "|----------------------|-----------------------------------------------------------------------------|\n",
    "| `cs.by_name()`       | Selecciona columnas por nombre exacto o patrón regex.                       |\n",
    "| `cs.alpha()`         | Selecciona columnas cuyos nombres contienen solo caracteres alfabéticos.     |\n",
    "| `cs.alphanumeric()`  | Selecciona columnas cuyos nombres contienen solo caracteres alfanuméricos.   |\n",
    "| `cs.contains()`      | Selecciona columnas cuyos nombres contienen una subcadena dada.              |\n",
    "| `cs.starts_with()`   | Selecciona columnas cuyos nombres comienzan con un prefijo dado.             |\n",
    "| `cs.ends_with()`     | Selecciona columnas cuyos nombres terminan con un sufijo dado.               |\n",
    "| `cs.matches()`       | Selecciona columnas cuyos nombres coinciden con un patrón regex.             |\n",
    "| `cs.digit()`         | Selecciona columnas cuyos nombres contienen solo dígitos.                    |"
   ]
  },
  {
   "cell_type": "code",
   "execution_count": 102,
   "id": "da2743a9",
   "metadata": {},
   "outputs": [
    {
     "data": {
      "text/html": [
       "<div><style>\n",
       ".dataframe > thead > tr,\n",
       ".dataframe > tbody > tr {\n",
       "  text-align: right;\n",
       "  white-space: pre-wrap;\n",
       "}\n",
       "</style>\n",
       "<small>shape: (3, 2)</small><table border=\"1\" class=\"dataframe\"><thead><tr><th>birth_year</th><th>birth_date</th></tr><tr><td>f64</td><td>date</td></tr></thead><tbody><tr><td>29.0</td><td>1948-06-01</td></tr><tr><td>19.0</td><td>1958-05-30</td></tr><tr><td>19.0</td><td>1958-05-30</td></tr></tbody></table></div>"
      ],
      "text/plain": [
       "shape: (3, 2)\n",
       "┌────────────┬────────────┐\n",
       "│ birth_year ┆ birth_date │\n",
       "│ ---        ┆ ---        │\n",
       "│ f64        ┆ date       │\n",
       "╞════════════╪════════════╡\n",
       "│ 29.0       ┆ 1948-06-01 │\n",
       "│ 19.0       ┆ 1958-05-30 │\n",
       "│ 19.0       ┆ 1958-05-30 │\n",
       "└────────────┴────────────┘"
      ]
     },
     "execution_count": 102,
     "metadata": {},
     "output_type": "execute_result"
    }
   ],
   "source": [
    "rebels.select(cs.starts_with(\"birth_\"))"
   ]
  },
  {
   "cell_type": "code",
   "execution_count": 103,
   "id": "55cf7124",
   "metadata": {},
   "outputs": [
    {
     "data": {
      "text/html": [
       "<div><style>\n",
       ".dataframe > thead > tr,\n",
       ".dataframe > tbody > tr {\n",
       "  text-align: right;\n",
       "  white-space: pre-wrap;\n",
       "}\n",
       "</style>\n",
       "<small>shape: (3, 3)</small><table border=\"1\" class=\"dataframe\"><thead><tr><th>hair_color</th><th>skin_color</th><th>eye_color</th></tr><tr><td>str</td><td>str</td><td>str</td></tr></thead><tbody><tr><td>&quot;brown&quot;</td><td>&quot;fair&quot;</td><td>&quot;brown&quot;</td></tr><tr><td>&quot;brown&quot;</td><td>&quot;light&quot;</td><td>&quot;brown&quot;</td></tr><tr><td>&quot;blond&quot;</td><td>&quot;fair&quot;</td><td>&quot;blue&quot;</td></tr></tbody></table></div>"
      ],
      "text/plain": [
       "shape: (3, 3)\n",
       "┌────────────┬────────────┬───────────┐\n",
       "│ hair_color ┆ skin_color ┆ eye_color │\n",
       "│ ---        ┆ ---        ┆ ---       │\n",
       "│ str        ┆ str        ┆ str       │\n",
       "╞════════════╪════════════╪═══════════╡\n",
       "│ brown      ┆ fair       ┆ brown     │\n",
       "│ brown      ┆ light      ┆ brown     │\n",
       "│ blond      ┆ fair       ┆ blue      │\n",
       "└────────────┴────────────┴───────────┘"
      ]
     },
     "execution_count": 103,
     "metadata": {},
     "output_type": "execute_result"
    }
   ],
   "source": [
    "rebels.select(cs.ends_with(\"_color\"))"
   ]
  },
  {
   "cell_type": "code",
   "execution_count": 104,
   "id": "efc8b48b",
   "metadata": {},
   "outputs": [
    {
     "data": {
      "text/html": [
       "<div><style>\n",
       ".dataframe > thead > tr,\n",
       ".dataframe > tbody > tr {\n",
       "  text-align: right;\n",
       "  white-space: pre-wrap;\n",
       "}\n",
       "</style>\n",
       "<small>shape: (3, 6)</small><table border=\"1\" class=\"dataframe\"><thead><tr><th>hair_color</th><th>skin_color</th><th>eye_color</th><th>birth_year</th><th>birth_date</th><th>screen_time</th></tr><tr><td>str</td><td>str</td><td>str</td><td>f64</td><td>date</td><td>duration[μs]</td></tr></thead><tbody><tr><td>&quot;brown&quot;</td><td>&quot;fair&quot;</td><td>&quot;brown&quot;</td><td>29.0</td><td>1948-06-01</td><td>1h 12m 37s</td></tr><tr><td>&quot;brown&quot;</td><td>&quot;light&quot;</td><td>&quot;brown&quot;</td><td>19.0</td><td>1958-05-30</td><td>1h 3m 40s</td></tr><tr><td>&quot;blond&quot;</td><td>&quot;fair&quot;</td><td>&quot;blue&quot;</td><td>19.0</td><td>1958-05-30</td><td>1h 58m 44s</td></tr></tbody></table></div>"
      ],
      "text/plain": [
       "shape: (3, 6)\n",
       "┌────────────┬────────────┬───────────┬────────────┬────────────┬──────────────┐\n",
       "│ hair_color ┆ skin_color ┆ eye_color ┆ birth_year ┆ birth_date ┆ screen_time  │\n",
       "│ ---        ┆ ---        ┆ ---       ┆ ---        ┆ ---        ┆ ---          │\n",
       "│ str        ┆ str        ┆ str       ┆ f64        ┆ date       ┆ duration[μs] │\n",
       "╞════════════╪════════════╪═══════════╪════════════╪════════════╪══════════════╡\n",
       "│ brown      ┆ fair       ┆ brown     ┆ 29.0       ┆ 1948-06-01 ┆ 1h 12m 37s   │\n",
       "│ brown      ┆ light      ┆ brown     ┆ 19.0       ┆ 1958-05-30 ┆ 1h 3m 40s    │\n",
       "│ blond      ┆ fair       ┆ blue      ┆ 19.0       ┆ 1958-05-30 ┆ 1h 58m 44s   │\n",
       "└────────────┴────────────┴───────────┴────────────┴────────────┴──────────────┘"
      ]
     },
     "execution_count": 104,
     "metadata": {},
     "output_type": "execute_result"
    }
   ],
   "source": [
    "rebels.select(cs.contains(\"_\"))"
   ]
  },
  {
   "cell_type": "code",
   "execution_count": 105,
   "id": "bf53c81e",
   "metadata": {},
   "outputs": [
    {
     "data": {
      "text/html": [
       "<div><style>\n",
       ".dataframe > thead > tr,\n",
       ".dataframe > tbody > tr {\n",
       "  text-align: right;\n",
       "  white-space: pre-wrap;\n",
       "}\n",
       "</style>\n",
       "<small>shape: (3, 2)</small><table border=\"1\" class=\"dataframe\"><thead><tr><th>name</th><th>mass</th></tr><tr><td>str</td><td>f64</td></tr></thead><tbody><tr><td>&quot;Han Solo&quot;</td><td>80.0</td></tr><tr><td>&quot;Leia Organa&quot;</td><td>49.0</td></tr><tr><td>&quot;Luke Skywalker&quot;</td><td>77.0</td></tr></tbody></table></div>"
      ],
      "text/plain": [
       "shape: (3, 2)\n",
       "┌────────────────┬──────┐\n",
       "│ name           ┆ mass │\n",
       "│ ---            ┆ ---  │\n",
       "│ str            ┆ f64  │\n",
       "╞════════════════╪══════╡\n",
       "│ Han Solo       ┆ 80.0 │\n",
       "│ Leia Organa    ┆ 49.0 │\n",
       "│ Luke Skywalker ┆ 77.0 │\n",
       "└────────────────┴──────┘"
      ]
     },
     "execution_count": 105,
     "metadata": {},
     "output_type": "execute_result"
    }
   ],
   "source": [
    "rebels.select(cs.matches(\"^[a-z]{4}$\"))"
   ]
  },
  {
   "cell_type": "markdown",
   "id": "cbee6db2",
   "metadata": {},
   "source": [
    "## Selecting Baes on Data Type"
   ]
  },
  {
   "cell_type": "code",
   "execution_count": 106,
   "id": "d7d4e0ab",
   "metadata": {},
   "outputs": [
    {
     "data": {
      "text/html": [
       "<div><style>\n",
       ".dataframe > thead > tr,\n",
       ".dataframe > tbody > tr {\n",
       "  text-align: right;\n",
       "  white-space: pre-wrap;\n",
       "}\n",
       "</style>\n",
       "<small>shape: (2, 4)</small><table border=\"1\" class=\"dataframe\"><thead><tr><th>hair_color</th><th>height</th><th>mass</th><th>birth_year</th></tr><tr><td>str</td><td>f64</td><td>f64</td><td>f64</td></tr></thead><tbody><tr><td>&quot;brown&quot;</td><td>165.0</td><td>64.5</td><td>24.0</td></tr><tr><td>&quot;blond&quot;</td><td>172.0</td><td>77.0</td><td>19.0</td></tr></tbody></table></div>"
      ],
      "text/plain": [
       "shape: (2, 4)\n",
       "┌────────────┬────────┬──────┬────────────┐\n",
       "│ hair_color ┆ height ┆ mass ┆ birth_year │\n",
       "│ ---        ┆ ---    ┆ ---  ┆ ---        │\n",
       "│ str        ┆ f64    ┆ f64  ┆ f64        │\n",
       "╞════════════╪════════╪══════╪════════════╡\n",
       "│ brown      ┆ 165.0  ┆ 64.5 ┆ 24.0       │\n",
       "│ blond      ┆ 172.0  ┆ 77.0 ┆ 19.0       │\n",
       "└────────────┴────────┴──────┴────────────┘"
      ]
     },
     "execution_count": 106,
     "metadata": {},
     "output_type": "execute_result"
    }
   ],
   "source": [
    "rebels.group_by(\"hair_color\").agg(cs.numeric().mean())"
   ]
  },
  {
   "cell_type": "markdown",
   "id": "1ce91711",
   "metadata": {},
   "source": [
    "## Selección por tipo de dato\n",
    "\n",
    "La siguiente tabla resume los selectores de columnas por tipo de dato en Polars:\n",
    "\n",
    "| Función             | Descripción                                                                 |\n",
    "|---------------------|-----------------------------------------------------------------------------|\n",
    "| `cs.numeric()`      | Selecciona columnas de tipo numérico (enteros, flotantes).                  |\n",
    "| `cs.binary()`       | Selecciona columnas de tipo binario.                                        |\n",
    "| `cs.boolean()`      | Selecciona columnas de tipo booleano.                                       |\n",
    "| `cs.string()`       | Selecciona columnas de tipo cadena de texto.                                |\n",
    "| `cs.datetime()`     | Selecciona columnas de tipo fecha y hora (`datetime`).                      |\n",
    "| `cs.date()`         | Selecciona columnas de tipo fecha (`date`).                                 |\n",
    "| `cs.duration()`     | Selecciona columnas de tipo duración (`duration`).                          |\n",
    "| `cs.categorical()`  | Selecciona columnas de tipo categórico.                                     |\n",
    "| `cs.list()`         | Selecciona columnas que contienen listas.                                   |\n",
    "| `cs.struct()`       | Selecciona columnas de tipo struct.                                         |\n",
    "| `cs.by_dtype()`     | Selecciona columnas especificando uno o más tipos de dato de Polars.        |\n",
    "| `cs.signed_integer()`    | Selecciona columnas de enteros con signo (`i8`, `i16`, `i32`, etc).|\n",
    "| `cs.unsigned_integer()`  | Selecciona columnas de enteros sin signo (`u8`, `u16`, `u32`, etc).|\n",
    "| `cs.float()`             | Selecciona columnas de tipo flotante (`f32`, `f64`).               |\n",
    "| `cs.decimal()`           | Selecciona columnas de tipo decimal.                               |\n",
    "| `cs.temporal()`          | Selecciona columnas de tipo temporal (`date`, `datetime`, `time`). |\n",
    "| `cs.time()`              | Selecciona columnas de tipo hora (`time`).                         |\n",
    "\n",
    "Estos selectores permiten trabajar de forma eficiente con columnas según su tipo, facilitando operaciones como agregaciones, transformaciones y filtrado en tus DataFrames."
   ]
  },
  {
   "cell_type": "code",
   "execution_count": 107,
   "id": "4e3aecf6",
   "metadata": {},
   "outputs": [
    {
     "data": {
      "text/html": [
       "<div><style>\n",
       ".dataframe > thead > tr,\n",
       ".dataframe > tbody > tr {\n",
       "  text-align: right;\n",
       "  white-space: pre-wrap;\n",
       "}\n",
       "</style>\n",
       "<small>shape: (3, 6)</small><table border=\"1\" class=\"dataframe\"><thead><tr><th>name</th><th>hair_color</th><th>skin_color</th><th>eye_color</th><th>homeworld</th><th>species</th></tr><tr><td>str</td><td>str</td><td>str</td><td>str</td><td>str</td><td>str</td></tr></thead><tbody><tr><td>&quot;Han Solo&quot;</td><td>&quot;brown&quot;</td><td>&quot;fair&quot;</td><td>&quot;brown&quot;</td><td>&quot;Corellia&quot;</td><td>&quot;Human&quot;</td></tr><tr><td>&quot;Leia Organa&quot;</td><td>&quot;brown&quot;</td><td>&quot;light&quot;</td><td>&quot;brown&quot;</td><td>&quot;Alderaan&quot;</td><td>&quot;Human&quot;</td></tr><tr><td>&quot;Luke Skywalker&quot;</td><td>&quot;blond&quot;</td><td>&quot;fair&quot;</td><td>&quot;blue&quot;</td><td>&quot;Tatooine&quot;</td><td>&quot;Human&quot;</td></tr></tbody></table></div>"
      ],
      "text/plain": [
       "shape: (3, 6)\n",
       "┌────────────────┬────────────┬────────────┬───────────┬───────────┬─────────┐\n",
       "│ name           ┆ hair_color ┆ skin_color ┆ eye_color ┆ homeworld ┆ species │\n",
       "│ ---            ┆ ---        ┆ ---        ┆ ---       ┆ ---       ┆ ---     │\n",
       "│ str            ┆ str        ┆ str        ┆ str       ┆ str       ┆ str     │\n",
       "╞════════════════╪════════════╪════════════╪═══════════╪═══════════╪═════════╡\n",
       "│ Han Solo       ┆ brown      ┆ fair       ┆ brown     ┆ Corellia  ┆ Human   │\n",
       "│ Leia Organa    ┆ brown      ┆ light      ┆ brown     ┆ Alderaan  ┆ Human   │\n",
       "│ Luke Skywalker ┆ blond      ┆ fair       ┆ blue      ┆ Tatooine  ┆ Human   │\n",
       "└────────────────┴────────────┴────────────┴───────────┴───────────┴─────────┘"
      ]
     },
     "execution_count": 107,
     "metadata": {},
     "output_type": "execute_result"
    }
   ],
   "source": [
    "rebels.select(cs.string())"
   ]
  },
  {
   "cell_type": "code",
   "execution_count": 108,
   "id": "41e69ada",
   "metadata": {},
   "outputs": [
    {
     "data": {
      "text/html": [
       "<div><style>\n",
       ".dataframe > thead > tr,\n",
       ".dataframe > tbody > tr {\n",
       "  text-align: right;\n",
       "  white-space: pre-wrap;\n",
       "}\n",
       "</style>\n",
       "<small>shape: (3, 2)</small><table border=\"1\" class=\"dataframe\"><thead><tr><th>birth_date</th><th>screen_time</th></tr><tr><td>date</td><td>duration[μs]</td></tr></thead><tbody><tr><td>1948-06-01</td><td>1h 12m 37s</td></tr><tr><td>1958-05-30</td><td>1h 3m 40s</td></tr><tr><td>1958-05-30</td><td>1h 58m 44s</td></tr></tbody></table></div>"
      ],
      "text/plain": [
       "shape: (3, 2)\n",
       "┌────────────┬──────────────┐\n",
       "│ birth_date ┆ screen_time  │\n",
       "│ ---        ┆ ---          │\n",
       "│ date       ┆ duration[μs] │\n",
       "╞════════════╪══════════════╡\n",
       "│ 1948-06-01 ┆ 1h 12m 37s   │\n",
       "│ 1958-05-30 ┆ 1h 3m 40s    │\n",
       "│ 1958-05-30 ┆ 1h 58m 44s   │\n",
       "└────────────┴──────────────┘"
      ]
     },
     "execution_count": 108,
     "metadata": {},
     "output_type": "execute_result"
    }
   ],
   "source": [
    "rebels.select(cs.temporal())"
   ]
  },
  {
   "cell_type": "code",
   "execution_count": 109,
   "id": "eb6648a3",
   "metadata": {},
   "outputs": [
    {
     "data": {
      "text/html": [
       "<div><style>\n",
       ".dataframe > thead > tr,\n",
       ".dataframe > tbody > tr {\n",
       "  text-align: right;\n",
       "  white-space: pre-wrap;\n",
       "}\n",
       "</style>\n",
       "<small>shape: (3, 2)</small><table border=\"1\" class=\"dataframe\"><thead><tr><th>vehicles</th><th>starships</th></tr><tr><td>list[str]</td><td>list[str]</td></tr></thead><tbody><tr><td>null</td><td>[&quot;Millennium Falcon&quot;, &quot;Imperial shuttle&quot;]</td></tr><tr><td>[&quot;Imperial Speeder Bike&quot;]</td><td>null</td></tr><tr><td>[&quot;Snowspeeder&quot;, &quot;Imperial Speeder Bike&quot;]</td><td>[&quot;X-wing&quot;, &quot;Imperial shuttle&quot;]</td></tr></tbody></table></div>"
      ],
      "text/plain": [
       "shape: (3, 2)\n",
       "┌─────────────────────────────────┬─────────────────────────────────┐\n",
       "│ vehicles                        ┆ starships                       │\n",
       "│ ---                             ┆ ---                             │\n",
       "│ list[str]                       ┆ list[str]                       │\n",
       "╞═════════════════════════════════╪═════════════════════════════════╡\n",
       "│ null                            ┆ [\"Millennium Falcon\", \"Imperia… │\n",
       "│ [\"Imperial Speeder Bike\"]       ┆ null                            │\n",
       "│ [\"Snowspeeder\", \"Imperial Spee… ┆ [\"X-wing\", \"Imperial shuttle\"]  │\n",
       "└─────────────────────────────────┴─────────────────────────────────┘"
      ]
     },
     "execution_count": 109,
     "metadata": {},
     "output_type": "execute_result"
    }
   ],
   "source": [
    "# Selecciona columnas de tipo lista de cadenas usando cs.by_dtype y pl.List(pl.String)\n",
    "rebels.select(cs.by_dtype(pl.List(pl.String)))"
   ]
  },
  {
   "cell_type": "markdown",
   "id": "77eb5dec",
   "metadata": {},
   "source": [
    "## Selectin Based on Position\n",
    "\n",
    "| Función             | Descripción                                                                 |\n",
    "|---------------------|-----------------------------------------------------------------------------|\n",
    "| `cs.by_index()`     | Selecciona columnas por índice (posición), acepta enteros o listas de índices.|\n",
    "| `cs.first()`        | Selecciona la primera columna del DataFrame.                                 |\n",
    "| `cs.last()`         | Selecciona la última columna del DataFrame.                                  |\n",
    "| `cs.head(n)`        | Selecciona las primeras `n` columnas.                                        |\n",
    "| `cs.tail(n)`        | Selecciona las últimas `n` columnas.                                         |\n",
    "\n",
    "Estas funciones permiten seleccionar columnas según su posición en el DataFrame, facilitando la manipulación cuando no se conocen los nombres o se requiere trabajar con rangos de columnas."
   ]
  },
  {
   "cell_type": "code",
   "execution_count": 110,
   "id": "a3e7e527",
   "metadata": {},
   "outputs": [
    {
     "data": {
      "text/html": [
       "<div><style>\n",
       ".dataframe > thead > tr,\n",
       ".dataframe > tbody > tr {\n",
       "  text-align: right;\n",
       "  white-space: pre-wrap;\n",
       "}\n",
       "</style>\n",
       "<small>shape: (3, 5)</small><table border=\"1\" class=\"dataframe\"><thead><tr><th>name</th><th>hair_color</th><th>birth_year</th><th>homeworld</th><th>starships</th></tr><tr><td>str</td><td>str</td><td>f64</td><td>str</td><td>list[str]</td></tr></thead><tbody><tr><td>&quot;Han Solo&quot;</td><td>&quot;brown&quot;</td><td>29.0</td><td>&quot;Corellia&quot;</td><td>[&quot;Millennium Falcon&quot;, &quot;Imperial shuttle&quot;]</td></tr><tr><td>&quot;Leia Organa&quot;</td><td>&quot;brown&quot;</td><td>19.0</td><td>&quot;Alderaan&quot;</td><td>null</td></tr><tr><td>&quot;Luke Skywalker&quot;</td><td>&quot;blond&quot;</td><td>19.0</td><td>&quot;Tatooine&quot;</td><td>[&quot;X-wing&quot;, &quot;Imperial shuttle&quot;]</td></tr></tbody></table></div>"
      ],
      "text/plain": [
       "shape: (3, 5)\n",
       "┌────────────────┬────────────┬────────────┬───────────┬─────────────────────────────────┐\n",
       "│ name           ┆ hair_color ┆ birth_year ┆ homeworld ┆ starships                       │\n",
       "│ ---            ┆ ---        ┆ ---        ┆ ---       ┆ ---                             │\n",
       "│ str            ┆ str        ┆ f64        ┆ str       ┆ list[str]                       │\n",
       "╞════════════════╪════════════╪════════════╪═══════════╪═════════════════════════════════╡\n",
       "│ Han Solo       ┆ brown      ┆ 29.0       ┆ Corellia  ┆ [\"Millennium Falcon\", \"Imperia… │\n",
       "│ Leia Organa    ┆ brown      ┆ 19.0       ┆ Alderaan  ┆ null                            │\n",
       "│ Luke Skywalker ┆ blond      ┆ 19.0       ┆ Tatooine  ┆ [\"X-wing\", \"Imperial shuttle\"]  │\n",
       "└────────────────┴────────────┴────────────┴───────────┴─────────────────────────────────┘"
      ]
     },
     "execution_count": 110,
     "metadata": {},
     "output_type": "execute_result"
    }
   ],
   "source": [
    "rebels.select(cs.by_index(range(0, rebels.width, 3)))"
   ]
  },
  {
   "cell_type": "code",
   "execution_count": 111,
   "id": "943dcab4",
   "metadata": {},
   "outputs": [
    {
     "data": {
      "text/html": [
       "<div><style>\n",
       ".dataframe > thead > tr,\n",
       ".dataframe > tbody > tr {\n",
       "  text-align: right;\n",
       "  white-space: pre-wrap;\n",
       "}\n",
       "</style>\n",
       "<small>shape: (3, 3)</small><table border=\"1\" class=\"dataframe\"><thead><tr><th>name</th><th>birth_date</th><th>screen_time</th></tr><tr><td>str</td><td>date</td><td>duration[μs]</td></tr></thead><tbody><tr><td>&quot;Han Solo&quot;</td><td>1948-06-01</td><td>1h 12m 37s</td></tr><tr><td>&quot;Leia Organa&quot;</td><td>1958-05-30</td><td>1h 3m 40s</td></tr><tr><td>&quot;Luke Skywalker&quot;</td><td>1958-05-30</td><td>1h 58m 44s</td></tr></tbody></table></div>"
      ],
      "text/plain": [
       "shape: (3, 3)\n",
       "┌────────────────┬────────────┬──────────────┐\n",
       "│ name           ┆ birth_date ┆ screen_time  │\n",
       "│ ---            ┆ ---        ┆ ---          │\n",
       "│ str            ┆ date       ┆ duration[μs] │\n",
       "╞════════════════╪════════════╪══════════════╡\n",
       "│ Han Solo       ┆ 1948-06-01 ┆ 1h 12m 37s   │\n",
       "│ Leia Organa    ┆ 1958-05-30 ┆ 1h 3m 40s    │\n",
       "│ Luke Skywalker ┆ 1958-05-30 ┆ 1h 58m 44s   │\n",
       "└────────────────┴────────────┴──────────────┘"
      ]
     },
     "execution_count": 111,
     "metadata": {},
     "output_type": "execute_result"
    }
   ],
   "source": [
    "rebels.select(\"name\", cs.by_index((range(-2, 0))))"
   ]
  },
  {
   "cell_type": "markdown",
   "id": "46a52f11",
   "metadata": {},
   "source": [
    "## Combining Selectors"
   ]
  },
  {
   "cell_type": "code",
   "execution_count": 112,
   "id": "e78149ed",
   "metadata": {},
   "outputs": [
    {
     "data": {
      "text/html": [
       "<div><style>\n",
       ".dataframe > thead > tr,\n",
       ".dataframe > tbody > tr {\n",
       "  text-align: right;\n",
       "  white-space: pre-wrap;\n",
       "}\n",
       "</style>\n",
       "<small>shape: (3, 4)</small><table border=\"1\" class=\"dataframe\"><thead><tr><th>height</th><th>mass</th><th>hair_color</th><th>birth_year</th></tr><tr><td>u16</td><td>f64</td><td>str</td><td>f64</td></tr></thead><tbody><tr><td>180</td><td>80.0</td><td>&quot;brown&quot;</td><td>29.0</td></tr><tr><td>150</td><td>49.0</td><td>&quot;brown&quot;</td><td>19.0</td></tr><tr><td>172</td><td>77.0</td><td>&quot;blond&quot;</td><td>19.0</td></tr></tbody></table></div>"
      ],
      "text/plain": [
       "shape: (3, 4)\n",
       "┌────────┬──────┬────────────┬────────────┐\n",
       "│ height ┆ mass ┆ hair_color ┆ birth_year │\n",
       "│ ---    ┆ ---  ┆ ---        ┆ ---        │\n",
       "│ u16    ┆ f64  ┆ str        ┆ f64        │\n",
       "╞════════╪══════╪════════════╪════════════╡\n",
       "│ 180    ┆ 80.0 ┆ brown      ┆ 29.0       │\n",
       "│ 150    ┆ 49.0 ┆ brown      ┆ 19.0       │\n",
       "│ 172    ┆ 77.0 ┆ blond      ┆ 19.0       │\n",
       "└────────┴──────┴────────────┴────────────┘"
      ]
     },
     "execution_count": 112,
     "metadata": {},
     "output_type": "execute_result"
    }
   ],
   "source": [
    "\n",
    "rebels.select(cs.by_name(\"hair_color\") | cs.numeric())"
   ]
  },
  {
   "cell_type": "markdown",
   "id": "ec751514",
   "metadata": {},
   "source": [
    "| Operation         | Inline Operator | Description                                                                                 |\n",
    "|-------------------|-----------------|---------------------------------------------------------------------------------------------|\n",
    "| Union             | `|`              | Combina selectores, seleccionando columnas presentes en cualquiera de los selectores.        |\n",
    "| Intersection      | `&`              | Selecciona solo las columnas presentes en ambos selectores.                                 |\n",
    "| Difference        | `-`              | Selecciona columnas presentes en el primer selector pero no en el segundo.                  |\n",
    "| Symmetric Diff    | `^`              | Selecciona columnas presentes en uno u otro selector, pero no en ambos (diferencia simétrica). |\n",
    "\n",
    "Estos operadores permiten combinar selectores de columnas en Polars de forma flexible y expresiva."
   ]
  },
  {
   "cell_type": "code",
   "execution_count": 113,
   "id": "6e472435",
   "metadata": {},
   "outputs": [
    {
     "name": "stdout",
     "output_type": "stream",
     "text": [
      "shape: (1, 5)\n",
      "┌─────┬──────┬──────┬──────┬─────┐\n",
      "│ d   ┆ i    ┆ s    ┆ c    ┆ o   │\n",
      "│ --- ┆ ---  ┆ ---  ┆ ---  ┆ --- │\n",
      "│ i64 ┆ bool ┆ bool ┆ bool ┆ f64 │\n",
      "╞═════╪══════╪══════╪══════╪═════╡\n",
      "│ 1   ┆ true ┆ true ┆ true ┆ 1.0 │\n",
      "└─────┴──────┴──────┴──────┴─────┘\n",
      "\n",
      "selector => columns\n",
      "x        => ('d', 'i', 's')\n",
      "y        => ('i', 's', 'c')\n",
      "x | y    => ('d', 'i', 's', 'c')\n",
      "x & y    => ('i', 's')\n",
      "x - y    => ('d',)\n",
      "x ^ y    => ('d', 'c')\n",
      "~x       => ('c', 'o')\n",
      "x - x    => ()\n"
     ]
    }
   ],
   "source": [
    "df = pl.DataFrame({\"d\": 1, \"i\": True, \"s\":True, \"c\": True, \"o\": 1.0})\n",
    "\n",
    "print(df)\n",
    "\n",
    "x = cs.by_name(\"d\", \"i\", \"s\")\n",
    "y = cs.boolean()\n",
    "\n",
    "print(\"\\nselector => columns\")\n",
    "\n",
    "for s in [\"x\", \"y\", \"x | y\", \"x & y\", \"x - y\", \"x ^ y\", \"~x\",\"x - x\"]:\n",
    "    print(f\"{s:8} => {cs.expand_selector(df, eval(s))}\")"
   ]
  },
  {
   "cell_type": "code",
   "execution_count": 114,
   "id": "a08d54ef",
   "metadata": {},
   "outputs": [
    {
     "data": {
      "text/html": [
       "<div><style>\n",
       ".dataframe > thead > tr,\n",
       ".dataframe > tbody > tr {\n",
       "  text-align: right;\n",
       "  white-space: pre-wrap;\n",
       "}\n",
       "</style>\n",
       "<small>shape: (0, 0)</small><table border=\"1\" class=\"dataframe\"><thead><tr></tr><tr></tr></thead><tbody></tbody></table></div>"
      ],
      "text/plain": [
       "shape: (0, 0)\n",
       "┌┐\n",
       "╞╡\n",
       "└┘"
      ]
     },
     "execution_count": 114,
     "metadata": {},
     "output_type": "execute_result"
    }
   ],
   "source": [
    "df.select(x - x)"
   ]
  },
  {
   "cell_type": "markdown",
   "id": "63a8bcb3",
   "metadata": {},
   "source": [
    "El operador \"walrus\" (`:=`) permite asignar valores a variables dentro de una expresión, sin necesidad de una línea aparte. Es útil para reutilizar resultados intermedios en operaciones complejas, como al crear nuevas columnas en Polars:\n",
    "\n",
    "```python\n",
    "df.with_columns([\n",
    "    (col_a := pl.col(\"a\")),\n",
    "    (col_b := pl.col(\"b\")),\n",
    "    (col_a + col_b).alias(\"sum_ab\")\n",
    "])\n",
    "```\n",
    "\n",
    "Aquí, `col_a` y `col_b` se definen y reutilizan en la misma expresión, haciendo el código más conciso y legible. El walrus está disponible desde Python 3.8."
   ]
  },
  {
   "cell_type": "markdown",
   "id": "b032afa7",
   "metadata": {},
   "source": [
    "## Creating Columns"
   ]
  },
  {
   "cell_type": "code",
   "execution_count": 115,
   "id": "675831c6",
   "metadata": {},
   "outputs": [
    {
     "data": {
      "text/html": [
       "<div><style>\n",
       ".dataframe > thead > tr,\n",
       ".dataframe > tbody > tr {\n",
       "  text-align: right;\n",
       "  white-space: pre-wrap;\n",
       "}\n",
       "</style>\n",
       "<small>shape: (3, 17)</small><table border=\"1\" class=\"dataframe\"><thead><tr><th>name</th><th>height</th><th>mass</th><th>hair_color</th><th>skin_color</th><th>eye_color</th><th>birth_year</th><th>sex</th><th>gender</th><th>homeworld</th><th>species</th><th>vehicles</th><th>starships</th><th>birth_date</th><th>screen_time</th><th>bmi</th><th>age_destroy</th></tr><tr><td>str</td><td>u16</td><td>f64</td><td>str</td><td>str</td><td>str</td><td>f64</td><td>cat</td><td>cat</td><td>str</td><td>str</td><td>list[str]</td><td>list[str]</td><td>date</td><td>duration[μs]</td><td>f64</td><td>u8</td></tr></thead><tbody><tr><td>&quot;Han Solo&quot;</td><td>180</td><td>80.0</td><td>&quot;brown&quot;</td><td>&quot;fair&quot;</td><td>&quot;brown&quot;</td><td>29.0</td><td>&quot;male&quot;</td><td>&quot;masculine&quot;</td><td>&quot;Corellia&quot;</td><td>&quot;Human&quot;</td><td>null</td><td>[&quot;Millennium Falcon&quot;, &quot;Imperial shuttle&quot;]</td><td>1948-06-01</td><td>1h 12m 37s</td><td>24.691358</td><td>35</td></tr><tr><td>&quot;Leia Organa&quot;</td><td>150</td><td>49.0</td><td>&quot;brown&quot;</td><td>&quot;light&quot;</td><td>&quot;brown&quot;</td><td>19.0</td><td>&quot;female&quot;</td><td>&quot;feminine&quot;</td><td>&quot;Alderaan&quot;</td><td>&quot;Human&quot;</td><td>[&quot;Imperial Speeder Bike&quot;]</td><td>null</td><td>1958-05-30</td><td>1h 3m 40s</td><td>21.777778</td><td>25</td></tr><tr><td>&quot;Luke Skywalker&quot;</td><td>172</td><td>77.0</td><td>&quot;blond&quot;</td><td>&quot;fair&quot;</td><td>&quot;blue&quot;</td><td>19.0</td><td>&quot;male&quot;</td><td>&quot;masculine&quot;</td><td>&quot;Tatooine&quot;</td><td>&quot;Human&quot;</td><td>[&quot;Snowspeeder&quot;, &quot;Imperial Speeder Bike&quot;]</td><td>[&quot;X-wing&quot;, &quot;Imperial shuttle&quot;]</td><td>1958-05-30</td><td>1h 58m 44s</td><td>26.027582</td><td>25</td></tr></tbody></table></div>"
      ],
      "text/plain": [
       "shape: (3, 17)\n",
       "┌─────────────┬────────┬──────┬────────────┬───┬────────────┬─────────────┬───────────┬────────────┐\n",
       "│ name        ┆ height ┆ mass ┆ hair_color ┆ … ┆ birth_date ┆ screen_time ┆ bmi       ┆ age_destro │\n",
       "│ ---         ┆ ---    ┆ ---  ┆ ---        ┆   ┆ ---        ┆ ---         ┆ ---       ┆ y          │\n",
       "│ str         ┆ u16    ┆ f64  ┆ str        ┆   ┆ date       ┆ duration[μs ┆ f64       ┆ ---        │\n",
       "│             ┆        ┆      ┆            ┆   ┆            ┆ ]           ┆           ┆ u8         │\n",
       "╞═════════════╪════════╪══════╪════════════╪═══╪════════════╪═════════════╪═══════════╪════════════╡\n",
       "│ Han Solo    ┆ 180    ┆ 80.0 ┆ brown      ┆ … ┆ 1948-06-01 ┆ 1h 12m 37s  ┆ 24.691358 ┆ 35         │\n",
       "│ Leia Organa ┆ 150    ┆ 49.0 ┆ brown      ┆ … ┆ 1958-05-30 ┆ 1h 3m 40s   ┆ 21.777778 ┆ 25         │\n",
       "│ Luke        ┆ 172    ┆ 77.0 ┆ blond      ┆ … ┆ 1958-05-30 ┆ 1h 58m 44s  ┆ 26.027582 ┆ 25         │\n",
       "│ Skywalker   ┆        ┆      ┆            ┆   ┆            ┆             ┆           ┆            │\n",
       "└─────────────┴────────┴──────┴────────────┴───┴────────────┴─────────────┴───────────┴────────────┘"
      ]
     },
     "execution_count": 115,
     "metadata": {},
     "output_type": "execute_result"
    }
   ],
   "source": [
    "rebels.with_columns(\n",
    "    bmi=pl.col(\"mass\") / (pl.col(\"height\") / 100) ** 2,\n",
    "    age_destroy=(\n",
    "        (pl.date(1983, 5, 25) - pl.col(\"birth_date\")).dt.total_days() / 365\n",
    "    ).cast(pl.UInt8),\n",
    ")"
   ]
  },
  {
   "cell_type": "markdown",
   "id": "9f6797bd",
   "metadata": {},
   "source": [
    "Las expresiones dentro de `with_columns` en Polars no pueden referenciar directamente columnas recién creadas en la misma llamada. Es decir, si defines una nueva columna, no puedes usarla inmediatamente en otra expresión dentro del mismo `with_columns`. Para reutilizar resultados intermedios, debes usar el operador \"walrus\" (`:=`) en Python 3.8+, o encadenar múltiples llamadas a `with_columns`. Esto garantiza que cada expresión solo acceda a columnas ya existentes antes de la operación."
   ]
  },
  {
   "cell_type": "code",
   "execution_count": 116,
   "id": "aaf5e8f1",
   "metadata": {},
   "outputs": [
    {
     "data": {
      "text/html": [
       "<div><style>\n",
       ".dataframe > thead > tr,\n",
       ".dataframe > tbody > tr {\n",
       "  text-align: right;\n",
       "  white-space: pre-wrap;\n",
       "}\n",
       "</style>\n",
       "<small>shape: (3, 17)</small><table border=\"1\" class=\"dataframe\"><thead><tr><th>name</th><th>height</th><th>mass</th><th>hair_color</th><th>skin_color</th><th>eye_color</th><th>birth_year</th><th>sex</th><th>gender</th><th>homeworld</th><th>species</th><th>vehicles</th><th>starships</th><th>birth_date</th><th>screen_time</th><th>bmi</th><th>bmi_cat</th></tr><tr><td>str</td><td>u16</td><td>f64</td><td>str</td><td>str</td><td>str</td><td>f64</td><td>cat</td><td>cat</td><td>str</td><td>str</td><td>list[str]</td><td>list[str]</td><td>date</td><td>duration[μs]</td><td>f64</td><td>cat</td></tr></thead><tbody><tr><td>&quot;Han Solo&quot;</td><td>180</td><td>80.0</td><td>&quot;brown&quot;</td><td>&quot;fair&quot;</td><td>&quot;brown&quot;</td><td>29.0</td><td>&quot;male&quot;</td><td>&quot;masculine&quot;</td><td>&quot;Corellia&quot;</td><td>&quot;Human&quot;</td><td>null</td><td>[&quot;Millennium Falcon&quot;, &quot;Imperial shuttle&quot;]</td><td>1948-06-01</td><td>1h 12m 37s</td><td>24.691358</td><td>&quot;normal&quot;</td></tr><tr><td>&quot;Leia Organa&quot;</td><td>150</td><td>49.0</td><td>&quot;brown&quot;</td><td>&quot;light&quot;</td><td>&quot;brown&quot;</td><td>19.0</td><td>&quot;female&quot;</td><td>&quot;feminine&quot;</td><td>&quot;Alderaan&quot;</td><td>&quot;Human&quot;</td><td>[&quot;Imperial Speeder Bike&quot;]</td><td>null</td><td>1958-05-30</td><td>1h 3m 40s</td><td>21.777778</td><td>&quot;normal&quot;</td></tr><tr><td>&quot;Luke Skywalker&quot;</td><td>172</td><td>77.0</td><td>&quot;blond&quot;</td><td>&quot;fair&quot;</td><td>&quot;blue&quot;</td><td>19.0</td><td>&quot;male&quot;</td><td>&quot;masculine&quot;</td><td>&quot;Tatooine&quot;</td><td>&quot;Human&quot;</td><td>[&quot;Snowspeeder&quot;, &quot;Imperial Speeder Bike&quot;]</td><td>[&quot;X-wing&quot;, &quot;Imperial shuttle&quot;]</td><td>1958-05-30</td><td>1h 58m 44s</td><td>26.027582</td><td>&quot;overweight&quot;</td></tr></tbody></table></div>"
      ],
      "text/plain": [
       "shape: (3, 17)\n",
       "┌─────────────┬────────┬──────┬────────────┬───┬────────────┬─────────────┬───────────┬────────────┐\n",
       "│ name        ┆ height ┆ mass ┆ hair_color ┆ … ┆ birth_date ┆ screen_time ┆ bmi       ┆ bmi_cat    │\n",
       "│ ---         ┆ ---    ┆ ---  ┆ ---        ┆   ┆ ---        ┆ ---         ┆ ---       ┆ ---        │\n",
       "│ str         ┆ u16    ┆ f64  ┆ str        ┆   ┆ date       ┆ duration[μs ┆ f64       ┆ cat        │\n",
       "│             ┆        ┆      ┆            ┆   ┆            ┆ ]           ┆           ┆            │\n",
       "╞═════════════╪════════╪══════╪════════════╪═══╪════════════╪═════════════╪═══════════╪════════════╡\n",
       "│ Han Solo    ┆ 180    ┆ 80.0 ┆ brown      ┆ … ┆ 1948-06-01 ┆ 1h 12m 37s  ┆ 24.691358 ┆ normal     │\n",
       "│ Leia Organa ┆ 150    ┆ 49.0 ┆ brown      ┆ … ┆ 1958-05-30 ┆ 1h 3m 40s   ┆ 21.777778 ┆ normal     │\n",
       "│ Luke        ┆ 172    ┆ 77.0 ┆ blond      ┆ … ┆ 1958-05-30 ┆ 1h 58m 44s  ┆ 26.027582 ┆ overweight │\n",
       "│ Skywalker   ┆        ┆      ┆            ┆   ┆            ┆             ┆           ┆            │\n",
       "└─────────────┴────────┴──────┴────────────┴───┴────────────┴─────────────┴───────────┴────────────┘"
      ]
     },
     "execution_count": 116,
     "metadata": {},
     "output_type": "execute_result"
    }
   ],
   "source": [
    "(\n",
    "    rebels.with_columns(\n",
    "        bmi=pl.col(\"mass\") / (pl.col(\"height\") / 100) ** 2\n",
    "    ).with_columns(\n",
    "        bmi_cat=pl.col(\"bmi\").cut(\n",
    "            [18.5, 25], labels=[\"underweight\", \"normal\", \"overweight\"]\n",
    "        )\n",
    "    )\n",
    ")"
   ]
  },
  {
   "cell_type": "code",
   "execution_count": 117,
   "id": "8c34d573",
   "metadata": {},
   "outputs": [
    {
     "data": {
      "text/html": [
       "<div><style>\n",
       ".dataframe > thead > tr,\n",
       ".dataframe > tbody > tr {\n",
       "  text-align: right;\n",
       "  white-space: pre-wrap;\n",
       "}\n",
       "</style>\n",
       "<small>shape: (5, 3)</small><table border=\"1\" class=\"dataframe\"><thead><tr><th>name</th><th>bmi</th><th>species</th></tr><tr><td>str</td><td>f64</td><td>str</td></tr></thead><tbody><tr><td>&quot;Jabba Desilijic Tiure&quot;</td><td>443.428571</td><td>&quot;Hutt&quot;</td></tr><tr><td>&quot;Dud Bolt&quot;</td><td>50.928022</td><td>&quot;Vulptereen&quot;</td></tr><tr><td>&quot;Yoda&quot;</td><td>39.02663</td><td>&quot;Yoda&#x27;s species&quot;</td></tr><tr><td>&quot;Owen Lars&quot;</td><td>37.874006</td><td>&quot;Human&quot;</td></tr><tr><td>&quot;IG-88&quot;</td><td>35.0</td><td>&quot;Droid&quot;</td></tr></tbody></table></div>"
      ],
      "text/plain": [
       "shape: (5, 3)\n",
       "┌───────────────────────┬────────────┬────────────────┐\n",
       "│ name                  ┆ bmi        ┆ species        │\n",
       "│ ---                   ┆ ---        ┆ ---            │\n",
       "│ str                   ┆ f64        ┆ str            │\n",
       "╞═══════════════════════╪════════════╪════════════════╡\n",
       "│ Jabba Desilijic Tiure ┆ 443.428571 ┆ Hutt           │\n",
       "│ Dud Bolt              ┆ 50.928022  ┆ Vulptereen     │\n",
       "│ Yoda                  ┆ 39.02663   ┆ Yoda's species │\n",
       "│ Owen Lars             ┆ 37.874006  ┆ Human          │\n",
       "│ IG-88                 ┆ 35.0       ┆ Droid          │\n",
       "└───────────────────────┴────────────┴────────────────┘"
      ]
     },
     "execution_count": 117,
     "metadata": {},
     "output_type": "execute_result"
    }
   ],
   "source": [
    "(starwars.select(\n",
    "        \"name\",\n",
    "        (pl.col(\"mass\") / (pl.col(\"height\") / 100) ** 2).alias(\"bmi\"),\n",
    "        \"species\",\n",
    "    )\n",
    "    .drop_nulls()\n",
    "    .top_k(5, by=\"bmi\")\n",
    ")"
   ]
  },
  {
   "cell_type": "markdown",
   "id": "5a75ffcb",
   "metadata": {},
   "source": [
    "## Related Column Operation"
   ]
  },
  {
   "cell_type": "markdown",
   "id": "e99f2e43",
   "metadata": {},
   "source": [
    "### Dropping"
   ]
  },
  {
   "cell_type": "code",
   "execution_count": 118,
   "id": "4924ad80",
   "metadata": {},
   "outputs": [
    {
     "data": {
      "text/html": [
       "<div><style>\n",
       ".dataframe > thead > tr,\n",
       ".dataframe > tbody > tr {\n",
       "  text-align: right;\n",
       "  white-space: pre-wrap;\n",
       "}\n",
       "</style>\n",
       "<small>shape: (3, 13)</small><table border=\"1\" class=\"dataframe\"><thead><tr><th>height</th><th>mass</th><th>hair_color</th><th>skin_color</th><th>eye_color</th><th>birth_year</th><th>sex</th><th>gender</th><th>homeworld</th><th>species</th><th>vehicles</th><th>starships</th><th>birth_date</th></tr><tr><td>u16</td><td>f64</td><td>str</td><td>str</td><td>str</td><td>f64</td><td>cat</td><td>cat</td><td>str</td><td>str</td><td>list[str]</td><td>list[str]</td><td>date</td></tr></thead><tbody><tr><td>180</td><td>80.0</td><td>&quot;brown&quot;</td><td>&quot;fair&quot;</td><td>&quot;brown&quot;</td><td>29.0</td><td>&quot;male&quot;</td><td>&quot;masculine&quot;</td><td>&quot;Corellia&quot;</td><td>&quot;Human&quot;</td><td>null</td><td>[&quot;Millennium Falcon&quot;, &quot;Imperial shuttle&quot;]</td><td>1948-06-01</td></tr><tr><td>150</td><td>49.0</td><td>&quot;brown&quot;</td><td>&quot;light&quot;</td><td>&quot;brown&quot;</td><td>19.0</td><td>&quot;female&quot;</td><td>&quot;feminine&quot;</td><td>&quot;Alderaan&quot;</td><td>&quot;Human&quot;</td><td>[&quot;Imperial Speeder Bike&quot;]</td><td>null</td><td>1958-05-30</td></tr><tr><td>172</td><td>77.0</td><td>&quot;blond&quot;</td><td>&quot;fair&quot;</td><td>&quot;blue&quot;</td><td>19.0</td><td>&quot;male&quot;</td><td>&quot;masculine&quot;</td><td>&quot;Tatooine&quot;</td><td>&quot;Human&quot;</td><td>[&quot;Snowspeeder&quot;, &quot;Imperial Speeder Bike&quot;]</td><td>[&quot;X-wing&quot;, &quot;Imperial shuttle&quot;]</td><td>1958-05-30</td></tr></tbody></table></div>"
      ],
      "text/plain": [
       "shape: (3, 13)\n",
       "┌────────┬──────┬────────────┬────────────┬───┬─────────┬──────────────┬──────────────┬────────────┐\n",
       "│ height ┆ mass ┆ hair_color ┆ skin_color ┆ … ┆ species ┆ vehicles     ┆ starships    ┆ birth_date │\n",
       "│ ---    ┆ ---  ┆ ---        ┆ ---        ┆   ┆ ---     ┆ ---          ┆ ---          ┆ ---        │\n",
       "│ u16    ┆ f64  ┆ str        ┆ str        ┆   ┆ str     ┆ list[str]    ┆ list[str]    ┆ date       │\n",
       "╞════════╪══════╪════════════╪════════════╪═══╪═════════╪══════════════╪══════════════╪════════════╡\n",
       "│ 180    ┆ 80.0 ┆ brown      ┆ fair       ┆ … ┆ Human   ┆ null         ┆ [\"Millennium ┆ 1948-06-01 │\n",
       "│        ┆      ┆            ┆            ┆   ┆         ┆              ┆ Falcon\",     ┆            │\n",
       "│        ┆      ┆            ┆            ┆   ┆         ┆              ┆ \"Imperia…    ┆            │\n",
       "│ 150    ┆ 49.0 ┆ brown      ┆ light      ┆ … ┆ Human   ┆ [\"Imperial   ┆ null         ┆ 1958-05-30 │\n",
       "│        ┆      ┆            ┆            ┆   ┆         ┆ Speeder      ┆              ┆            │\n",
       "│        ┆      ┆            ┆            ┆   ┆         ┆ Bike\"]       ┆              ┆            │\n",
       "│ 172    ┆ 77.0 ┆ blond      ┆ fair       ┆ … ┆ Human   ┆ [\"Snowspeede ┆ [\"X-wing\",   ┆ 1958-05-30 │\n",
       "│        ┆      ┆            ┆            ┆   ┆         ┆ r\",          ┆ \"Imperial    ┆            │\n",
       "│        ┆      ┆            ┆            ┆   ┆         ┆ \"Imperial    ┆ shuttle\"]    ┆            │\n",
       "│        ┆      ┆            ┆            ┆   ┆         ┆ Spee…        ┆              ┆            │\n",
       "└────────┴──────┴────────────┴────────────┴───┴─────────┴──────────────┴──────────────┴────────────┘"
      ]
     },
     "execution_count": 118,
     "metadata": {},
     "output_type": "execute_result"
    }
   ],
   "source": [
    "rebels.drop(\"name\", \"films\", \"screen_time\", strict=False)"
   ]
  },
  {
   "cell_type": "markdown",
   "id": "a782a02b",
   "metadata": {},
   "source": [
    "### Renaming"
   ]
  },
  {
   "cell_type": "code",
   "execution_count": 120,
   "id": "8fcf9103",
   "metadata": {},
   "outputs": [
    {
     "data": {
      "text/html": [
       "<div><style>\n",
       ".dataframe > thead > tr,\n",
       ".dataframe > tbody > tr {\n",
       "  text-align: right;\n",
       "  white-space: pre-wrap;\n",
       "}\n",
       "</style>\n",
       "<small>shape: (3, 6)</small><table border=\"1\" class=\"dataframe\"><thead><tr><th>name</th><th>planet</th><th>weight</th><th>hair</th><th>skin</th><th>eye</th></tr><tr><td>str</td><td>str</td><td>f64</td><td>str</td><td>str</td><td>str</td></tr></thead><tbody><tr><td>&quot;Han Solo&quot;</td><td>&quot;Corellia&quot;</td><td>80.0</td><td>&quot;brown&quot;</td><td>&quot;fair&quot;</td><td>&quot;brown&quot;</td></tr><tr><td>&quot;Leia Organa&quot;</td><td>&quot;Alderaan&quot;</td><td>49.0</td><td>&quot;brown&quot;</td><td>&quot;light&quot;</td><td>&quot;brown&quot;</td></tr><tr><td>&quot;Luke Skywalker&quot;</td><td>&quot;Tatooine&quot;</td><td>77.0</td><td>&quot;blond&quot;</td><td>&quot;fair&quot;</td><td>&quot;blue&quot;</td></tr></tbody></table></div>"
      ],
      "text/plain": [
       "shape: (3, 6)\n",
       "┌────────────────┬──────────┬────────┬───────┬───────┬───────┐\n",
       "│ name           ┆ planet   ┆ weight ┆ hair  ┆ skin  ┆ eye   │\n",
       "│ ---            ┆ ---      ┆ ---    ┆ ---   ┆ ---   ┆ ---   │\n",
       "│ str            ┆ str      ┆ f64    ┆ str   ┆ str   ┆ str   │\n",
       "╞════════════════╪══════════╪════════╪═══════╪═══════╪═══════╡\n",
       "│ Han Solo       ┆ Corellia ┆ 80.0   ┆ brown ┆ fair  ┆ brown │\n",
       "│ Leia Organa    ┆ Alderaan ┆ 49.0   ┆ brown ┆ light ┆ brown │\n",
       "│ Luke Skywalker ┆ Tatooine ┆ 77.0   ┆ blond ┆ fair  ┆ blue  │\n",
       "└────────────────┴──────────┴────────┴───────┴───────┴───────┘"
      ]
     },
     "execution_count": 120,
     "metadata": {},
     "output_type": "execute_result"
    }
   ],
   "source": [
    "(\n",
    "    rebels.rename({\"homeworld\": \"planet\", \"mass\": \"weight\"})\n",
    "    .rename(lambda s: s.removesuffix(\"_color\"))\n",
    "    .select(\"name\", \"planet\", \"weight\", \"hair\", \"skin\", \"eye\")\n",
    ")"
   ]
  },
  {
   "cell_type": "markdown",
   "id": "b609619f",
   "metadata": {},
   "source": [
    "### Stacking"
   ]
  },
  {
   "cell_type": "code",
   "execution_count": 126,
   "id": "817481c2",
   "metadata": {},
   "outputs": [
    {
     "data": {
      "text/html": [
       "<div><style>\n",
       ".dataframe > thead > tr,\n",
       ".dataframe > tbody > tr {\n",
       "  text-align: right;\n",
       "  white-space: pre-wrap;\n",
       "}\n",
       "</style>\n",
       "<small>shape: (3, 5)</small><table border=\"1\" class=\"dataframe\"><thead><tr><th>name</th><th>hair_color</th><th>skin_color</th><th>eye_color</th><th>quote</th></tr><tr><td>str</td><td>str</td><td>str</td><td>str</td><td>str</td></tr></thead><tbody><tr><td>&quot;Han Solo&quot;</td><td>&quot;brown&quot;</td><td>&quot;fair&quot;</td><td>&quot;brown&quot;</td><td>&quot;You know, sometimes I amaze ev…</td></tr><tr><td>&quot;Leia Organa&quot;</td><td>&quot;brown&quot;</td><td>&quot;light&quot;</td><td>&quot;brown&quot;</td><td>&quot;That doesn&#x27;t sound too hard.&quot;</td></tr><tr><td>&quot;Luke Skywalker&quot;</td><td>&quot;blond&quot;</td><td>&quot;fair&quot;</td><td>&quot;blue&quot;</td><td>&quot;I have a bad feeling about thi…</td></tr></tbody></table></div>"
      ],
      "text/plain": [
       "shape: (3, 5)\n",
       "┌────────────────┬────────────┬────────────┬───────────┬─────────────────────────────────┐\n",
       "│ name           ┆ hair_color ┆ skin_color ┆ eye_color ┆ quote                           │\n",
       "│ ---            ┆ ---        ┆ ---        ┆ ---       ┆ ---                             │\n",
       "│ str            ┆ str        ┆ str        ┆ str       ┆ str                             │\n",
       "╞════════════════╪════════════╪════════════╪═══════════╪═════════════════════════════════╡\n",
       "│ Han Solo       ┆ brown      ┆ fair       ┆ brown     ┆ You know, sometimes I amaze ev… │\n",
       "│ Leia Organa    ┆ brown      ┆ light      ┆ brown     ┆ That doesn't sound too hard.    │\n",
       "│ Luke Skywalker ┆ blond      ┆ fair       ┆ blue      ┆ I have a bad feeling about thi… │\n",
       "└────────────────┴────────────┴────────────┴───────────┴─────────────────────────────────┘"
      ]
     },
     "execution_count": 126,
     "metadata": {},
     "output_type": "execute_result"
    }
   ],
   "source": [
    "rebel_names = rebels.select(\"name\")\n",
    "rebel_colors = rebels.select(cs.ends_with(\"_color\"))\n",
    "rebel_quotes = pl.Series(\n",
    "    \"quote\",\n",
    "    [\n",
    "        \"You know, sometimes I amaze even myself.\",\n",
    "        \"That doesn't sound too hard.\",\n",
    "        \"I have a bad feeling about this.\"\n",
    "    ]\n",
    ")\n",
    "\n",
    "(rebel_names.hstack(rebel_colors).hstack([rebel_quotes]))"
   ]
  },
  {
   "cell_type": "markdown",
   "id": "8f222d65",
   "metadata": {},
   "source": [
    "### Addinng Row Indices"
   ]
  },
  {
   "cell_type": "code",
   "execution_count": 127,
   "id": "279e4a91",
   "metadata": {},
   "outputs": [
    {
     "data": {
      "text/html": [
       "<div><style>\n",
       ".dataframe > thead > tr,\n",
       ".dataframe > tbody > tr {\n",
       "  text-align: right;\n",
       "  white-space: pre-wrap;\n",
       "}\n",
       "</style>\n",
       "<small>shape: (3, 16)</small><table border=\"1\" class=\"dataframe\"><thead><tr><th>rebel_id</th><th>name</th><th>height</th><th>mass</th><th>hair_color</th><th>skin_color</th><th>eye_color</th><th>birth_year</th><th>sex</th><th>gender</th><th>homeworld</th><th>species</th><th>vehicles</th><th>starships</th><th>birth_date</th><th>screen_time</th></tr><tr><td>u32</td><td>str</td><td>u16</td><td>f64</td><td>str</td><td>str</td><td>str</td><td>f64</td><td>cat</td><td>cat</td><td>str</td><td>str</td><td>list[str]</td><td>list[str]</td><td>date</td><td>duration[μs]</td></tr></thead><tbody><tr><td>1</td><td>&quot;Han Solo&quot;</td><td>180</td><td>80.0</td><td>&quot;brown&quot;</td><td>&quot;fair&quot;</td><td>&quot;brown&quot;</td><td>29.0</td><td>&quot;male&quot;</td><td>&quot;masculine&quot;</td><td>&quot;Corellia&quot;</td><td>&quot;Human&quot;</td><td>null</td><td>[&quot;Millennium Falcon&quot;, &quot;Imperial shuttle&quot;]</td><td>1948-06-01</td><td>1h 12m 37s</td></tr><tr><td>2</td><td>&quot;Leia Organa&quot;</td><td>150</td><td>49.0</td><td>&quot;brown&quot;</td><td>&quot;light&quot;</td><td>&quot;brown&quot;</td><td>19.0</td><td>&quot;female&quot;</td><td>&quot;feminine&quot;</td><td>&quot;Alderaan&quot;</td><td>&quot;Human&quot;</td><td>[&quot;Imperial Speeder Bike&quot;]</td><td>null</td><td>1958-05-30</td><td>1h 3m 40s</td></tr><tr><td>3</td><td>&quot;Luke Skywalker&quot;</td><td>172</td><td>77.0</td><td>&quot;blond&quot;</td><td>&quot;fair&quot;</td><td>&quot;blue&quot;</td><td>19.0</td><td>&quot;male&quot;</td><td>&quot;masculine&quot;</td><td>&quot;Tatooine&quot;</td><td>&quot;Human&quot;</td><td>[&quot;Snowspeeder&quot;, &quot;Imperial Speeder Bike&quot;]</td><td>[&quot;X-wing&quot;, &quot;Imperial shuttle&quot;]</td><td>1958-05-30</td><td>1h 58m 44s</td></tr></tbody></table></div>"
      ],
      "text/plain": [
       "shape: (3, 16)\n",
       "┌──────────┬─────────────┬────────┬──────┬───┬─────────────┬─────────────┬────────────┬────────────┐\n",
       "│ rebel_id ┆ name        ┆ height ┆ mass ┆ … ┆ vehicles    ┆ starships   ┆ birth_date ┆ screen_tim │\n",
       "│ ---      ┆ ---         ┆ ---    ┆ ---  ┆   ┆ ---         ┆ ---         ┆ ---        ┆ e          │\n",
       "│ u32      ┆ str         ┆ u16    ┆ f64  ┆   ┆ list[str]   ┆ list[str]   ┆ date       ┆ ---        │\n",
       "│          ┆             ┆        ┆      ┆   ┆             ┆             ┆            ┆ duration[μ │\n",
       "│          ┆             ┆        ┆      ┆   ┆             ┆             ┆            ┆ s]         │\n",
       "╞══════════╪═════════════╪════════╪══════╪═══╪═════════════╪═════════════╪════════════╪════════════╡\n",
       "│ 1        ┆ Han Solo    ┆ 180    ┆ 80.0 ┆ … ┆ null        ┆ [\"Millenniu ┆ 1948-06-01 ┆ 1h 12m 37s │\n",
       "│          ┆             ┆        ┆      ┆   ┆             ┆ m Falcon\",  ┆            ┆            │\n",
       "│          ┆             ┆        ┆      ┆   ┆             ┆ \"Imperia…   ┆            ┆            │\n",
       "│ 2        ┆ Leia Organa ┆ 150    ┆ 49.0 ┆ … ┆ [\"Imperial  ┆ null        ┆ 1958-05-30 ┆ 1h 3m 40s  │\n",
       "│          ┆             ┆        ┆      ┆   ┆ Speeder     ┆             ┆            ┆            │\n",
       "│          ┆             ┆        ┆      ┆   ┆ Bike\"]      ┆             ┆            ┆            │\n",
       "│ 3        ┆ Luke        ┆ 172    ┆ 77.0 ┆ … ┆ [\"Snowspeed ┆ [\"X-wing\",  ┆ 1958-05-30 ┆ 1h 58m 44s │\n",
       "│          ┆ Skywalker   ┆        ┆      ┆   ┆ er\",        ┆ \"Imperial   ┆            ┆            │\n",
       "│          ┆             ┆        ┆      ┆   ┆ \"Imperial   ┆ shuttle\"]   ┆            ┆            │\n",
       "│          ┆             ┆        ┆      ┆   ┆ Spee…       ┆             ┆            ┆            │\n",
       "└──────────┴─────────────┴────────┴──────┴───┴─────────────┴─────────────┴────────────┴────────────┘"
      ]
     },
     "execution_count": 127,
     "metadata": {},
     "output_type": "execute_result"
    }
   ],
   "source": [
    "rebels.with_row_index(name=\"rebel_id\", offset=1)"
   ]
  },
  {
   "cell_type": "code",
   "execution_count": 143,
   "id": "57d82ac4",
   "metadata": {},
   "outputs": [
    {
     "data": {
      "text/html": [
       "<div><style>\n",
       ".dataframe > thead > tr,\n",
       ".dataframe > tbody > tr {\n",
       "  text-align: right;\n",
       "  white-space: pre-wrap;\n",
       "}\n",
       "</style>\n",
       "<small>shape: (3, 16)</small><table border=\"1\" class=\"dataframe\"><thead><tr><th>rebel_id</th><th>name</th><th>height</th><th>mass</th><th>hair_color</th><th>skin_color</th><th>eye_color</th><th>birth_year</th><th>sex</th><th>gender</th><th>homeworld</th><th>species</th><th>vehicles</th><th>starships</th><th>birth_date</th><th>screen_time</th></tr><tr><td>str</td><td>str</td><td>u16</td><td>f64</td><td>str</td><td>str</td><td>str</td><td>f64</td><td>cat</td><td>cat</td><td>str</td><td>str</td><td>list[str]</td><td>list[str]</td><td>date</td><td>duration[μs]</td></tr></thead><tbody><tr><td>&quot;62390de0-f9ce-4143-944a-6e6445…</td><td>&quot;Han Solo&quot;</td><td>180</td><td>80.0</td><td>&quot;brown&quot;</td><td>&quot;fair&quot;</td><td>&quot;brown&quot;</td><td>29.0</td><td>&quot;male&quot;</td><td>&quot;masculine&quot;</td><td>&quot;Corellia&quot;</td><td>&quot;Human&quot;</td><td>null</td><td>[&quot;Millennium Falcon&quot;, &quot;Imperial shuttle&quot;]</td><td>1948-06-01</td><td>1h 12m 37s</td></tr><tr><td>&quot;86c45297-3424-4785-a807-4e0318…</td><td>&quot;Leia Organa&quot;</td><td>150</td><td>49.0</td><td>&quot;brown&quot;</td><td>&quot;light&quot;</td><td>&quot;brown&quot;</td><td>19.0</td><td>&quot;female&quot;</td><td>&quot;feminine&quot;</td><td>&quot;Alderaan&quot;</td><td>&quot;Human&quot;</td><td>[&quot;Imperial Speeder Bike&quot;]</td><td>null</td><td>1958-05-30</td><td>1h 3m 40s</td></tr><tr><td>&quot;226bbe96-151a-49f1-babc-a565ee…</td><td>&quot;Luke Skywalker&quot;</td><td>172</td><td>77.0</td><td>&quot;blond&quot;</td><td>&quot;fair&quot;</td><td>&quot;blue&quot;</td><td>19.0</td><td>&quot;male&quot;</td><td>&quot;masculine&quot;</td><td>&quot;Tatooine&quot;</td><td>&quot;Human&quot;</td><td>[&quot;Snowspeeder&quot;, &quot;Imperial Speeder Bike&quot;]</td><td>[&quot;X-wing&quot;, &quot;Imperial shuttle&quot;]</td><td>1958-05-30</td><td>1h 58m 44s</td></tr></tbody></table></div>"
      ],
      "text/plain": [
       "shape: (3, 16)\n",
       "┌─────────────┬────────────┬────────┬──────┬───┬────────────┬────────────┬────────────┬────────────┐\n",
       "│ rebel_id    ┆ name       ┆ height ┆ mass ┆ … ┆ vehicles   ┆ starships  ┆ birth_date ┆ screen_tim │\n",
       "│ ---         ┆ ---        ┆ ---    ┆ ---  ┆   ┆ ---        ┆ ---        ┆ ---        ┆ e          │\n",
       "│ str         ┆ str        ┆ u16    ┆ f64  ┆   ┆ list[str]  ┆ list[str]  ┆ date       ┆ ---        │\n",
       "│             ┆            ┆        ┆      ┆   ┆            ┆            ┆            ┆ duration[μ │\n",
       "│             ┆            ┆        ┆      ┆   ┆            ┆            ┆            ┆ s]         │\n",
       "╞═════════════╪════════════╪════════╪══════╪═══╪════════════╪════════════╪════════════╪════════════╡\n",
       "│ 62390de0-f9 ┆ Han Solo   ┆ 180    ┆ 80.0 ┆ … ┆ null       ┆ [\"Millenni ┆ 1948-06-01 ┆ 1h 12m 37s │\n",
       "│ ce-4143-944 ┆            ┆        ┆      ┆   ┆            ┆ um         ┆            ┆            │\n",
       "│ a-6e6445…   ┆            ┆        ┆      ┆   ┆            ┆ Falcon\",   ┆            ┆            │\n",
       "│             ┆            ┆        ┆      ┆   ┆            ┆ \"Imperia…  ┆            ┆            │\n",
       "│ 86c45297-34 ┆ Leia       ┆ 150    ┆ 49.0 ┆ … ┆ [\"Imperial ┆ null       ┆ 1958-05-30 ┆ 1h 3m 40s  │\n",
       "│ 24-4785-a80 ┆ Organa     ┆        ┆      ┆   ┆ Speeder    ┆            ┆            ┆            │\n",
       "│ 7-4e0318…   ┆            ┆        ┆      ┆   ┆ Bike\"]     ┆            ┆            ┆            │\n",
       "│ 226bbe96-15 ┆ Luke       ┆ 172    ┆ 77.0 ┆ … ┆ [\"Snowspee ┆ [\"X-wing\", ┆ 1958-05-30 ┆ 1h 58m 44s │\n",
       "│ 1a-49f1-bab ┆ Skywalker  ┆        ┆      ┆   ┆ der\",      ┆ \"Imperial  ┆            ┆            │\n",
       "│ c-a565ee…   ┆            ┆        ┆      ┆   ┆ \"Imperial  ┆ shuttle\"]  ┆            ┆            │\n",
       "│             ┆            ┆        ┆      ┆   ┆ Spee…      ┆            ┆            ┆            │\n",
       "└─────────────┴────────────┴────────┴──────┴───┴────────────┴────────────┴────────────┴────────────┘"
      ]
     },
     "execution_count": 143,
     "metadata": {},
     "output_type": "execute_result"
    }
   ],
   "source": [
    "import uuid\n",
    "\n",
    "# Agrega una columna 'rebel_id' con UUIDs únicos por fila usando with_row_index y map_elements\n",
    "rebels.with_row_index(name=\"rebel_id\").with_columns(\n",
    "    rebel_id=pl.col(\"rebel_id\").map_elements(lambda _: str(uuid.uuid4()), return_dtype=pl.String)\n",
    ")"
   ]
  }
 ],
 "metadata": {
  "kernelspec": {
   "display_name": "python-polars-the-definitive-guide",
   "language": "python",
   "name": "python3"
  },
  "language_info": {
   "codemirror_mode": {
    "name": "ipython",
    "version": 3
   },
   "file_extension": ".py",
   "mimetype": "text/x-python",
   "name": "python",
   "nbconvert_exporter": "python",
   "pygments_lexer": "ipython3",
   "version": "3.12.11"
  }
 },
 "nbformat": 4,
 "nbformat_minor": 5
}
